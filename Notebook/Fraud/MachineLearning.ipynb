{
 "cells": [
  {
   "cell_type": "code",
   "execution_count": 1,
   "id": "clinical-transmission",
   "metadata": {},
   "outputs": [],
   "source": [
    "# Import package\n",
    "import pandas as pd\n",
    "import numpy as np\n",
    "import matplotlib.pyplot as plt\n",
    "import seaborn as sns\n",
    "from timeit import default_timer as timer "
   ]
  },
  {
   "cell_type": "markdown",
   "id": "bored-detector",
   "metadata": {},
   "source": [
    "# Load CSV files"
   ]
  },
  {
   "cell_type": "code",
   "execution_count": 2,
   "id": "weird-longitude",
   "metadata": {},
   "outputs": [
    {
     "name": "stdout",
     "output_type": "stream",
     "text": [
      "11.708404986999085 seconds elapsed.\n"
     ]
    }
   ],
   "source": [
    "start = timer()\n",
    "# \n",
    "prediction_info = dict()\n",
    "# \n",
    "file = 'paysim_cleaned.csv'\n",
    "path = '../Data/'\n",
    "\n",
    "paysim = pd.read_csv(path+file)\n",
    "# \n",
    "paysim = pd.get_dummies(paysim, drop_first=True)\n",
    "# \n",
    "end = timer()\n",
    "print(f'{(end - start)} seconds elapsed.')"
   ]
  },
  {
   "cell_type": "code",
   "execution_count": 3,
   "id": "starting-nelson",
   "metadata": {},
   "outputs": [
    {
     "data": {
      "text/plain": [
       "0    6354407\n",
       "1       8213\n",
       "Name: isFraud, dtype: int64"
      ]
     },
     "execution_count": 3,
     "metadata": {},
     "output_type": "execute_result"
    }
   ],
   "source": [
    "paysim.isFraud.value_counts()"
   ]
  },
  {
   "cell_type": "markdown",
   "id": "southeast-testimony",
   "metadata": {},
   "source": [
    "### Display Data for both DataFrames"
   ]
  },
  {
   "cell_type": "code",
   "execution_count": 4,
   "id": "radio-province",
   "metadata": {},
   "outputs": [
    {
     "data": {
      "text/html": [
       "<div>\n",
       "<style scoped>\n",
       "    .dataframe tbody tr th:only-of-type {\n",
       "        vertical-align: middle;\n",
       "    }\n",
       "\n",
       "    .dataframe tbody tr th {\n",
       "        vertical-align: top;\n",
       "    }\n",
       "\n",
       "    .dataframe thead th {\n",
       "        text-align: right;\n",
       "    }\n",
       "</style>\n",
       "<table border=\"1\" class=\"dataframe\">\n",
       "  <thead>\n",
       "    <tr style=\"text-align: right;\">\n",
       "      <th></th>\n",
       "      <th>step</th>\n",
       "      <th>amount</th>\n",
       "      <th>oldbalanceOrig</th>\n",
       "      <th>newbalanceOrig</th>\n",
       "      <th>oldbalanceDest</th>\n",
       "      <th>newbalanceDest</th>\n",
       "      <th>isFraud</th>\n",
       "      <th>diffBalanceOrig</th>\n",
       "      <th>diffBalanceDest</th>\n",
       "      <th>transType_CASH_OUT</th>\n",
       "      <th>transType_DEBIT</th>\n",
       "      <th>transType_PAYMENT</th>\n",
       "      <th>transType_TRANSFER</th>\n",
       "      <th>nameDest_M</th>\n",
       "    </tr>\n",
       "  </thead>\n",
       "  <tbody>\n",
       "    <tr>\n",
       "      <th>0</th>\n",
       "      <td>1</td>\n",
       "      <td>9839.64</td>\n",
       "      <td>170136.0</td>\n",
       "      <td>160296.36</td>\n",
       "      <td>0.0</td>\n",
       "      <td>0.0</td>\n",
       "      <td>0</td>\n",
       "      <td>0.0</td>\n",
       "      <td>9839.64</td>\n",
       "      <td>0</td>\n",
       "      <td>0</td>\n",
       "      <td>1</td>\n",
       "      <td>0</td>\n",
       "      <td>1</td>\n",
       "    </tr>\n",
       "    <tr>\n",
       "      <th>1</th>\n",
       "      <td>1</td>\n",
       "      <td>1864.28</td>\n",
       "      <td>21249.0</td>\n",
       "      <td>19384.72</td>\n",
       "      <td>0.0</td>\n",
       "      <td>0.0</td>\n",
       "      <td>0</td>\n",
       "      <td>0.0</td>\n",
       "      <td>1864.28</td>\n",
       "      <td>0</td>\n",
       "      <td>0</td>\n",
       "      <td>1</td>\n",
       "      <td>0</td>\n",
       "      <td>1</td>\n",
       "    </tr>\n",
       "    <tr>\n",
       "      <th>2</th>\n",
       "      <td>1</td>\n",
       "      <td>181.00</td>\n",
       "      <td>181.0</td>\n",
       "      <td>0.00</td>\n",
       "      <td>0.0</td>\n",
       "      <td>0.0</td>\n",
       "      <td>1</td>\n",
       "      <td>0.0</td>\n",
       "      <td>181.00</td>\n",
       "      <td>0</td>\n",
       "      <td>0</td>\n",
       "      <td>0</td>\n",
       "      <td>1</td>\n",
       "      <td>0</td>\n",
       "    </tr>\n",
       "    <tr>\n",
       "      <th>3</th>\n",
       "      <td>1</td>\n",
       "      <td>181.00</td>\n",
       "      <td>181.0</td>\n",
       "      <td>0.00</td>\n",
       "      <td>21182.0</td>\n",
       "      <td>0.0</td>\n",
       "      <td>1</td>\n",
       "      <td>0.0</td>\n",
       "      <td>21363.00</td>\n",
       "      <td>1</td>\n",
       "      <td>0</td>\n",
       "      <td>0</td>\n",
       "      <td>0</td>\n",
       "      <td>0</td>\n",
       "    </tr>\n",
       "    <tr>\n",
       "      <th>4</th>\n",
       "      <td>1</td>\n",
       "      <td>11668.14</td>\n",
       "      <td>41554.0</td>\n",
       "      <td>29885.86</td>\n",
       "      <td>0.0</td>\n",
       "      <td>0.0</td>\n",
       "      <td>0</td>\n",
       "      <td>0.0</td>\n",
       "      <td>11668.14</td>\n",
       "      <td>0</td>\n",
       "      <td>0</td>\n",
       "      <td>1</td>\n",
       "      <td>0</td>\n",
       "      <td>1</td>\n",
       "    </tr>\n",
       "  </tbody>\n",
       "</table>\n",
       "</div>"
      ],
      "text/plain": [
       "   step    amount  oldbalanceOrig  newbalanceOrig  oldbalanceDest  \\\n",
       "0     1   9839.64        170136.0       160296.36             0.0   \n",
       "1     1   1864.28         21249.0        19384.72             0.0   \n",
       "2     1    181.00           181.0            0.00             0.0   \n",
       "3     1    181.00           181.0            0.00         21182.0   \n",
       "4     1  11668.14         41554.0        29885.86             0.0   \n",
       "\n",
       "   newbalanceDest  isFraud  diffBalanceOrig  diffBalanceDest  \\\n",
       "0             0.0        0              0.0          9839.64   \n",
       "1             0.0        0              0.0          1864.28   \n",
       "2             0.0        1              0.0           181.00   \n",
       "3             0.0        1              0.0         21363.00   \n",
       "4             0.0        0              0.0         11668.14   \n",
       "\n",
       "   transType_CASH_OUT  transType_DEBIT  transType_PAYMENT  transType_TRANSFER  \\\n",
       "0                   0                0                  1                   0   \n",
       "1                   0                0                  1                   0   \n",
       "2                   0                0                  0                   1   \n",
       "3                   1                0                  0                   0   \n",
       "4                   0                0                  1                   0   \n",
       "\n",
       "   nameDest_M  \n",
       "0           1  \n",
       "1           1  \n",
       "2           0  \n",
       "3           0  \n",
       "4           1  "
      ]
     },
     "execution_count": 4,
     "metadata": {},
     "output_type": "execute_result"
    }
   ],
   "source": [
    "paysim.head()"
   ]
  },
  {
   "cell_type": "markdown",
   "id": "worth-directory",
   "metadata": {},
   "source": [
    "### Create X & y for both CSV files"
   ]
  },
  {
   "cell_type": "code",
   "execution_count": 5,
   "id": "practical-government",
   "metadata": {},
   "outputs": [],
   "source": [
    "# X, y full data\n",
    "y =  paysim['isFraud']\n",
    "X =  paysim.loc[:, paysim.columns != 'isFraud']\n",
    "# \n",
    "seed = 11\n",
    "# "
   ]
  },
  {
   "cell_type": "code",
   "execution_count": 6,
   "id": "taken-northeast",
   "metadata": {},
   "outputs": [
    {
     "data": {
      "text/html": [
       "<div>\n",
       "<style scoped>\n",
       "    .dataframe tbody tr th:only-of-type {\n",
       "        vertical-align: middle;\n",
       "    }\n",
       "\n",
       "    .dataframe tbody tr th {\n",
       "        vertical-align: top;\n",
       "    }\n",
       "\n",
       "    .dataframe thead th {\n",
       "        text-align: right;\n",
       "    }\n",
       "</style>\n",
       "<table border=\"1\" class=\"dataframe\">\n",
       "  <thead>\n",
       "    <tr style=\"text-align: right;\">\n",
       "      <th></th>\n",
       "      <th>step</th>\n",
       "      <th>amount</th>\n",
       "      <th>oldbalanceOrig</th>\n",
       "      <th>newbalanceOrig</th>\n",
       "      <th>oldbalanceDest</th>\n",
       "      <th>newbalanceDest</th>\n",
       "      <th>diffBalanceOrig</th>\n",
       "      <th>diffBalanceDest</th>\n",
       "      <th>transType_CASH_OUT</th>\n",
       "      <th>transType_DEBIT</th>\n",
       "      <th>transType_PAYMENT</th>\n",
       "      <th>transType_TRANSFER</th>\n",
       "      <th>nameDest_M</th>\n",
       "    </tr>\n",
       "  </thead>\n",
       "  <tbody>\n",
       "    <tr>\n",
       "      <th>938578</th>\n",
       "      <td>43</td>\n",
       "      <td>204774.19</td>\n",
       "      <td>49787.00</td>\n",
       "      <td>0.00</td>\n",
       "      <td>2111740.35</td>\n",
       "      <td>2316514.53</td>\n",
       "      <td>1.549872e+05</td>\n",
       "      <td>1.000000e-02</td>\n",
       "      <td>1</td>\n",
       "      <td>0</td>\n",
       "      <td>0</td>\n",
       "      <td>0</td>\n",
       "      <td>0</td>\n",
       "    </tr>\n",
       "    <tr>\n",
       "      <th>4843378</th>\n",
       "      <td>347</td>\n",
       "      <td>132406.97</td>\n",
       "      <td>301330.00</td>\n",
       "      <td>168923.03</td>\n",
       "      <td>684224.48</td>\n",
       "      <td>816631.45</td>\n",
       "      <td>0.000000e+00</td>\n",
       "      <td>0.000000e+00</td>\n",
       "      <td>1</td>\n",
       "      <td>0</td>\n",
       "      <td>0</td>\n",
       "      <td>0</td>\n",
       "      <td>0</td>\n",
       "    </tr>\n",
       "    <tr>\n",
       "      <th>1892959</th>\n",
       "      <td>165</td>\n",
       "      <td>160049.14</td>\n",
       "      <td>5999414.39</td>\n",
       "      <td>6159463.52</td>\n",
       "      <td>1977135.59</td>\n",
       "      <td>1667482.72</td>\n",
       "      <td>3.200983e+05</td>\n",
       "      <td>4.697020e+05</td>\n",
       "      <td>0</td>\n",
       "      <td>0</td>\n",
       "      <td>0</td>\n",
       "      <td>0</td>\n",
       "      <td>0</td>\n",
       "    </tr>\n",
       "    <tr>\n",
       "      <th>5054526</th>\n",
       "      <td>354</td>\n",
       "      <td>154318.14</td>\n",
       "      <td>0.00</td>\n",
       "      <td>0.00</td>\n",
       "      <td>3683648.39</td>\n",
       "      <td>3837966.53</td>\n",
       "      <td>1.543181e+05</td>\n",
       "      <td>4.656613e-10</td>\n",
       "      <td>1</td>\n",
       "      <td>0</td>\n",
       "      <td>0</td>\n",
       "      <td>0</td>\n",
       "      <td>0</td>\n",
       "    </tr>\n",
       "    <tr>\n",
       "      <th>1376874</th>\n",
       "      <td>138</td>\n",
       "      <td>2961.60</td>\n",
       "      <td>42107.55</td>\n",
       "      <td>39145.95</td>\n",
       "      <td>0.00</td>\n",
       "      <td>0.00</td>\n",
       "      <td>-7.275958e-12</td>\n",
       "      <td>2.961600e+03</td>\n",
       "      <td>0</td>\n",
       "      <td>0</td>\n",
       "      <td>1</td>\n",
       "      <td>0</td>\n",
       "      <td>1</td>\n",
       "    </tr>\n",
       "  </tbody>\n",
       "</table>\n",
       "</div>"
      ],
      "text/plain": [
       "         step     amount  oldbalanceOrig  newbalanceOrig  oldbalanceDest  \\\n",
       "938578     43  204774.19        49787.00            0.00      2111740.35   \n",
       "4843378   347  132406.97       301330.00       168923.03       684224.48   \n",
       "1892959   165  160049.14      5999414.39      6159463.52      1977135.59   \n",
       "5054526   354  154318.14            0.00            0.00      3683648.39   \n",
       "1376874   138    2961.60        42107.55        39145.95            0.00   \n",
       "\n",
       "         newbalanceDest  diffBalanceOrig  diffBalanceDest  transType_CASH_OUT  \\\n",
       "938578       2316514.53     1.549872e+05     1.000000e-02                   1   \n",
       "4843378       816631.45     0.000000e+00     0.000000e+00                   1   \n",
       "1892959      1667482.72     3.200983e+05     4.697020e+05                   0   \n",
       "5054526      3837966.53     1.543181e+05     4.656613e-10                   1   \n",
       "1376874            0.00    -7.275958e-12     2.961600e+03                   0   \n",
       "\n",
       "         transType_DEBIT  transType_PAYMENT  transType_TRANSFER  nameDest_M  \n",
       "938578                 0                  0                   0           0  \n",
       "4843378                0                  0                   0           0  \n",
       "1892959                0                  0                   0           0  \n",
       "5054526                0                  0                   0           0  \n",
       "1376874                0                  1                   0           1  "
      ]
     },
     "execution_count": 6,
     "metadata": {},
     "output_type": "execute_result"
    }
   ],
   "source": [
    "X.sample(5)"
   ]
  },
  {
   "cell_type": "code",
   "execution_count": 7,
   "id": "experienced-irrigation",
   "metadata": {},
   "outputs": [
    {
     "data": {
      "text/plain": [
       "0    6354407\n",
       "1       8213\n",
       "Name: isFraud, dtype: int64"
      ]
     },
     "execution_count": 7,
     "metadata": {},
     "output_type": "execute_result"
    }
   ],
   "source": [
    "y.value_counts()"
   ]
  },
  {
   "cell_type": "markdown",
   "id": "express-harris",
   "metadata": {},
   "source": [
    "### imblearn under sampling (RandomUnderSampler)"
   ]
  },
  {
   "cell_type": "code",
   "execution_count": 8,
   "id": "reliable-marking",
   "metadata": {},
   "outputs": [
    {
     "name": "stdout",
     "output_type": "stream",
     "text": [
      "Original Non standarized dataset shape: 6362620\n",
      "Resample Non standarized dataset shape 16426\n",
      "\n",
      "\n",
      "2.1779298209999993 seconds elapsed.\n"
     ]
    }
   ],
   "source": [
    "start = timer()\n",
    "# \n",
    "from imblearn.under_sampling import RandomUnderSampler\n",
    "# \n",
    "params_fixed = {\n",
    "    'sampling_strategy' : 'auto',\n",
    "    'random_state' : seed,\n",
    "    'replacement' : False,\n",
    "}\n",
    "# # Model\n",
    "rus = RandomUnderSampler(**params_fixed)\n",
    "\n",
    "# fit predictor and target variable\n",
    "x_rus, y_rus = rus.fit_resample(X, y)\n",
    "print('Original Non standarized dataset shape:', len(y))\n",
    "print('Resample Non standarized dataset shape', len(y_rus))\n",
    "print('\\n')\n",
    "\n",
    "end = timer()\n",
    "print(f'{(end - start)} seconds elapsed.')"
   ]
  },
  {
   "cell_type": "markdown",
   "id": "romantic-orientation",
   "metadata": {},
   "source": [
    "### Synthetic Minority Oversampling Technique (SMOTE)"
   ]
  },
  {
   "cell_type": "code",
   "execution_count": 9,
   "id": "alien-feeling",
   "metadata": {},
   "outputs": [
    {
     "name": "stdout",
     "output_type": "stream",
     "text": [
      "SMOTE Original standarized dataset shape 6362620\n",
      "SMOTE Resample standarized dataset shape 12708814\n",
      "\n",
      "\n",
      "6.0624247790000005 seconds elapsed.\n"
     ]
    }
   ],
   "source": [
    "start = timer()\n",
    "# import library\n",
    "from imblearn.over_sampling import SMOTE\n",
    "# \n",
    "params_fixed = {'sampling_strategy' : 'not majority',\n",
    "                'random_state' : seed,\n",
    "                'k_neighbors' : (5),\n",
    "                'n_jobs' : (-1),\n",
    "               }\n",
    "# Model\n",
    "oversample = SMOTE(**params_fixed)\n",
    "# \n",
    "\n",
    "# fit predictor and target variable\n",
    "x_smote, y_smote = oversample.fit_resample(X, y)\n",
    "\n",
    "print('SMOTE Original standarized dataset shape', len(y))\n",
    "print('SMOTE Resample standarized dataset shape', len(y_smote))\n",
    "print('\\n')\n",
    "\n",
    "end = timer()\n",
    "print(f'{(end - start)} seconds elapsed.')"
   ]
  },
  {
   "cell_type": "markdown",
   "id": "individual-jacket",
   "metadata": {},
   "source": [
    "# Train Test Split"
   ]
  },
  {
   "cell_type": "code",
   "execution_count": 10,
   "id": "enclosed-industry",
   "metadata": {},
   "outputs": [
    {
     "name": "stdout",
     "output_type": "stream",
     "text": [
      "12.898325183 seconds elapsed.\n"
     ]
    }
   ],
   "source": [
    "start = timer()\n",
    "from sklearn.model_selection import train_test_split\n",
    "# \n",
    "t_size=0.25\n",
    "# Random standarized under-sampling with imblearn\n",
    "X_train_rus, X_test_rus, y_train_rus, y_test_rus = train_test_split(x_rus, y_rus, test_size=t_size, \n",
    "                                                                    random_state=seed, stratify=y_rus)\n",
    "\n",
    "# Non Standarized Full Dataset\n",
    "X_train_nsf, X_test_nsf, y_train_nsf, y_test_nsf = train_test_split(X, y, test_size=t_size, \n",
    "                                                                    random_state=seed, stratify=y)\n",
    "\n",
    "# Non Standarized over-sampling SMOTE Dataset\n",
    "X_train_nso, X_test_nso, y_train_nso, y_test_nso = train_test_split(x_smote, y_smote, test_size=t_size, \n",
    "                                                                    random_state=seed, stratify=y_smote)\n",
    "\n",
    "end = timer()\n",
    "print(f'{(end - start)} seconds elapsed.')"
   ]
  },
  {
   "cell_type": "markdown",
   "id": "aging-specialist",
   "metadata": {},
   "source": [
    "### Import Model/Search/Matrics"
   ]
  },
  {
   "cell_type": "code",
   "execution_count": 11,
   "id": "ideal-viking",
   "metadata": {},
   "outputs": [],
   "source": [
    "from sklearn.model_selection import RandomizedSearchCV, GridSearchCV\n",
    "from sklearn.metrics import classification_report, confusion_matrix\n",
    "from sklearn.metrics import roc_curve, roc_auc_score\n",
    "from sklearn.metrics import ConfusionMatrixDisplay\n",
    "from sklearn.pipeline import Pipeline\n",
    "# Random Forest\n",
    "from sklearn.ensemble import RandomForestClassifier\n",
    "# XG Boost Classifier\n",
    "from xgboost import XGBClassifier\n",
    "# Light GBM Classifier\n",
    "from lightgbm import LGBMClassifier\n",
    "# Support Vector Machine\n",
    "from sklearn import svm\n",
    "# Import StandardScaler\n",
    "from sklearn.preprocessing import StandardScaler\n",
    "# data normalization with sklearn\n",
    "from sklearn.preprocessing import MinMaxScaler\n",
    "#"
   ]
  },
  {
   "cell_type": "markdown",
   "id": "forced-bahrain",
   "metadata": {},
   "source": [
    "#### Store Model Stats for comparison"
   ]
  },
  {
   "cell_type": "code",
   "execution_count": 12,
   "id": "realistic-hanging",
   "metadata": {},
   "outputs": [],
   "source": [
    "prediction_info = dict()\n",
    "# \n",
    "prediction_info = {\"ID\" : [],\n",
    "                   \"Algorithm\" : [],\n",
    "                   \"TrainingTime_sec\": [],\n",
    "                   \"PredictionTime_sec\": [],\n",
    "                   \"False Negative\" : [],\n",
    "                   \"False Positive\" : [],\n",
    "                   \"Total Records\": [],\n",
    "                  }\n",
    "# \n",
    "keys = [\"ID\", \"Algorithm\", \"TrainingTime_sec\", \"PredictionTime_sec\", \"False Negative\", \"False Positive\",\"Total Records\"]\n",
    "# "
   ]
  },
  {
   "cell_type": "markdown",
   "id": "quarterly-hamilton",
   "metadata": {},
   "source": [
    "# Random Forest"
   ]
  },
  {
   "cell_type": "code",
   "execution_count": 13,
   "id": "everyday-kansas",
   "metadata": {},
   "outputs": [],
   "source": [
    "# For prediction_info\n",
    "ID = 'RF'\n",
    "# steps = [()] RandomForestClassifier\n",
    "params_rfc = {'n_jobs' : (-1),\n",
    "              'random_state' : seed,\n",
    "             }\n",
    "# Pipeline\n",
    "rfc_scaler_rus = [('scaler', StandardScaler()), ('rfc', RandomForestClassifier(**params_rfc))]\n",
    "rfc_normal_rus = [('normal', MinMaxScaler()), ('rfc', RandomForestClassifier(**params_rfc))]\n",
    "rfc_scaler_nso = [('scaler', StandardScaler()), ('rfc', RandomForestClassifier(**params_rfc))]\n",
    "rfc_normal_nsf = [('normal', MinMaxScaler()), ('rfc', RandomForestClassifier(**params_rfc))] \n",
    "# Pipeline\n",
    "# under sample\n",
    "pipe_scaler_rus = Pipeline(rfc_scaler_rus)\n",
    "pipe_normal_rus = Pipeline(rfc_normal_rus)\n",
    "# Over sample (SMOTE)\n",
    "pipe_nso = Pipeline(rfc_scaler_nso)\n",
    "# Full\n",
    "pipe_nsf = Pipeline(rfc_normal_nsf)"
   ]
  },
  {
   "cell_type": "markdown",
   "id": "union-flight",
   "metadata": {},
   "source": [
    "#### Random Forest Model with MinMaxScaler Under sample Data"
   ]
  },
  {
   "cell_type": "code",
   "execution_count": 14,
   "id": "molecular-alexandria",
   "metadata": {},
   "outputs": [
    {
     "name": "stdout",
     "output_type": "stream",
     "text": [
      "              precision    recall  f1-score   support\n",
      "\n",
      "           0       1.00      1.00      1.00      2053\n",
      "           1       1.00      1.00      1.00      2054\n",
      "\n",
      "    accuracy                           1.00      4107\n",
      "   macro avg       1.00      1.00      1.00      4107\n",
      "weighted avg       1.00      1.00      1.00      4107\n",
      "\n",
      "Pipeline(steps=[('normal', MinMaxScaler()),\n",
      "                ('rfc', RandomForestClassifier(n_jobs=-1, random_state=11))])\n",
      "\n",
      "\n",
      "                    RF %-importance\n",
      "diffBalanceOrig            0.379779\n",
      "newbalanceOrig             0.159288\n",
      "oldbalanceOrig             0.110100\n",
      "amount                     0.066509\n",
      "nameDest_M                 0.054561\n",
      "transType_TRANSFER         0.042779\n",
      "transType_PAYMENT          0.041354\n",
      "diffBalanceDest            0.036382\n",
      "transType_CASH_OUT         0.028255\n",
      "step                       0.028075\n",
      "newbalanceDest             0.027788\n",
      "oldbalanceDest             0.024391\n",
      "transType_DEBIT            0.000738\n",
      "\n",
      "\n",
      "0.3331182119999987 Sec elapsed.\n"
     ]
    },
    {
     "data": {
      "image/png": "[encoded data removed]",
      "text/plain": [
       "<Figure size 432x288 with 2 Axes>"
      ]
     },
     "metadata": {
      "needs_background": "light"
     },
     "output_type": "display_data"
    }
   ],
   "source": [
    "start = timer()\n",
    "# \n",
    "pipe_normal_rus.fit(X_train_rus, y_train_rus)\n",
    "# \n",
    "p_start = timer()\n",
    "y_predRFC = pipe_normal_rus.predict(X_test_rus)\n",
    "p_end = timer()\n",
    "# \n",
    "print(classification_report(y_test_rus, y_predRFC))\n",
    "print(pipe_normal_rus)\n",
    "print('\\n')\n",
    "cm = confusion_matrix(y_test_rus, y_predRFC)\n",
    "disp = ConfusionMatrixDisplay(confusion_matrix=cm, display_labels=pipe_normal_rus.named_steps['rfc'].classes_)\n",
    "disp.plot()\n",
    "#\n",
    "df = pd.DataFrame(pipe_normal_rus.named_steps['rfc'].feature_importances_, index=X_test_rus.columns, \n",
    "                  columns=[\"RF %-importance\"])\n",
    "print(df.sort_values(\"RF %-importance\", axis=0, ascending=False))\n",
    "# Log\n",
    "data = [ID, 'RFC - Normalize - UnderSample', (p_start - start), (p_end - p_start), cm[1,0], cm[0,1], cm.sum()]\n",
    "#         \n",
    "for key, data in zip(keys,data):\n",
    "    prediction_info[key].append(data)\n",
    "# \n",
    "end = timer()\n",
    "# \n",
    "print('\\n')\n",
    "print(f'{(end - start)} Sec elapsed.')"
   ]
  },
  {
   "cell_type": "markdown",
   "id": "weekly-williams",
   "metadata": {},
   "source": [
    "### Random Forest Model with StandardScaler Under sample Data"
   ]
  },
  {
   "cell_type": "code",
   "execution_count": 15,
   "id": "atomic-attendance",
   "metadata": {},
   "outputs": [
    {
     "name": "stdout",
     "output_type": "stream",
     "text": [
      "              precision    recall  f1-score   support\n",
      "\n",
      "           0       1.00      1.00      1.00      2053\n",
      "           1       1.00      1.00      1.00      2054\n",
      "\n",
      "    accuracy                           1.00      4107\n",
      "   macro avg       1.00      1.00      1.00      4107\n",
      "weighted avg       1.00      1.00      1.00      4107\n",
      "\n",
      "Pipeline(steps=[('scaler', StandardScaler()),\n",
      "                ('rfc', RandomForestClassifier(n_jobs=-1, random_state=11))])\n",
      "\n",
      "\n",
      "                    RF %-importance\n",
      "diffBalanceOrig            0.377032\n",
      "newbalanceOrig             0.162867\n",
      "oldbalanceOrig             0.109338\n",
      "amount                     0.066668\n",
      "nameDest_M                 0.054033\n",
      "transType_TRANSFER         0.046070\n",
      "transType_PAYMENT          0.042159\n",
      "diffBalanceDest            0.031879\n",
      "step                       0.029171\n",
      "transType_CASH_OUT         0.028848\n",
      "newbalanceDest             0.027801\n",
      "oldbalanceDest             0.023401\n",
      "transType_DEBIT            0.000734\n",
      "\n",
      "\n",
      "0.262479098 Sec elapsed.\n"
     ]
    },
    {
     "data": {
      "image/png": "[encoded data removed]",
      "text/plain": [
       "<Figure size 432x288 with 2 Axes>"
      ]
     },
     "metadata": {
      "needs_background": "light"
     },
     "output_type": "display_data"
    }
   ],
   "source": [
    "start = timer()\n",
    "# \n",
    "pipe_scaler_rus.fit(X_train_rus, y_train_rus)\n",
    "# \n",
    "p_start = timer()\n",
    "y_predRFC = pipe_scaler_rus.predict(X_test_rus)\n",
    "p_end = timer()\n",
    "# \n",
    "print(classification_report(y_test_rus, y_predRFC))\n",
    "print(pipe_scaler_rus)\n",
    "print('\\n')\n",
    "cm = confusion_matrix(y_test_rus, y_predRFC)\n",
    "disp = ConfusionMatrixDisplay(confusion_matrix=cm, display_labels=pipe_scaler_rus.named_steps['rfc'].classes_)\n",
    "disp.plot()\n",
    "# \n",
    "# print(pipe_normal_rus.named_steps['rfc'])\n",
    "#\n",
    "df = pd.DataFrame(pipe_scaler_rus.named_steps['rfc'].feature_importances_, index=X_test_rus.columns, \n",
    "                  columns=[\"RF %-importance\"])\n",
    "print(df.sort_values(\"RF %-importance\", axis=0, ascending=False))\n",
    "# Log\n",
    "data = [ID, 'RFC - Standard - UnderSample', (p_start - start), (p_end - p_start), cm[1,0], cm[0,1], cm.sum()]\n",
    "#         \n",
    "for key, data in zip(keys,data):\n",
    "    prediction_info[key].append(data)\n",
    "# \n",
    "end = timer()\n",
    "print('\\n')\n",
    "print(f'{(end - start)} Sec elapsed.')"
   ]
  },
  {
   "cell_type": "markdown",
   "id": "protective-purchase",
   "metadata": {},
   "source": [
    "#### Random Forest Model with NON-Standarized/Normalized Under sample Data"
   ]
  },
  {
   "cell_type": "code",
   "execution_count": 16,
   "id": "revised-measurement",
   "metadata": {},
   "outputs": [
    {
     "name": "stdout",
     "output_type": "stream",
     "text": [
      "              precision    recall  f1-score   support\n",
      "\n",
      "           0       1.00      1.00      1.00      2053\n",
      "           1       1.00      1.00      1.00      2054\n",
      "\n",
      "    accuracy                           1.00      4107\n",
      "   macro avg       1.00      1.00      1.00      4107\n",
      "weighted avg       1.00      1.00      1.00      4107\n",
      "\n",
      "RandomForestClassifier(n_jobs=-1, random_state=11)\n",
      "\n",
      "\n",
      "                    RF %-importance\n",
      "diffBalanceOrig            0.385706\n",
      "newbalanceOrig             0.157473\n",
      "oldbalanceOrig             0.110658\n",
      "amount                     0.068351\n",
      "nameDest_M                 0.058427\n",
      "transType_TRANSFER         0.046108\n",
      "transType_PAYMENT          0.041862\n",
      "diffBalanceDest            0.034018\n",
      "step                       0.028806\n",
      "newbalanceDest             0.026155\n",
      "oldbalanceDest             0.021638\n",
      "transType_CASH_OUT         0.020089\n",
      "transType_DEBIT            0.000707\n",
      "\n",
      "\n",
      "0.26577855999999755 Sec elapsed.\n"
     ]
    },
    {
     "data": {
      "image/png": "[encoded data removed]",
      "text/plain": [
       "<Figure size 432x288 with 2 Axes>"
      ]
     },
     "metadata": {
      "needs_background": "light"
     },
     "output_type": "display_data"
    }
   ],
   "source": [
    "start = timer()\n",
    "# RF Model with Non Standarized Under sample Data\n",
    "rfc_ = RandomForestClassifier(**params_rfc)\n",
    "# \n",
    "s_start = timer()\n",
    "# \n",
    "rfc_.fit(X_train_rus, y_train_rus)\n",
    "#\n",
    "p_start = timer()\n",
    "y_predRFC = rfc_.predict(X_test_rus)\n",
    "p_end = timer()\n",
    "# \n",
    "print(classification_report(y_test_rus, y_predRFC))\n",
    "cm = confusion_matrix(y_test_rus, y_predRFC)\n",
    "print(rfc_)\n",
    "print('\\n')\n",
    "disp = ConfusionMatrixDisplay(confusion_matrix=cm, display_labels=rfc_.classes_)\n",
    "disp.plot()\n",
    "# \n",
    "df = pd.DataFrame(rfc_.feature_importances_, index=X_test_rus.columns, columns=[\"RF %-importance\"])\n",
    "print(df.sort_values(\"RF %-importance\", axis=0, ascending=False))\n",
    "# \n",
    "data = [ID, 'RFC - NonStandard - UnderSample', (p_start - s_start), (p_end - p_start), cm[1,0], cm[0,1], cm.sum()]\n",
    "#         \n",
    "for key, data in zip(keys,data):\n",
    "    prediction_info[key].append(data)\n",
    "# \n",
    "end = timer()\n",
    "print('\\n')\n",
    "print(f'{(end - start)} Sec elapsed.')"
   ]
  },
  {
   "cell_type": "markdown",
   "id": "graduate-raleigh",
   "metadata": {},
   "source": [
    "#### Random Forest Model with NON-Standarized Full Data"
   ]
  },
  {
   "cell_type": "code",
   "execution_count": 17,
   "id": "precise-climb",
   "metadata": {},
   "outputs": [
    {
     "name": "stdout",
     "output_type": "stream",
     "text": [
      "              precision    recall  f1-score   support\n",
      "\n",
      "           0       1.00      1.00      1.00   1588602\n",
      "           1       1.00      1.00      1.00      2053\n",
      "\n",
      "    accuracy                           1.00   1590655\n",
      "   macro avg       1.00      1.00      1.00   1590655\n",
      "weighted avg       1.00      1.00      1.00   1590655\n",
      "\n",
      "RandomForestClassifier(n_jobs=-1, random_state=11)\n",
      "\n",
      "\n",
      "                    RF %-importance\n",
      "newbalanceOrig             0.341030\n",
      "diffBalanceOrig            0.211910\n",
      "newbalanceDest             0.095807\n",
      "amount                     0.090746\n",
      "diffBalanceDest            0.087591\n",
      "oldbalanceOrig             0.067213\n",
      "step                       0.032396\n",
      "oldbalanceDest             0.031101\n",
      "transType_TRANSFER         0.027329\n",
      "transType_CASH_OUT         0.012582\n",
      "transType_PAYMENT          0.001332\n",
      "nameDest_M                 0.000858\n",
      "transType_DEBIT            0.000104\n",
      "\n",
      "\n",
      "2.46144561885 Min elapsed.\n"
     ]
    },
    {
     "data": {
      "image/png": "[encoded data removed]",
      "text/plain": [
       "<Figure size 432x288 with 2 Axes>"
      ]
     },
     "metadata": {
      "needs_background": "light"
     },
     "output_type": "display_data"
    }
   ],
   "source": [
    "start = timer()\n",
    "# RF Model with Non Standarized Full data\n",
    "rfc_nsf = RandomForestClassifier(**params_rfc)\n",
    "# \n",
    "s_start = timer()\n",
    "rfc_nsf.fit(X_train_nsf, y_train_nsf)\n",
    "# \n",
    "p_start = timer()\n",
    "y_predRFC_nsf = rfc_nsf.predict(X_test_nsf)\n",
    "p_end = timer()\n",
    "# \n",
    "print(classification_report(y_test_nsf, y_predRFC_nsf))\n",
    "print(rfc_nsf)\n",
    "print('\\n')\n",
    "cm = confusion_matrix(y_test_nsf, y_predRFC_nsf)\n",
    "disp = ConfusionMatrixDisplay(confusion_matrix=cm, display_labels=rfc_nsf.classes_)\n",
    "disp.plot()\n",
    "# \n",
    "df = pd.DataFrame(rfc_nsf.feature_importances_, index=X_test_nsf.columns, columns=[\"RF %-importance\"])\n",
    "print(df.sort_values(\"RF %-importance\", axis=0, ascending=False))\n",
    "# \n",
    "data = [ID, 'RFC - NonStandard - Full', (p_start - s_start), (p_end - p_start), cm[1,0], cm[0,1], cm.sum()]\n",
    "#         \n",
    "for key, data in zip(keys,data):\n",
    "    prediction_info[key].append(data)\n",
    "#\n",
    "end = timer()\n",
    "print('\\n')\n",
    "print(f'{(end - start)/60} Min elapsed.')"
   ]
  },
  {
   "cell_type": "markdown",
   "id": "vocational-architecture",
   "metadata": {},
   "source": [
    "#### Random Forest Model with NON-Standarized SMOTE Dataset"
   ]
  },
  {
   "cell_type": "code",
   "execution_count": 18,
   "id": "remarkable-crisis",
   "metadata": {},
   "outputs": [
    {
     "name": "stdout",
     "output_type": "stream",
     "text": [
      "              precision    recall  f1-score   support\n",
      "\n",
      "           0       1.00      1.00      1.00   1588602\n",
      "           1       1.00      1.00      1.00   1588602\n",
      "\n",
      "    accuracy                           1.00   3177204\n",
      "   macro avg       1.00      1.00      1.00   3177204\n",
      "weighted avg       1.00      1.00      1.00   3177204\n",
      "\n",
      "RandomForestClassifier(n_jobs=-1, random_state=11)\n",
      "\n",
      "\n",
      "                    RF %-importance\n",
      "diffBalanceOrig            0.390881\n",
      "newbalanceOrig             0.157252\n",
      "oldbalanceOrig             0.118350\n",
      "nameDest_M                 0.057839\n",
      "amount                     0.054603\n",
      "transType_TRANSFER         0.051222\n",
      "transType_PAYMENT          0.045937\n",
      "diffBalanceDest            0.041483\n",
      "step                       0.023861\n",
      "newbalanceDest             0.020794\n",
      "transType_CASH_OUT         0.020553\n",
      "oldbalanceDest             0.016444\n",
      "transType_DEBIT            0.000781\n",
      "\n",
      "\n",
      "5.603590536283334 Min elapsed.\n"
     ]
    },
    {
     "data": {
      "image/png": "[encoded data removed]",
      "text/plain": [
       "<Figure size 432x288 with 2 Axes>"
      ]
     },
     "metadata": {
      "needs_background": "light"
     },
     "output_type": "display_data"
    }
   ],
   "source": [
    "start = timer()\n",
    "# RF Model SMOTE\n",
    "rfc_ = RandomForestClassifier(**params_rfc)\n",
    "# \n",
    "s_start = timer()\n",
    "rfc_.fit(X_train_nso, y_train_nso)\n",
    "# \n",
    "p_start = timer()\n",
    "y_predRFC_ = rfc_.predict(X_test_nso)\n",
    "p_end = timer()\n",
    "# \n",
    "print(classification_report(y_test_nso, y_predRFC_))\n",
    "print(rfc_)\n",
    "print('\\n')\n",
    "cm = confusion_matrix(y_test_nso, y_predRFC_)\n",
    "disp = ConfusionMatrixDisplay(confusion_matrix=cm, display_labels=rfc_.classes_)\n",
    "disp.plot()\n",
    "# \n",
    "df = pd.DataFrame(rfc_.feature_importances_, index=X_test_nso.columns, columns=[\"RF %-importance\"])\n",
    "print(df.sort_values(\"RF %-importance\", axis=0, ascending=False))\n",
    "# \n",
    "data = [ID, 'RFC - NonStandard - OverSample', (p_start - s_start), (p_end - p_start), cm[1,0], cm[0,1], cm.sum()]\n",
    "#         \n",
    "for key, data in zip(keys,data):\n",
    "    prediction_info[key].append(data)\n",
    "#\n",
    "end = timer()\n",
    "print('\\n')\n",
    "print(f'{(end - start)/60} Min elapsed.')"
   ]
  },
  {
   "cell_type": "markdown",
   "id": "objective-context",
   "metadata": {},
   "source": [
    "#### Random Forest Model NON-Standard Under-sampled RandomizedSearchCV"
   ]
  },
  {
   "cell_type": "code",
   "execution_count": 19,
   "id": "challenging-sculpture",
   "metadata": {},
   "outputs": [],
   "source": [
    "start = timer()\n",
    "#Create a Random Forest Classifier\n",
    "rfc_nsf = RandomForestClassifier(**params_rfc)\n",
    "\n",
    "# RandomizedSearchCV\n",
    "# Number of trees in random forest\n",
    "n_estimators = [int(x) for x in np.linspace(start = 200, stop = 2000, num = 10)]\n",
    "# Number of features to consider at every split\n",
    "max_features = ['auto', 'sqrt']\n",
    "# Maximum number of levels in tree\n",
    "max_depth = [int(x) for x in np.linspace(10, 110, num = 11)]\n",
    "max_depth.append(None)\n",
    "# Minimum number of samples required to split a node\n",
    "min_samples_split = [2, 5, 10]\n",
    "# Minimum number of samples required at each leaf node\n",
    "min_samples_leaf = [1, 2, 4]\n",
    "# Method of selecting samples for training each tree\n",
    "bootstrap = [True, False]\n",
    "# Create the random grid\n",
    "\n",
    "random_grid = {'n_estimators': n_estimators,\n",
    "               'max_features': max_features,\n",
    "               'max_depth': max_depth,\n",
    "               'min_samples_split': min_samples_split,\n",
    "               'min_samples_leaf': min_samples_leaf,\n",
    "               'bootstrap': bootstrap}\n",
    "# \n",
    "rfc_random = RandomizedSearchCV(estimator = rfc_nsf, param_distributions = random_grid, n_iter = 100, \n",
    "                                cv = 3, verbose=2, random_state=seed, n_jobs = -1)"
   ]
  },
  {
   "cell_type": "code",
   "execution_count": 20,
   "id": "final-hanging",
   "metadata": {},
   "outputs": [
    {
     "name": "stdout",
     "output_type": "stream",
     "text": [
      "Fitting 3 folds for each of 100 candidates, totalling 300 fits\n",
      "\n",
      "\n",
      "              precision    recall  f1-score   support\n",
      "\n",
      "           0       1.00      1.00      1.00      2053\n",
      "           1       1.00      1.00      1.00      2054\n",
      "\n",
      "    accuracy                           1.00      4107\n",
      "   macro avg       1.00      1.00      1.00      4107\n",
      "weighted avg       1.00      1.00      1.00      4107\n",
      "\n",
      "\n",
      "\n",
      "{'n_estimators': 400, 'min_samples_split': 2, 'min_samples_leaf': 1, 'max_features': 'auto', 'max_depth': 20, 'bootstrap': False}\n",
      "\n",
      "\n",
      "4.148010509433334 Min elapsed.\n"
     ]
    },
    {
     "data": {
      "image/png": "[encoded data removed]",
      "text/plain": [
       "<Figure size 432x288 with 2 Axes>"
      ]
     },
     "metadata": {
      "needs_background": "light"
     },
     "output_type": "display_data"
    }
   ],
   "source": [
    "s_start = timer()\n",
    "#Train the model using the training sets - under sample standarized\n",
    "rfc_random.fit(X_train_rus, y_train_rus)\n",
    "# \n",
    "p_start = timer()\n",
    "y_prednsf = rfc_random.predict(X_test_rus)\n",
    "p_end = timer()\n",
    "# \n",
    "print('\\n')\n",
    "print(classification_report(y_test_rus, y_prednsf))\n",
    "print('\\n')\n",
    "cm = confusion_matrix(y_test_rus, y_prednsf)\n",
    "disp = ConfusionMatrixDisplay(confusion_matrix=cm, display_labels=rfc_random.classes_)\n",
    "disp.plot()\n",
    "# \n",
    "data = [ID, 'RFC - NonStandard - UnderSample - RandomGridSearch', (p_start - s_start), (p_end - p_start), \n",
    "        cm[1,0], cm[0,1], cm.sum()]\n",
    "#         \n",
    "for key, data in zip(keys,data):\n",
    "    prediction_info[key].append(data)\n",
    "#\n",
    "print(rfc_random.best_params_)\n",
    "print('\\n')\n",
    "end = timer()\n",
    "print(f'{(end - start)/60} Min elapsed.')"
   ]
  },
  {
   "cell_type": "markdown",
   "id": "informative-strategy",
   "metadata": {},
   "source": [
    "# XGB Classifier"
   ]
  },
  {
   "cell_type": "markdown",
   "id": "royal-suite",
   "metadata": {},
   "source": [
    "#### XGB Classifier Model Pipeline"
   ]
  },
  {
   "cell_type": "code",
   "execution_count": 21,
   "id": "outer-father",
   "metadata": {},
   "outputs": [],
   "source": [
    "# For prediction_info\n",
    "ID = 'XGB'\n",
    "# Pipeline\n",
    "params_xgb = {\n",
    "    'objective':'binary:logistic',\n",
    "    'use_label_encoder' : False,\n",
    "    'n_jobs' : (-1),\n",
    "#     'eval_metric' : 'logloss',    \n",
    "    'eval_metric' : 'auc',\n",
    "    'random_state' : seed,\n",
    "}\n",
    "# \n",
    "xgb_scaler_rus = [('scaler', StandardScaler()), ('xgb', XGBClassifier(**params_xgb))]\n",
    "xgb_normal_rus = [('normal', MinMaxScaler()), ('xgb', XGBClassifier(**params_xgb))]\n",
    "xgb_scaler_nso = [('scaler', StandardScaler()), ('xgb', XGBClassifier(**params_xgb))]\n",
    "xgb_normal_nsf = [('normal', MinMaxScaler()), ('xgb', XGBClassifier(**params_xgb))]\n",
    "# under sample\n",
    "pipe_scaler_rus = Pipeline(xgb_scaler_rus)\n",
    "pipe_normal_rus = Pipeline(xgb_normal_rus)\n",
    "# Over sample (SMOTE)\n",
    "pipe_nso = Pipeline(xgb_scaler_nso)\n",
    "# Full\n",
    "pipe_nsf = Pipeline(xgb_normal_nsf)"
   ]
  },
  {
   "cell_type": "markdown",
   "id": "voluntary-equation",
   "metadata": {},
   "source": [
    "#### XGB Classifier Model with Scaler Under-Sampled Dataset"
   ]
  },
  {
   "cell_type": "code",
   "execution_count": 22,
   "id": "coated-chester",
   "metadata": {},
   "outputs": [
    {
     "name": "stdout",
     "output_type": "stream",
     "text": [
      "\n",
      "\n",
      "              precision    recall  f1-score   support\n",
      "\n",
      "           0       1.00      1.00      1.00      2053\n",
      "           1       1.00      1.00      1.00      2054\n",
      "\n",
      "    accuracy                           1.00      4107\n",
      "   macro avg       1.00      1.00      1.00      4107\n",
      "weighted avg       1.00      1.00      1.00      4107\n",
      "\n",
      "[('scaler', StandardScaler()), ('xgb', XGBClassifier(base_score=0.5, booster='gbtree', colsample_bylevel=1,\n",
      "              colsample_bynode=1, colsample_bytree=1, eval_metric='auc',\n",
      "              gamma=0, gpu_id=-1, importance_type='gain',\n",
      "              interaction_constraints='', learning_rate=0.300000012,\n",
      "              max_delta_step=0, max_depth=6, min_child_weight=1, missing=nan,\n",
      "              monotone_constraints='()', n_estimators=100, n_jobs=-1,\n",
      "              num_parallel_tree=1, random_state=11, reg_alpha=0, reg_lambda=1,\n",
      "              scale_pos_weight=1, subsample=1, tree_method='exact',\n",
      "              use_label_encoder=False, validate_parameters=1, verbosity=None))]\n",
      "\n",
      "\n",
      "                    XGB %-importance\n",
      "newbalanceOrig              0.515691\n",
      "diffBalanceOrig             0.436455\n",
      "amount                      0.021622\n",
      "diffBalanceDest             0.007836\n",
      "transType_PAYMENT           0.003681\n",
      "oldbalanceOrig              0.003025\n",
      "transType_CASH_OUT          0.002725\n",
      "oldbalanceDest              0.002711\n",
      "transType_TRANSFER          0.002606\n",
      "step                        0.002040\n",
      "newbalanceDest              0.001607\n",
      "transType_DEBIT             0.000000\n",
      "nameDest_M                  0.000000\n",
      "\n",
      "\n",
      "0.4161166950000279 Sec elapsed.\n"
     ]
    },
    {
     "data": {
      "image/png": "[encoded data removed]",
      "text/plain": [
       "<Figure size 432x288 with 2 Axes>"
      ]
     },
     "metadata": {
      "needs_background": "light"
     },
     "output_type": "display_data"
    }
   ],
   "source": [
    "start = timer()\n",
    "#Train the model using the training sets\n",
    "pipe_scaler_rus.fit(X_train_rus,y_train_rus)\n",
    "# \n",
    "p_start = timer()\n",
    "y_predXGB = pipe_scaler_rus.predict(X_test_rus)\n",
    "p_end = timer()\n",
    "print('\\n')\n",
    "print(classification_report(y_test_rus, y_predXGB))\n",
    "print(xgb_scaler_rus)\n",
    "print('\\n')\n",
    "cm = confusion_matrix(y_test_rus, y_predXGB)\n",
    "disp = ConfusionMatrixDisplay(confusion_matrix=cm, \n",
    "                              display_labels=pipe_scaler_rus.named_steps['xgb'].classes_)\n",
    "disp.plot()\n",
    "df = pd.DataFrame(pipe_scaler_rus.named_steps['xgb'].feature_importances_, index=X_test_rus.columns, \n",
    "                  columns=[\"XGB %-importance\"])\n",
    "print(df.sort_values(\"XGB %-importance\", axis=0, ascending=False))\n",
    "# \n",
    "data = [ID, 'XGB - Standard - UnderSample', (p_start - start), (p_end - p_start), cm[1,0], cm[0,1], cm.sum()]\n",
    "#         \n",
    "for key, data in zip(keys,data):\n",
    "    prediction_info[key].append(data)\n",
    "#\n",
    "end = timer()\n",
    "print('\\n')\n",
    "print(f'{(end - start)} Sec elapsed.')"
   ]
  },
  {
   "cell_type": "markdown",
   "id": "cutting-tracy",
   "metadata": {},
   "source": [
    "#### XGB Classifier Model with Norml Under-Sampled Dataset"
   ]
  },
  {
   "cell_type": "code",
   "execution_count": 23,
   "id": "surgical-channels",
   "metadata": {},
   "outputs": [
    {
     "name": "stdout",
     "output_type": "stream",
     "text": [
      "\n",
      "\n",
      "              precision    recall  f1-score   support\n",
      "\n",
      "           0       1.00      1.00      1.00      2053\n",
      "           1       1.00      1.00      1.00      2054\n",
      "\n",
      "    accuracy                           1.00      4107\n",
      "   macro avg       1.00      1.00      1.00      4107\n",
      "weighted avg       1.00      1.00      1.00      4107\n",
      "\n",
      "[('normal', MinMaxScaler()), ('xgb', XGBClassifier(base_score=0.5, booster='gbtree', colsample_bylevel=1,\n",
      "              colsample_bynode=1, colsample_bytree=1, eval_metric='auc',\n",
      "              gamma=0, gpu_id=-1, importance_type='gain',\n",
      "              interaction_constraints='', learning_rate=0.300000012,\n",
      "              max_delta_step=0, max_depth=6, min_child_weight=1, missing=nan,\n",
      "              monotone_constraints='()', n_estimators=100, n_jobs=-1,\n",
      "              num_parallel_tree=1, random_state=11, reg_alpha=0, reg_lambda=1,\n",
      "              scale_pos_weight=1, subsample=1, tree_method='exact',\n",
      "              use_label_encoder=False, validate_parameters=1, verbosity=None))]\n",
      "\n",
      "\n",
      "                    XGB %-importance\n",
      "newbalanceOrig              0.515691\n",
      "diffBalanceOrig             0.436455\n",
      "amount                      0.021622\n",
      "diffBalanceDest             0.007836\n",
      "transType_PAYMENT           0.003681\n",
      "oldbalanceOrig              0.003025\n",
      "transType_CASH_OUT          0.002725\n",
      "oldbalanceDest              0.002711\n",
      "transType_TRANSFER          0.002606\n",
      "step                        0.002040\n",
      "newbalanceDest              0.001607\n",
      "transType_DEBIT             0.000000\n",
      "nameDest_M                  0.000000\n",
      "\n",
      "\n",
      "0.4063769399999728 Sec elapsed.\n"
     ]
    },
    {
     "data": {
      "image/png": "[encoded data removed]",
      "text/plain": [
       "<Figure size 432x288 with 2 Axes>"
      ]
     },
     "metadata": {
      "needs_background": "light"
     },
     "output_type": "display_data"
    }
   ],
   "source": [
    "start = timer()\n",
    "#Train the model using the training sets\n",
    "pipe_normal_rus.fit(X_train_rus,y_train_rus)\n",
    "# \n",
    "p_start = timer()\n",
    "y_predXGB = pipe_normal_rus.predict(X_test_rus)\n",
    "p_end = timer()\n",
    "print('\\n')\n",
    "print(classification_report(y_test_rus, y_predXGB))\n",
    "print(xgb_normal_rus)\n",
    "print('\\n')\n",
    "cm = confusion_matrix(y_test_rus, y_predXGB)\n",
    "disp = ConfusionMatrixDisplay(confusion_matrix=cm, \n",
    "                              display_labels=pipe_normal_rus.named_steps['xgb'].classes_)\n",
    "disp.plot()\n",
    "df = pd.DataFrame(pipe_normal_rus.named_steps['xgb'].feature_importances_, index=X_test_rus.columns, \n",
    "                  columns=[\"XGB %-importance\"])\n",
    "print(df.sort_values(\"XGB %-importance\", axis=0, ascending=False))\n",
    "# \n",
    "data = [ID, 'XGB - Normalize - UnderSample', (p_start - start), (p_end - p_start), cm[1,0], cm[0,1], cm.sum()]\n",
    "#         \n",
    "for key, data in zip(keys,data):\n",
    "    prediction_info[key].append(data)\n",
    "# \n",
    "end = timer()\n",
    "print('\\n')\n",
    "print(f'{(end - start)} Sec elapsed.')"
   ]
  },
  {
   "cell_type": "markdown",
   "id": "prompt-seminar",
   "metadata": {},
   "source": [
    "#### XGB Classifier Model with Non-Standarized Under Sampled Dataset"
   ]
  },
  {
   "cell_type": "code",
   "execution_count": 24,
   "id": "static-combine",
   "metadata": {},
   "outputs": [
    {
     "name": "stdout",
     "output_type": "stream",
     "text": [
      "\n",
      "\n",
      "              precision    recall  f1-score   support\n",
      "\n",
      "           0       1.00      1.00      1.00      2053\n",
      "           1       1.00      1.00      1.00      2054\n",
      "\n",
      "    accuracy                           1.00      4107\n",
      "   macro avg       1.00      1.00      1.00      4107\n",
      "weighted avg       1.00      1.00      1.00      4107\n",
      "\n",
      "XGBClassifier(base_score=0.5, booster='gbtree', colsample_bylevel=1,\n",
      "              colsample_bynode=1, colsample_bytree=1, eval_metric='auc',\n",
      "              gamma=0, gpu_id=-1, importance_type='gain',\n",
      "              interaction_constraints='', learning_rate=0.300000012,\n",
      "              max_delta_step=0, max_depth=6, min_child_weight=1, missing=nan,\n",
      "              monotone_constraints='()', n_estimators=100, n_jobs=-1,\n",
      "              num_parallel_tree=1, random_state=11, reg_alpha=0, reg_lambda=1,\n",
      "              scale_pos_weight=1, subsample=1, tree_method='exact',\n",
      "              use_label_encoder=False, validate_parameters=1, verbosity=None)\n",
      "\n",
      "\n",
      "                    XGB %-importance\n",
      "diffBalanceOrig             0.520388\n",
      "newbalanceOrig              0.433800\n",
      "amount                      0.019385\n",
      "diffBalanceDest             0.006960\n",
      "transType_PAYMENT           0.005159\n",
      "transType_CASH_OUT          0.002818\n",
      "oldbalanceOrig              0.002814\n",
      "transType_TRANSFER          0.002450\n",
      "oldbalanceDest              0.002321\n",
      "step                        0.002004\n",
      "newbalanceDest              0.001900\n",
      "transType_DEBIT             0.000000\n",
      "nameDest_M                  0.000000\n",
      "\n",
      "\n",
      "0.39140238100003444 Sec elapsed.\n"
     ]
    },
    {
     "data": {
      "image/png": "[encoded data removed]",
      "text/plain": [
       "<Figure size 432x288 with 2 Axes>"
      ]
     },
     "metadata": {
      "needs_background": "light"
     },
     "output_type": "display_data"
    }
   ],
   "source": [
    "start = timer()\n",
    "# Standard XGB Model\n",
    "xgb_rus_ns = XGBClassifier(**params_xgb)\n",
    "# \n",
    "s_start = timer()\n",
    "#Train the model using the training sets\n",
    "xgb_rus_ns.fit(X_train_rus,y_train_rus)\n",
    "# \n",
    "p_start = timer()\n",
    "y_predXGB_ns = xgb_rus_ns.predict(X_test_rus)\n",
    "p_end = timer()\n",
    "print('\\n')\n",
    "print(classification_report(y_test_rus, y_predXGB_ns))\n",
    "print(xgb_rus_ns)\n",
    "print('\\n')\n",
    "cm = (confusion_matrix(y_test_rus, y_predXGB_ns))\n",
    "disp = ConfusionMatrixDisplay(confusion_matrix=cm, display_labels=xgb_rus_ns.classes_)\n",
    "disp.plot()\n",
    "df = pd.DataFrame(xgb_rus_ns.feature_importances_, index=X_test_rus.columns, columns=[\"XGB %-importance\"])\n",
    "print(df.sort_values(\"XGB %-importance\", axis=0, ascending=False))\n",
    "# \n",
    "data = [ID, 'XGB - NonStandard - UnderSample', (p_start - s_start), (p_end - p_start), cm[1,0], cm[0,1], cm.sum()]\n",
    "#         \n",
    "for key, data in zip(keys,data):\n",
    "    prediction_info[key].append(data)\n",
    "# \n",
    "end = timer()\n",
    "print('\\n')\n",
    "print(f'{(end - start)} Sec elapsed.')"
   ]
  },
  {
   "cell_type": "markdown",
   "id": "handed-country",
   "metadata": {},
   "source": [
    "#### XGB Classifier Model with Non Standarized Full sample Data"
   ]
  },
  {
   "cell_type": "code",
   "execution_count": 25,
   "id": "accepted-gasoline",
   "metadata": {},
   "outputs": [
    {
     "name": "stdout",
     "output_type": "stream",
     "text": [
      "\n",
      "\n",
      "              precision    recall  f1-score   support\n",
      "\n",
      "           0       1.00      1.00      1.00   1588602\n",
      "           1       1.00      1.00      1.00      2053\n",
      "\n",
      "    accuracy                           1.00   1590655\n",
      "   macro avg       1.00      1.00      1.00   1590655\n",
      "weighted avg       1.00      1.00      1.00   1590655\n",
      "\n",
      "XGBClassifier(base_score=0.5, booster='gbtree', colsample_bylevel=1,\n",
      "              colsample_bynode=1, colsample_bytree=1, eval_metric='auc',\n",
      "              gamma=0, gpu_id=-1, importance_type='gain',\n",
      "              interaction_constraints='', learning_rate=0.300000012,\n",
      "              max_delta_step=0, max_depth=6, min_child_weight=1, missing=nan,\n",
      "              monotone_constraints='()', n_estimators=100, n_jobs=-1,\n",
      "              num_parallel_tree=1, random_state=11, reg_alpha=0, reg_lambda=1,\n",
      "              scale_pos_weight=1, subsample=1, tree_method='approx',\n",
      "              use_label_encoder=False, validate_parameters=1, verbosity=None)\n",
      "\n",
      "\n",
      "                    XGB %-importance\n",
      "transType_PAYMENT           0.293373\n",
      "newbalanceOrig              0.261016\n",
      "transType_TRANSFER          0.147129\n",
      "amount                      0.116211\n",
      "diffBalanceOrig             0.073724\n",
      "transType_DEBIT             0.031283\n",
      "diffBalanceDest             0.030775\n",
      "transType_CASH_OUT          0.018490\n",
      "step                        0.011412\n",
      "newbalanceDest              0.007773\n",
      "oldbalanceOrig              0.005295\n",
      "oldbalanceDest              0.003518\n",
      "nameDest_M                  0.000000\n",
      "\n",
      "\n",
      "3.647155755066666 Min elapsed.\n"
     ]
    },
    {
     "data": {
      "image/png": "[encoded data removed]",
      "text/plain": [
       "<Figure size 432x288 with 2 Axes>"
      ]
     },
     "metadata": {
      "needs_background": "light"
     },
     "output_type": "display_data"
    }
   ],
   "source": [
    "start = timer()\n",
    "# Standard XGB Model\n",
    "xgb_nsf = XGBClassifier(**params_xgb)\n",
    "#Train the model using the training sets\n",
    "s_start = timer()\n",
    "xgb_nsf.fit(X_train_nsf,y_train_nsf)\n",
    "# \n",
    "p_start = timer()\n",
    "y_predXGB_nsf = xgb_nsf.predict(X_test_nsf)\n",
    "p_end = timer()\n",
    "print('\\n')\n",
    "print(classification_report(y_test_nsf, y_predXGB_nsf))\n",
    "print(xgb_nsf)\n",
    "print('\\n')\n",
    "cm = confusion_matrix(y_test_nsf, y_predXGB_nsf)\n",
    "disp = ConfusionMatrixDisplay(confusion_matrix=cm, display_labels=xgb_nsf.classes_)\n",
    "disp.plot()\n",
    "df = pd.DataFrame(xgb_nsf.feature_importances_, index=X_test_nsf.columns, columns=[\"XGB %-importance\"])\n",
    "print(df.sort_values(\"XGB %-importance\", axis=0, ascending=False))\n",
    "#  \n",
    "data = [ID, 'XGB - NonStandard - Full', (p_start - s_start), (p_end - p_start), cm[1,0], cm[0,1], cm.sum()]\n",
    "#         \n",
    "for key, data in zip(keys,data):\n",
    "    prediction_info[key].append(data)\n",
    "# \n",
    "end = timer()\n",
    "print('\\n')\n",
    "print(f'{(end - start)/60} Min elapsed.')"
   ]
  },
  {
   "cell_type": "markdown",
   "id": "central-spanking",
   "metadata": {},
   "source": [
    "#### XGB Classifier Model with NON-Standarized SMOTE Dataset"
   ]
  },
  {
   "cell_type": "code",
   "execution_count": 26,
   "id": "monthly-being",
   "metadata": {},
   "outputs": [
    {
     "name": "stdout",
     "output_type": "stream",
     "text": [
      "\n",
      "\n",
      "              precision    recall  f1-score   support\n",
      "\n",
      "           0       1.00      1.00      1.00   1588602\n",
      "           1       1.00      1.00      1.00   1588602\n",
      "\n",
      "    accuracy                           1.00   3177204\n",
      "   macro avg       1.00      1.00      1.00   3177204\n",
      "weighted avg       1.00      1.00      1.00   3177204\n",
      "\n",
      "XGBClassifier(base_score=0.5, booster='gbtree', colsample_bylevel=1,\n",
      "              colsample_bynode=1, colsample_bytree=1, eval_metric='auc',\n",
      "              gamma=0, gpu_id=-1, importance_type='gain',\n",
      "              interaction_constraints='', learning_rate=0.300000012,\n",
      "              max_delta_step=0, max_depth=6, min_child_weight=1, missing=nan,\n",
      "              monotone_constraints='()', n_estimators=100, n_jobs=-1,\n",
      "              num_parallel_tree=1, random_state=11, reg_alpha=0, reg_lambda=1,\n",
      "              scale_pos_weight=1, subsample=1, tree_method='approx',\n",
      "              use_label_encoder=False, validate_parameters=1, verbosity=None)\n",
      "\n",
      "\n",
      "                    XGB %-importance\n",
      "newbalanceOrig              0.590537\n",
      "diffBalanceOrig             0.306728\n",
      "transType_PAYMENT           0.072771\n",
      "amount                      0.015316\n",
      "diffBalanceDest             0.003270\n",
      "transType_DEBIT             0.002631\n",
      "transType_TRANSFER          0.002446\n",
      "transType_CASH_OUT          0.001853\n",
      "oldbalanceOrig              0.001562\n",
      "oldbalanceDest              0.001168\n",
      "step                        0.000938\n",
      "newbalanceDest              0.000779\n",
      "nameDest_M                  0.000000\n",
      "\n",
      "\n",
      "10.305626596933333 Min elapsed.\n"
     ]
    },
    {
     "data": {
      "image/png": "[encoded data removed]",
      "text/plain": [
       "<Figure size 432x288 with 2 Axes>"
      ]
     },
     "metadata": {
      "needs_background": "light"
     },
     "output_type": "display_data"
    }
   ],
   "source": [
    "start = timer()\n",
    "# Standard XGB Model\n",
    "xgb_ = XGBClassifier(**params_xgb)\n",
    "s_start = timer()\n",
    "#Train the model using the training sets\n",
    "xgb_.fit(X_train_nso,y_train_nso)\n",
    "# \n",
    "p_start = timer()\n",
    "y_predXGB_nso = xgb_.predict(X_test_nso)\n",
    "p_end = timer()\n",
    "print('\\n')\n",
    "print(classification_report(y_test_nso, y_predXGB_nso))\n",
    "print(xgb_)\n",
    "print('\\n')\n",
    "cm = confusion_matrix(y_test_nso, y_predXGB_nso)\n",
    "disp = ConfusionMatrixDisplay(confusion_matrix=cm, display_labels=xgb_.classes_)\n",
    "disp.plot()\n",
    "df = pd.DataFrame(xgb_.feature_importances_, index=X_test_nso.columns, columns=[\"XGB %-importance\"])\n",
    "print(df.sort_values(\"XGB %-importance\", axis=0, ascending=False))\n",
    "#  \n",
    "data = [ID, 'XGB - NonStandard - OverSample', (p_start - s_start), (p_end - p_start), cm[1,0], cm[0,1], cm.sum()]\n",
    "#         \n",
    "for key, data in zip(keys,data):\n",
    "    prediction_info[key].append(data)\n",
    "#\n",
    "end = timer()\n",
    "print('\\n')\n",
    "print(f'{(end - start)/60} Min elapsed.')"
   ]
  },
  {
   "cell_type": "markdown",
   "id": "rental-henry",
   "metadata": {},
   "source": [
    "#### XGB GridSearchCV with StratifiedKFold & NON Standarized Under Sampled Dataset"
   ]
  },
  {
   "cell_type": "code",
   "execution_count": 28,
   "id": "stuck-management",
   "metadata": {},
   "outputs": [
    {
     "name": "stdout",
     "output_type": "stream",
     "text": [
      "              precision    recall  f1-score   support\n",
      "\n",
      "           0       1.00      1.00      1.00      2053\n",
      "           1       1.00      1.00      1.00      2054\n",
      "\n",
      "    accuracy                           1.00      4107\n",
      "   macro avg       1.00      1.00      1.00      4107\n",
      "weighted avg       1.00      1.00      1.00      4107\n",
      "\n",
      "                    XGB %-importance\n",
      "newbalanceOrig              0.561225\n",
      "diffBalanceOrig             0.366089\n",
      "transType_PAYMENT           0.029284\n",
      "amount                      0.019427\n",
      "diffBalanceDest             0.008296\n",
      "transType_CASH_OUT          0.003850\n",
      "oldbalanceOrig              0.003487\n",
      "step                        0.002996\n",
      "transType_TRANSFER          0.002118\n",
      "oldbalanceDest              0.002087\n",
      "newbalanceDest              0.001141\n",
      "transType_DEBIT             0.000000\n",
      "nameDest_M                  0.000000\n",
      "\n",
      "\n",
      "XGBClassifier(base_score=0.5, booster='gbtree', colsample_bylevel=1,\n",
      "              colsample_bynode=1, colsample_bytree=1, eval_metric='auc',\n",
      "              gamma=0, gpu_id=-1, importance_type='gain',\n",
      "              interaction_constraints='', learning_rate=0.2, max_delta_step=0,\n",
      "              max_depth=3, min_child_weight=1, missing=nan,\n",
      "              monotone_constraints='()', n_estimators=340, n_jobs=-1,\n",
      "              num_parallel_tree=1, random_state=11, reg_alpha=0, reg_lambda=1,\n",
      "              scale_pos_weight=1, subsample=1, tree_method='exact',\n",
      "              use_label_encoder=False, validate_parameters=1, verbosity=None)\n",
      "\n",
      "\n",
      "2181.3010752007167 Min elapsed.\n"
     ]
    },
    {
     "data": {
      "image/png": "[encoded data removed]",
      "text/plain": [
       "<Figure size 432x288 with 2 Axes>"
      ]
     },
     "metadata": {
      "needs_background": "light"
     },
     "output_type": "display_data"
    }
   ],
   "source": [
    "# from xgboost import XGBClassifier\n",
    "from sklearn.model_selection import StratifiedKFold\n",
    "# Non Standarized Dataset\n",
    "start = timer()\n",
    "# \n",
    "n_folds = 10\n",
    "skf = StratifiedKFold(n_splits=n_folds, random_state=seed, shuffle=True)\n",
    "# \n",
    "params_grid = {\n",
    "    'n_estimators': range(340, 360, 5,),\n",
    "    'learning_rate': [0.1, 0.2, 0.3, 0.4, 0.5],\n",
    "#     'booster' : ['gblinear','gbtree'],\n",
    "    'max_depth' : [3,5,7,10],\n",
    "}\n",
    "# create xgboost classifier\n",
    "xgb_cl2 = XGBClassifier(**params_xgb)\n",
    "# \n",
    "xgb_grid2 = GridSearchCV(estimator=xgb_cl2, param_grid=params_grid, \n",
    "                               cv=skf.split(X_train_rus, y_train_rus), scoring='f1')\n",
    "# \n",
    "s_start = timer()\n",
    "#Train the model using the training sets\n",
    "xgb_grid2.fit(X_train_rus,y_train_rus)\n",
    "# \n",
    "p_start = timer()\n",
    "y_predXGB2 = xgb_grid2.predict(X_test_rus)\n",
    "p_end = timer()\n",
    "print(classification_report(y_test_rus, y_predXGB2))\n",
    "# Plot Confusion Matrix\n",
    "cm = confusion_matrix(y_test_rus, y_predXGB2)\n",
    "disp = ConfusionMatrixDisplay(cm, display_labels=xgb_grid2.classes_)\n",
    "disp.plot()\n",
    "# \n",
    "df = pd.DataFrame(xgb_grid2.best_estimator_.feature_importances_, \n",
    "                  index=X_test_rus.columns, columns=[\"XGB %-importance\"])\n",
    "print(df.sort_values(\"XGB %-importance\", axis=0, ascending=False))\n",
    "print('\\n')\n",
    "# \n",
    "print(xgb_grid2.best_estimator_)\n",
    "print('\\n')\n",
    "#  \n",
    "data = [ID, 'XGB - NonStandard - UnderSample - StratifiedKFold Grid', (p_start - s_start), (p_end - p_start), \n",
    "        cm[1,0], cm[0,1], cm.sum()]\n",
    "#          \n",
    "for key, data in zip(keys,data):\n",
    "    prediction_info[key].append(data)\n",
    "#\n",
    "end = timer()\n",
    "print(f'{(end - start/60)} Min elapsed.')"
   ]
  },
  {
   "cell_type": "markdown",
   "id": "available-egypt",
   "metadata": {},
   "source": [
    "# LGBM Classifier"
   ]
  },
  {
   "cell_type": "markdown",
   "id": "light-renewal",
   "metadata": {},
   "source": [
    "#### LGBM Classifier Model Pipeline"
   ]
  },
  {
   "cell_type": "code",
   "execution_count": 29,
   "id": "interracial-european",
   "metadata": {},
   "outputs": [],
   "source": [
    "# For prediction_info\n",
    "ID = 'LGBM'\n",
    "# Pipeline\n",
    "params_lgbm = {\n",
    "    'objective': 'binary',\n",
    "    'metric': 'auc',\n",
    "    'num_leaves': 32,\n",
    "#     'num_threads' : (8),\n",
    "#     'boosting': 'gbdt',\n",
    "    'n_jobs' : (-1),\n",
    "#     'num_boost_round':300,\n",
    "#     'early_stopping_rounds':30,\n",
    "    'random_state' : seed,\n",
    "    'verbosity': (-1),\n",
    "}  \n",
    "# \n",
    "lgbm_scaler_rus = [('scaler', StandardScaler()), ('lgbm', LGBMClassifier(**params_lgbm))]\n",
    "lgbm_normal_rus = [('normal', MinMaxScaler()), ('lgbm', LGBMClassifier(**params_lgbm))]\n",
    "lgbm_scaler_nso = [('scaler', StandardScaler()), ('lgbm', LGBMClassifier(**params_lgbm))]\n",
    "lgbm_normal_nsf = [('normal', MinMaxScaler()), ('lgbm', LGBMClassifier(**params_lgbm))]\n",
    "# under sample\n",
    "pipe_scaler_rus = Pipeline(lgbm_scaler_rus)\n",
    "pipe_normal_rus = Pipeline(lgbm_normal_rus)\n",
    "# Over sample (SMOTE)\n",
    "pipe_nso = Pipeline(lgbm_scaler_nso)\n",
    "# Full\n",
    "pipe_nsf = Pipeline(lgbm_normal_nsf)"
   ]
  },
  {
   "cell_type": "markdown",
   "id": "outer-packing",
   "metadata": {},
   "source": [
    "#### LGBM Classifier with Scaler Under-Sampled Dataset"
   ]
  },
  {
   "cell_type": "code",
   "execution_count": 30,
   "id": "editorial-season",
   "metadata": {},
   "outputs": [
    {
     "name": "stdout",
     "output_type": "stream",
     "text": [
      "              precision    recall  f1-score   support\n",
      "\n",
      "           0       1.00      1.00      1.00      2053\n",
      "           1       1.00      1.00      1.00      2054\n",
      "\n",
      "    accuracy                           1.00      4107\n",
      "   macro avg       1.00      1.00      1.00      4107\n",
      "weighted avg       1.00      1.00      1.00      4107\n",
      "\n",
      "Pipeline(steps=[('scaler', StandardScaler()),\n",
      "                ('lgbm',\n",
      "                 LGBMClassifier(metric='auc', num_leaves=32, objective='binary',\n",
      "                                random_state=11, verbosity=-1))])\n",
      "\n",
      "\n",
      "0.2169504510002298 Sec elapsed.\n"
     ]
    },
    {
     "data": {
      "image/png": "[encoded data removed]",
      "text/plain": [
       "<Figure size 432x288 with 2 Axes>"
      ]
     },
     "metadata": {
      "needs_background": "light"
     },
     "output_type": "display_data"
    }
   ],
   "source": [
    "# \n",
    "start = timer()\n",
    "#Train the model using the training sets\n",
    "pipe_scaler_rus.fit(X_train_rus, y_train_rus)\n",
    "# \n",
    "p_start = timer()\n",
    "y_predLGB = pipe_scaler_rus.predict(X_test_rus)\n",
    "p_end = timer()\n",
    "# \n",
    "print(classification_report(y_test_rus, y_predLGB))\n",
    "cm = confusion_matrix(y_test_rus, y_predLGB)\n",
    "disp = ConfusionMatrixDisplay(confusion_matrix=cm, \n",
    "                              display_labels=pipe_scaler_rus.named_steps['lgbm'].classes_)\n",
    "disp.plot()\n",
    "# \n",
    "print(pipe_scaler_rus)\n",
    "print('\\n')\n",
    "#  \n",
    "data = [ID, 'LGBM - Standard - UnderSample', (p_start - p_start), (p_end - p_start), \n",
    "        cm[1,0], cm[0,1], cm.sum()]\n",
    "#          \n",
    "for key, data in zip(keys,data):\n",
    "    prediction_info[key].append(data)\n",
    "#\n",
    "end = timer()\n",
    "print(f'{(end - start)} Sec elapsed.')"
   ]
  },
  {
   "cell_type": "markdown",
   "id": "black-angola",
   "metadata": {},
   "source": [
    "#### LGBM Classifier with Normalize Under-Sampled Dataset"
   ]
  },
  {
   "cell_type": "code",
   "execution_count": 31,
   "id": "administrative-judgment",
   "metadata": {},
   "outputs": [
    {
     "name": "stdout",
     "output_type": "stream",
     "text": [
      "              precision    recall  f1-score   support\n",
      "\n",
      "           0       1.00      1.00      1.00      2053\n",
      "           1       1.00      1.00      1.00      2054\n",
      "\n",
      "    accuracy                           1.00      4107\n",
      "   macro avg       1.00      1.00      1.00      4107\n",
      "weighted avg       1.00      1.00      1.00      4107\n",
      "\n",
      "Pipeline(steps=[('scaler', StandardScaler()),\n",
      "                ('lgbm',\n",
      "                 LGBMClassifier(metric='auc', num_leaves=32, objective='binary',\n",
      "                                random_state=11, verbosity=-1))])\n",
      "\n",
      "\n",
      "0.26062468400004946 Sec elapsed.\n"
     ]
    },
    {
     "data": {
      "image/png": "[encoded data removed]",
      "text/plain": [
       "<Figure size 432x288 with 2 Axes>"
      ]
     },
     "metadata": {
      "needs_background": "light"
     },
     "output_type": "display_data"
    }
   ],
   "source": [
    "# \n",
    "start = timer()\n",
    "#Train the model using the training sets\n",
    "pipe_normal_rus.fit(X_train_rus, y_train_rus)\n",
    "# \n",
    "p_start = timer()\n",
    "y_predLGB = pipe_normal_rus.predict(X_test_rus)\n",
    "p_end = timer()\n",
    "# \n",
    "print(classification_report(y_test_rus, y_predLGB))\n",
    "# \n",
    "cm = confusion_matrix(y_test_rus, y_predLGB)\n",
    "disp = ConfusionMatrixDisplay(confusion_matrix=(confusion_matrix(y_test_rus, y_predLGB)), \n",
    "                              display_labels=pipe_normal_rus.named_steps['lgbm'].classes_)\n",
    "disp.plot()\n",
    "# \n",
    "print(pipe_scaler_rus)\n",
    "print('\\n')  \n",
    "data = [ID, 'LGBM - Normalize - UnderSample', (p_start - p_start), (p_end - p_start), \n",
    "        cm[1,0], cm[0,1], cm.sum()]\n",
    "#          \n",
    "for key, data in zip(keys,data):\n",
    "    prediction_info[key].append(data)\n",
    "#\n",
    "end = timer()\n",
    "print(f'{(end - start)} Sec elapsed.')"
   ]
  },
  {
   "cell_type": "markdown",
   "id": "magnetic-explanation",
   "metadata": {},
   "source": [
    "#### LGBM Classifier with NON-Standarized Under-Sampled Dataset"
   ]
  },
  {
   "cell_type": "code",
   "execution_count": 32,
   "id": "suspected-twist",
   "metadata": {},
   "outputs": [
    {
     "name": "stdout",
     "output_type": "stream",
     "text": [
      "              precision    recall  f1-score   support\n",
      "\n",
      "           0       1.00      1.00      1.00      2053\n",
      "           1       1.00      1.00      1.00      2054\n",
      "\n",
      "    accuracy                           1.00      4107\n",
      "   macro avg       1.00      1.00      1.00      4107\n",
      "weighted avg       1.00      1.00      1.00      4107\n",
      "\n",
      "LGBMClassifier(max_depth=5, metric='auc', n_estimators=340, num_leaves=32,\n",
      "               objective='binary', random_state=11, verbosity=-1)\n",
      "\n",
      "\n",
      "1.8711283687666613 Min elapsed.\n"
     ]
    },
    {
     "data": {
      "image/png": "[encoded data removed]",
      "text/plain": [
       "<Figure size 432x288 with 2 Axes>"
      ]
     },
     "metadata": {
      "needs_background": "light"
     },
     "output_type": "display_data"
    }
   ],
   "source": [
    "# from lightgbm import LGBMClassifier\n",
    "start = timer()\n",
    "# \n",
    "n_folds = 10\n",
    "skf = StratifiedKFold(n_splits=n_folds, random_state=seed, shuffle=True)\n",
    "# \n",
    "param_grid = {\n",
    "    'reg_alpha': [0.1, 0.5],\n",
    "#     'max_depth': 6,\n",
    "#     'num_leaves': 8,\n",
    "    'feature_fraction': 0.8,\n",
    "    'subsample': 0.2,\n",
    "    'min_data_in_leaf': [30, 50, 100, 300, 400],\n",
    "    'lambda_l1': [0, 1, 1.5],\n",
    "    'lambda_l2': [0, 1]\n",
    "    }\n",
    "# Define model\n",
    "lgb_ns = LGBMClassifier(**params_lgbm)\n",
    "# \n",
    "\n",
    "lgbm_grid = GridSearchCV(estimator=lgb_ns, param_grid=params_grid, \n",
    "                               cv=skf.split(X_train_rus, y_train_rus), scoring='f1')\n",
    "\n",
    "s_start = timer()\n",
    "#Train the model using the training sets\n",
    "lgbm_grid.fit(X_train_rus,y_train_rus)\n",
    "# \n",
    "p_start = timer()\n",
    "y_predLGB_ns=lgbm_grid.predict(X_test_rus)\n",
    "p_end = timer()\n",
    "# \n",
    "print(classification_report(y_test_rus, y_predLGB_ns))\n",
    "# \n",
    "cm = confusion_matrix(y_test_rus, y_predLGB_ns)\n",
    "disp = ConfusionMatrixDisplay(confusion_matrix=cm, display_labels=lgbm_grid.classes_)\n",
    "disp.plot()\n",
    "# \n",
    "print(lgbm_grid.best_estimator_)\n",
    "print('\\n')\n",
    "# \n",
    "data = [ID, 'LGBM - NonStandard - UnderSample - StratifiedKFold Grid', (p_start - s_start), (p_end - p_start), \n",
    "        cm[1,0], cm[0,1], cm.sum()]\n",
    "#          \n",
    "for key, data in zip(keys,data):\n",
    "    prediction_info[key].append(data)\n",
    "#\n",
    "end = timer()\n",
    "print(f'{(end - start)/60} Min elapsed.')"
   ]
  },
  {
   "cell_type": "markdown",
   "id": "thirty-shield",
   "metadata": {},
   "source": [
    "#### LGBM Classifier with NON-Standarized Full Dataset"
   ]
  },
  {
   "cell_type": "code",
   "execution_count": 33,
   "id": "funded-superior",
   "metadata": {},
   "outputs": [
    {
     "name": "stdout",
     "output_type": "stream",
     "text": [
      "              precision    recall  f1-score   support\n",
      "\n",
      "           0       1.00      0.97      0.99   1588602\n",
      "           1       0.00      0.00      0.00      2053\n",
      "\n",
      "    accuracy                           0.97   1590655\n",
      "   macro avg       0.50      0.49      0.49   1590655\n",
      "weighted avg       1.00      0.97      0.99   1590655\n",
      "\n",
      "LGBMClassifier(metric='auc', num_leaves=32, objective='binary', random_state=11,\n",
      "               verbosity=-1)\n",
      "\n",
      "\n",
      "11.02398360999996 Sec elapsed.\n"
     ]
    },
    {
     "data": {
      "image/png": "[encoded data removed]",
      "text/plain": [
       "<Figure size 432x288 with 2 Axes>"
      ]
     },
     "metadata": {
      "needs_background": "light"
     },
     "output_type": "display_data"
    }
   ],
   "source": [
    "# from lightgbm import LGBMClassifier\n",
    "start = timer()\n",
    "# Define model\n",
    "lgb_nsf = LGBMClassifier(**params_lgbm)\n",
    "# \n",
    "s_start = timer()\n",
    "#Train the model using the training sets\n",
    "lgb_nsf.fit(X_train_nsf,y_train_nsf)\n",
    "# \n",
    "p_start = timer()\n",
    "y_predLGB_nsf = lgb_nsf.predict(X_test_nsf)\n",
    "p_end = timer()\n",
    "# \n",
    "print(classification_report(y_test_nsf, y_predLGB_nsf))\n",
    "cm = confusion_matrix(y_test_nsf, y_predLGB_nsf)\n",
    "disp = ConfusionMatrixDisplay(confusion_matrix=cm, display_labels=lgb_nsf.classes_)\n",
    "disp.plot()\n",
    "# \n",
    "print(lgb_nsf)\n",
    "print('\\n')\n",
    "# \n",
    "data = [ID, 'LGBM - NonStandard - Full', (p_start - s_start), (p_end - p_start), \n",
    "        cm[1,0], cm[0,1], cm.sum()]\n",
    "#          \n",
    "for key, data in zip(keys,data):\n",
    "    prediction_info[key].append(data)\n",
    "#\n",
    "end = timer()\n",
    "print(f'{(end - start)} Sec elapsed.')"
   ]
  },
  {
   "cell_type": "markdown",
   "id": "automated-surprise",
   "metadata": {},
   "source": [
    "#### LGBM Classifier with NON-Standarized SMOTE Dataset"
   ]
  },
  {
   "cell_type": "code",
   "execution_count": 34,
   "id": "deadly-sauce",
   "metadata": {},
   "outputs": [
    {
     "name": "stdout",
     "output_type": "stream",
     "text": [
      "              precision    recall  f1-score   support\n",
      "\n",
      "           0       1.00      1.00      1.00   1588602\n",
      "           1       1.00      1.00      1.00   1588602\n",
      "\n",
      "    accuracy                           1.00   3177204\n",
      "   macro avg       1.00      1.00      1.00   3177204\n",
      "weighted avg       1.00      1.00      1.00   3177204\n",
      "\n",
      "LGBMClassifier(metric='auc', num_leaves=32, objective='binary', random_state=11,\n",
      "               verbosity=-1)\n",
      "\n",
      "\n",
      "27.117370635000043 Sec elapsed.\n"
     ]
    },
    {
     "data": {
      "image/png": "[encoded data removed]",
      "text/plain": [
       "<Figure size 432x288 with 2 Axes>"
      ]
     },
     "metadata": {
      "needs_background": "light"
     },
     "output_type": "display_data"
    }
   ],
   "source": [
    "# from lightgbm import LGBMClassifier\n",
    "start = timer()\n",
    "# Define model\n",
    "lgb_nso = LGBMClassifier(**params_lgbm)\n",
    "# \n",
    "s_start = timer()\n",
    "#Train the model using the training sets\n",
    "lgb_nso.fit(X_train_nso,y_train_nso)\n",
    "# \n",
    "p_start = timer()\n",
    "y_predLGB_nso = lgb_nso.predict(X_test_nso)\n",
    "p_end = timer()\n",
    "# \n",
    "print(classification_report(y_test_nso, y_predLGB_nso))\n",
    "cm = confusion_matrix(y_test_nso, y_predLGB_nso)\n",
    "disp = ConfusionMatrixDisplay(confusion_matrix=cm, display_labels=lgb_nso.classes_)\n",
    "disp.plot()\n",
    "# \n",
    "print(lgb_nso)\n",
    "print('\\n')\n",
    "# \n",
    "data = [ID, 'LGBM - NonStandard - OverSample', (p_start - s_start), (p_end - p_start), \n",
    "        cm[1,0], cm[0,1], cm.sum()]\n",
    "#          \n",
    "for key, data in zip(keys,data):\n",
    "    prediction_info[key].append(data)\n",
    "#\n",
    "end = timer()\n",
    "print(f'{(end - start)} Sec elapsed.')"
   ]
  },
  {
   "cell_type": "markdown",
   "id": "hindu-fields",
   "metadata": {},
   "source": [
    "# Support Vector Machine"
   ]
  },
  {
   "cell_type": "markdown",
   "id": "agreed-theorem",
   "metadata": {},
   "source": [
    "#### SVM Classifier Model Pipeline"
   ]
  },
  {
   "cell_type": "code",
   "execution_count": 35,
   "id": "guided-shaft",
   "metadata": {},
   "outputs": [],
   "source": [
    "# For prediction_info\n",
    "ID = 'SVM'\n",
    "# Pipeline\n",
    "params_svc = {\n",
    "    'gamma' : 'auto',\n",
    "#     'gamma' : 'scale',\n",
    "    'probability' : True,\n",
    "    'random_state' : seed,\n",
    "}\n",
    "# \n",
    "svc_scaler_rus = [('scaler', StandardScaler()), ('svm', svm.SVC(**params_svc))]\n",
    "svc_normal_rus = [('normal', MinMaxScaler()), ('svm', svm.SVC(**params_svc))]\n",
    "svc_scaler_nso = [('scaler', StandardScaler()), ('svm', svm.SVC(**params_svc))]\n",
    "svc_normal_nsf = [('normal', MinMaxScaler()), ('svm', svm.SVC(**params_svc))]\n",
    "# under sample\n",
    "pipe_scaler_rus = Pipeline(svc_scaler_rus)\n",
    "pipe_normal_rus = Pipeline(svc_normal_rus)\n",
    "# Over sample (SMOTE)\n",
    "pipe_nso = Pipeline(svc_scaler_nso)\n",
    "# Full\n",
    "pipe_nsf = Pipeline(svc_normal_nsf)"
   ]
  },
  {
   "cell_type": "markdown",
   "id": "political-sensitivity",
   "metadata": {},
   "source": [
    "#### Support Vector Machine Classifier with Scaler Under-Sampled Dataset"
   ]
  },
  {
   "cell_type": "code",
   "execution_count": 36,
   "id": "agreed-dating",
   "metadata": {},
   "outputs": [
    {
     "name": "stdout",
     "output_type": "stream",
     "text": [
      "              precision    recall  f1-score   support\n",
      "\n",
      "           0       0.99      0.92      0.95      2053\n",
      "           1       0.92      0.99      0.95      2054\n",
      "\n",
      "    accuracy                           0.95      4107\n",
      "   macro avg       0.95      0.95      0.95      4107\n",
      "weighted avg       0.95      0.95      0.95      4107\n",
      "\n",
      "Pipeline(steps=[('scaler', StandardScaler()),\n",
      "                ('svm', SVC(gamma='auto', probability=True, random_state=11))])\n",
      "\n",
      "\n",
      "8.679123267999785 Sec elapsed.\n"
     ]
    },
    {
     "data": {
      "image/png": "[encoded data removed]",
      "text/plain": [
       "<Figure size 432x288 with 2 Axes>"
      ]
     },
     "metadata": {
      "needs_background": "light"
     },
     "output_type": "display_data"
    }
   ],
   "source": [
    "# \n",
    "start = timer()\n",
    "# Train / Fit Model\n",
    "pipe_scaler_rus.fit(X_train_rus, y_train_rus)\n",
    "# \n",
    "p_start = timer()\n",
    "y_predSVC_rus = pipe_scaler_rus.predict(X_test_rus)\n",
    "p_end = timer()\n",
    "# \n",
    "print(classification_report(y_test_rus, y_predSVC_rus))\n",
    "cm = confusion_matrix(y_test_rus, y_predSVC_rus)\n",
    "\n",
    "disp = ConfusionMatrixDisplay(confusion_matrix=cm, \n",
    "                              display_labels=pipe_scaler_rus.named_steps['svm'].classes_)\n",
    "disp.plot()\n",
    "# \n",
    "print(pipe_scaler_rus)\n",
    "print('\\n')\n",
    "# \n",
    "data = [ID, 'SVM - Standard - UnderSample', (p_start - s_start), (p_end - p_start), \n",
    "        cm[1,0], cm[0,1], cm.sum()]\n",
    "#          \n",
    "for key, data in zip(keys,data):\n",
    "    prediction_info[key].append(data)\n",
    "#\n",
    "end = timer()\n",
    "print(f'{(end - start)} Sec elapsed.')"
   ]
  },
  {
   "cell_type": "markdown",
   "id": "automatic-chester",
   "metadata": {},
   "source": [
    "#### Support Vector Machine Classifier with Normalize Under-Sampled Dataset"
   ]
  },
  {
   "cell_type": "code",
   "execution_count": 37,
   "id": "other-driving",
   "metadata": {},
   "outputs": [
    {
     "name": "stdout",
     "output_type": "stream",
     "text": [
      "              precision    recall  f1-score   support\n",
      "\n",
      "           0       0.99      0.92      0.95      2053\n",
      "           1       0.92      0.99      0.95      2054\n",
      "\n",
      "    accuracy                           0.95      4107\n",
      "   macro avg       0.95      0.95      0.95      4107\n",
      "weighted avg       0.95      0.95      0.95      4107\n",
      "\n",
      "Pipeline(steps=[('normal', MinMaxScaler()),\n",
      "                ('svm', SVC(gamma='auto', probability=True, random_state=11))])\n",
      "\n",
      "\n",
      "0.33698652893333475 Min elapsed.\n"
     ]
    },
    {
     "data": {
      "image/png": "[encoded data removed]",
      "text/plain": [
       "<Figure size 432x288 with 2 Axes>"
      ]
     },
     "metadata": {
      "needs_background": "light"
     },
     "output_type": "display_data"
    }
   ],
   "source": [
    "# \n",
    "start = timer()\n",
    "# Train / Fit Model\n",
    "pipe_normal_rus.fit(X_train_rus, y_train_rus)\n",
    "# \n",
    "p_start = timer()\n",
    "y_predSVC_rus = pipe_scaler_rus.predict(X_test_rus)\n",
    "p_end = timer()\n",
    "# \n",
    "print(classification_report(y_test_rus, y_predSVC_rus))\n",
    "cm = confusion_matrix(y_test_rus, y_predSVC_rus)\n",
    "\n",
    "disp = ConfusionMatrixDisplay(confusion_matrix=cm, \n",
    "                              display_labels=pipe_normal_rus.named_steps['svm'].classes_)\n",
    "disp.plot()\n",
    "# \n",
    "print(pipe_normal_rus)\n",
    "# \n",
    "data = [ID, 'SVM - Normalize - UnderSample', (p_start - start), (p_end - p_start), \n",
    "        cm[1,0], cm[0,1], cm.sum()]\n",
    "#          \n",
    "for key, data in zip(keys,data):\n",
    "    prediction_info[key].append(data)\n",
    "#\n",
    "end = timer()\n",
    "print('\\n')\n",
    "print(f'{(end - start)/60} Min elapsed.')"
   ]
  },
  {
   "cell_type": "code",
   "execution_count": 38,
   "id": "acknowledged-study",
   "metadata": {},
   "outputs": [],
   "source": [
    "df = pd.DataFrame(prediction_info)"
   ]
  },
  {
   "cell_type": "code",
   "execution_count": 39,
   "id": "honey-wales",
   "metadata": {},
   "outputs": [
    {
     "data": {
      "text/html": [
       "<div>\n",
       "<style scoped>\n",
       "    .dataframe tbody tr th:only-of-type {\n",
       "        vertical-align: middle;\n",
       "    }\n",
       "\n",
       "    .dataframe tbody tr th {\n",
       "        vertical-align: top;\n",
       "    }\n",
       "\n",
       "    .dataframe thead th {\n",
       "        text-align: right;\n",
       "    }\n",
       "</style>\n",
       "<table border=\"1\" class=\"dataframe\">\n",
       "  <thead>\n",
       "    <tr style=\"text-align: right;\">\n",
       "      <th></th>\n",
       "      <th>ID</th>\n",
       "      <th>Algorithm</th>\n",
       "      <th>TrainingTime_sec</th>\n",
       "      <th>PredictionTime_sec</th>\n",
       "      <th>False Negative</th>\n",
       "      <th>False Positive</th>\n",
       "      <th>Total Records</th>\n",
       "    </tr>\n",
       "  </thead>\n",
       "  <tbody>\n",
       "    <tr>\n",
       "      <th>0</th>\n",
       "      <td>RF</td>\n",
       "      <td>RFC - Normalize - UnderSample</td>\n",
       "      <td>0.251434</td>\n",
       "      <td>0.025546</td>\n",
       "      <td>5</td>\n",
       "      <td>0</td>\n",
       "      <td>4107</td>\n",
       "    </tr>\n",
       "    <tr>\n",
       "      <th>1</th>\n",
       "      <td>RF</td>\n",
       "      <td>RFC - Standard - UnderSample</td>\n",
       "      <td>0.187125</td>\n",
       "      <td>0.024859</td>\n",
       "      <td>5</td>\n",
       "      <td>0</td>\n",
       "      <td>4107</td>\n",
       "    </tr>\n",
       "    <tr>\n",
       "      <th>2</th>\n",
       "      <td>RF</td>\n",
       "      <td>RFC - NonStandard - UnderSample</td>\n",
       "      <td>0.193662</td>\n",
       "      <td>0.024419</td>\n",
       "      <td>5</td>\n",
       "      <td>0</td>\n",
       "      <td>4107</td>\n",
       "    </tr>\n",
       "    <tr>\n",
       "      <th>3</th>\n",
       "      <td>RF</td>\n",
       "      <td>RFC - NonStandard - Full</td>\n",
       "      <td>143.697597</td>\n",
       "      <td>1.528635</td>\n",
       "      <td>10</td>\n",
       "      <td>0</td>\n",
       "      <td>1590655</td>\n",
       "    </tr>\n",
       "    <tr>\n",
       "      <th>4</th>\n",
       "      <td>RF</td>\n",
       "      <td>RFC - NonStandard - OverSample</td>\n",
       "      <td>325.946527</td>\n",
       "      <td>3.447561</td>\n",
       "      <td>55</td>\n",
       "      <td>47</td>\n",
       "      <td>3177204</td>\n",
       "    </tr>\n",
       "  </tbody>\n",
       "</table>\n",
       "</div>"
      ],
      "text/plain": [
       "   ID                        Algorithm  TrainingTime_sec  PredictionTime_sec  \\\n",
       "0  RF    RFC - Normalize - UnderSample          0.251434            0.025546   \n",
       "1  RF     RFC - Standard - UnderSample          0.187125            0.024859   \n",
       "2  RF  RFC - NonStandard - UnderSample          0.193662            0.024419   \n",
       "3  RF         RFC - NonStandard - Full        143.697597            1.528635   \n",
       "4  RF   RFC - NonStandard - OverSample        325.946527            3.447561   \n",
       "\n",
       "   False Negative  False Positive  Total Records  \n",
       "0               5               0           4107  \n",
       "1               5               0           4107  \n",
       "2               5               0           4107  \n",
       "3              10               0        1590655  \n",
       "4              55              47        3177204  "
      ]
     },
     "execution_count": 39,
     "metadata": {},
     "output_type": "execute_result"
    }
   ],
   "source": [
    "df.head()"
   ]
  },
  {
   "cell_type": "code",
   "execution_count": 43,
   "id": "genuine-chick",
   "metadata": {},
   "outputs": [],
   "source": [
    "df1 = df.sort_values(['False Negative','PredictionTime_sec'],ascending=True).groupby('ID').head(5)"
   ]
  },
  {
   "cell_type": "code",
   "execution_count": 44,
   "id": "compressed-belfast",
   "metadata": {},
   "outputs": [
    {
     "data": {
      "text/html": [
       "<style  type=\"text/css\" >\n",
       "</style><table id=\"T_46582_\" ><thead>    <tr>        <th class=\"col_heading level0 col0\" >ID</th>        <th class=\"col_heading level0 col1\" >Algorithm</th>        <th class=\"col_heading level0 col2\" >TrainingTime_sec</th>        <th class=\"col_heading level0 col3\" >PredictionTime_sec</th>        <th class=\"col_heading level0 col4\" >False Negative</th>        <th class=\"col_heading level0 col5\" >False Positive</th>        <th class=\"col_heading level0 col6\" >Total Records</th>    </tr></thead><tbody>\n",
       "                <tr>\n",
       "                                <td id=\"T_46582_row0_col0\" class=\"data row0 col0\" >RF</td>\n",
       "                        <td id=\"T_46582_row0_col1\" class=\"data row0 col1\" >RFC - NonStandard - UnderSample - RandomGridSearch</td>\n",
       "                        <td id=\"T_46582_row0_col2\" class=\"data row0 col2\" >248.717357</td>\n",
       "                        <td id=\"T_46582_row0_col3\" class=\"data row0 col3\" >0.100308</td>\n",
       "                        <td id=\"T_46582_row0_col4\" class=\"data row0 col4\" >3</td>\n",
       "                        <td id=\"T_46582_row0_col5\" class=\"data row0 col5\" >0</td>\n",
       "                        <td id=\"T_46582_row0_col6\" class=\"data row0 col6\" >4107</td>\n",
       "            </tr>\n",
       "            <tr>\n",
       "                                <td id=\"T_46582_row1_col0\" class=\"data row1 col0\" >LGBM</td>\n",
       "                        <td id=\"T_46582_row1_col1\" class=\"data row1 col1\" >LGBM - Standard - UnderSample</td>\n",
       "                        <td id=\"T_46582_row1_col2\" class=\"data row1 col2\" >0.000000</td>\n",
       "                        <td id=\"T_46582_row1_col3\" class=\"data row1 col3\" >0.004816</td>\n",
       "                        <td id=\"T_46582_row1_col4\" class=\"data row1 col4\" >4</td>\n",
       "                        <td id=\"T_46582_row1_col5\" class=\"data row1 col5\" >0</td>\n",
       "                        <td id=\"T_46582_row1_col6\" class=\"data row1 col6\" >4107</td>\n",
       "            </tr>\n",
       "            <tr>\n",
       "                                <td id=\"T_46582_row2_col0\" class=\"data row2 col0\" >LGBM</td>\n",
       "                        <td id=\"T_46582_row2_col1\" class=\"data row2 col1\" >LGBM - Normalize - UnderSample</td>\n",
       "                        <td id=\"T_46582_row2_col2\" class=\"data row2 col2\" >0.000000</td>\n",
       "                        <td id=\"T_46582_row2_col3\" class=\"data row2 col3\" >0.004901</td>\n",
       "                        <td id=\"T_46582_row2_col4\" class=\"data row2 col4\" >4</td>\n",
       "                        <td id=\"T_46582_row2_col5\" class=\"data row2 col5\" >0</td>\n",
       "                        <td id=\"T_46582_row2_col6\" class=\"data row2 col6\" >4107</td>\n",
       "            </tr>\n",
       "            <tr>\n",
       "                                <td id=\"T_46582_row3_col0\" class=\"data row3 col0\" >LGBM</td>\n",
       "                        <td id=\"T_46582_row3_col1\" class=\"data row3 col1\" >LGBM - NonStandard - UnderSample - StratifiedKFold Grid</td>\n",
       "                        <td id=\"T_46582_row3_col2\" class=\"data row3 col2\" >112.197642</td>\n",
       "                        <td id=\"T_46582_row3_col3\" class=\"data row3 col3\" >0.010446</td>\n",
       "                        <td id=\"T_46582_row3_col4\" class=\"data row3 col4\" >4</td>\n",
       "                        <td id=\"T_46582_row3_col5\" class=\"data row3 col5\" >0</td>\n",
       "                        <td id=\"T_46582_row3_col6\" class=\"data row3 col6\" >4107</td>\n",
       "            </tr>\n",
       "            <tr>\n",
       "                                <td id=\"T_46582_row4_col0\" class=\"data row4 col0\" >XGB</td>\n",
       "                        <td id=\"T_46582_row4_col1\" class=\"data row4 col1\" >XGB - NonStandard - UnderSample</td>\n",
       "                        <td id=\"T_46582_row4_col2\" class=\"data row4 col2\" >0.308688</td>\n",
       "                        <td id=\"T_46582_row4_col3\" class=\"data row4 col3\" >0.003766</td>\n",
       "                        <td id=\"T_46582_row4_col4\" class=\"data row4 col4\" >5</td>\n",
       "                        <td id=\"T_46582_row4_col5\" class=\"data row4 col5\" >0</td>\n",
       "                        <td id=\"T_46582_row4_col6\" class=\"data row4 col6\" >4107</td>\n",
       "            </tr>\n",
       "            <tr>\n",
       "                                <td id=\"T_46582_row5_col0\" class=\"data row5 col0\" >XGB</td>\n",
       "                        <td id=\"T_46582_row5_col1\" class=\"data row5 col1\" >XGB - NonStandard - UnderSample - StratifiedKFold Grid</td>\n",
       "                        <td id=\"T_46582_row5_col2\" class=\"data row5 col2\" >555.005490</td>\n",
       "                        <td id=\"T_46582_row5_col3\" class=\"data row5 col3\" >0.004026</td>\n",
       "                        <td id=\"T_46582_row5_col4\" class=\"data row5 col4\" >5</td>\n",
       "                        <td id=\"T_46582_row5_col5\" class=\"data row5 col5\" >0</td>\n",
       "                        <td id=\"T_46582_row5_col6\" class=\"data row5 col6\" >4107</td>\n",
       "            </tr>\n",
       "            <tr>\n",
       "                                <td id=\"T_46582_row6_col0\" class=\"data row6 col0\" >XGB</td>\n",
       "                        <td id=\"T_46582_row6_col1\" class=\"data row6 col1\" >XGB - Normalize - UnderSample</td>\n",
       "                        <td id=\"T_46582_row6_col2\" class=\"data row6 col2\" >0.320944</td>\n",
       "                        <td id=\"T_46582_row6_col3\" class=\"data row6 col3\" >0.005368</td>\n",
       "                        <td id=\"T_46582_row6_col4\" class=\"data row6 col4\" >5</td>\n",
       "                        <td id=\"T_46582_row6_col5\" class=\"data row6 col5\" >0</td>\n",
       "                        <td id=\"T_46582_row6_col6\" class=\"data row6 col6\" >4107</td>\n",
       "            </tr>\n",
       "            <tr>\n",
       "                                <td id=\"T_46582_row7_col0\" class=\"data row7 col0\" >XGB</td>\n",
       "                        <td id=\"T_46582_row7_col1\" class=\"data row7 col1\" >XGB - Standard - UnderSample</td>\n",
       "                        <td id=\"T_46582_row7_col2\" class=\"data row7 col2\" >0.326032</td>\n",
       "                        <td id=\"T_46582_row7_col3\" class=\"data row7 col3\" >0.005589</td>\n",
       "                        <td id=\"T_46582_row7_col4\" class=\"data row7 col4\" >5</td>\n",
       "                        <td id=\"T_46582_row7_col5\" class=\"data row7 col5\" >0</td>\n",
       "                        <td id=\"T_46582_row7_col6\" class=\"data row7 col6\" >4107</td>\n",
       "            </tr>\n",
       "            <tr>\n",
       "                                <td id=\"T_46582_row8_col0\" class=\"data row8 col0\" >RF</td>\n",
       "                        <td id=\"T_46582_row8_col1\" class=\"data row8 col1\" >RFC - NonStandard - UnderSample</td>\n",
       "                        <td id=\"T_46582_row8_col2\" class=\"data row8 col2\" >0.193662</td>\n",
       "                        <td id=\"T_46582_row8_col3\" class=\"data row8 col3\" >0.024419</td>\n",
       "                        <td id=\"T_46582_row8_col4\" class=\"data row8 col4\" >5</td>\n",
       "                        <td id=\"T_46582_row8_col5\" class=\"data row8 col5\" >0</td>\n",
       "                        <td id=\"T_46582_row8_col6\" class=\"data row8 col6\" >4107</td>\n",
       "            </tr>\n",
       "            <tr>\n",
       "                                <td id=\"T_46582_row9_col0\" class=\"data row9 col0\" >RF</td>\n",
       "                        <td id=\"T_46582_row9_col1\" class=\"data row9 col1\" >RFC - Standard - UnderSample</td>\n",
       "                        <td id=\"T_46582_row9_col2\" class=\"data row9 col2\" >0.187125</td>\n",
       "                        <td id=\"T_46582_row9_col3\" class=\"data row9 col3\" >0.024859</td>\n",
       "                        <td id=\"T_46582_row9_col4\" class=\"data row9 col4\" >5</td>\n",
       "                        <td id=\"T_46582_row9_col5\" class=\"data row9 col5\" >0</td>\n",
       "                        <td id=\"T_46582_row9_col6\" class=\"data row9 col6\" >4107</td>\n",
       "            </tr>\n",
       "            <tr>\n",
       "                                <td id=\"T_46582_row10_col0\" class=\"data row10 col0\" >RF</td>\n",
       "                        <td id=\"T_46582_row10_col1\" class=\"data row10 col1\" >RFC - Normalize - UnderSample</td>\n",
       "                        <td id=\"T_46582_row10_col2\" class=\"data row10 col2\" >0.251434</td>\n",
       "                        <td id=\"T_46582_row10_col3\" class=\"data row10 col3\" >0.025546</td>\n",
       "                        <td id=\"T_46582_row10_col4\" class=\"data row10 col4\" >5</td>\n",
       "                        <td id=\"T_46582_row10_col5\" class=\"data row10 col5\" >0</td>\n",
       "                        <td id=\"T_46582_row10_col6\" class=\"data row10 col6\" >4107</td>\n",
       "            </tr>\n",
       "            <tr>\n",
       "                                <td id=\"T_46582_row11_col0\" class=\"data row11 col0\" >XGB</td>\n",
       "                        <td id=\"T_46582_row11_col1\" class=\"data row11 col1\" >XGB - NonStandard - Full</td>\n",
       "                        <td id=\"T_46582_row11_col2\" class=\"data row11 col2\" >215.974584</td>\n",
       "                        <td id=\"T_46582_row11_col3\" class=\"data row11 col3\" >0.387181</td>\n",
       "                        <td id=\"T_46582_row11_col4\" class=\"data row11 col4\" >9</td>\n",
       "                        <td id=\"T_46582_row11_col5\" class=\"data row11 col5\" >0</td>\n",
       "                        <td id=\"T_46582_row11_col6\" class=\"data row11 col6\" >1590655</td>\n",
       "            </tr>\n",
       "            <tr>\n",
       "                                <td id=\"T_46582_row12_col0\" class=\"data row12 col0\" >RF</td>\n",
       "                        <td id=\"T_46582_row12_col1\" class=\"data row12 col1\" >RFC - NonStandard - Full</td>\n",
       "                        <td id=\"T_46582_row12_col2\" class=\"data row12 col2\" >143.697597</td>\n",
       "                        <td id=\"T_46582_row12_col3\" class=\"data row12 col3\" >1.528635</td>\n",
       "                        <td id=\"T_46582_row12_col4\" class=\"data row12 col4\" >10</td>\n",
       "                        <td id=\"T_46582_row12_col5\" class=\"data row12 col5\" >0</td>\n",
       "                        <td id=\"T_46582_row12_col6\" class=\"data row12 col6\" >1590655</td>\n",
       "            </tr>\n",
       "            <tr>\n",
       "                                <td id=\"T_46582_row13_col0\" class=\"data row13 col0\" >SVM</td>\n",
       "                        <td id=\"T_46582_row13_col1\" class=\"data row13 col1\" >SVM - Standard - UnderSample</td>\n",
       "                        <td id=\"T_46582_row13_col2\" class=\"data row13 col2\" >34.988141</td>\n",
       "                        <td id=\"T_46582_row13_col3\" class=\"data row13 col3\" >0.804231</td>\n",
       "                        <td id=\"T_46582_row13_col4\" class=\"data row13 col4\" >27</td>\n",
       "                        <td id=\"T_46582_row13_col5\" class=\"data row13 col5\" >172</td>\n",
       "                        <td id=\"T_46582_row13_col6\" class=\"data row13 col6\" >4107</td>\n",
       "            </tr>\n",
       "            <tr>\n",
       "                                <td id=\"T_46582_row14_col0\" class=\"data row14 col0\" >SVM</td>\n",
       "                        <td id=\"T_46582_row14_col1\" class=\"data row14 col1\" >SVM - Normalize - UnderSample</td>\n",
       "                        <td id=\"T_46582_row14_col2\" class=\"data row14 col2\" >19.351586</td>\n",
       "                        <td id=\"T_46582_row14_col3\" class=\"data row14 col3\" >0.831293</td>\n",
       "                        <td id=\"T_46582_row14_col4\" class=\"data row14 col4\" >27</td>\n",
       "                        <td id=\"T_46582_row14_col5\" class=\"data row14 col5\" >172</td>\n",
       "                        <td id=\"T_46582_row14_col6\" class=\"data row14 col6\" >4107</td>\n",
       "            </tr>\n",
       "            <tr>\n",
       "                                <td id=\"T_46582_row15_col0\" class=\"data row15 col0\" >LGBM</td>\n",
       "                        <td id=\"T_46582_row15_col1\" class=\"data row15 col1\" >LGBM - NonStandard - OverSample</td>\n",
       "                        <td id=\"T_46582_row15_col2\" class=\"data row15 col2\" >18.978900</td>\n",
       "                        <td id=\"T_46582_row15_col3\" class=\"data row15 col3\" >1.569248</td>\n",
       "                        <td id=\"T_46582_row15_col4\" class=\"data row15 col4\" >363</td>\n",
       "                        <td id=\"T_46582_row15_col5\" class=\"data row15 col5\" >262</td>\n",
       "                        <td id=\"T_46582_row15_col6\" class=\"data row15 col6\" >3177204</td>\n",
       "            </tr>\n",
       "            <tr>\n",
       "                                <td id=\"T_46582_row16_col0\" class=\"data row16 col0\" >LGBM</td>\n",
       "                        <td id=\"T_46582_row16_col1\" class=\"data row16 col1\" >LGBM - NonStandard - Full</td>\n",
       "                        <td id=\"T_46582_row16_col2\" class=\"data row16 col2\" >7.348440</td>\n",
       "                        <td id=\"T_46582_row16_col3\" class=\"data row16 col3\" >0.994440</td>\n",
       "                        <td id=\"T_46582_row16_col4\" class=\"data row16 col4\" >2053</td>\n",
       "                        <td id=\"T_46582_row16_col5\" class=\"data row16 col5\" >40619</td>\n",
       "                        <td id=\"T_46582_row16_col6\" class=\"data row16 col6\" >1590655</td>\n",
       "            </tr>\n",
       "    </tbody></table>"
      ],
      "text/plain": [
       "<pandas.io.formats.style.Styler at 0x7f92e083e160>"
      ]
     },
     "execution_count": 44,
     "metadata": {},
     "output_type": "execute_result"
    }
   ],
   "source": [
    "df1.style.hide_index()"
   ]
  },
  {
   "cell_type": "code",
   "execution_count": 45,
   "id": "dried-section",
   "metadata": {},
   "outputs": [],
   "source": [
    "import dataframe_image as dfi\n",
    "dfi.export(df1.style.hide_index(), '../images/df_styled.png')"
   ]
  }
 ],
 "metadata": {
  "kernelspec": {
   "display_name": "Python 3",
   "language": "python",
   "name": "python3"
  },
  "language_info": {
   "codemirror_mode": {
    "name": "ipython",
    "version": 3
   },
   "file_extension": ".py",
   "mimetype": "text/x-python",
   "name": "python",
   "nbconvert_exporter": "python",
   "pygments_lexer": "ipython3",
   "version": "3.8.10"
  }
 },
 "nbformat": 4,
 "nbformat_minor": 5
}
