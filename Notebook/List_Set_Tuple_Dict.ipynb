{
 "cells": [
  {
   "cell_type": "markdown",
   "id": "f93e9551-adeb-4e7e-978a-a23690c605c7",
   "metadata": {},
   "source": [
    "### Set\n",
    "- Set is an unordered collection of data type that is iterable, mutable, and has no duplicate elements. The major advantage of using a set, as opposed to a list, is that it has a highly optimized method for checking whether a specific element is contained in the set.\n",
    "    - Sets are an unordered collection of elements or unintended collection of items In python.\n",
    "    - Here the order in which the elements are added into the set is not fixed, it can change frequently.\n",
    "    - It is defined under curly braces{}\n",
    "    - Sets are mutable, however, only immutable objects can be stored in it."
   ]
  },
  {
   "cell_type": "markdown",
   "id": "1e8929a9-f849-43f8-9a78-03ca86a931e3",
   "metadata": {},
   "source": [
    "### Initialize a Set\n",
    "Sets are a mutable collection of distinct (unique) immutable values that are unordered.\n",
    "You can initialize an empty set by using set()."
   ]
  },
  {
   "cell_type": "code",
   "execution_count": 1,
   "id": "e0c9d5d4-de95-4893-8483-e88e12926ee9",
   "metadata": {},
   "outputs": [],
   "source": [
    "emptySet = set()"
   ]
  },
  {
   "cell_type": "markdown",
   "id": "9997c82b-3042-417a-b8f4-99737dcaafc4",
   "metadata": {},
   "source": [
    "To intialize a set with values, you can pass in a list to set()."
   ]
  },
  {
   "cell_type": "code",
   "execution_count": 2,
   "id": "af5f1469-7652-4ffb-85fa-0a9c81d585b1",
   "metadata": {},
   "outputs": [],
   "source": [
    "dataScientist = set(['Python', 'R', 'SQL', 'Git', 'Tableau', 'SAS'])\n",
    "dataEngineer = set(['Python', 'Java', 'Scala', 'Git', 'SQL', 'Hadoop'])"
   ]
  },
  {
   "cell_type": "code",
   "execution_count": 3,
   "id": "97252c01-83b0-4aac-bbf5-5d1f87bff445",
   "metadata": {},
   "outputs": [
    {
     "data": {
      "text/plain": [
       "{'Git', 'Hadoop', 'Java', 'Python', 'R', 'SAS', 'SQL', 'Scala', 'Tableau'}"
      ]
     },
     "execution_count": 3,
     "metadata": {},
     "output_type": "execute_result"
    }
   ],
   "source": [
    "# set built-in function union\n",
    "dataScientist.union(dataEngineer)"
   ]
  },
  {
   "cell_type": "code",
   "execution_count": 4,
   "id": "d5b337e5-ebb3-4651-a366-80d5fba36816",
   "metadata": {},
   "outputs": [
    {
     "data": {
      "text/plain": [
       "{'Git', 'Python', 'SQL'}"
      ]
     },
     "execution_count": 4,
     "metadata": {},
     "output_type": "execute_result"
    }
   ],
   "source": [
    "# Intersection operation\n",
    "dataScientist.intersection(dataEngineer)"
   ]
  },
  {
   "cell_type": "code",
   "execution_count": 5,
   "id": "9437df93-a4db-48da-ac27-89cad0d649e4",
   "metadata": {},
   "outputs": [
    {
     "name": "stdout",
     "output_type": "stream",
     "text": [
      "False\n",
      "True\n"
     ]
    }
   ],
   "source": [
    "# Initialize a set\n",
    "graphicDesigner = {'Illustrator', 'InDesign', 'Photoshop'}\n",
    "\n",
    "# These sets have elements in common so it would return False\n",
    "print(dataScientist.isdisjoint(dataEngineer))\n",
    "\n",
    "# These sets have no elements in common so it would return True\n",
    "print(dataScientist.isdisjoint(graphicDesigner))"
   ]
  },
  {
   "cell_type": "code",
   "execution_count": 6,
   "id": "b2a07fdf-3a82-48d5-ba8f-8f1707898b79",
   "metadata": {},
   "outputs": [
    {
     "data": {
      "text/plain": [
       "{'R', 'SAS', 'Tableau'}"
      ]
     },
     "execution_count": 6,
     "metadata": {},
     "output_type": "execute_result"
    }
   ],
   "source": [
    "# Difference Operation\n",
    "dataScientist.difference(dataEngineer)"
   ]
  },
  {
   "cell_type": "code",
   "execution_count": 7,
   "id": "c170d0ed-a15a-4ab9-8a4e-de122d3d9ccd",
   "metadata": {},
   "outputs": [
    {
     "data": {
      "text/plain": [
       "{'Hadoop', 'Java', 'R', 'SAS', 'Scala', 'Tableau'}"
      ]
     },
     "execution_count": 7,
     "metadata": {},
     "output_type": "execute_result"
    }
   ],
   "source": [
    "# Symmetric Difference Operation\n",
    "dataScientist.symmetric_difference(dataEngineer)"
   ]
  },
  {
   "cell_type": "markdown",
   "id": "78a94e6e-ca36-429e-aaf0-ef9b6a3d0603",
   "metadata": {},
   "source": [
    "### Add and Remove Values from Sets"
   ]
  },
  {
   "cell_type": "code",
   "execution_count": 8,
   "id": "4c5c3c11-f70a-42a7-ba26-9d205c8887d1",
   "metadata": {},
   "outputs": [],
   "source": [
    "# Initialize set with values\n",
    "graphicDesigner = {'InDesign', 'Photoshop', 'Acrobat', 'Premiere', 'Bridge'}"
   ]
  },
  {
   "cell_type": "code",
   "execution_count": 9,
   "id": "e9914db6-b60d-40c2-985b-3edecad6d977",
   "metadata": {},
   "outputs": [],
   "source": [
    "graphicDesigner.add('Illustrator')"
   ]
  },
  {
   "cell_type": "code",
   "execution_count": 10,
   "id": "beccdb81-e717-4c33-876b-7fde021f084d",
   "metadata": {},
   "outputs": [
    {
     "data": {
      "text/plain": [
       "{'Acrobat', 'Bridge', 'Illustrator', 'InDesign', 'Photoshop', 'Premiere'}"
      ]
     },
     "execution_count": 10,
     "metadata": {},
     "output_type": "execute_result"
    }
   ],
   "source": [
    "graphicDesigner"
   ]
  },
  {
   "cell_type": "markdown",
   "id": "d0a97fbd-72bd-422a-b416-19ffe6cca42d",
   "metadata": {},
   "source": [
    "In is important to note that you can only add a value that is immutable (like a string or a tuple) to a set. For example, you would get a TypeError if you try to add a list to a set."
   ]
  },
  {
   "cell_type": "markdown",
   "id": "c363ecb0-c1df-425c-94f2-45d80e18527c",
   "metadata": {},
   "source": [
    "### Remove Values from a Set"
   ]
  },
  {
   "cell_type": "code",
   "execution_count": 11,
   "id": "b697211a-9b9b-4738-9547-f28674bed1ff",
   "metadata": {},
   "outputs": [],
   "source": [
    "graphicDesigner.remove('Illustrator')"
   ]
  },
  {
   "cell_type": "code",
   "execution_count": 12,
   "id": "472d80a7-bd27-4b68-87d5-54eca213c8ca",
   "metadata": {},
   "outputs": [
    {
     "data": {
      "text/plain": [
       "{'Acrobat', 'Bridge', 'InDesign', 'Photoshop', 'Premiere'}"
      ]
     },
     "execution_count": 12,
     "metadata": {},
     "output_type": "execute_result"
    }
   ],
   "source": [
    "graphicDesigner"
   ]
  },
  {
   "cell_type": "markdown",
   "id": "4ba5327d-8583-4646-ba1e-60d052ad1e9d",
   "metadata": {},
   "source": [
    "The drawback of this method is that if you try to remove a value that is not in your set, you will get a KeyError."
   ]
  },
  {
   "cell_type": "code",
   "execution_count": 13,
   "id": "ba2b954c-213d-4c4f-b532-120e3ddbc9fa",
   "metadata": {},
   "outputs": [
    {
     "ename": "KeyError",
     "evalue": "'Illustrator'",
     "output_type": "error",
     "traceback": [
      "\u001b[0;31m---------------------------------------------------------------------------\u001b[0m",
      "\u001b[0;31mKeyError\u001b[0m                                  Traceback (most recent call last)",
      "\u001b[0;32m<ipython-input-13-d52c6514d47c>\u001b[0m in \u001b[0;36m<module>\u001b[0;34m\u001b[0m\n\u001b[0;32m----> 1\u001b[0;31m \u001b[0mgraphicDesigner\u001b[0m\u001b[0;34m.\u001b[0m\u001b[0mremove\u001b[0m\u001b[0;34m(\u001b[0m\u001b[0;34m'Illustrator'\u001b[0m\u001b[0;34m)\u001b[0m\u001b[0;34m\u001b[0m\u001b[0;34m\u001b[0m\u001b[0m\n\u001b[0m",
      "\u001b[0;31mKeyError\u001b[0m: 'Illustrator'"
     ]
    }
   ],
   "source": [
    "graphicDesigner.remove('Illustrator')"
   ]
  },
  {
   "cell_type": "markdown",
   "id": "016df2ed-215e-4307-90da-bf6ec199ac68",
   "metadata": {},
   "source": [
    "You can use the discard method to remove a value from a set."
   ]
  },
  {
   "cell_type": "code",
   "execution_count": 14,
   "id": "ff6c682f-2214-40e4-aacf-78ff3924656a",
   "metadata": {},
   "outputs": [],
   "source": [
    "graphicDesigner.discard('Premiere')"
   ]
  },
  {
   "cell_type": "code",
   "execution_count": 15,
   "id": "b1658587-4f48-4e9f-8445-747ac75224ac",
   "metadata": {},
   "outputs": [
    {
     "data": {
      "text/plain": [
       "{'Acrobat', 'Bridge', 'InDesign', 'Photoshop'}"
      ]
     },
     "execution_count": 15,
     "metadata": {},
     "output_type": "execute_result"
    }
   ],
   "source": [
    "graphicDesigner"
   ]
  },
  {
   "cell_type": "markdown",
   "id": "044c05c9-5dec-46c6-a181-c30cf554274d",
   "metadata": {},
   "source": [
    "The benefit of this approach over the remove method is if you try to remove a value that is not part of the set, you will not get a KeyError. If you are familiar with dictionaries, you might find that this works similarly to the dictionary method get.\n",
    "\n",
    "**Option 3**: You can also use the pop method to **remove and return** an arbitrary value from a set.\n",
    "\n",
    "It is important to note that the method raises a KeyError if the set is empty."
   ]
  },
  {
   "cell_type": "code",
   "execution_count": 16,
   "id": "ef980ae6-6fb6-44bd-ad54-f201813c2b8b",
   "metadata": {},
   "outputs": [
    {
     "data": {
      "text/plain": [
       "'InDesign'"
      ]
     },
     "execution_count": 16,
     "metadata": {},
     "output_type": "execute_result"
    }
   ],
   "source": [
    "graphicDesigner.pop()"
   ]
  },
  {
   "cell_type": "code",
   "execution_count": 17,
   "id": "470c2ecd-11d2-4af3-8fd8-158f3bf425ed",
   "metadata": {},
   "outputs": [
    {
     "data": {
      "text/plain": [
       "{'Acrobat', 'Bridge', 'Photoshop'}"
      ]
     },
     "execution_count": 17,
     "metadata": {},
     "output_type": "execute_result"
    }
   ],
   "source": [
    "graphicDesigner"
   ]
  },
  {
   "cell_type": "markdown",
   "id": "29c26e0b-ca16-4d2b-b196-8ca09a792ad3",
   "metadata": {},
   "source": [
    "### Remove All Values from a Set\n",
    "You can use the clear method to remove all values from a set."
   ]
  },
  {
   "cell_type": "code",
   "execution_count": 18,
   "id": "9500dc96-e0cb-4cb1-bc0b-fd36ac1e957f",
   "metadata": {},
   "outputs": [],
   "source": [
    "graphicDesigner.clear()"
   ]
  },
  {
   "cell_type": "code",
   "execution_count": 19,
   "id": "b3aed777-5788-43d2-a7ae-a191a878adf0",
   "metadata": {},
   "outputs": [
    {
     "data": {
      "text/plain": [
       "set()"
      ]
     },
     "execution_count": 19,
     "metadata": {},
     "output_type": "execute_result"
    }
   ],
   "source": [
    "graphicDesigner"
   ]
  },
  {
   "cell_type": "markdown",
   "id": "31cf65d4-6b0a-4a0f-89b8-9f72069a6a0b",
   "metadata": {},
   "source": [
    "### Iterate through a Set\n",
    "Like many standard python data types, it is possible to iterate through a set."
   ]
  },
  {
   "cell_type": "code",
   "execution_count": 20,
   "id": "5ad3446f-6833-4fb1-808f-a37a6350d33e",
   "metadata": {},
   "outputs": [
    {
     "name": "stdout",
     "output_type": "stream",
     "text": [
      "Git\n",
      "R\n",
      "SQL\n",
      "Python\n",
      "SAS\n",
      "Tableau\n"
     ]
    }
   ],
   "source": [
    "# Initialize a set\n",
    "dataScientist = {'Python', 'R', 'SQL', 'Git', 'Tableau', 'SAS'}\n",
    "\n",
    "for skill in dataScientist:\n",
    "    print(skill)"
   ]
  },
  {
   "cell_type": "markdown",
   "id": "59a96c43-580a-46d2-a1e8-aa73270ff5a0",
   "metadata": {},
   "source": [
    "If you look at the output of printing each of the values in dataScientist, notice that the values printed in the set are not in the order they were added in. This is because sets are unordered."
   ]
  },
  {
   "cell_type": "markdown",
   "id": "759e9b86-31ce-4ff4-870a-f7f9a3bbd774",
   "metadata": {},
   "source": [
    "### Transform Set into Ordered Values\n",
    "If you find that you need to get the values from your set in an ordered form, you can use the sorted function which outputs a list that is ordered."
   ]
  },
  {
   "cell_type": "code",
   "execution_count": 21,
   "id": "14e0bce2-ff18-459f-b1f2-e25afce2389c",
   "metadata": {},
   "outputs": [
    {
     "data": {
      "text/plain": [
       "list"
      ]
     },
     "execution_count": 21,
     "metadata": {},
     "output_type": "execute_result"
    }
   ],
   "source": [
    "type(sorted(dataScientist))"
   ]
  },
  {
   "cell_type": "code",
   "execution_count": 22,
   "id": "84e41ca9-7e55-4d5e-a25e-8b48ec40d4c9",
   "metadata": {},
   "outputs": [
    {
     "data": {
      "text/plain": [
       "{'Git', 'Python', 'R', 'SAS', 'SQL', 'Tableau'}"
      ]
     },
     "execution_count": 22,
     "metadata": {},
     "output_type": "execute_result"
    }
   ],
   "source": [
    "dataScientist"
   ]
  },
  {
   "cell_type": "markdown",
   "id": "46d2352c-4e7e-40d7-8f5b-3644b8c7766f",
   "metadata": {},
   "source": [
    "The code below outputs the values in the set dataScientist in descending alphabetical order (Z-A in this case)."
   ]
  },
  {
   "cell_type": "code",
   "execution_count": 23,
   "id": "f850be1a-9f9f-4e6e-9944-f558578e384c",
   "metadata": {},
   "outputs": [
    {
     "data": {
      "text/plain": [
       "['Tableau', 'SQL', 'SAS', 'R', 'Python', 'Git']"
      ]
     },
     "execution_count": 23,
     "metadata": {},
     "output_type": "execute_result"
    }
   ],
   "source": [
    "sorted(dataScientist, reverse = True)"
   ]
  },
  {
   "cell_type": "markdown",
   "id": "9c3126a4-666e-4b51-87fb-8d9a04a86692",
   "metadata": {},
   "source": [
    "### Remove Duplicates from a List"
   ]
  },
  {
   "cell_type": "code",
   "execution_count": 24,
   "id": "da256159-19af-4d3f-88d9-7fcde14a46f2",
   "metadata": {},
   "outputs": [
    {
     "name": "stdout",
     "output_type": "stream",
     "text": [
      "[1, 2, 3, 7]\n"
     ]
    }
   ],
   "source": [
    "print(list(set([1, 2, 3, 1, 7])))"
   ]
  },
  {
   "cell_type": "code",
   "execution_count": 25,
   "id": "ab44886e-a392-4f82-a319-e91fad0484e3",
   "metadata": {},
   "outputs": [
    {
     "data": {
      "text/plain": [
       "{1, 2, 3, 7}"
      ]
     },
     "execution_count": 25,
     "metadata": {},
     "output_type": "execute_result"
    }
   ],
   "source": [
    "set([1, 2, 3, 1, 7])"
   ]
  },
  {
   "cell_type": "code",
   "execution_count": 26,
   "id": "61195999-0a70-4986-8b35-b15e51fae189",
   "metadata": {},
   "outputs": [
    {
     "name": "stdout",
     "output_type": "stream",
     "text": [
      "[0, 1, 2, 3, 4, 5, 6, 7, 8, 9]\n"
     ]
    }
   ],
   "source": [
    "numberList =  [1,1,2,3,4,5,6,6,7,8,9,9,0]\n",
    "print(list(set(numberList)))"
   ]
  },
  {
   "cell_type": "markdown",
   "id": "55073945-fd3b-46c5-9f64-d227c4856c59",
   "metadata": {},
   "source": [
    "### Set Operation Methods"
   ]
  },
  {
   "cell_type": "markdown",
   "id": "4f874134-48a3-4ad9-acdd-4aee9eb872a1",
   "metadata": {},
   "source": [
    "- A common use of sets in Python is computing standard math operations such as union, intersection, difference, and symmetric difference. \n",
    "- Python sets have methods that allow you to perform these mathematical operations as well as operators that give you equivalent results.\n",
    "- Before exploring these methods, let's start by initializing two sets dataScientist and dataEngineer."
   ]
  },
  {
   "cell_type": "code",
   "execution_count": 27,
   "id": "e23347a6-74fe-4cc0-b7d3-db0a912670b0",
   "metadata": {},
   "outputs": [],
   "source": [
    "dataScientist = set(['Python', 'R', 'SQL', 'Git', 'Tableau', 'SAS'])\n",
    "dataEngineer = set(['Python', 'Java', 'Scala', 'Git', 'SQL', 'Hadoop'])"
   ]
  },
  {
   "cell_type": "markdown",
   "id": "adcb535b-c8af-439c-b883-4f673fc1a8cb",
   "metadata": {},
   "source": [
    "A union, denoted dataScientist ∪ dataEngineer, is the set of all values that are values of dataScientist, or dataEngineer, or both. You can use the union method to find out all the unique values in two sets."
   ]
  },
  {
   "cell_type": "code",
   "execution_count": 28,
   "id": "50ac81de-7577-4188-b0d8-12fda3851290",
   "metadata": {},
   "outputs": [
    {
     "name": "stdout",
     "output_type": "stream",
     "text": [
      "{'Java', 'Git', 'R', 'Hadoop', 'SQL', 'Python', 'SAS', 'Tableau', 'Scala'}\n",
      "{'Java', 'Git', 'R', 'Hadoop', 'SQL', 'Python', 'SAS', 'Tableau', 'Scala'}\n"
     ]
    }
   ],
   "source": [
    "# set built-in function union\n",
    "print(dataScientist.union(dataEngineer))\n",
    "\n",
    "# Equivalent Result\n",
    "print(dataScientist | dataEngineer)"
   ]
  },
  {
   "cell_type": "markdown",
   "id": "ad4bc36f-ec4b-4ece-a98b-62d4e623c42d",
   "metadata": {},
   "source": [
    "An intersection of two sets dataScientist and dataEngineer, denoted dataScientist ∩ dataEngineer, is the set of all values that are values of both dataScientist and dataEngineer."
   ]
  },
  {
   "cell_type": "code",
   "execution_count": 29,
   "id": "9a854530-4cb9-4f3f-8d6c-60c4f6b88ed5",
   "metadata": {},
   "outputs": [
    {
     "name": "stdout",
     "output_type": "stream",
     "text": [
      "{'Python', 'Git', 'SQL'}\n",
      "{'Python', 'Git', 'SQL'}\n"
     ]
    }
   ],
   "source": [
    "# Intersection operation\n",
    "print(dataScientist.intersection(dataEngineer))\n",
    "\n",
    "# Equivalent Result\n",
    "print(dataScientist & dataEngineer)"
   ]
  },
  {
   "cell_type": "markdown",
   "id": "31aca2df-0dbd-4ba3-a080-f2b04b5fd3f6",
   "metadata": {},
   "source": [
    "You may find that you come across a case where you want to make sure that two sets have no value in common. In order words, you want two sets that have an intersection that is empty. These two sets are called disjoint sets. You can test for disjoint sets by using the isdisjoint method."
   ]
  },
  {
   "cell_type": "code",
   "execution_count": 30,
   "id": "07c49dbb-772d-4b7f-8e12-c72f8583df2d",
   "metadata": {},
   "outputs": [
    {
     "name": "stdout",
     "output_type": "stream",
     "text": [
      "False\n",
      "True\n"
     ]
    }
   ],
   "source": [
    "# Initialize a set\n",
    "graphicDesigner = {'Illustrator', 'InDesign', 'Photoshop'}\n",
    "\n",
    "# These sets have elements in common so it would return False\n",
    "print(dataScientist.isdisjoint(dataEngineer))\n",
    "\n",
    "# These sets have no elements in common so it would return True\n",
    "print(dataScientist.isdisjoint(graphicDesigner))"
   ]
  },
  {
   "cell_type": "markdown",
   "id": "229196d6-eef6-454a-ac67-9359978174bc",
   "metadata": {},
   "source": [
    "A difference of two sets dataScientist and dataEngineer, denoted dataScientist \\ dataEngineer, is the set of all values of dataScientist that are not values of dataEngineer."
   ]
  },
  {
   "cell_type": "code",
   "execution_count": 31,
   "id": "1548537e-86a2-4edb-a47a-5f0e35d50d05",
   "metadata": {},
   "outputs": [
    {
     "name": "stdout",
     "output_type": "stream",
     "text": [
      "{'SAS', 'Tableau', 'R'}\n",
      "{'SAS', 'Tableau', 'R'}\n"
     ]
    }
   ],
   "source": [
    "# Difference Operation\n",
    "print(dataScientist.difference(dataEngineer))\n",
    "\n",
    "# Equivalent Result\n",
    "print(dataScientist - dataEngineer)"
   ]
  },
  {
   "cell_type": "markdown",
   "id": "5a2a61b7-8d46-4e2f-aeb7-f9fb2da5b92c",
   "metadata": {},
   "source": [
    "A symmetric difference of two sets dataScientist and dataEngineer, denoted dataScientist △ dataEngineer, is the set of all values that are values of exactly one of two sets, but not both."
   ]
  },
  {
   "cell_type": "code",
   "execution_count": 32,
   "id": "2fc8e850-011c-4ebf-8bf9-4972c27825c1",
   "metadata": {},
   "outputs": [
    {
     "name": "stdout",
     "output_type": "stream",
     "text": [
      "{'Hadoop', 'Java', 'SAS', 'Tableau', 'Scala', 'R'}\n",
      "{'Hadoop', 'Java', 'SAS', 'Tableau', 'Scala', 'R'}\n"
     ]
    }
   ],
   "source": [
    "# Symmetric Difference Operation\n",
    "print(dataScientist.symmetric_difference(dataEngineer))\n",
    "\n",
    "# Equivalent Result\n",
    "print(dataScientist ^ dataEngineer)"
   ]
  },
  {
   "cell_type": "markdown",
   "id": "1b981a45-fecc-43a9-80fc-7a8bf9ac2722",
   "metadata": {},
   "source": [
    "You may have previously have learned about list comprehensions, dictionary comprehensions, and generator comprehensions. There is also set comprehensions. Set comprehensions are very similar. Set comprehensions in Python can be constructed as follows:"
   ]
  },
  {
   "cell_type": "markdown",
   "id": "d3ae4a2e-3526-4349-8c84-e6be09b91ca7",
   "metadata": {},
   "source": [
    "### Set Comprehension"
   ]
  },
  {
   "cell_type": "code",
   "execution_count": 33,
   "id": "318a0869-f5e7-4905-b516-fc9a902d1a4b",
   "metadata": {},
   "outputs": [
    {
     "data": {
      "text/plain": [
       "{'PYTHON', 'SQL'}"
      ]
     },
     "execution_count": 33,
     "metadata": {},
     "output_type": "execute_result"
    }
   ],
   "source": [
    "{skill for skill in ['SQL', 'SQL', 'PYTHON', 'PYTHON']}"
   ]
  },
  {
   "cell_type": "markdown",
   "id": "432d8b66-1fcd-4dc5-844b-690a359f0d1e",
   "metadata": {},
   "source": [
    "The output above is a set of 2 values because sets cannot have multiple occurences of the same element.\n",
    "\n",
    "The idea behind using set comprehensions is to let you write and reason in code the same way you would do mathematics by hand."
   ]
  },
  {
   "cell_type": "code",
   "execution_count": 34,
   "id": "0ed1cdff-2b7f-4d9f-95cd-7f33f696656a",
   "metadata": {},
   "outputs": [
    {
     "data": {
      "text/plain": [
       "{'SQL'}"
      ]
     },
     "execution_count": 34,
     "metadata": {},
     "output_type": "execute_result"
    }
   ],
   "source": [
    "{skill for skill in ['GIT', 'PYTHON', 'SQL'] if skill not in {'GIT', 'PYTHON', 'JAVA'}}"
   ]
  },
  {
   "cell_type": "markdown",
   "id": "696f588d-f05c-441c-a341-2a07b3126a58",
   "metadata": {},
   "source": [
    "Membership tests check whether a specific element is contained in a sequence, such as strings, lists, tuples, or sets. One of the main advantages of using sets in Python is that they are highly optimized for membership tests. For example, sets do membership tests a lot more efficiently than lists. In case you are from a computer science background, this is because the average case time complexity of membership tests in sets are O(1) vs O(n) for lists."
   ]
  },
  {
   "cell_type": "code",
   "execution_count": 35,
   "id": "85b3de56-7def-4d03-a4f2-93f136bce08c",
   "metadata": {},
   "outputs": [
    {
     "data": {
      "text/plain": [
       "True"
      ]
     },
     "execution_count": 35,
     "metadata": {},
     "output_type": "execute_result"
    }
   ],
   "source": [
    "# Initialize a list\n",
    "possibleList = ['Python', 'R', 'SQL', 'Git', 'Tableau', 'SAS', 'Java', 'Spark', 'Scala']\n",
    "\n",
    "# Membership test\n",
    "'Python' in possibleList"
   ]
  },
  {
   "cell_type": "markdown",
   "id": "0d910d1a-7cc5-4a99-8444-bbcc4f9b3665",
   "metadata": {},
   "source": [
    "Since possibleSet is a set and the value 'Python' is a value of possibleSet, this can be denoted as 'Python' ∈ possibleSet.\n",
    "\n",
    "If you had a value that wasn't part of the set, like 'Fortran', it would be denoted as 'Fortran' ∉ possibleSet."
   ]
  },
  {
   "cell_type": "code",
   "execution_count": 36,
   "id": "3727234c-87dd-4c5d-8fa8-0c01ac423992",
   "metadata": {},
   "outputs": [],
   "source": [
    "possibleSkills = {'Python', 'R', 'SQL', 'Git', 'Tableau', 'SAS'}\n",
    "mySkills = {'Python', 'R'}"
   ]
  },
  {
   "cell_type": "markdown",
   "id": "f051bb8f-2985-4e78-abc3-d73e4def0892",
   "metadata": {},
   "source": [
    "If every value of the set mySkills is also a value of the set possibleSkills, then mySkills is said to be a subset of possibleSkills, mathematically written mySkills ⊆ possibleSkills.\n",
    "\n",
    "You can check to see if one set is a subset of another using the method issubset."
   ]
  },
  {
   "cell_type": "code",
   "execution_count": 37,
   "id": "fc795156-a159-475f-8083-daa0ed8523da",
   "metadata": {},
   "outputs": [
    {
     "data": {
      "text/plain": [
       "True"
      ]
     },
     "execution_count": 37,
     "metadata": {},
     "output_type": "execute_result"
    }
   ],
   "source": [
    "mySkills.issubset(possibleSkills)"
   ]
  },
  {
   "cell_type": "code",
   "execution_count": 38,
   "id": "4cfe4da6-b224-474a-9d69-ad1bdf43c573",
   "metadata": {},
   "outputs": [],
   "source": [
    "# Nested Lists and Tuples\n",
    "nestedLists = [['the', 12], ['to', 11], ['of', 9], ['and', 7], ['that', 6]]\n",
    "nestedTuples = (('the', 12), ('to', 11), ('of', 9), ('and', 7), ('that', 6))"
   ]
  },
  {
   "cell_type": "markdown",
   "id": "e92f1d68-5a67-4971-bb0d-7d12012033c7",
   "metadata": {},
   "source": [
    "A frozenset is very similar to a set except that a frozenset is immutable. You make a frozenset by using frozenset().\n",
    "The problem with nested sets is that you cannot normally have nested sets as sets cannot contain mutable values including sets."
   ]
  },
  {
   "cell_type": "code",
   "execution_count": 39,
   "id": "fcab112c-50ba-45cc-8349-878069686565",
   "metadata": {},
   "outputs": [
    {
     "ename": "TypeError",
     "evalue": "unhashable type: 'set'",
     "output_type": "error",
     "traceback": [
      "\u001b[0;31m---------------------------------------------------------------------------\u001b[0m",
      "\u001b[0;31mTypeError\u001b[0m                                 Traceback (most recent call last)",
      "\u001b[0;32m<ipython-input-39-7f8dd1cd6f1e>\u001b[0m in \u001b[0;36m<module>\u001b[0;34m\u001b[0m\n\u001b[0;32m----> 1\u001b[0;31m \u001b[0mnestedSets\u001b[0m \u001b[0;34m=\u001b[0m \u001b[0mset\u001b[0m\u001b[0;34m(\u001b[0m\u001b[0;34m[\u001b[0m\u001b[0mset\u001b[0m\u001b[0;34m(\u001b[0m\u001b[0;34m)\u001b[0m\u001b[0;34m]\u001b[0m\u001b[0;34m)\u001b[0m\u001b[0;34m\u001b[0m\u001b[0;34m\u001b[0m\u001b[0m\n\u001b[0m",
      "\u001b[0;31mTypeError\u001b[0m: unhashable type: 'set'"
     ]
    }
   ],
   "source": [
    "nestedSets = set([set()])"
   ]
  },
  {
   "cell_type": "markdown",
   "id": "cfad5d0c-6b56-41f2-af2f-6b9b195e4ca6",
   "metadata": {},
   "source": [
    "This is one situation where you may wish to use a frozenset. A frozenset is very similar to a set except that a frozenset is immutable."
   ]
  },
  {
   "cell_type": "markdown",
   "id": "bc4cd709-df57-456a-857d-d629c7df9cbc",
   "metadata": {},
   "source": [
    "You make a frozenset by using frozenset()."
   ]
  },
  {
   "cell_type": "code",
   "execution_count": 40,
   "id": "64a7d57c-6555-4308-9a53-22c9d4ca4daf",
   "metadata": {},
   "outputs": [],
   "source": [
    "# Initialize a frozenset\n",
    "immutableSet = frozenset()"
   ]
  },
  {
   "cell_type": "code",
   "execution_count": 41,
   "id": "7aa22718-3fbc-414a-8f22-41fc7b486c2f",
   "metadata": {},
   "outputs": [],
   "source": [
    "nestedSets = set([frozenset()])"
   ]
  },
  {
   "cell_type": "code",
   "execution_count": 42,
   "id": "a5d69177-f2dd-4f05-9b5d-ba0227aa55a0",
   "metadata": {},
   "outputs": [
    {
     "data": {
      "text/plain": [
       "{frozenset()}"
      ]
     },
     "execution_count": 42,
     "metadata": {},
     "output_type": "execute_result"
    }
   ],
   "source": [
    "nestedSets"
   ]
  },
  {
   "cell_type": "markdown",
   "id": "72278e87-8e75-443f-a423-d6e5a8cee467",
   "metadata": {},
   "source": [
    "It is important to keep in mind that a major disadvantage of a frozenset is that since they are immutable, it means that you cannot add or remove values."
   ]
  },
  {
   "cell_type": "markdown",
   "id": "c26a0e65-9d69-4fee-8e9c-b9ec4c9b10e0",
   "metadata": {},
   "source": [
    "The Python sets are highly useful to efficiently remove duplicate values from a collection like a list and to perform common math operations like unions and intersections. Some of the challenges people often encounter are when to use the various data types."
   ]
  },
  {
   "cell_type": "markdown",
   "id": "e4baaf12-b2da-43d4-975b-1499ef60661f",
   "metadata": {},
   "source": [
    "### List"
   ]
  },
  {
   "cell_type": "markdown",
   "id": "302406c4-f679-44e6-a2d2-e5990fb82b67",
   "metadata": {},
   "source": [
    "- A list is an ordered set of values, where each value is identified by an index. The values that make up a list are called its elements. Lists are similar to strings, which are ordered sets of characters, except that the elements of a list can have any type.\n",
    "- Limitation of List: The list has the limitation that one can only append at the end. But, in real life, there are situations that a developer has to add items at the starting of the existing list which becomes difficult in the list.\n",
    "- Lists and tuples are standard Python data types that store values in a sequence. Sets are another standard Python data type that also store values. The major difference is that sets, unlike lists or tuples, cannot have multiple occurrences of the same element and store unordered values.\n",
    "- Lists are just like dynamic sized arrays, declared in other languages (vector in C++ and ArrayList in Java). Lists need not be homogeneous always which makes it the most powerful tool in Python.\n",
    "    - The list is a datatype available in Python which can be written as a list of comma-separated values (items) between square brackets.\n",
    "    - List are mutable .i.e it can be converted into another data type and can store any data element in it.\n",
    "    - List can store any type of element."
   ]
  },
  {
   "cell_type": "markdown",
   "id": "1d237a0b-296d-4aad-9c09-91deb7f4adbc",
   "metadata": {},
   "source": [
    "### Python Dictionary\n",
    "- A dictionary in Python is a collection of items accessed by a specific key rather than by index.\n",
    "- The keys in a dictionary have to be hashable.\n",
    "- The items in a dictionary can have any data type.\n",
    "- Important to remember is that a key has to be unique in a dictionary, no duplicates are allowed. However, in case of duplicate keys rather than giving an error, Python will take the last instance of the key to be valid and simply ignore the first key-value pair. "
   ]
  },
  {
   "cell_type": "code",
   "execution_count": 43,
   "id": "5245c2fe-cb7f-431d-9b8e-cf36603bc3ec",
   "metadata": {},
   "outputs": [
    {
     "name": "stdout",
     "output_type": "stream",
     "text": [
      "fruit\n"
     ]
    }
   ],
   "source": [
    "a = {'apple': 'fruit', 'beetroot': 'vegetable', 'cake': 'dessert'}\n",
    "a['doughnut'] = 'snack'\n",
    "print(a['apple'])"
   ]
  },
  {
   "cell_type": "code",
   "execution_count": 44,
   "id": "3fc050dd-fe9f-4e56-a2d8-dcef47a0fa45",
   "metadata": {},
   "outputs": [
    {
     "data": {
      "text/plain": [
       "{'apple': 'fruit',\n",
       " 'beetroot': 'vegetable',\n",
       " 'cake': 'dessert',\n",
       " 'doughnut': 'snack'}"
      ]
     },
     "execution_count": 44,
     "metadata": {},
     "output_type": "execute_result"
    }
   ],
   "source": [
    "a"
   ]
  },
  {
   "cell_type": "code",
   "execution_count": 45,
   "id": "75aed3f3-d0e9-482b-a5b5-8aa7ae6f8e75",
   "metadata": {},
   "outputs": [
    {
     "name": "stdout",
     "output_type": "stream",
     "text": [
      "{'one': 1, 'two': 'to', 'three': 3.0, 'four': [4, 4.0]}\n"
     ]
    }
   ],
   "source": [
    "a = {'one': 1, 'two': 'to', 'three': 3.0, 'four': [4,4.0]}\n",
    "print(a)"
   ]
  },
  {
   "cell_type": "code",
   "execution_count": 46,
   "id": "c5e5c273-c397-4729-b322-edbbb73df8de",
   "metadata": {},
   "outputs": [
    {
     "name": "stdout",
     "output_type": "stream",
     "text": [
      "{'one': 1.0, 'two': 'to', 'three': 3.0, 'four': [4, 4.0]}\n"
     ]
    }
   ],
   "source": [
    "# Update a dictionary\n",
    "a['one'] = 1.0 \n",
    "print(a)"
   ]
  },
  {
   "cell_type": "code",
   "execution_count": 47,
   "id": "6eed0773-6428-4281-959c-49c0c2f524c2",
   "metadata": {},
   "outputs": [
    {
     "name": "stdout",
     "output_type": "stream",
     "text": [
      "{'two': 'to', 'three': 3.0, 'four': [4, 4.0]}\n"
     ]
    }
   ],
   "source": [
    "# Delete a single element\n",
    "del a['one'] \n",
    "print(a)"
   ]
  },
  {
   "cell_type": "code",
   "execution_count": 48,
   "id": "06599188-4396-428b-bf46-15457e706b6b",
   "metadata": {},
   "outputs": [
    {
     "name": "stdout",
     "output_type": "stream",
     "text": [
      "{}\n"
     ]
    }
   ],
   "source": [
    "# Delete all elements in the dictionary\n",
    "a.clear()\n",
    "print(a)"
   ]
  },
  {
   "cell_type": "code",
   "execution_count": 49,
   "id": "e369210d-e903-4dae-9894-d9589da46570",
   "metadata": {},
   "outputs": [],
   "source": [
    "# Delete the dictionary\n",
    "del a \n",
    "# print(a)"
   ]
  },
  {
   "cell_type": "code",
   "execution_count": 50,
   "id": "54050514-86b8-463a-8646-541e1d79742e",
   "metadata": {},
   "outputs": [
    {
     "ename": "NameError",
     "evalue": "name 'a' is not defined",
     "output_type": "error",
     "traceback": [
      "\u001b[0;31m---------------------------------------------------------------------------\u001b[0m",
      "\u001b[0;31mNameError\u001b[0m                                 Traceback (most recent call last)",
      "\u001b[0;32m<ipython-input-50-bca0e2660b9f>\u001b[0m in \u001b[0;36m<module>\u001b[0;34m\u001b[0m\n\u001b[0;32m----> 1\u001b[0;31m \u001b[0mprint\u001b[0m\u001b[0;34m(\u001b[0m\u001b[0ma\u001b[0m\u001b[0;34m)\u001b[0m\u001b[0;34m\u001b[0m\u001b[0;34m\u001b[0m\u001b[0m\n\u001b[0m",
      "\u001b[0;31mNameError\u001b[0m: name 'a' is not defined"
     ]
    }
   ],
   "source": [
    "print(a)"
   ]
  },
  {
   "cell_type": "code",
   "execution_count": 51,
   "id": "fed10d93-7cf7-45ff-bed9-f3581a9138bb",
   "metadata": {},
   "outputs": [
    {
     "name": "stdout",
     "output_type": "stream",
     "text": [
      "icecream\n"
     ]
    }
   ],
   "source": [
    "sweet_dict = {'a1': 'cake', 'a2':'cookie', 'a1': 'icecream'}\n",
    "print(sweet_dict['a1'])"
   ]
  },
  {
   "cell_type": "code",
   "execution_count": 52,
   "id": "bd53acf6-41a0-453c-ab1d-e57d4486a835",
   "metadata": {},
   "outputs": [
    {
     "data": {
      "text/plain": [
       "{'a1': 'icecream', 'a2': 'cookie'}"
      ]
     },
     "execution_count": 52,
     "metadata": {},
     "output_type": "execute_result"
    }
   ],
   "source": [
    "sweet_dict"
   ]
  },
  {
   "cell_type": "markdown",
   "id": "f797b6bb-b50c-42fc-95eb-ddcc980878fa",
   "metadata": {},
   "source": [
    "### Python Dictionary Comprehension\n",
    "- Dictionary comprehension is a method for transforming one dictionary into another dictionary. During this transformation, items within the original dictionary can be conditionally included in the new dictionary and each item can be transformed as needed.\n",
    "- A good list comprehension can make your code more expressive and thus, easier to read. The key with creating comprehensions is to not let them get so complex that your head spins when you try to decipher what they are actually doing. Keeping the idea of \"easy to read\" alive.\n",
    "- The way to do dictionary comprehension in Python is to be able to access the key objects and the value objects of a dictionary.\n",
    "- Dictionary comprehension is a powerful concept and can be used to substitute for loops and lambda functions. However, not all for loop can be written as a dictionary comprehension but all dictionary comprehension can be written with a for loop."
   ]
  },
  {
   "cell_type": "code",
   "execution_count": 53,
   "id": "03ca9cef-fb5f-4e7e-a7cc-a9c062bd1720",
   "metadata": {},
   "outputs": [
    {
     "data": {
      "text/plain": [
       "dict_keys(['a', 'b', 'c', 'd'])"
      ]
     },
     "execution_count": 53,
     "metadata": {},
     "output_type": "execute_result"
    }
   ],
   "source": [
    "dict1 = {'a': 1, 'b': 2, 'c': 3, 'd': 4}\n",
    "# Put all keys of `dict1` in a list and returns the list\n",
    "dict1.keys()"
   ]
  },
  {
   "cell_type": "code",
   "execution_count": 54,
   "id": "16e84faf-6ead-49ba-80cd-ad1f06205701",
   "metadata": {},
   "outputs": [
    {
     "data": {
      "text/plain": [
       "dict_values([1, 2, 3, 4])"
      ]
     },
     "execution_count": 54,
     "metadata": {},
     "output_type": "execute_result"
    }
   ],
   "source": [
    "# Put all values saved in `dict1` in a list and returns the list\n",
    "dict1.values()"
   ]
  },
  {
   "cell_type": "code",
   "execution_count": 55,
   "id": "d47ec11f-5725-4d0f-8bf9-96792551e8ae",
   "metadata": {},
   "outputs": [
    {
     "data": {
      "text/plain": [
       "dict_items([('a', 1), ('b', 2), ('c', 3), ('d', 4)])"
      ]
     },
     "execution_count": 55,
     "metadata": {},
     "output_type": "execute_result"
    }
   ],
   "source": [
    "dict1.items()"
   ]
  },
  {
   "cell_type": "code",
   "execution_count": 56,
   "id": "d9203464-a33e-4f28-b997-e6c7e28d9343",
   "metadata": {},
   "outputs": [
    {
     "name": "stdout",
     "output_type": "stream",
     "text": [
      "{'a': 1, 'b': 2, 'c': 3, 'd': 4}\n"
     ]
    }
   ],
   "source": [
    "dict_variable = {key:value for (key,value) in dict1.items()}\n",
    "print(dict_variable)"
   ]
  },
  {
   "cell_type": "code",
   "execution_count": 57,
   "id": "127cd796-fc56-4447-a301-fcfe9aee5545",
   "metadata": {},
   "outputs": [
    {
     "name": "stdout",
     "output_type": "stream",
     "text": [
      "{'a': 2, 'b': 4, 'c': 6, 'd': 8, 'e': 10}\n"
     ]
    }
   ],
   "source": [
    "dict1 = {'a': 1, 'b': 2, 'c': 3, 'd': 4, 'e': 5}\n",
    "# Double each value in the dictionary\n",
    "double_dict1 = {k:v*2 for (k,v) in dict1.items()}\n",
    "print(double_dict1)"
   ]
  },
  {
   "cell_type": "code",
   "execution_count": 58,
   "id": "78e2762a-e45b-41c9-b93d-2e7fc0f9b38d",
   "metadata": {},
   "outputs": [
    {
     "name": "stdout",
     "output_type": "stream",
     "text": [
      "{'aa': 1, 'bb': 2, 'cc': 3, 'dd': 4, 'ee': 5}\n"
     ]
    }
   ],
   "source": [
    "dict1_keys = {k*2:v for (k,v) in dict1.items()}\n",
    "print(dict1_keys)"
   ]
  },
  {
   "cell_type": "code",
   "execution_count": 59,
   "id": "b99c9658-1143-4f00-94f2-c1a68c20fa21",
   "metadata": {},
   "outputs": [
    {
     "name": "stdout",
     "output_type": "stream",
     "text": [
      "{0: 0, 2: 4, 4: 16, 6: 36, 8: 64}\n"
     ]
    }
   ],
   "source": [
    "numbers = range(10)\n",
    "new_dict_for = {}\n",
    "\n",
    "# Add values to `new_dict` using for loop\n",
    "for n in numbers:\n",
    "    if n%2==0:\n",
    "        new_dict_for[n] = n**2\n",
    "\n",
    "print(new_dict_for)"
   ]
  },
  {
   "cell_type": "code",
   "execution_count": 60,
   "id": "fe6a282b-143e-4ecf-8f01-e0b6f898500d",
   "metadata": {},
   "outputs": [
    {
     "name": "stdout",
     "output_type": "stream",
     "text": [
      "{0: 0, 2: 4, 4: 16, 6: 36, 8: 64}\n"
     ]
    }
   ],
   "source": [
    "# Use dictionary comprehension\n",
    "new_dict_comp = {n:n**2 for n in numbers if n%2 == 0}\n",
    "\n",
    "print(new_dict_comp)"
   ]
  },
  {
   "cell_type": "code",
   "execution_count": 61,
   "id": "ffd3e92e-0edd-439b-9125-6c9c34cb61d6",
   "metadata": {},
   "outputs": [
    {
     "name": "stdout",
     "output_type": "stream",
     "text": [
      "{'t1': -34.44444444444444, 't2': -28.88888888888889, 't3': -23.333333333333336, 't4': -17.77777777777778}\n"
     ]
    }
   ],
   "source": [
    "# Initialize `fahrenheit` dictionary \n",
    "fahrenheit = {'t1':-30, 't2':-20, 't3':-10, 't4':0}\n",
    "\n",
    "#Get the corresponding `celsius` values\n",
    "celsius = list(map(lambda x: (float(5)/9)*(x-32), fahrenheit.values()))\n",
    "\n",
    "#Create the `celsius` dictionary\n",
    "celsius_dict = dict(zip(fahrenheit.keys(), celsius))\n",
    "\n",
    "print(celsius_dict)"
   ]
  },
  {
   "cell_type": "code",
   "execution_count": 62,
   "id": "590344e9-399b-494e-9d6e-72278c31af0c",
   "metadata": {},
   "outputs": [
    {
     "name": "stdout",
     "output_type": "stream",
     "text": [
      "{'t1': -34.44444444444444, 't2': -28.88888888888889, 't3': -23.333333333333336, 't4': -17.77777777777778}\n"
     ]
    }
   ],
   "source": [
    "# Initialize the `fahrenheit` dictionary \n",
    "fahrenheit = {'t1': -30,'t2': -20,'t3': -10,'t4': 0}\n",
    "\n",
    "# Get the corresponding `celsius` values and create the new dictionary\n",
    "celsius = {k:(float(5)/9)*(v-32) for (k,v) in fahrenheit.items()}\n",
    "\n",
    "print(celsius_dict)"
   ]
  },
  {
   "cell_type": "code",
   "execution_count": 63,
   "id": "c4233fc1-8665-4fc2-97b8-b16a7be13a6c",
   "metadata": {},
   "outputs": [
    {
     "name": "stdout",
     "output_type": "stream",
     "text": [
      "{'c': 3, 'd': 4, 'e': 5}\n"
     ]
    }
   ],
   "source": [
    "# Adding Conditionals to Dictionary Comprehension\n",
    "dict1 = {'a': 1, 'b': 2, 'c': 3, 'd': 4, 'e': 5}\n",
    "\n",
    "# Check for items greater than 2\n",
    "dict1_cond = {k:v for (k,v) in dict1.items() if v>2}\n",
    "\n",
    "print(dict1_cond)"
   ]
  },
  {
   "cell_type": "code",
   "execution_count": 64,
   "id": "71ce837d-4871-47d6-987e-98192078de3a",
   "metadata": {},
   "outputs": [
    {
     "name": "stdout",
     "output_type": "stream",
     "text": [
      "{'d': 4}\n"
     ]
    }
   ],
   "source": [
    "# Multiple If Conditions\n",
    "dict1_doubleCond = {k:v for (k,v) in dict1.items() if v>2 if v%2 == 0}\n",
    "print(dict1_doubleCond)"
   ]
  },
  {
   "cell_type": "code",
   "execution_count": 65,
   "id": "7506334d-34ed-4d01-8238-088d022a96aa",
   "metadata": {},
   "outputs": [
    {
     "name": "stdout",
     "output_type": "stream",
     "text": [
      "{'f': 6}\n"
     ]
    }
   ],
   "source": [
    "dict1 = {'a': 1, 'b': 2, 'c': 3, 'd': 4, 'e': 5, 'f':6}\n",
    "\n",
    "dict1_tripleCond = {k:v for (k,v) in dict1.items() if v>2 if v%2 == 0 if v%3 == 0}\n",
    "\n",
    "print(dict1_tripleCond)"
   ]
  },
  {
   "cell_type": "code",
   "execution_count": 66,
   "id": "96f559f6-45f3-4f4c-b7b4-574560184a70",
   "metadata": {},
   "outputs": [
    {
     "name": "stdout",
     "output_type": "stream",
     "text": [
      "{'f': 6}\n"
     ]
    }
   ],
   "source": [
    "dict1_tripleCond = {}\n",
    "\n",
    "for (k,v) in dict1.items():\n",
    "    if (v>=2 and v%2 == 0 and v%3 == 0):\n",
    "            dict1_tripleCond[k] = v\n",
    "\n",
    "print(dict1_tripleCond)"
   ]
  },
  {
   "cell_type": "code",
   "execution_count": 67,
   "id": "71f5c55d-6d41-4f0a-bea3-f342d7f78552",
   "metadata": {},
   "outputs": [
    {
     "name": "stdout",
     "output_type": "stream",
     "text": [
      "{'a': 'odd', 'b': 'even', 'c': 'odd', 'd': 'even', 'e': 'odd', 'f': 'even'}\n"
     ]
    }
   ],
   "source": [
    "# If-Else Conditions\n",
    "dict1 = {'a': 1, 'b': 2, 'c': 3, 'd': 4, 'e': 5, 'f':6}\n",
    "\n",
    "# Identify odd and even entries\n",
    "dict1_tripleCond = {k:('even' if v%2==0 else 'odd') for (k,v) in dict1.items()}\n",
    "\n",
    "print(dict1_tripleCond)"
   ]
  },
  {
   "cell_type": "code",
   "execution_count": 68,
   "id": "91a00c6e-e13f-48e3-820d-afdea1194e92",
   "metadata": {},
   "outputs": [
    {
     "name": "stdout",
     "output_type": "stream",
     "text": [
      "{'first': {1.0}, 'second': {2.0}}\n"
     ]
    }
   ],
   "source": [
    "# Nested Dictionary Comprehension\n",
    "nested_dict = {'first':{'a':1}, 'second':{'b':2}}\n",
    "float_dict = {outer_k: {float(inner_v) for (inner_k, inner_v) in outer_v.items()} for (outer_k, outer_v) in nested_dict.items()}\n",
    "print(float_dict)"
   ]
  },
  {
   "cell_type": "code",
   "execution_count": 69,
   "id": "c0244834-bf9b-4a50-bf2e-cb59a9f944e7",
   "metadata": {},
   "outputs": [
    {
     "name": "stdout",
     "output_type": "stream",
     "text": [
      "{'first': {'a': 1.0}, 'second': {'b': 2.0}}\n"
     ]
    }
   ],
   "source": [
    "nested_dict = {'first':{'a':1}, 'second':{'b':2}}\n",
    "\n",
    "for (outer_k, outer_v) in nested_dict.items():\n",
    "    for (inner_k, inner_v) in outer_v.items():\n",
    "        outer_v.update({inner_k: float(inner_v)})\n",
    "nested_dict.update({outer_k:outer_v})\n",
    "\n",
    "print(nested_dict)"
   ]
  },
  {
   "cell_type": "markdown",
   "id": "8ba1cd48-22ef-4828-a75d-9be5c44724e5",
   "metadata": {},
   "source": [
    "### Tuple\n",
    "- Tuples are more memory efficient than the lists. When it comes to the time efficiency, again tuples have a slight advantage over the lists especially when lookup to a value is considered. If you have data which is not meant to be changed in the first place, you should choose tuple data type over lists.\n",
    "- Tuples are faster than lists. We should use Tuple instead of a List if we are defining a constant set of values and all we are ever going to do with it is iterate through it. If we need an array of elements to be used as dictionary keys, we can use Tuples.\n",
    "- Tuples are an ordered sequences of items, just like lists. The main difference between tuples and lists is that tuples cannot be changed (immutable) unlike lists which can (mutable)."
   ]
  },
  {
   "cell_type": "code",
   "execution_count": 70,
   "id": "9bf423cf-5c7e-4646-8e19-32f3f2375506",
   "metadata": {},
   "outputs": [
    {
     "name": "stdout",
     "output_type": "stream",
     "text": [
      "((11, 'eleven'), (21, 'mike'), (19, 'dustin'), (46, 'caleb'))\n",
      "{'eleven': 11, 'mike': 21, 'dustin': 19, 'caleb': 46}\n"
     ]
    }
   ],
   "source": [
    "# Convert Python Tuple to Dictionary\n",
    "tup = ((11, \"eleven\"), (21, \"mike\"), (19, \"dustin\"), (46, \"caleb\"))\n",
    "print(tup)\n",
    "\n",
    "dct = dict((y, x) for x, y in tup)\n",
    "print(dct)"
   ]
  },
  {
   "cell_type": "code",
   "execution_count": 71,
   "id": "3111cecc-da4c-4e48-8ab4-07c9b285aa92",
   "metadata": {},
   "outputs": [
    {
     "name": "stdout",
     "output_type": "stream",
     "text": [
      "((11, 'eleven'), (21, 'mike'), (19, 'dustin'), (46, 'caleb'))\n",
      "{'eleven': 11, 'mike': 21, 'dustin': 19, 'caleb': 46}\n"
     ]
    }
   ],
   "source": [
    "# Using dict(), map() and reversed() method\n",
    "tup = ((11, \"eleven\"), (21, \"mike\"), (19, \"dustin\"), (46, \"caleb\"))\n",
    "print(tup)\n",
    "\n",
    "dct = dict(map(reversed, tup))\n",
    "print(dct)"
   ]
  },
  {
   "cell_type": "code",
   "execution_count": 72,
   "id": "d580b01a-5af3-4665-a914-13300c300574",
   "metadata": {},
   "outputs": [
    {
     "name": "stdout",
     "output_type": "stream",
     "text": [
      "{'Boba': [21], 'Din': [19], 'Grogu': [46], 'Ahsoka': [11]}\n"
     ]
    }
   ],
   "source": [
    "# Convert a list of Tuples into Dictionary\n",
    "def conversion(tup, dict):\n",
    "    for x, y in tup:\n",
    "        dict.setdefault(x, []).append(y)\n",
    "    return dict\n",
    "\n",
    "\n",
    "tups = [(\"Boba\", 21), (\"Din\", 19), (\"Grogu\", 46), (\"Ahsoka\", 11)]\n",
    "\n",
    "dictionary = {}\n",
    "print(conversion(tups, dictionary))"
   ]
  }
 ],
 "metadata": {
  "kernelspec": {
   "display_name": "Python 3",
   "language": "python",
   "name": "python3"
  },
  "language_info": {
   "codemirror_mode": {
    "name": "ipython",
    "version": 3
   },
   "file_extension": ".py",
   "mimetype": "text/x-python",
   "name": "python",
   "nbconvert_exporter": "python",
   "pygments_lexer": "ipython3",
   "version": "3.8.10"
  }
 },
 "nbformat": 4,
 "nbformat_minor": 5
}
