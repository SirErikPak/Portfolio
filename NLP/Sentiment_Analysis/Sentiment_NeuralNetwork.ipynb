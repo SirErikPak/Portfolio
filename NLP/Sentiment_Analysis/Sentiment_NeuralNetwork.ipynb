{
 "cells": [
  {
   "cell_type": "code",
   "execution_count": 1,
   "id": "f8373c16",
   "metadata": {},
   "outputs": [],
   "source": [
    "# Import package\n",
    "import pandas as pd\n",
    "import numpy as np\n",
    "# \n",
    "path = '../Data/'"
   ]
  },
  {
   "cell_type": "code",
   "execution_count": 2,
   "id": "1c7cc818",
   "metadata": {},
   "outputs": [],
   "source": [
    "df = pd.read_csv(path + 'df_cleaned.csv')"
   ]
  },
  {
   "cell_type": "code",
   "execution_count": 3,
   "id": "b16de4ee",
   "metadata": {},
   "outputs": [
    {
     "data": {
      "text/plain": [
       "target           0\n",
       "ids              0\n",
       "tweet_date       0\n",
       "flag             0\n",
       "user             0\n",
       "text             0\n",
       "text_clean    8258\n",
       "dtype: int64"
      ]
     },
     "execution_count": 3,
     "metadata": {},
     "output_type": "execute_result"
    }
   ],
   "source": [
    "# checking for nulls\n",
    "df.isnull().sum()"
   ]
  },
  {
   "cell_type": "code",
   "execution_count": 4,
   "id": "ebab3351-bf8d-4414-a8ca-788ecffba9dd",
   "metadata": {},
   "outputs": [],
   "source": [
    "# Remove Null Tweets\n",
    "df.dropna(inplace=True)"
   ]
  },
  {
   "cell_type": "code",
   "execution_count": 5,
   "id": "f518d228",
   "metadata": {},
   "outputs": [
    {
     "data": {
      "text/plain": [
       "0    796361\n",
       "1    795381\n",
       "Name: target, dtype: int64"
      ]
     },
     "execution_count": 5,
     "metadata": {},
     "output_type": "execute_result"
    }
   ],
   "source": [
    "# Label ONLY has Positive(1) or Negative(0) on the target field so, this exercise is a binary classification problem.\n",
    "# Balanced Dataset assumption made\n",
    "df.target.value_counts()"
   ]
  },
  {
   "cell_type": "code",
   "execution_count": 6,
   "id": "91171c6f",
   "metadata": {},
   "outputs": [
    {
     "data": {
      "text/html": [
       "<div>\n",
       "<style scoped>\n",
       "    .dataframe tbody tr th:only-of-type {\n",
       "        vertical-align: middle;\n",
       "    }\n",
       "\n",
       "    .dataframe tbody tr th {\n",
       "        vertical-align: top;\n",
       "    }\n",
       "\n",
       "    .dataframe thead th {\n",
       "        text-align: right;\n",
       "    }\n",
       "</style>\n",
       "<table border=\"1\" class=\"dataframe\">\n",
       "  <thead>\n",
       "    <tr style=\"text-align: right;\">\n",
       "      <th></th>\n",
       "      <th>target</th>\n",
       "      <th>text</th>\n",
       "      <th>text_clean</th>\n",
       "    </tr>\n",
       "  </thead>\n",
       "  <tbody>\n",
       "    <tr>\n",
       "      <th>565278</th>\n",
       "      <td>0</td>\n",
       "      <td>@Maggadoo You liar, your last words were &amp;quot;Can I call u later?&amp;quot; and I said YES. Its all good dont worry</td>\n",
       "      <td>liar last word quot cal lat quot said ye good dont worry</td>\n",
       "    </tr>\n",
       "    <tr>\n",
       "      <th>221152</th>\n",
       "      <td>0</td>\n",
       "      <td>@OfficialBabyV whatever anyone else is saying, i'm going to miss your tweets!  come back to us soon girl!</td>\n",
       "      <td>whatev anyon els say going miss tweet com back us soon girl</td>\n",
       "    </tr>\n",
       "    <tr>\n",
       "      <th>1249139</th>\n",
       "      <td>1</td>\n",
       "      <td>@heykim Kim, you are Tweeter of the year!  Seriously.</td>\n",
       "      <td>kim tweet year sery</td>\n",
       "    </tr>\n",
       "    <tr>\n",
       "      <th>696574</th>\n",
       "      <td>0</td>\n",
       "      <td>Sick teen = crazy sleepness night. Not quite sure how we're going to get back home without an  incident at this point.   Poor girl.   #fb</td>\n",
       "      <td>sick teen crazy sleep night not quit sur going get back hom without incid point poor girl</td>\n",
       "    </tr>\n",
       "    <tr>\n",
       "      <th>620545</th>\n",
       "      <td>0</td>\n",
       "      <td>@calebfox yeah, probably</td>\n",
       "      <td>yeah prob</td>\n",
       "    </tr>\n",
       "  </tbody>\n",
       "</table>\n",
       "</div>"
      ],
      "text/plain": [
       "         target  \\\n",
       "565278   0        \n",
       "221152   0        \n",
       "1249139  1        \n",
       "696574   0        \n",
       "620545   0        \n",
       "\n",
       "                                                                                                                                              text  \\\n",
       "565278   @Maggadoo You liar, your last words were &quot;Can I call u later?&quot; and I said YES. Its all good dont worry                            \n",
       "221152   @OfficialBabyV whatever anyone else is saying, i'm going to miss your tweets!  come back to us soon girl!                                   \n",
       "1249139  @heykim Kim, you are Tweeter of the year!  Seriously.                                                                                       \n",
       "696574   Sick teen = crazy sleepness night. Not quite sure how we're going to get back home without an  incident at this point.   Poor girl.   #fb   \n",
       "620545   @calebfox yeah, probably                                                                                                                    \n",
       "\n",
       "                                                                                        text_clean  \n",
       "565278   liar last word quot cal lat quot said ye good dont worry                                   \n",
       "221152   whatev anyon els say going miss tweet com back us soon girl                                \n",
       "1249139  kim tweet year sery                                                                        \n",
       "696574   sick teen crazy sleep night not quit sur going get back hom without incid point poor girl  \n",
       "620545   yeah prob                                                                                  "
      ]
     },
     "execution_count": 6,
     "metadata": {},
     "output_type": "execute_result"
    }
   ],
   "source": [
    "pd.set_option(\"display.max_colwidth\", 0)\n",
    "df[['target','text', 'text_clean']].sample(5)"
   ]
  },
  {
   "cell_type": "markdown",
   "id": "50221946-4d90-43fa-8905-ae321b7e2568",
   "metadata": {},
   "source": [
    "## User Function"
   ]
  },
  {
   "cell_type": "code",
   "execution_count": 7,
   "id": "1ab4e3cd-ba8a-4c3e-8100-a852165972f7",
   "metadata": {},
   "outputs": [],
   "source": [
    "def scoring_model(model, X_train, X_test, y_train, y_test, y_pred):\n",
    "    # Import\n",
    "    from sklearn.metrics import accuracy_score, auc, roc_auc_score, roc_curve\n",
    "    #\n",
    "    false_positive_rate, true_positive_rate, thresholds = roc_curve(y_train, \n",
    "                                                                    model.predict_proba(X_train)[:,1])\n",
    "    #\n",
    "    tr_score = model.score(X_train, y_train)\n",
    "    ts_score = model.score(X_test, y_test)\n",
    "    acc = accuracy_score(y_test, y_pred)\n",
    "    auc = auc(false_positive_rate, true_positive_rate)\n",
    "    roc_tr = roc_auc_score(y_train, model.predict(X_train))\n",
    "    roc_t = roc_auc_score(y_test, model.predict(X_test))\n",
    "    return tr_score,ts_score,acc,auc,roc_tr,roc_t"
   ]
  },
  {
   "cell_type": "markdown",
   "id": "fcb272c5",
   "metadata": {},
   "source": [
    "## Vectorizer"
   ]
  },
  {
   "cell_type": "code",
   "execution_count": 8,
   "id": "1c2cca33",
   "metadata": {},
   "outputs": [],
   "source": [
    "# import library\n",
    "from sklearn.model_selection import train_test_split\n",
    "# Getting tokenization of tweet text\n",
    "from sklearn.feature_extraction.text import TfidfVectorizer\n",
    "from sklearn.metrics import confusion_matrix\n",
    "# \n",
    "t_size = 0.20\n",
    "seed = 11\n",
    "# \n",
    "\n",
    "# TfidfVectorizer: unigrams and bigrams\n",
    "parms = {'max_df' : 0.995,\n",
    "           'min_df': 0.001,\n",
    "           'ngram_range' : (1,2),\n",
    "          }"
   ]
  },
  {
   "cell_type": "markdown",
   "id": "2316d38d",
   "metadata": {},
   "source": [
    "### Tfidf Vectorizer with unigrams and bigrams"
   ]
  },
  {
   "cell_type": "code",
   "execution_count": 9,
   "id": "6c805ee7",
   "metadata": {},
   "outputs": [
    {
     "name": "stdout",
     "output_type": "stream",
     "text": [
      "Tfidf Vectorizer shape:  (1591742, 1163)\n"
     ]
    }
   ],
   "source": [
    "# incode Tfidf Vectorizer\n",
    "tv = TfidfVectorizer(**parms)\n",
    "# \n",
    "X = tv.fit_transform(df.text_clean).toarray()\n",
    "y = df.target\n",
    "# \n",
    "X_train, X_test, y_train, y_test = train_test_split(X, y, test_size=t_size, random_state=seed)\n",
    "# \n",
    "print('Tfidf Vectorizer shape: ', X.shape, )\n",
    "# "
   ]
  },
  {
   "cell_type": "markdown",
   "id": "dbd0497c",
   "metadata": {},
   "source": [
    "### Neural Network with Tfidf Vectorizer"
   ]
  },
  {
   "cell_type": "code",
   "execution_count": 10,
   "id": "28cb2049",
   "metadata": {},
   "outputs": [],
   "source": [
    "from sklearn.neural_network import MLPClassifier\n",
    "# \n",
    "import tensorflow as tf\n",
    "from tensorflow import keras\n",
    "import keras_tuner as kt\n",
    "# \n",
    "from keras.models import Sequential\n",
    "from keras.layers import Dense\n",
    "from keras.wrappers.scikit_learn import KerasClassifier\n",
    "# "
   ]
  },
  {
   "cell_type": "markdown",
   "id": "ac25cec7",
   "metadata": {},
   "source": [
    "#### Tuning hidden layer & learning rate for keras"
   ]
  },
  {
   "cell_type": "code",
   "execution_count": 11,
   "id": "c11e0d2f",
   "metadata": {
    "scrolled": true
   },
   "outputs": [
    {
     "name": "stdout",
     "output_type": "stream",
     "text": [
      "Trial 30 Complete [00h 08m 07s]\n",
      "val_accuracy: 0.7758943438529968\n",
      "\n",
      "Best val_accuracy So Far: 0.7760632038116455\n",
      "Total elapsed time: 01h 45m 12s\n",
      "INFO:tensorflow:Oracle triggered exit\n"
     ]
    }
   ],
   "source": [
    "features = X_train.shape[1]\n",
    "# \n",
    "def model_builder(hp):\n",
    "    model = keras.Sequential()\n",
    "    model.add(keras.layers.Flatten(input_shape=(features,1)))\n",
    "\n",
    "    # Tune the number of units in the first Dense layer\n",
    "    # Choose an optimal value between 32-512\n",
    "    hp_units = hp.Int('units', min_value=32, max_value=512, step=32)\n",
    "    model.add(keras.layers.Dense(units=hp_units, activation='relu'))\n",
    "    model.add(keras.layers.Dense(10))\n",
    "\n",
    "    # Tune the learning rate for the optimizer\n",
    "    # Choose an optimal value from 0.5, 0.1, 0.01, 0.001, or 0.00011\n",
    "    hp_learning_rate = hp.Choice('learning_rate', values=[5e-1, 1e-1, 1e-2, 1e-3, 1e-4])\n",
    "\n",
    "    model.compile(optimizer=keras.optimizers.Adam(learning_rate=hp_learning_rate),\n",
    "                loss=keras.losses.SparseCategoricalCrossentropy(from_logits=True), \n",
    "                metrics=['accuracy'])\n",
    "\n",
    "    return model\n",
    "# \n",
    "tuner = kt.Hyperband(model_builder,\n",
    "                     objective='val_accuracy',\n",
    "                     max_epochs=10,\n",
    "                     factor=3,\n",
    "                     directory='tmp',\n",
    "                     project_name='keras_tuning')\n",
    "# \n",
    "# Create a callback to stop training early after reaching a certain value for the validation loss.\n",
    "stop_early = tf.keras.callbacks.EarlyStopping(monitor='val_loss', patience=5)\n",
    "# \n",
    "tuner.search(X_train, y_train, epochs=50, validation_split=0.2, callbacks=[stop_early])\n",
    "\n",
    "# Get the optimal hyperparameters\n",
    "best_hps=tuner.get_best_hyperparameters(num_trials=1)[0]\n",
    "# \n",
    "layer = (best_hps.get('units'))\n",
    "learning_rate = (best_hps.get('learning_rate'))\n",
    "#"
   ]
  },
  {
   "cell_type": "markdown",
   "id": "747c8033",
   "metadata": {},
   "source": [
    "#### Keras Classifier with Tfidf Vectorizer"
   ]
  },
  {
   "cell_type": "code",
   "execution_count": 12,
   "id": "9d4e4518",
   "metadata": {},
   "outputs": [
    {
     "name": "stdout",
     "output_type": "stream",
     "text": [
      "Epoch 1/15\n",
      "101872/101872 [==============================] - 122s 1ms/step - loss: 0.4898 - accuracy: 0.7627 - val_loss: 0.4811 - val_accuracy: 0.7667\n",
      "Epoch 2/15\n",
      "101872/101872 [==============================] - 119s 1ms/step - loss: 0.4771 - accuracy: 0.7708 - val_loss: 0.4773 - val_accuracy: 0.7694\n",
      "Epoch 3/15\n",
      "101872/101872 [==============================] - 118s 1ms/step - loss: 0.4724 - accuracy: 0.7744 - val_loss: 0.4751 - val_accuracy: 0.7718\n",
      "Epoch 4/15\n",
      "101872/101872 [==============================] - 122s 1ms/step - loss: 0.4683 - accuracy: 0.7774 - val_loss: 0.4728 - val_accuracy: 0.7736\n",
      "Epoch 5/15\n",
      "101872/101872 [==============================] - 126s 1ms/step - loss: 0.4646 - accuracy: 0.7799 - val_loss: 0.4718 - val_accuracy: 0.7743\n",
      "Epoch 6/15\n",
      "101872/101872 [==============================] - 156s 2ms/step - loss: 0.4615 - accuracy: 0.7821 - val_loss: 0.4706 - val_accuracy: 0.7751\n",
      "Epoch 7/15\n",
      "101872/101872 [==============================] - 146s 1ms/step - loss: 0.4585 - accuracy: 0.7841 - val_loss: 0.4702 - val_accuracy: 0.7751\n",
      "Epoch 8/15\n",
      "101872/101872 [==============================] - 151s 1ms/step - loss: 0.4557 - accuracy: 0.7862 - val_loss: 0.4697 - val_accuracy: 0.7762\n",
      "Epoch 9/15\n",
      "101872/101872 [==============================] - 157s 2ms/step - loss: 0.4532 - accuracy: 0.7881 - val_loss: 0.4701 - val_accuracy: 0.7762\n",
      "Epoch 10/15\n",
      "101872/101872 [==============================] - 158s 2ms/step - loss: 0.4507 - accuracy: 0.7898 - val_loss: 0.4697 - val_accuracy: 0.7765\n",
      "Epoch 11/15\n",
      "101872/101872 [==============================] - 156s 2ms/step - loss: 0.4484 - accuracy: 0.7916 - val_loss: 0.4698 - val_accuracy: 0.7769\n",
      "Epoch 12/15\n",
      "101872/101872 [==============================] - 158s 2ms/step - loss: 0.4461 - accuracy: 0.7932 - val_loss: 0.4703 - val_accuracy: 0.7772\n",
      "Epoch 13/15\n",
      "101872/101872 [==============================] - 156s 2ms/step - loss: 0.4436 - accuracy: 0.7950 - val_loss: 0.4707 - val_accuracy: 0.7774\n",
      "Epoch 14/15\n",
      "101872/101872 [==============================] - 155s 2ms/step - loss: 0.4410 - accuracy: 0.7968 - val_loss: 0.4714 - val_accuracy: 0.7772\n",
      "Epoch 15/15\n",
      "101872/101872 [==============================] - 152s 1ms/step - loss: 0.4384 - accuracy: 0.7985 - val_loss: 0.4718 - val_accuracy: 0.7773\n",
      "CPU times: user 1h 41min 3s, sys: 25min 39s, total: 2h 6min 42s\n",
      "Wall time: 35min 58s\n",
      "[[123178  36223]\n",
      " [ 34190 124758]]\n",
      "\n",
      "\n",
      "39794/39794 [==============================] - 28s 714us/step - loss: 0.4402 - accuracy: 0.7971\n",
      "9949/9949 [==============================] - 7s 692us/step - loss: 0.4702 - accuracy: 0.7788\n",
      "Training set score:         0.7971286178\n",
      "Test set score:             0.7788181901\n",
      "Accuracy Test set Score:    0.7788182152\n",
      "AUC Score:                  0.8779741031\n",
      "ROC AUC Training set Score: 0.7971309979\n",
      "ROC AUC Test set Score:     0.7788268546\n"
     ]
    }
   ],
   "source": [
    "# Function to create model, required for KerasClassifier\n",
    "def create_model_(optimizer='adam', init='glorot_uniform'):\n",
    "    # create model\n",
    "    model = Sequential()\n",
    "    model.add(Dense(layer, input_dim=features, activation='relu', kernel_initializer=init))\n",
    "    model.add(Dense(1, activation='sigmoid'))\n",
    "    opt = keras.optimizers.Adam(learning_rate=learning_rate)\n",
    "    # Compile model\n",
    "    model.compile(loss='binary_crossentropy', optimizer=opt, metrics=['accuracy'])\n",
    "    return model\n",
    "# \n",
    "# create model\n",
    "model_k = KerasClassifier(build_fn=create_model_, verbose=1)\n",
    "\n",
    "%time model_k.fit(X_train, y_train, validation_split=0.20, epochs=15, batch_size=10)\n",
    "# \n",
    "y_pred = model_k.predict(X_test)\n",
    "# \n",
    "cm = confusion_matrix(y_test, y_pred)\n",
    "print(cm)\n",
    "print('\\n')\n",
    "# \n",
    "training_score,test_score,accuracy_score,auc_score,roc_auc_train,roc_auc_test = \\\n",
    "                    scoring_model(model_k, X_train, X_test, y_train, y_test, y_pred)\n",
    "# print the scores on training and test set\n",
    "print('Training set score:         {:.10f}'.format(training_score))\n",
    "print('Test set score:             {:.10f}'.format(test_score))\n",
    "print('Accuracy Test set Score:    {:.10f}'.format(accuracy_score))\n",
    "print('AUC Score:                  {:.10f}'.format(auc_score))\n",
    "print('ROC AUC Training set Score: {:.10f}'.format(roc_auc_train))\n",
    "print('ROC AUC Test set Score:     {:.10f}'.format(roc_auc_test))\n",
    "# "
   ]
  },
  {
   "cell_type": "markdown",
   "id": "0df39edb",
   "metadata": {},
   "source": [
    "#### MLP Classifier"
   ]
  },
  {
   "cell_type": "code",
   "execution_count": 13,
   "id": "6f036ba1",
   "metadata": {
    "scrolled": true
   },
   "outputs": [
    {
     "name": "stdout",
     "output_type": "stream",
     "text": [
      "CPU times: user 2h 8min 58s, sys: 24min 4s, total: 2h 33min 2s\n",
      "Wall time: 19min 15s\n",
      "\n",
      "\n",
      "[[117730  41671]\n",
      " [ 33019 125929]]\n",
      "\n",
      "\n",
      "Training set score:         0.7646563158\n",
      "Test set score:             0.7653832743\n",
      "Accuracy Test set Score:    0.7653832743\n",
      "AUC Score:                  0.8447723594\n",
      "ROC AUC Training set Score: 0.7646672616\n",
      "ROC AUC Test set Score:     0.7654214723\n"
     ]
    }
   ],
   "source": [
    "# import sklearn.neural_network\n",
    "# \n",
    "# parms = {'hidden_layer_sizes': (100,),\n",
    "#          'activation': 'logistic',    # {‘identity’, ‘logistic’, ‘tanh’, ‘relu’}, default=’relu’\n",
    "#          'solver': 'sgd',             # {‘lbfgs’, ‘sgd’, ‘adam’}\n",
    "#          'alpha': 0.0001,             # L2 penalty (regularization term) parameter\n",
    "#          'batch_size': 'auto',\n",
    "#          'learning_rate': 'constant', # ‘constant’ is a constant learning rate given by ‘learning_rate_init’.\n",
    "#                                       # {‘constant’, ‘invscaling’, ‘adaptive’}\n",
    "#          'learning_rate_init': 0.001, # The initial learning rate used. It controls the step-size in updating the \n",
    "#                                       # weights. \n",
    "#                                       # Only used when solver=’sgd’ or ‘adam’.\n",
    "#          'power_t': 0.5,              # The exponent for inverse scaling learning rate. It is used in updating  \n",
    "#                                       # effective learning rate when the learning_rate is set to ‘invscaling’. \n",
    "#                                       # Only used when solver=’sgd’.\n",
    "#          'max_iter': 1000,\n",
    "#          'shuffle': True,\n",
    "#          'random_state': seed,\n",
    "#          'tol': 0.0001,\n",
    "#          'verbose': False,\n",
    "#          'warm_start': False,\n",
    "#          'momentum': 0.9,             # Momentum for gradient descent update. Should be between 0 and 1. \n",
    "#                                       # Only used when solver=’sgd’.\n",
    "#          'nesterovs_momentum': True,\n",
    "#          'early_stopping': False,\n",
    "#          'validation_fraction': 0.1,  # The proportion of training data to set aside as \n",
    "#                                       # validation set for early stopping. Must be between 0 and 1. \n",
    "#                                       # Only used if early_stopping is True.\n",
    "#          'beta_1': 0.9,               # Exponential decay rate for estimates of first moment vector in adam, should \n",
    "#                                       # be in [0, 1). Only used when solver=’adam’.\n",
    "#          'beta_2': 0.999,             # Exponential decay rate for estimates of second moment vector in adam, should \n",
    "#                                       # be in [0, 1). Only used when solver=’adam’.\n",
    "#          'epsilon': 1e-08,            # Value for numerical stability in adam. Only used when solver=’adam’.\n",
    "#          'n_iter_no_change': 10,      # Maximum number of epochs to not meet tol improvement. Only effective \n",
    "#                                       # when solver=’sgd’ or ‘adam’.\n",
    "#         }\n",
    "# \n",
    "# using Hidden layer & Learning rate from keras optimizer\n",
    "parms = {'hidden_layer_sizes': (layer,),\n",
    "         'activation': 'logistic',\n",
    "         'solver': 'adam',\n",
    "         'learning_rate_init': learning_rate,\n",
    "         'random_state': seed,\n",
    "        }\n",
    "# Create a model Tfidf \n",
    "mlp_tfidf = MLPClassifier(**parms)\n",
    "# Train the model on the train data set\n",
    "%time mlp_tfidf.fit(X_train, y_train)\n",
    "# Evaluate on test data\n",
    "y_pred = mlp_tfidf.predict(X_test)\n",
    "# \n",
    "print('\\n')\n",
    "cm = confusion_matrix(y_test, y_pred)\n",
    "print(cm)\n",
    "print('\\n')\n",
    "# \n",
    "training_score,test_score,accuracy_score,auc_score,roc_auc_train,roc_auc_test = \\\n",
    "                    scoring_model(mlp_tfidf, X_train, X_test, y_train, y_test, y_pred)\n",
    "# print the scores on training and test set\n",
    "print('Training set score:         {:.10f}'.format(training_score))\n",
    "print('Test set score:             {:.10f}'.format(test_score))\n",
    "print('Accuracy Test set Score:    {:.10f}'.format(accuracy_score))\n",
    "print('AUC Score:                  {:.10f}'.format(auc_score))\n",
    "print('ROC AUC Training set Score: {:.10f}'.format(roc_auc_train))\n",
    "print('ROC AUC Test set Score:     {:.10f}'.format(roc_auc_test))\n",
    "# "
   ]
  },
  {
   "cell_type": "code",
   "execution_count": null,
   "id": "56e4fc2c-932e-4087-b2bc-13f41fbe0101",
   "metadata": {},
   "outputs": [],
   "source": []
  }
 ],
 "metadata": {
  "kernelspec": {
   "display_name": "Python 3",
   "language": "python",
   "name": "python3"
  },
  "language_info": {
   "codemirror_mode": {
    "name": "ipython",
    "version": 3
   },
   "file_extension": ".py",
   "mimetype": "text/x-python",
   "name": "python",
   "nbconvert_exporter": "python",
   "pygments_lexer": "ipython3",
   "version": "3.8.10"
  }
 },
 "nbformat": 4,
 "nbformat_minor": 5
}
