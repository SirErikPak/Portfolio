{
 "cells": [
  {
   "cell_type": "markdown",
   "id": "59a6c16f-7f99-44f8-8f52-de36cf5b3678",
   "metadata": {},
   "source": [
    "# Note:\n",
    "- Data Wrangling / Pre-Processing:\n",
    "    - Import all datasets from third notebook for data wrangling\n",
    "        - remove duplicate features\n",
    "        - engineer new features\n",
    "            - Age Addition for the candidate and donor, including mean value from features that have data at registration and prior to transplant.\n",
    "            - Consolidate nominal categories\n",
    "- Export pickle files for further processing"
   ]
  },
  {
   "cell_type": "code",
   "execution_count": 1,
   "id": "cc473a1e-6ac6-4a1d-8475-8a287d43834e",
   "metadata": {},
   "outputs": [
    {
     "name": "stdout",
     "output_type": "stream",
     "text": [
      "Numpy Version: 1.26.4\n",
      "Pandas Version: 2.2.3\n",
      "Seaborn Version: 0.13.2\n",
      "Matplotlib Version: 3.9.2\n",
      "Python Version: 3.9.20\n"
     ]
    }
   ],
   "source": [
    "# path to user functions\n",
    "import sys  \n",
    "sys.path.append('../Src/')\n",
    "\n",
    "from platform import python_version\n",
    "\n",
    "import pandas as pd\n",
    "import numpy as np\n",
    "import matplotlib.pyplot as plt\n",
    "import seaborn as sns\n",
    "import pickle\n",
    "import importlib \n",
    "\n",
    "# import user functions\n",
    "import UserUtilityFunctions as uf\n",
    "import UserStatisticalFunctions as usf\n",
    "import UserVisualization as uv\n",
    "import UserImputeFunctions as ui\n",
    "\n",
    "# set seaborn theme\n",
    "sns.set_theme()\n",
    "\n",
    "# initializing variables\n",
    "REMOVE = '** REMOVE ** Engineer Full'\n",
    "RANDOM_STATE = 1776\n",
    "\n",
    "# print versions\n",
    "print(\"Numpy Version: \" + np.__version__)\n",
    "print(\"Pandas Version: \" + pd.__version__)\n",
    "print(\"Seaborn Version: \" + sns.__version__)\n",
    "print(\"Matplotlib Version: \" + plt.matplotlib.__version__)\n",
    "print(\"Python Version: \" + python_version())\n",
    "\n",
    "# initialize DataFrame\n",
    "df_new = pd.DataFrame(columns=['column'])\n",
    "\n",
    "# adjust pandas display options to max\n",
    "pd.set_option('display.max_rows', None)\n",
    "pd.set_option('display.max_columns', None)\n",
    "# adjust pandas display options to ensure full display of content\n",
    "pd.set_option('display.max_colwidth', None)"
   ]
  },
  {
   "cell_type": "markdown",
   "id": "65da33e6-a9df-4564-9685-fe7cd8e343a0",
   "metadata": {},
   "source": [
    "### Import Data"
   ]
  },
  {
   "cell_type": "code",
   "execution_count": 2,
   "id": "665eff93-6628-4ea8-b61e-5ef79c6d8543",
   "metadata": {},
   "outputs": [
    {
     "data": {
      "text/plain": [
       "Index([], dtype='object')"
      ]
     },
     "execution_count": 2,
     "metadata": {},
     "output_type": "execute_result"
    }
   ],
   "source": [
    "# import data\n",
    "df = pd.read_pickle(\"../Data/3Clean_Heart.pkl\")\n",
    "df_label = pd.read_pickle(\"../Data/3Clean_Label.pkl\")\n",
    "df_can = pd.read_pickle(\"../Data/3Clean_CAN.pkl\")\n",
    "df_don = pd.read_pickle(\"../Data/3Clean_DON.pkl\")\n",
    "df_both = pd.read_pickle(\"../Data/3Clean_Both.pkl\")\n",
    "df_nominal = pd.read_pickle(\"../Data/3Clean_Nominal.pkl\")\n",
    "df_ordinal = pd.read_pickle(\"../Data/3Clean_Ordinal.pkl\")\n",
    "df_numeric = pd.read_pickle(\"../Data/3Clean_Numeric.pkl\")\n",
    "df_object = pd.read_pickle(\"../Data/3Clean_Object.pkl\")\n",
    "df_date = pd.read_pickle(\"../Data/3Clean_Date.pkl\")\n",
    "df_dict = pd.read_pickle(\"../Data/3Clean_Dictionary.pkl\")\n",
    "df_drop = pd.read_pickle(\"../Data/3Clean_Drop.pkl\")\n",
    "df_unknown = pd.read_pickle(\"../Data/3Clean_Unknown.pkl\")\n",
    "\n",
    "# checking for duplicated column name\n",
    "df.columns[df.columns.duplicated()]"
   ]
  },
  {
   "cell_type": "markdown",
   "id": "064f2466-e00c-4355-90af-0f75f1b877f8",
   "metadata": {},
   "source": [
    "### Feature Information"
   ]
  },
  {
   "cell_type": "code",
   "execution_count": 3,
   "id": "492aa356-901a-4a03-96be-edcb1ddc1303",
   "metadata": {},
   "outputs": [
    {
     "name": "stdout",
     "output_type": "stream",
     "text": [
      "Heart Dataset Rows: 27,494 & Columns: 261\n",
      "Label Features: 15\n",
      "Candidate Features: 139\n",
      "Donor Features: 95\n",
      "Date Features: 14\n",
      "Both Features: 7\n",
      "Object Features: 11\n",
      "Numeric Features: 45\n",
      "Ordinal Features: 13\n",
      "Nominal Features: 179\n",
      "Drop Features: 0\n",
      "Unknown Features: 0\n",
      "Dictionary Features: 302\n"
     ]
    }
   ],
   "source": [
    "print(f\"Heart Dataset Rows: {df.shape[0]:,} & Columns: {df.shape[1]:,}\")\n",
    "print(f\"Label Features: {df_label.shape[0]:,}\")\n",
    "print(f\"Candidate Features: {df_can.shape[0]:,}\")\n",
    "print(f\"Donor Features: {df_don.shape[0]:,}\")\n",
    "print(f\"Date Features: {df_date.shape[0]:,}\")\n",
    "print(f\"Both Features: {df_both.shape[0]:,}\")\n",
    "print(f\"Object Features: {df_object.shape[0]:,}\")\n",
    "print(f\"Numeric Features: {df_numeric.shape[0]:,}\")\n",
    "print(f\"Ordinal Features: {df_ordinal.shape[0]:,}\")\n",
    "print(f\"Nominal Features: {df_nominal.shape[0]:,}\")\n",
    "print(f\"Drop Features: {df_drop.shape[0]:,}\")\n",
    "print(f\"Unknown Features: {df_unknown.shape[0]:,}\")\n",
    "print(f\"Dictionary Features: {df_dict.shape[0]:,}\")"
   ]
  },
  {
   "cell_type": "code",
   "execution_count": 4,
   "id": "11793227-b4ba-44b4-b448-88ef06f8c607",
   "metadata": {},
   "outputs": [
    {
     "data": {
      "text/html": [
       "<div>\n",
       "<style scoped>\n",
       "    .dataframe tbody tr th:only-of-type {\n",
       "        vertical-align: middle;\n",
       "    }\n",
       "\n",
       "    .dataframe tbody tr th {\n",
       "        vertical-align: top;\n",
       "    }\n",
       "\n",
       "    .dataframe thead th {\n",
       "        text-align: right;\n",
       "    }\n",
       "</style>\n",
       "<table border=\"1\" class=\"dataframe\">\n",
       "  <thead>\n",
       "    <tr style=\"text-align: right;\">\n",
       "      <th></th>\n",
       "      <th>AcuteRejectionEpisode</th>\n",
       "      <th>AirwayDehiscencePostTransplant</th>\n",
       "      <th>StrokePostTransplant</th>\n",
       "      <th>PacemakerPostTransplant</th>\n",
       "      <th>DialysisPostDischarge</th>\n",
       "      <th>GraftFailStatus</th>\n",
       "      <th>GraftLifeSpanDay</th>\n",
       "      <th>LastFollowupNumber</th>\n",
       "      <th>GraftStatus</th>\n",
       "      <th>TransplantStatus</th>\n",
       "      <th>TransplantSurvivalDay</th>\n",
       "      <th>RecipientStatus</th>\n",
       "      <th>RejectionTreatmentWithinOneYear</th>\n",
       "      <th>FunctionalStatusFollowUp</th>\n",
       "      <th>LengthOfStay</th>\n",
       "    </tr>\n",
       "  </thead>\n",
       "  <tbody>\n",
       "    <tr>\n",
       "      <th>0</th>\n",
       "      <td>No</td>\n",
       "      <td>No</td>\n",
       "      <td>No</td>\n",
       "      <td>No</td>\n",
       "      <td>Yes</td>\n",
       "      <td>Failure</td>\n",
       "      <td>329.0</td>\n",
       "      <td>999</td>\n",
       "      <td>No</td>\n",
       "      <td>Dead</td>\n",
       "      <td>329.0</td>\n",
       "      <td>Dead</td>\n",
       "      <td>No</td>\n",
       "      <td>100% - Normal, no complaints, no evidence of disease</td>\n",
       "      <td>76.0</td>\n",
       "    </tr>\n",
       "    <tr>\n",
       "      <th>1</th>\n",
       "      <td>No</td>\n",
       "      <td>No</td>\n",
       "      <td>No</td>\n",
       "      <td>No</td>\n",
       "      <td>No</td>\n",
       "      <td>Success</td>\n",
       "      <td>2592.0</td>\n",
       "      <td>80</td>\n",
       "      <td>Yes</td>\n",
       "      <td>Alive</td>\n",
       "      <td>2592.0</td>\n",
       "      <td>Living</td>\n",
       "      <td>Missing</td>\n",
       "      <td>Unknown</td>\n",
       "      <td>10.0</td>\n",
       "    </tr>\n",
       "    <tr>\n",
       "      <th>2</th>\n",
       "      <td>No</td>\n",
       "      <td>No</td>\n",
       "      <td>No</td>\n",
       "      <td>No</td>\n",
       "      <td>No</td>\n",
       "      <td>Success</td>\n",
       "      <td>2913.0</td>\n",
       "      <td>80</td>\n",
       "      <td>Yes</td>\n",
       "      <td>Alive</td>\n",
       "      <td>2913.0</td>\n",
       "      <td>Living</td>\n",
       "      <td>No</td>\n",
       "      <td>Unknown</td>\n",
       "      <td>21.0</td>\n",
       "    </tr>\n",
       "    <tr>\n",
       "      <th>3</th>\n",
       "      <td>Yes, at least one episode treated with anti-rejection agent</td>\n",
       "      <td>No</td>\n",
       "      <td>No</td>\n",
       "      <td>No</td>\n",
       "      <td>No</td>\n",
       "      <td>Failure</td>\n",
       "      <td>1225.0</td>\n",
       "      <td>999</td>\n",
       "      <td>No</td>\n",
       "      <td>Dead</td>\n",
       "      <td>1225.0</td>\n",
       "      <td>Dead</td>\n",
       "      <td>Yes</td>\n",
       "      <td>30% - Severely disabled: hospitalization is indicated, death not imminent</td>\n",
       "      <td>32.0</td>\n",
       "    </tr>\n",
       "    <tr>\n",
       "      <th>4</th>\n",
       "      <td>No</td>\n",
       "      <td>No</td>\n",
       "      <td>No</td>\n",
       "      <td>No</td>\n",
       "      <td>No</td>\n",
       "      <td>Success</td>\n",
       "      <td>2785.0</td>\n",
       "      <td>80</td>\n",
       "      <td>Yes</td>\n",
       "      <td>Alive</td>\n",
       "      <td>2785.0</td>\n",
       "      <td>Living</td>\n",
       "      <td>No</td>\n",
       "      <td>Unknown</td>\n",
       "      <td>26.0</td>\n",
       "    </tr>\n",
       "  </tbody>\n",
       "</table>\n",
       "</div>"
      ],
      "text/plain": [
       "                                         AcuteRejectionEpisode  \\\n",
       "0                                                           No   \n",
       "1                                                           No   \n",
       "2                                                           No   \n",
       "3  Yes, at least one episode treated with anti-rejection agent   \n",
       "4                                                           No   \n",
       "\n",
       "  AirwayDehiscencePostTransplant StrokePostTransplant PacemakerPostTransplant  \\\n",
       "0                             No                   No                      No   \n",
       "1                             No                   No                      No   \n",
       "2                             No                   No                      No   \n",
       "3                             No                   No                      No   \n",
       "4                             No                   No                      No   \n",
       "\n",
       "  DialysisPostDischarge GraftFailStatus  GraftLifeSpanDay  LastFollowupNumber  \\\n",
       "0                   Yes         Failure             329.0                 999   \n",
       "1                    No         Success            2592.0                  80   \n",
       "2                    No         Success            2913.0                  80   \n",
       "3                    No         Failure            1225.0                 999   \n",
       "4                    No         Success            2785.0                  80   \n",
       "\n",
       "  GraftStatus TransplantStatus  TransplantSurvivalDay RecipientStatus  \\\n",
       "0          No             Dead                  329.0            Dead   \n",
       "1         Yes            Alive                 2592.0          Living   \n",
       "2         Yes            Alive                 2913.0          Living   \n",
       "3          No             Dead                 1225.0            Dead   \n",
       "4         Yes            Alive                 2785.0          Living   \n",
       "\n",
       "  RejectionTreatmentWithinOneYear  \\\n",
       "0                              No   \n",
       "1                         Missing   \n",
       "2                              No   \n",
       "3                             Yes   \n",
       "4                              No   \n",
       "\n",
       "                                                    FunctionalStatusFollowUp  \\\n",
       "0                       100% - Normal, no complaints, no evidence of disease   \n",
       "1                                                                    Unknown   \n",
       "2                                                                    Unknown   \n",
       "3  30% - Severely disabled: hospitalization is indicated, death not imminent   \n",
       "4                                                                    Unknown   \n",
       "\n",
       "   LengthOfStay  \n",
       "0          76.0  \n",
       "1          10.0  \n",
       "2          21.0  \n",
       "3          32.0  \n",
       "4          26.0  "
      ]
     },
     "execution_count": 4,
     "metadata": {},
     "output_type": "execute_result"
    }
   ],
   "source": [
    "# all label features\n",
    "labelCols = df_label.column.to_list()\n",
    "\n",
    "# display\n",
    "df[labelCols].head()"
   ]
  },
  {
   "cell_type": "markdown",
   "id": "a720def9-ced1-474e-b568-6ac1f8a08147",
   "metadata": {},
   "source": [
    "### Remove Unwanted Features"
   ]
  },
  {
   "cell_type": "code",
   "execution_count": 5,
   "id": "1eec2581-28ca-4fed-9719-8654cc79547b",
   "metadata": {},
   "outputs": [
    {
     "data": {
      "text/html": [
       "<div>\n",
       "<style scoped>\n",
       "    .dataframe tbody tr th:only-of-type {\n",
       "        vertical-align: middle;\n",
       "    }\n",
       "\n",
       "    .dataframe tbody tr th {\n",
       "        vertical-align: top;\n",
       "    }\n",
       "\n",
       "    .dataframe thead th {\n",
       "        text-align: right;\n",
       "    }\n",
       "</style>\n",
       "<table border=\"1\" class=\"dataframe\">\n",
       "  <thead>\n",
       "    <tr style=\"text-align: right;\">\n",
       "      <th></th>\n",
       "      <th>VentricularDeviceTypeRegistration_CAN</th>\n",
       "      <th>VentricularDeviceTypeTransplant_CAN</th>\n",
       "      <th>VentricularDeviceBrandRegistration_CAN</th>\n",
       "      <th>VentricularDeviceBrandTransplant_CAN</th>\n",
       "      <th>PrimaryPaymentRegistration_CAN</th>\n",
       "      <th>PrimaryPaymentTransplant_CAN</th>\n",
       "      <th>DialysisTypeRegistration_CAN</th>\n",
       "      <th>CancerSite_DON</th>\n",
       "      <th>OtherMedsText1_DON</th>\n",
       "      <th>OtherMedsText2_DON</th>\n",
       "      <th>OtherMedsText3_DON</th>\n",
       "    </tr>\n",
       "  </thead>\n",
       "  <tbody>\n",
       "    <tr>\n",
       "      <th>0</th>\n",
       "      <td>Lvad+Rvad</td>\n",
       "      <td>Lvad+Rvad</td>\n",
       "      <td>CentriMag (Thoratec/Levitronix)</td>\n",
       "      <td>CentriMag (Thoratec/Levitronix)</td>\n",
       "      <td>Public insurance - Medicaid</td>\n",
       "      <td>Public insurance - Medicaid</td>\n",
       "      <td>No dialysis</td>\n",
       "      <td>NO</td>\n",
       "      <td>ZOSYN, VANCOMYCIN</td>\n",
       "      <td>KCL,</td>\n",
       "      <td>DOPAMINE, VASOPRESSIN,</td>\n",
       "    </tr>\n",
       "    <tr>\n",
       "      <th>1</th>\n",
       "      <td>Lvad</td>\n",
       "      <td>Lvad</td>\n",
       "      <td>Heartmate II</td>\n",
       "      <td>Heartmate II</td>\n",
       "      <td>Public insurance - Medicare FFS (Fee for Service)</td>\n",
       "      <td>Public insurance - Medicare FFS (Fee for Service)</td>\n",
       "      <td>No dialysis</td>\n",
       "      <td>NO</td>\n",
       "      <td>ANCEF, FENTANYL, VERSED,LASIX</td>\n",
       "      <td>NaN</td>\n",
       "      <td>NaN</td>\n",
       "    </tr>\n",
       "    <tr>\n",
       "      <th>2</th>\n",
       "      <td>None</td>\n",
       "      <td>None</td>\n",
       "      <td>Missing</td>\n",
       "      <td>Missing</td>\n",
       "      <td>Private insurance</td>\n",
       "      <td>Private insurance</td>\n",
       "      <td>No dialysis</td>\n",
       "      <td>NO</td>\n",
       "      <td>ZOSYN, VANCOMYCIN</td>\n",
       "      <td>AMPHOTERICIN, BETADINE</td>\n",
       "      <td>ZANTAC</td>\n",
       "    </tr>\n",
       "    <tr>\n",
       "      <th>3</th>\n",
       "      <td>Lvad+Rvad</td>\n",
       "      <td>Lvad</td>\n",
       "      <td>CentriMag (Thoratec/Levitronix)</td>\n",
       "      <td>Heartmate II</td>\n",
       "      <td>Public insurance - Medicare &amp; Choice</td>\n",
       "      <td>Private insurance</td>\n",
       "      <td>No dialysis</td>\n",
       "      <td>SKIN - SQUAMOUS, BASAL CELL</td>\n",
       "      <td>KCL,  VANCO, MAG, ZOSYN</td>\n",
       "      <td>D50, DOPAMINE, DIFLUCAN</td>\n",
       "      <td>NaN</td>\n",
       "    </tr>\n",
       "    <tr>\n",
       "      <th>4</th>\n",
       "      <td>Lvad</td>\n",
       "      <td>Lvad</td>\n",
       "      <td>Heartmate II</td>\n",
       "      <td>Heartmate II</td>\n",
       "      <td>Public insurance - Medicare &amp; Choice</td>\n",
       "      <td>Public insurance - Medicare &amp; Choice</td>\n",
       "      <td>No dialysis</td>\n",
       "      <td>NO</td>\n",
       "      <td>ROCURONIUM, VECURONIUM</td>\n",
       "      <td>ZOSYN, CIPROFLOXACIN</td>\n",
       "      <td>BUMETIDE, ANCEF</td>\n",
       "    </tr>\n",
       "  </tbody>\n",
       "</table>\n",
       "</div>"
      ],
      "text/plain": [
       "  VentricularDeviceTypeRegistration_CAN VentricularDeviceTypeTransplant_CAN  \\\n",
       "0                             Lvad+Rvad                           Lvad+Rvad   \n",
       "1                                  Lvad                                Lvad   \n",
       "2                                  None                                None   \n",
       "3                             Lvad+Rvad                                Lvad   \n",
       "4                                  Lvad                                Lvad   \n",
       "\n",
       "  VentricularDeviceBrandRegistration_CAN VentricularDeviceBrandTransplant_CAN  \\\n",
       "0        CentriMag (Thoratec/Levitronix)      CentriMag (Thoratec/Levitronix)   \n",
       "1                           Heartmate II                         Heartmate II   \n",
       "2                                Missing                              Missing   \n",
       "3        CentriMag (Thoratec/Levitronix)                         Heartmate II   \n",
       "4                           Heartmate II                         Heartmate II   \n",
       "\n",
       "                      PrimaryPaymentRegistration_CAN  \\\n",
       "0                        Public insurance - Medicaid   \n",
       "1  Public insurance - Medicare FFS (Fee for Service)   \n",
       "2                                  Private insurance   \n",
       "3               Public insurance - Medicare & Choice   \n",
       "4               Public insurance - Medicare & Choice   \n",
       "\n",
       "                        PrimaryPaymentTransplant_CAN  \\\n",
       "0                        Public insurance - Medicaid   \n",
       "1  Public insurance - Medicare FFS (Fee for Service)   \n",
       "2                                  Private insurance   \n",
       "3                                  Private insurance   \n",
       "4               Public insurance - Medicare & Choice   \n",
       "\n",
       "  DialysisTypeRegistration_CAN               CancerSite_DON  \\\n",
       "0                  No dialysis                           NO   \n",
       "1                  No dialysis                           NO   \n",
       "2                  No dialysis                           NO   \n",
       "3                  No dialysis  SKIN - SQUAMOUS, BASAL CELL   \n",
       "4                  No dialysis                           NO   \n",
       "\n",
       "              OtherMedsText1_DON       OtherMedsText2_DON  \\\n",
       "0              ZOSYN, VANCOMYCIN                     KCL,   \n",
       "1  ANCEF, FENTANYL, VERSED,LASIX                      NaN   \n",
       "2              ZOSYN, VANCOMYCIN   AMPHOTERICIN, BETADINE   \n",
       "3        KCL,  VANCO, MAG, ZOSYN  D50, DOPAMINE, DIFLUCAN   \n",
       "4         ROCURONIUM, VECURONIUM     ZOSYN, CIPROFLOXACIN   \n",
       "\n",
       "       OtherMedsText3_DON  \n",
       "0  DOPAMINE, VASOPRESSIN,  \n",
       "1                     NaN  \n",
       "2                  ZANTAC  \n",
       "3                     NaN  \n",
       "4         BUMETIDE, ANCEF  "
      ]
     },
     "execution_count": 5,
     "metadata": {},
     "output_type": "execute_result"
    }
   ],
   "source": [
    "# all ordinal columns\n",
    "removeCols = df_object.column.to_list()\n",
    "\n",
    "# display\n",
    "df[removeCols].head()"
   ]
  },
  {
   "cell_type": "code",
   "execution_count": 6,
   "id": "8e5f4b2c-dc62-401d-9fa3-90676f17d2b6",
   "metadata": {},
   "outputs": [
    {
     "name": "stdout",
     "output_type": "stream",
     "text": [
      "Data Dictionary Updated.\n",
      "Remove 0 row(s) from df_label DataFrame.\n",
      "Remove 6 row(s) from df_can DataFrame.\n",
      "Remove 4 row(s) from df_don DataFrame.\n",
      "Remove 0 row(s) from df_both DataFrame.\n",
      "Remove 0 row(s) from df_ordinal DataFrame.\n",
      "Remove 0 row(s) from df_nominal DataFrame.\n",
      "Remove 0 row(s) from df_numeric DataFrame.\n",
      "Remove 0 row(s) from df_drop DataFrame.\n",
      "Remove 11 row(s) from df_object DataFrame.\n",
      "Remove 0 row(s) from df_unknown DataFrame.\n",
      "Remove 0 row(s) from df_date DataFrame.\n",
      "\n",
      "Removed Features: ['CancerSite_DON', 'DialysisTypeRegistration_CAN', 'OtherMedsText1_DON', 'OtherMedsText2_DON', 'OtherMedsText3_DON', 'PrimaryPaymentRegistration_CAN', 'PrimaryPaymentTransplant_CAN', 'VentricularDeviceBrandRegistration_CAN', 'VentricularDeviceBrandTransplant_CAN', 'VentricularDeviceTypeRegistration_CAN', 'VentricularDeviceTypeTransplant_CAN']\n",
      "\n",
      "Total Row(s) & Column(s) Before Removing Column(s): 27,494 & columns: 261\n",
      "Total Row(s) & Column(s) After Removing Column(s): 27,494 & columns: 250\n"
     ]
    }
   ],
   "source": [
    "# remove features\n",
    "df, df_dict, df_label, df_can, df_don, df_both, df_ordinal, df_nominal, df_numeric, df_drop, df_object, df_unknown, df_date = uf.house_keeping(df, removeCols, df_dict, df_label, df_can,\\\n",
    "                                                                df_don, df_both, df_ordinal, df_nominal, df_numeric, df_drop, df_object, df_unknown, df_date, txt=REMOVE, display=True)"
   ]
  },
  {
   "cell_type": "markdown",
   "id": "4727f15b-4d0d-4f7d-b557-16a21db4d6a8",
   "metadata": {},
   "source": [
    "### ListingYear"
   ]
  },
  {
   "cell_type": "code",
   "execution_count": 7,
   "id": "73ef6676-7987-4978-8463-72506dfa083e",
   "metadata": {},
   "outputs": [
    {
     "data": {
      "text/html": [
       "<div>\n",
       "<style scoped>\n",
       "    .dataframe tbody tr th:only-of-type {\n",
       "        vertical-align: middle;\n",
       "    }\n",
       "\n",
       "    .dataframe tbody tr th {\n",
       "        vertical-align: top;\n",
       "    }\n",
       "\n",
       "    .dataframe thead th {\n",
       "        text-align: right;\n",
       "    }\n",
       "</style>\n",
       "<table border=\"1\" class=\"dataframe\">\n",
       "  <thead>\n",
       "    <tr style=\"text-align: right;\">\n",
       "      <th>RecipientStatus</th>\n",
       "      <th>Dead</th>\n",
       "      <th>Living</th>\n",
       "      <th>Lost to Follow Up</th>\n",
       "      <th>Missing</th>\n",
       "      <th>Retransplanted</th>\n",
       "      <th>Row Total</th>\n",
       "      <th>Dead %</th>\n",
       "      <th>Living %</th>\n",
       "    </tr>\n",
       "    <tr>\n",
       "      <th>ListingYear</th>\n",
       "      <th></th>\n",
       "      <th></th>\n",
       "      <th></th>\n",
       "      <th></th>\n",
       "      <th></th>\n",
       "      <th></th>\n",
       "      <th></th>\n",
       "      <th></th>\n",
       "    </tr>\n",
       "  </thead>\n",
       "  <tbody>\n",
       "    <tr>\n",
       "      <th>2011</th>\n",
       "      <td>664.0</td>\n",
       "      <td>1273.0</td>\n",
       "      <td>47.0</td>\n",
       "      <td>0.0</td>\n",
       "      <td>34.0</td>\n",
       "      <td>2018.0</td>\n",
       "      <td>32.903865</td>\n",
       "      <td>63.082260</td>\n",
       "    </tr>\n",
       "    <tr>\n",
       "      <th>2012</th>\n",
       "      <td>643.0</td>\n",
       "      <td>1438.0</td>\n",
       "      <td>32.0</td>\n",
       "      <td>0.0</td>\n",
       "      <td>35.0</td>\n",
       "      <td>2148.0</td>\n",
       "      <td>29.934823</td>\n",
       "      <td>66.945996</td>\n",
       "    </tr>\n",
       "    <tr>\n",
       "      <th>2013</th>\n",
       "      <td>620.0</td>\n",
       "      <td>1568.0</td>\n",
       "      <td>38.0</td>\n",
       "      <td>0.0</td>\n",
       "      <td>31.0</td>\n",
       "      <td>2257.0</td>\n",
       "      <td>27.470093</td>\n",
       "      <td>69.472751</td>\n",
       "    </tr>\n",
       "    <tr>\n",
       "      <th>2014</th>\n",
       "      <td>576.0</td>\n",
       "      <td>1791.0</td>\n",
       "      <td>26.0</td>\n",
       "      <td>0.0</td>\n",
       "      <td>26.0</td>\n",
       "      <td>2419.0</td>\n",
       "      <td>23.811492</td>\n",
       "      <td>74.038859</td>\n",
       "    </tr>\n",
       "    <tr>\n",
       "      <th>2015</th>\n",
       "      <td>512.0</td>\n",
       "      <td>1963.0</td>\n",
       "      <td>28.0</td>\n",
       "      <td>0.0</td>\n",
       "      <td>23.0</td>\n",
       "      <td>2526.0</td>\n",
       "      <td>20.269200</td>\n",
       "      <td>77.711797</td>\n",
       "    </tr>\n",
       "    <tr>\n",
       "      <th>2016</th>\n",
       "      <td>496.0</td>\n",
       "      <td>2112.0</td>\n",
       "      <td>13.0</td>\n",
       "      <td>0.0</td>\n",
       "      <td>17.0</td>\n",
       "      <td>2638.0</td>\n",
       "      <td>18.802123</td>\n",
       "      <td>80.060652</td>\n",
       "    </tr>\n",
       "    <tr>\n",
       "      <th>2017</th>\n",
       "      <td>436.0</td>\n",
       "      <td>2191.0</td>\n",
       "      <td>5.0</td>\n",
       "      <td>0.0</td>\n",
       "      <td>12.0</td>\n",
       "      <td>2644.0</td>\n",
       "      <td>16.490166</td>\n",
       "      <td>82.866868</td>\n",
       "    </tr>\n",
       "    <tr>\n",
       "      <th>2018</th>\n",
       "      <td>357.0</td>\n",
       "      <td>2363.0</td>\n",
       "      <td>4.0</td>\n",
       "      <td>3.0</td>\n",
       "      <td>24.0</td>\n",
       "      <td>2751.0</td>\n",
       "      <td>12.977099</td>\n",
       "      <td>85.896038</td>\n",
       "    </tr>\n",
       "    <tr>\n",
       "      <th>2019</th>\n",
       "      <td>358.0</td>\n",
       "      <td>2494.0</td>\n",
       "      <td>1.0</td>\n",
       "      <td>12.0</td>\n",
       "      <td>8.0</td>\n",
       "      <td>2873.0</td>\n",
       "      <td>12.460842</td>\n",
       "      <td>86.808214</td>\n",
       "    </tr>\n",
       "    <tr>\n",
       "      <th>2020</th>\n",
       "      <td>257.0</td>\n",
       "      <td>2463.0</td>\n",
       "      <td>0.0</td>\n",
       "      <td>16.0</td>\n",
       "      <td>13.0</td>\n",
       "      <td>2749.0</td>\n",
       "      <td>9.348854</td>\n",
       "      <td>89.596217</td>\n",
       "    </tr>\n",
       "    <tr>\n",
       "      <th>2021</th>\n",
       "      <td>114.0</td>\n",
       "      <td>1989.0</td>\n",
       "      <td>0.0</td>\n",
       "      <td>359.0</td>\n",
       "      <td>9.0</td>\n",
       "      <td>2471.0</td>\n",
       "      <td>4.613517</td>\n",
       "      <td>80.493727</td>\n",
       "    </tr>\n",
       "    <tr>\n",
       "      <th>Column Total</th>\n",
       "      <td>5033.0</td>\n",
       "      <td>21645.0</td>\n",
       "      <td>194.0</td>\n",
       "      <td>390.0</td>\n",
       "      <td>232.0</td>\n",
       "      <td>27494.0</td>\n",
       "      <td>18.305812</td>\n",
       "      <td>78.726268</td>\n",
       "    </tr>\n",
       "  </tbody>\n",
       "</table>\n",
       "</div>"
      ],
      "text/plain": [
       "RecipientStatus    Dead   Living  Lost to Follow Up  Missing  Retransplanted  \\\n",
       "ListingYear                                                                    \n",
       "2011              664.0   1273.0               47.0      0.0            34.0   \n",
       "2012              643.0   1438.0               32.0      0.0            35.0   \n",
       "2013              620.0   1568.0               38.0      0.0            31.0   \n",
       "2014              576.0   1791.0               26.0      0.0            26.0   \n",
       "2015              512.0   1963.0               28.0      0.0            23.0   \n",
       "2016              496.0   2112.0               13.0      0.0            17.0   \n",
       "2017              436.0   2191.0                5.0      0.0            12.0   \n",
       "2018              357.0   2363.0                4.0      3.0            24.0   \n",
       "2019              358.0   2494.0                1.0     12.0             8.0   \n",
       "2020              257.0   2463.0                0.0     16.0            13.0   \n",
       "2021              114.0   1989.0                0.0    359.0             9.0   \n",
       "Column Total     5033.0  21645.0              194.0    390.0           232.0   \n",
       "\n",
       "RecipientStatus  Row Total     Dead %   Living %  \n",
       "ListingYear                                       \n",
       "2011                2018.0  32.903865  63.082260  \n",
       "2012                2148.0  29.934823  66.945996  \n",
       "2013                2257.0  27.470093  69.472751  \n",
       "2014                2419.0  23.811492  74.038859  \n",
       "2015                2526.0  20.269200  77.711797  \n",
       "2016                2638.0  18.802123  80.060652  \n",
       "2017                2644.0  16.490166  82.866868  \n",
       "2018                2751.0  12.977099  85.896038  \n",
       "2019                2873.0  12.460842  86.808214  \n",
       "2020                2749.0   9.348854  89.596217  \n",
       "2021                2471.0   4.613517  80.493727  \n",
       "Column Total       27494.0  18.305812  78.726268  "
      ]
     },
     "execution_count": 7,
     "metadata": {},
     "output_type": "execute_result"
    }
   ],
   "source": [
    "uf.category_contingency(df, 'ListingYear', 'RecipientStatus')"
   ]
  },
  {
   "cell_type": "markdown",
   "id": "e1af04aa-9923-4c12-b24d-34fb1491bba2",
   "metadata": {},
   "source": [
    "#### Plot"
   ]
  },
  {
   "cell_type": "code",
   "execution_count": 8,
   "id": "c37299bf-da5f-465d-a63f-b623618acb6e",
   "metadata": {},
   "outputs": [
    {
     "data": {
      "image/png": "[encoded data removed]",
      "text/plain": [
       "<Figure size 1200x600 with 1 Axes>"
      ]
     },
     "metadata": {},
     "output_type": "display_data"
    }
   ],
   "source": [
    "# get table into DataFrame\n",
    "data = uf.category_contingency(df, 'ListingYear', 'RecipientStatus')\n",
    "# exclude the last row\n",
    "data = data.iloc[:-1]\n",
    "\n",
    "# 'Dead %' or 'Living %'\n",
    "data = data[['Dead %', 'Living %']]\n",
    "\n",
    "# Plotting the bar plot\n",
    "data.plot(kind='bar', figsize=(12,6))\n",
    "plt.title('Dead % and Living % vs ListingYear')\n",
    "plt.xlabel('ListingYear')\n",
    "plt.ylabel('Values')\n",
    "plt.xticks(rotation=0)\n",
    "plt.grid(True)\n",
    "plt.show()"
   ]
  },
  {
   "cell_type": "code",
   "execution_count": 9,
   "id": "a47a8c43-94ff-4c8a-9db4-cfbd5c10dd71",
   "metadata": {},
   "outputs": [
    {
     "name": "stdout",
     "output_type": "stream",
     "text": [
      "Data Dictionary Updated.\n",
      "Remove 0 row(s) from df_label DataFrame.\n",
      "Remove 7 row(s) from df_can DataFrame.\n",
      "Remove 3 row(s) from df_don DataFrame.\n",
      "Remove 0 row(s) from df_both DataFrame.\n",
      "Remove 0 row(s) from df_ordinal DataFrame.\n",
      "Remove 0 row(s) from df_nominal DataFrame.\n",
      "Remove 0 row(s) from df_numeric DataFrame.\n",
      "Remove 0 row(s) from df_drop DataFrame.\n",
      "Remove 0 row(s) from df_object DataFrame.\n",
      "Remove 0 row(s) from df_unknown DataFrame.\n",
      "Remove 14 row(s) from df_date DataFrame.\n",
      "\n",
      "Removed Features: ['AdmissionDate_CAN', 'AdmissionDate_DON', 'AllocationBeginDate_CAN', 'CenterDischargeDate_CAN', 'InitialWaitListDate_CAN', 'ListingYear', 'OrganRecoveryDate_DON', 'ReferralDate_DON', 'RemovalWaitListDate_CAN', 'StatusDate_CAN', 'TransplantDate_CAN', 'ValidationDateTCR_CAN', 'ValidationDateTCR_DDR', 'ValidationDateTRR_CAN']\n",
      "\n",
      "Total Row(s) & Column(s) Before Removing Column(s): 27,494 & columns: 250\n",
      "Total Row(s) & Column(s) After Removing Column(s): 27,494 & columns: 236\n"
     ]
    }
   ],
   "source": [
    "# initialize list\n",
    "removeCols = df_date.column.to_list()\n",
    "\n",
    "# remove date features\n",
    "df, df_dict, df_label, df_can, df_don, df_both, df_ordinal, df_nominal, df_numeric, df_drop, df_object, df_unknown, df_date = uf.house_keeping(df, removeCols, df_dict, df_label, df_can,\\\n",
    "                                                                df_don, df_both, df_ordinal, df_nominal, df_numeric, df_drop, df_object, df_unknown, df_date, txt=REMOVE, display=True)"
   ]
  },
  {
   "cell_type": "markdown",
   "id": "9ff70369-8592-44ab-adc3-8b00e188ae8d",
   "metadata": {},
   "source": [
    "### Wrangle Data"
   ]
  },
  {
   "cell_type": "markdown",
   "id": "79f72155-c363-4c9f-a19a-656bf049fe39",
   "metadata": {},
   "source": [
    "#### Remove Date & NaNs > 40%"
   ]
  },
  {
   "cell_type": "code",
   "execution_count": 10,
   "id": "da969a7f-c826-4292-9f24-b1b52e5c8c0e",
   "metadata": {},
   "outputs": [
    {
     "name": "stdout",
     "output_type": "stream",
     "text": [
      "Data Dictionary Updated.\n",
      "Remove 0 row(s) from df_label DataFrame.\n",
      "Remove 6 row(s) from df_can DataFrame.\n",
      "Remove 0 row(s) from df_don DataFrame.\n",
      "Remove 0 row(s) from df_both DataFrame.\n",
      "Remove 0 row(s) from df_ordinal DataFrame.\n",
      "Remove 1 row(s) from df_nominal DataFrame.\n",
      "Remove 5 row(s) from df_numeric DataFrame.\n",
      "Remove 0 row(s) from df_drop DataFrame.\n",
      "Remove 0 row(s) from df_object DataFrame.\n",
      "Remove 0 row(s) from df_unknown DataFrame.\n",
      "Remove 0 row(s) from df_date DataFrame.\n",
      "\n",
      "Removed Features: ['CPRA_Peak_CAN', 'CPRA_Recent_CAN', 'Class1PRA_TransplantPercentage_CAN', 'Class2PRA_TransplantPercentage_CAN', 'PriorCardiacSurgeryTypeText_CAN', 'TotalSerumAlbuminRegistration_CAN']\n",
      "\n",
      "Total Row(s) & Column(s) Before Removing Column(s): 27,494 & columns: 236\n",
      "Total Row(s) & Column(s) After Removing Column(s): 27,494 & columns: 230\n"
     ]
    }
   ],
   "source": [
    "# get NaNs\n",
    "NaNsDF = uf.percentage_null(df)\n",
    "\n",
    "# remove NaNs\n",
    "removeCols = NaNsDF.index[NaNsDF.percentage > 40].to_list()\n",
    "\n",
    "# append text fields\n",
    "removeCols.extend(df_date.column.to_list())\n",
    "\n",
    "# remove features\n",
    "df, df_dict, df_label, df_can, df_don, df_both, df_ordinal, df_nominal, df_numeric, df_drop, df_object, df_unknown, df_date = uf.house_keeping(df, removeCols, df_dict, df_label, df_can,\\\n",
    "                                                                df_don, df_both, df_ordinal, df_nominal, df_numeric, df_drop, df_object, df_unknown, df_date, txt=REMOVE, display=True)"
   ]
  },
  {
   "cell_type": "markdown",
   "id": "a49a7b96-b998-4fad-a581-284f620a4e2b",
   "metadata": {},
   "source": [
    "#### Numerical Features"
   ]
  },
  {
   "cell_type": "code",
   "execution_count": 11,
   "id": "e5984904-96d3-43e0-9a3b-15d2f799d24b",
   "metadata": {},
   "outputs": [
    {
     "name": "stdout",
     "output_type": "stream",
     "text": [
      "['Age_CAN', 'Age_DON', 'Age_Listing_CAN', 'BMI_CAN', 'BMI_DON', 'BloodPH_DON', 'BloodUreaNitrogenLevel_DON', 'CreatinineRegistration_CAN', 'CreatinineTransplant_CAN', 'Creatinine_DON', 'DistanceFromDonorHospitaltoTXCenter', 'GraftLifeSpanDay', 'HeightCm_CAN', 'HeightCm_DON', 'Hematocrit_DON', 'HemodynamicsRegistration_CO_CAN', 'HemodynamicsRegistration_PA_DIA_CAN', 'HemodynamicsRegistration_PA_MN_CAN', 'HemodynamicsRegistration_PCW_CAN', 'HemodynamicsRegistration_SYS_CAN', 'HemodynamicsTransplant_CO_CAN', 'HemodynamicsTransplant_PA_DIA_CAN', 'HemodynamicsTransplant_PA_MN_CAN', 'HemodynamicsTransplant_PCW_CAN', 'HemodynamicsTransplant_SYS_CAN', 'IschemicTimeHour_DON', 'LV_EjectionFractionPercent_DON', 'LastFollowupNumber', 'LengthOfStay', 'Level_SGOT_ALT_DON', 'Level_SGOT_AST_DON', 'LungPO2_DON', 'LungPO2_FIO2_DON', 'OrganRecovery_PCO2_DON', 'TerminalTotalBilirubin_DON', 'TotalBilirubinTransplant_CAN', 'TotalDayWaitList_CAN', 'TransplantSurvivalDay', 'WeightKg_CAN', 'WeightKg_DON']\n"
     ]
    }
   ],
   "source": [
    "print(sorted(df_numeric.column.to_list()))"
   ]
  },
  {
   "cell_type": "markdown",
   "id": "2acae011-488a-4a43-8a60-afeb08c80f38",
   "metadata": {},
   "source": [
    "##### [Age](https://www.sciencedirect.com/science/article/abs/pii/S105324989800059X)\n",
    "- Remove:\n",
    "    - Age_Listing_CAN "
   ]
  },
  {
   "cell_type": "code",
   "execution_count": 12,
   "id": "0e574d14-e5ab-4716-aeac-7e6e1aaef88e",
   "metadata": {},
   "outputs": [
    {
     "name": "stdout",
     "output_type": "stream",
     "text": [
      "                   count       mean        std   min   25%   50%   75%   max\n",
      "Age_CAN          27494.0  53.411872  12.903775  18.0  46.0  56.0  63.0  79.0\n",
      "Age_DON          27494.0  32.143449  10.943097   8.0  23.0  31.0  40.0  72.0\n",
      "Age_Listing_CAN  27494.0  52.881392  12.938239  12.0  46.0  56.0  63.0  78.0\n",
      "\n",
      ":::: NaN Count:\n",
      "Age_CAN            0\n",
      "Age_DON            0\n",
      "Age_Listing_CAN    0\n"
     ]
    }
   ],
   "source": [
    "# examine features\n",
    "features = uf.get_feature_list(df, 'Age_')"
   ]
  },
  {
   "cell_type": "code",
   "execution_count": 13,
   "id": "723be792-ab6d-4f37-a188-3bcf0a715f5d",
   "metadata": {},
   "outputs": [],
   "source": [
    "# create new feature\n",
    "df['Age_Addition'] = df.Age_CAN + df.Age_DON + df.Age_Listing_CAN\n",
    "df['Age_Mean_CAN'] = (df.Age_CAN + df.Age_Listing_CAN) / 2\n",
    "\n",
    "# initialize list\n",
    "new = ['Age_Addition', 'Age_Mean_CAN']\n",
    "\n",
    "# update dataframe\n",
    "df_numeric = uf.insert_into_dataframe(df_numeric, new)\n",
    "df_new = uf.insert_into_dataframe(df_new, new)\n",
    "df_both = uf.insert_into_dataframe(df_both, new)\n",
    "df_drop = uf.insert_into_dataframe(df_drop, features)"
   ]
  },
  {
   "cell_type": "code",
   "execution_count": 14,
   "id": "b6f998a3-856a-4119-a116-c73cb8578c0d",
   "metadata": {},
   "outputs": [
    {
     "data": {
      "image/png": "[encoded data removed]",
      "text/plain": [
       "<Figure size 1500x500 with 2 Axes>"
      ]
     },
     "metadata": {},
     "output_type": "display_data"
    }
   ],
   "source": [
    "# boxplot\n",
    "uv.plot_box(df, new, orientation='h')"
   ]
  },
  {
   "cell_type": "code",
   "execution_count": 15,
   "id": "b0d21f8a-22b2-43b9-a8f1-3ba514e243ac",
   "metadata": {},
   "outputs": [
    {
     "data": {
      "image/png": "[encoded data removed]",
      "text/plain": [
       "<Figure size 2000x500 with 2 Axes>"
      ]
     },
     "metadata": {},
     "output_type": "display_data"
    }
   ],
   "source": [
    "uv.plot_histogram(df, new, bins=30)"
   ]
  },
  {
   "cell_type": "markdown",
   "id": "d6ba8a11-2863-4a77-a014-bed4aa04b017",
   "metadata": {},
   "source": [
    "##### BMI\n",
    "##### The standard BMI ranges for adults are:\n",
    "- Underweight: BMI less than 18.5 kg/m²\n",
    "- Normal weight: BMI 18.5 to 24.9 kg/m²\n",
    "- Overweight: BMI 25 to 29.9 kg/m²\n",
    "- Obesity: BMI 30 kg/m² or greater\n",
    "- BMI = Weight (kg) / Height (m)² "
   ]
  },
  {
   "cell_type": "code",
   "execution_count": 16,
   "id": "a7a24fd5-6d56-40c2-a97e-18836b14bf7c",
   "metadata": {},
   "outputs": [
    {
     "name": "stdout",
     "output_type": "stream",
     "text": [
      "           count       mean       std        min        25%        50%        75%        max\n",
      "BMI_CAN  27481.0  27.472403  4.865925  15.000000  23.900000  27.200000  31.000000  48.700000\n",
      "BMI_DON  27484.0  27.595158  6.062166  13.121499  23.384354  26.545539  30.668217  74.360965\n",
      "\n",
      ":::: NaN Count:\n",
      "BMI_CAN    13\n",
      "BMI_DON    10\n"
     ]
    }
   ],
   "source": [
    "# examine features\n",
    "features = uf.get_feature_list(df, 'BMI_')"
   ]
  },
  {
   "cell_type": "markdown",
   "id": "9942ef16-3bce-4f1c-a5f5-f9bb1bc7bc35",
   "metadata": {},
   "source": [
    "##### Calculate BMI"
   ]
  },
  {
   "cell_type": "code",
   "execution_count": 17,
   "id": "961d8eb8-9795-4b67-ab2f-a6a10614dae8",
   "metadata": {},
   "outputs": [
    {
     "data": {
      "text/html": [
       "<div>\n",
       "<style scoped>\n",
       "    .dataframe tbody tr th:only-of-type {\n",
       "        vertical-align: middle;\n",
       "    }\n",
       "\n",
       "    .dataframe tbody tr th {\n",
       "        vertical-align: top;\n",
       "    }\n",
       "\n",
       "    .dataframe thead th {\n",
       "        text-align: right;\n",
       "    }\n",
       "</style>\n",
       "<table border=\"1\" class=\"dataframe\">\n",
       "  <thead>\n",
       "    <tr style=\"text-align: right;\">\n",
       "      <th></th>\n",
       "      <th>WeightKg_CAN</th>\n",
       "      <th>HeightCm_CAN</th>\n",
       "      <th>BMI_CAN</th>\n",
       "      <th>WeightKg_DON</th>\n",
       "      <th>HeightCm_DON</th>\n",
       "      <th>BMI_DON</th>\n",
       "    </tr>\n",
       "  </thead>\n",
       "  <tbody>\n",
       "    <tr>\n",
       "      <th>1276</th>\n",
       "      <td>40.5</td>\n",
       "      <td>167.6</td>\n",
       "      <td>NaN</td>\n",
       "      <td>59.0</td>\n",
       "      <td>180.0</td>\n",
       "      <td>18.209877</td>\n",
       "    </tr>\n",
       "    <tr>\n",
       "      <th>3064</th>\n",
       "      <td>93.4</td>\n",
       "      <td>167.6</td>\n",
       "      <td>33.2</td>\n",
       "      <td>49.9</td>\n",
       "      <td>183.0</td>\n",
       "      <td>NaN</td>\n",
       "    </tr>\n",
       "    <tr>\n",
       "      <th>4057</th>\n",
       "      <td>NaN</td>\n",
       "      <td>149.9</td>\n",
       "      <td>NaN</td>\n",
       "      <td>35.0</td>\n",
       "      <td>137.0</td>\n",
       "      <td>18.647770</td>\n",
       "    </tr>\n",
       "    <tr>\n",
       "      <th>4625</th>\n",
       "      <td>41.0</td>\n",
       "      <td>171.1</td>\n",
       "      <td>NaN</td>\n",
       "      <td>62.6</td>\n",
       "      <td>183.0</td>\n",
       "      <td>18.692705</td>\n",
       "    </tr>\n",
       "    <tr>\n",
       "      <th>5413</th>\n",
       "      <td>46.3</td>\n",
       "      <td>160.0</td>\n",
       "      <td>18.1</td>\n",
       "      <td>43.0</td>\n",
       "      <td>173.0</td>\n",
       "      <td>NaN</td>\n",
       "    </tr>\n",
       "    <tr>\n",
       "      <th>5722</th>\n",
       "      <td>51.3</td>\n",
       "      <td>160.0</td>\n",
       "      <td>20.0</td>\n",
       "      <td>46.2</td>\n",
       "      <td>178.0</td>\n",
       "      <td>NaN</td>\n",
       "    </tr>\n",
       "    <tr>\n",
       "      <th>6907</th>\n",
       "      <td>NaN</td>\n",
       "      <td>124.0</td>\n",
       "      <td>NaN</td>\n",
       "      <td>23.2</td>\n",
       "      <td>115.0</td>\n",
       "      <td>17.542533</td>\n",
       "    </tr>\n",
       "    <tr>\n",
       "      <th>8620</th>\n",
       "      <td>NaN</td>\n",
       "      <td>149.9</td>\n",
       "      <td>NaN</td>\n",
       "      <td>55.7</td>\n",
       "      <td>161.0</td>\n",
       "      <td>21.488368</td>\n",
       "    </tr>\n",
       "    <tr>\n",
       "      <th>9521</th>\n",
       "      <td>NaN</td>\n",
       "      <td>154.9</td>\n",
       "      <td>NaN</td>\n",
       "      <td>55.0</td>\n",
       "      <td>157.0</td>\n",
       "      <td>22.313278</td>\n",
       "    </tr>\n",
       "    <tr>\n",
       "      <th>10242</th>\n",
       "      <td>55.3</td>\n",
       "      <td>147.3</td>\n",
       "      <td>25.5</td>\n",
       "      <td>39.8</td>\n",
       "      <td>163.0</td>\n",
       "      <td>NaN</td>\n",
       "    </tr>\n",
       "    <tr>\n",
       "      <th>11603</th>\n",
       "      <td>39.5</td>\n",
       "      <td>167.6</td>\n",
       "      <td>NaN</td>\n",
       "      <td>74.0</td>\n",
       "      <td>180.0</td>\n",
       "      <td>22.839506</td>\n",
       "    </tr>\n",
       "    <tr>\n",
       "      <th>12158</th>\n",
       "      <td>NaN</td>\n",
       "      <td>154.9</td>\n",
       "      <td>NaN</td>\n",
       "      <td>59.0</td>\n",
       "      <td>160.0</td>\n",
       "      <td>23.046875</td>\n",
       "    </tr>\n",
       "    <tr>\n",
       "      <th>12847</th>\n",
       "      <td>NaN</td>\n",
       "      <td>147.3</td>\n",
       "      <td>NaN</td>\n",
       "      <td>40.0</td>\n",
       "      <td>162.0</td>\n",
       "      <td>15.241579</td>\n",
       "    </tr>\n",
       "    <tr>\n",
       "      <th>16213</th>\n",
       "      <td>114.2</td>\n",
       "      <td>188.0</td>\n",
       "      <td>32.3</td>\n",
       "      <td>NaN</td>\n",
       "      <td>180.0</td>\n",
       "      <td>NaN</td>\n",
       "    </tr>\n",
       "    <tr>\n",
       "      <th>16240</th>\n",
       "      <td>44.7</td>\n",
       "      <td>157.5</td>\n",
       "      <td>18.0</td>\n",
       "      <td>39.9</td>\n",
       "      <td>168.0</td>\n",
       "      <td>NaN</td>\n",
       "    </tr>\n",
       "    <tr>\n",
       "      <th>17737</th>\n",
       "      <td>48.5</td>\n",
       "      <td>185.0</td>\n",
       "      <td>NaN</td>\n",
       "      <td>73.0</td>\n",
       "      <td>168.0</td>\n",
       "      <td>25.864513</td>\n",
       "    </tr>\n",
       "    <tr>\n",
       "      <th>19079</th>\n",
       "      <td>40.2</td>\n",
       "      <td>167.6</td>\n",
       "      <td>NaN</td>\n",
       "      <td>88.2</td>\n",
       "      <td>180.0</td>\n",
       "      <td>27.222222</td>\n",
       "    </tr>\n",
       "    <tr>\n",
       "      <th>22084</th>\n",
       "      <td>37.2</td>\n",
       "      <td>160.0</td>\n",
       "      <td>NaN</td>\n",
       "      <td>112.0</td>\n",
       "      <td>155.0</td>\n",
       "      <td>46.618106</td>\n",
       "    </tr>\n",
       "    <tr>\n",
       "      <th>22093</th>\n",
       "      <td>NaN</td>\n",
       "      <td>170.2</td>\n",
       "      <td>NaN</td>\n",
       "      <td>68.0</td>\n",
       "      <td>170.0</td>\n",
       "      <td>23.529412</td>\n",
       "    </tr>\n",
       "    <tr>\n",
       "      <th>24446</th>\n",
       "      <td>107.5</td>\n",
       "      <td>188.0</td>\n",
       "      <td>30.4</td>\n",
       "      <td>NaN</td>\n",
       "      <td>193.0</td>\n",
       "      <td>NaN</td>\n",
       "    </tr>\n",
       "    <tr>\n",
       "      <th>24627</th>\n",
       "      <td>49.9</td>\n",
       "      <td>154.9</td>\n",
       "      <td>20.8</td>\n",
       "      <td>NaN</td>\n",
       "      <td>154.9</td>\n",
       "      <td>NaN</td>\n",
       "    </tr>\n",
       "    <tr>\n",
       "      <th>25478</th>\n",
       "      <td>43.8</td>\n",
       "      <td>157.5</td>\n",
       "      <td>17.7</td>\n",
       "      <td>39.9</td>\n",
       "      <td>165.0</td>\n",
       "      <td>NaN</td>\n",
       "    </tr>\n",
       "    <tr>\n",
       "      <th>27107</th>\n",
       "      <td>110.7</td>\n",
       "      <td>177.8</td>\n",
       "      <td>35.0</td>\n",
       "      <td>NaN</td>\n",
       "      <td>178.0</td>\n",
       "      <td>NaN</td>\n",
       "    </tr>\n",
       "  </tbody>\n",
       "</table>\n",
       "</div>"
      ],
      "text/plain": [
       "       WeightKg_CAN  HeightCm_CAN  BMI_CAN  WeightKg_DON  HeightCm_DON  \\\n",
       "1276           40.5         167.6      NaN          59.0         180.0   \n",
       "3064           93.4         167.6     33.2          49.9         183.0   \n",
       "4057            NaN         149.9      NaN          35.0         137.0   \n",
       "4625           41.0         171.1      NaN          62.6         183.0   \n",
       "5413           46.3         160.0     18.1          43.0         173.0   \n",
       "5722           51.3         160.0     20.0          46.2         178.0   \n",
       "6907            NaN         124.0      NaN          23.2         115.0   \n",
       "8620            NaN         149.9      NaN          55.7         161.0   \n",
       "9521            NaN         154.9      NaN          55.0         157.0   \n",
       "10242          55.3         147.3     25.5          39.8         163.0   \n",
       "11603          39.5         167.6      NaN          74.0         180.0   \n",
       "12158           NaN         154.9      NaN          59.0         160.0   \n",
       "12847           NaN         147.3      NaN          40.0         162.0   \n",
       "16213         114.2         188.0     32.3           NaN         180.0   \n",
       "16240          44.7         157.5     18.0          39.9         168.0   \n",
       "17737          48.5         185.0      NaN          73.0         168.0   \n",
       "19079          40.2         167.6      NaN          88.2         180.0   \n",
       "22084          37.2         160.0      NaN         112.0         155.0   \n",
       "22093           NaN         170.2      NaN          68.0         170.0   \n",
       "24446         107.5         188.0     30.4           NaN         193.0   \n",
       "24627          49.9         154.9     20.8           NaN         154.9   \n",
       "25478          43.8         157.5     17.7          39.9         165.0   \n",
       "27107         110.7         177.8     35.0           NaN         178.0   \n",
       "\n",
       "         BMI_DON  \n",
       "1276   18.209877  \n",
       "3064         NaN  \n",
       "4057   18.647770  \n",
       "4625   18.692705  \n",
       "5413         NaN  \n",
       "5722         NaN  \n",
       "6907   17.542533  \n",
       "8620   21.488368  \n",
       "9521   22.313278  \n",
       "10242        NaN  \n",
       "11603  22.839506  \n",
       "12158  23.046875  \n",
       "12847  15.241579  \n",
       "16213        NaN  \n",
       "16240        NaN  \n",
       "17737  25.864513  \n",
       "19079  27.222222  \n",
       "22084  46.618106  \n",
       "22093  23.529412  \n",
       "24446        NaN  \n",
       "24627        NaN  \n",
       "25478        NaN  \n",
       "27107        NaN  "
      ]
     },
     "execution_count": 17,
     "metadata": {},
     "output_type": "execute_result"
    }
   ],
   "source": [
    "# display NaN BMIs\n",
    "df[['WeightKg_CAN','HeightCm_CAN','BMI_CAN','WeightKg_DON','HeightCm_DON','BMI_DON']][(df.BMI_CAN.isna())|(df.BMI_DON.isna())]"
   ]
  },
  {
   "cell_type": "markdown",
   "id": "8d7dc7d4-99d6-4ab6-a2d2-908d8a5a27df",
   "metadata": {},
   "source": [
    "###### HeightCm"
   ]
  },
  {
   "cell_type": "code",
   "execution_count": 18,
   "id": "bb1d762a-48bf-4fea-96c1-23582d4c0acc",
   "metadata": {},
   "outputs": [
    {
     "name": "stdout",
     "output_type": "stream",
     "text": [
      "                count        mean        std    min    25%    50%    75%    max\n",
      "HeightCm_CAN  27494.0  173.647378  10.039060  124.0  167.6  175.0  180.3  213.4\n",
      "HeightCm_DON  27494.0  173.903143   9.578505  115.0  167.6  175.0  180.3  213.0\n",
      "\n",
      ":::: NaN Count:\n",
      "HeightCm_CAN    0\n",
      "HeightCm_DON    0\n"
     ]
    }
   ],
   "source": [
    "# examine features\n",
    "features = uf.get_feature_list(df, 'HeightCm')"
   ]
  },
  {
   "cell_type": "code",
   "execution_count": 19,
   "id": "019768a0-d5a0-4214-a5bd-110e1c065f28",
   "metadata": {},
   "outputs": [],
   "source": [
    "# create new feature\n",
    "df['HeightCm_Addition'] = df.HeightCm_CAN + df.HeightCm_DON\n",
    "\n",
    "# initialize list\n",
    "new = ['HeightCm_Addition']\n",
    "\n",
    "# update dataframe\n",
    "df_drop  = uf.insert_into_dataframe(df_drop, features)\n",
    "df_numeric = uf.insert_into_dataframe(df_numeric, new)\n",
    "df_new = uf.insert_into_dataframe(df_new, new)\n",
    "df_both = uf.insert_into_dataframe(df_both, new)"
   ]
  },
  {
   "cell_type": "code",
   "execution_count": 20,
   "id": "70d385f8-f4c0-47b2-9d89-36bee2104329",
   "metadata": {},
   "outputs": [
    {
     "data": {
      "image/png": "[encoded data removed]",
      "text/plain": [
       "<Figure size 1500x500 with 1 Axes>"
      ]
     },
     "metadata": {},
     "output_type": "display_data"
    }
   ],
   "source": [
    "# boxplot\n",
    "uv.plot_box(df, new, orientation='h')"
   ]
  },
  {
   "cell_type": "markdown",
   "id": "0dd08fa5-3fb2-4511-9fe0-b337c51f4003",
   "metadata": {},
   "source": [
    "###### WeightKg"
   ]
  },
  {
   "cell_type": "code",
   "execution_count": 21,
   "id": "02bea350-d886-4d8c-a787-99116ad55b84",
   "metadata": {},
   "outputs": [
    {
     "name": "stdout",
     "output_type": "stream",
     "text": [
      "                count       mean        std   min   25%   50%   75%    max\n",
      "WeightKg_CAN  27487.0  83.252636  18.099450  29.9  70.3  82.6  95.3  159.1\n",
      "WeightKg_DON  27490.0  83.497006  19.548529  23.2  70.0  80.7  94.0  198.0\n",
      "\n",
      ":::: NaN Count:\n",
      "WeightKg_CAN    7\n",
      "WeightKg_DON    4\n"
     ]
    }
   ],
   "source": [
    "# examine features\n",
    "features = uf.get_feature_list(df, 'WeightKg')"
   ]
  },
  {
   "cell_type": "code",
   "execution_count": 22,
   "id": "0d8b4485-ea9f-425e-947e-5981102977b1",
   "metadata": {},
   "outputs": [],
   "source": [
    "# new feature\n",
    "df['WeightKg_Addition'] = df.WeightKg_CAN + df.WeightKg_DON\n",
    "\n",
    "# initialize list\n",
    "new = ['WeightKg_Addition']\n",
    "\n",
    "# update DataFrame\n",
    "df_drop  = uf.insert_into_dataframe(df_drop, features)\n",
    "df_numeric =  uf.insert_into_dataframe(df_numeric, new)\n",
    "df_new =  uf.insert_into_dataframe(df_new, new)\n",
    "df_both = uf.insert_into_dataframe(df_both, new)"
   ]
  },
  {
   "cell_type": "code",
   "execution_count": 23,
   "id": "3de28830-a7ad-4da7-8d48-0f8f8603e9f0",
   "metadata": {},
   "outputs": [
    {
     "data": {
      "image/png": "[encoded data removed]",
      "text/plain": [
       "<Figure size 1500x500 with 1 Axes>"
      ]
     },
     "metadata": {},
     "output_type": "display_data"
    }
   ],
   "source": [
    "uv.plot_box(df, new, orientation='h')"
   ]
  },
  {
   "cell_type": "code",
   "execution_count": 24,
   "id": "1416663f-43d6-4b57-8254-eeef63c871db",
   "metadata": {},
   "outputs": [
    {
     "name": "stdout",
     "output_type": "stream",
     "text": [
      "           count       mean       std        min        25%        50%        75%        max\n",
      "BMI_CAN  27481.0  27.472403  4.865925  15.000000  23.900000  27.200000  31.000000  48.700000\n",
      "BMI_DON  27484.0  27.595158  6.062166  13.121499  23.384354  26.545539  30.668217  74.360965\n",
      "\n",
      ":::: NaN Count:\n",
      "BMI_CAN    13\n",
      "BMI_DON    10\n"
     ]
    }
   ],
   "source": [
    "# examine features\n",
    "features = uf.get_feature_list(df, 'BMI_')"
   ]
  },
  {
   "cell_type": "code",
   "execution_count": 25,
   "id": "f7e1cf9b-6129-4bef-9335-872c38af5b77",
   "metadata": {},
   "outputs": [],
   "source": [
    "df['BMI_CAN'] = df.WeightKg_CAN / np.square(df.HeightCm_CAN * 0.01)\n",
    "df['BMI_DON'] = df.WeightKg_DON / np.square(df.HeightCm_DON * 0.01)"
   ]
  },
  {
   "cell_type": "code",
   "execution_count": 26,
   "id": "23faa1b2-b555-4b45-9da8-9907426c9d11",
   "metadata": {},
   "outputs": [],
   "source": [
    "# create new feature\n",
    "df['BMI_Addition'] = df.BMI_CAN + df.BMI_DON\n",
    "\n",
    "# initialize list\n",
    "new = ['BMI_Addition']\n",
    "\n",
    "# update dataframe\n",
    "df_drop  = uf.insert_into_dataframe(df_drop, features)\n",
    "df_numeric = uf.insert_into_dataframe(df_numeric, new)\n",
    "df_new = uf.insert_into_dataframe(df_new, new)\n",
    "df_both = uf.insert_into_dataframe(df_both, new)"
   ]
  },
  {
   "cell_type": "code",
   "execution_count": 27,
   "id": "aefb5329-29b8-4578-b819-1fcce51d2831",
   "metadata": {},
   "outputs": [
    {
     "data": {
      "image/png": "[encoded data removed]",
      "text/plain": [
       "<Figure size 1500x500 with 1 Axes>"
      ]
     },
     "metadata": {},
     "output_type": "display_data"
    }
   ],
   "source": [
    "# boxplot\n",
    "uv.plot_box(df, new, orientation='h')"
   ]
  },
  {
   "cell_type": "markdown",
   "id": "f6b153a5-fae7-45c8-96cc-65199b3fe296",
   "metadata": {},
   "source": [
    "##### BloodPH (Categorical)\n",
    "- The normal blood pH range is indeed between 7.35 and 7.45. This slightly alkaline range is crucial for the proper functioning of enzymes and other biochemical reactions in the body.\n",
    "    - A blood pH below 7.35 is considered acidic, and it can lead to a condition called acidosis. Acidosis can disrupt cellular functions and impair organ systems, particularly the cardiovascular and respiratory systems.\n",
    "    - A blood pH above 7.45 is considered alkaline, and it can lead to a condition called alkalosis. Alkalosis can cause symptoms such as muscle twitching, hand tremors, and confusion."
   ]
  },
  {
   "cell_type": "code",
   "execution_count": 28,
   "id": "8bb150da-b0ba-4220-bd79-e62fdae3d389",
   "metadata": {},
   "outputs": [
    {
     "name": "stdout",
     "output_type": "stream",
     "text": [
      "               count      mean    std  min   25%   50%   75%   max\n",
      "BloodPH_DON  27267.0  7.416161  0.074  5.0  7.38  7.42  7.46  7.93\n",
      "\n",
      ":::: NaN Count:\n",
      "BloodPH_DON    227\n"
     ]
    }
   ],
   "source": [
    "# examine features\n",
    "features = uf.get_feature_list(df, 'BloodPH')"
   ]
  },
  {
   "cell_type": "code",
   "execution_count": 29,
   "id": "1c9d964d-dff7-492f-9d09-417262251821",
   "metadata": {},
   "outputs": [
    {
     "data": {
      "text/html": [
       "<div>\n",
       "<style scoped>\n",
       "    .dataframe tbody tr th:only-of-type {\n",
       "        vertical-align: middle;\n",
       "    }\n",
       "\n",
       "    .dataframe tbody tr th {\n",
       "        vertical-align: top;\n",
       "    }\n",
       "\n",
       "    .dataframe thead th {\n",
       "        text-align: right;\n",
       "    }\n",
       "</style>\n",
       "<table border=\"1\" class=\"dataframe\">\n",
       "  <thead>\n",
       "    <tr style=\"text-align: right;\">\n",
       "      <th></th>\n",
       "      <th>Feature</th>\n",
       "      <th>Description</th>\n",
       "      <th>Form</th>\n",
       "      <th>FeatureStartDate</th>\n",
       "      <th>FeatureEndDate</th>\n",
       "      <th>FormSection</th>\n",
       "      <th>DataType</th>\n",
       "      <th>SASAnalysisFormat</th>\n",
       "      <th>Comment</th>\n",
       "      <th>OrginalFeature</th>\n",
       "      <th>FeatureType</th>\n",
       "      <th>Information</th>\n",
       "    </tr>\n",
       "  </thead>\n",
       "  <tbody>\n",
       "    <tr>\n",
       "      <th>213</th>\n",
       "      <td>BloodPH_DON</td>\n",
       "      <td>DDR:Blood PH:</td>\n",
       "      <td>DDR</td>\n",
       "      <td>2004-06-30</td>\n",
       "      <td>NaT</td>\n",
       "      <td>CLINICAL INFORMATION</td>\n",
       "      <td>NUM</td>\n",
       "      <td></td>\n",
       "      <td></td>\n",
       "      <td>PH_DON</td>\n",
       "      <td>Numeric</td>\n",
       "      <td></td>\n",
       "    </tr>\n",
       "  </tbody>\n",
       "</table>\n",
       "</div>"
      ],
      "text/plain": [
       "         Feature    Description Form FeatureStartDate FeatureEndDate  \\\n",
       "213  BloodPH_DON  DDR:Blood PH:  DDR       2004-06-30            NaT   \n",
       "\n",
       "              FormSection DataType SASAnalysisFormat Comment OrginalFeature  \\\n",
       "213  CLINICAL INFORMATION      NUM                                   PH_DON   \n",
       "\n",
       "    FeatureType Information  \n",
       "213     Numeric              "
      ]
     },
     "execution_count": 29,
     "metadata": {},
     "output_type": "execute_result"
    }
   ],
   "source": [
    "df_dict[df_dict.Feature.isin(features)]"
   ]
  },
  {
   "cell_type": "code",
   "execution_count": 30,
   "id": "c368ae97-41a0-4eba-ae7c-fe6716496061",
   "metadata": {},
   "outputs": [
    {
     "data": {
      "image/png": "[encoded data removed]",
      "text/plain": [
       "<Figure size 1500x500 with 1 Axes>"
      ]
     },
     "metadata": {},
     "output_type": "display_data"
    }
   ],
   "source": [
    "uv.plot_box(df, features, orientation='h')"
   ]
  },
  {
   "cell_type": "markdown",
   "id": "eba6b965-e6ae-4cb4-ac2c-82a038ba3d15",
   "metadata": {},
   "source": [
    "##### [BloodUreaNitrogenLevel](https://www.frontiersin.org/journals/cardiovascular-medicine/articles/10.3389/fcvm.2023.1189884/full)\n",
    "- Blood Urea Nitrogen (BUN) is a common blood test that measures the amount of urea nitrogen in the blood, which is a waste product formed from the breakdown of proteins.\n",
    "    - Generally accepted range: 7 to 20 mg/dL (milligrams per deciliter).\n",
    "    - Some sources report a slightly broader range of 6 to 24 mg/dL for adult men and 6 to 21 mg/dL for adult women. "
   ]
  },
  {
   "cell_type": "code",
   "execution_count": 31,
   "id": "105b455b-c608-4b97-9e4c-f748091b4e9a",
   "metadata": {},
   "outputs": [
    {
     "name": "stdout",
     "output_type": "stream",
     "text": [
      "                              count       mean        std  min   25%   50%   75%    max\n",
      "BloodUreaNitrogenLevel_DON  27291.0  24.272559  20.110485  0.5  12.0  18.0  29.0  250.0\n",
      "\n",
      ":::: NaN Count:\n",
      "BloodUreaNitrogenLevel_DON    203\n"
     ]
    }
   ],
   "source": [
    "# examine features\n",
    "features = uf.get_feature_list(df, 'BloodUreaNitrogenLevel')"
   ]
  },
  {
   "cell_type": "code",
   "execution_count": 32,
   "id": "fdfc5424-1bca-44a8-b0be-a80a18904fbd",
   "metadata": {},
   "outputs": [
    {
     "data": {
      "text/html": [
       "<div>\n",
       "<style scoped>\n",
       "    .dataframe tbody tr th:only-of-type {\n",
       "        vertical-align: middle;\n",
       "    }\n",
       "\n",
       "    .dataframe tbody tr th {\n",
       "        vertical-align: top;\n",
       "    }\n",
       "\n",
       "    .dataframe thead th {\n",
       "        text-align: right;\n",
       "    }\n",
       "</style>\n",
       "<table border=\"1\" class=\"dataframe\">\n",
       "  <thead>\n",
       "    <tr style=\"text-align: right;\">\n",
       "      <th></th>\n",
       "      <th>Feature</th>\n",
       "      <th>Description</th>\n",
       "      <th>Form</th>\n",
       "      <th>FeatureStartDate</th>\n",
       "      <th>FeatureEndDate</th>\n",
       "      <th>FormSection</th>\n",
       "      <th>DataType</th>\n",
       "      <th>SASAnalysisFormat</th>\n",
       "      <th>Comment</th>\n",
       "      <th>OrginalFeature</th>\n",
       "      <th>FeatureType</th>\n",
       "      <th>Information</th>\n",
       "    </tr>\n",
       "  </thead>\n",
       "  <tbody>\n",
       "    <tr>\n",
       "      <th>21</th>\n",
       "      <td>BloodUreaNitrogenLevel_DON</td>\n",
       "      <td>DECEASED DONOR-TERMINAL BLOOD UREA NITROGEN</td>\n",
       "      <td>DDR</td>\n",
       "      <td>1994-04-01</td>\n",
       "      <td>NaT</td>\n",
       "      <td>CLINICAL INFORMATION</td>\n",
       "      <td>NUM</td>\n",
       "      <td></td>\n",
       "      <td></td>\n",
       "      <td>BUN_DON</td>\n",
       "      <td>Numeric</td>\n",
       "      <td></td>\n",
       "    </tr>\n",
       "  </tbody>\n",
       "</table>\n",
       "</div>"
      ],
      "text/plain": [
       "                       Feature                                  Description  \\\n",
       "21  BloodUreaNitrogenLevel_DON  DECEASED DONOR-TERMINAL BLOOD UREA NITROGEN   \n",
       "\n",
       "   Form FeatureStartDate FeatureEndDate           FormSection DataType  \\\n",
       "21  DDR       1994-04-01            NaT  CLINICAL INFORMATION      NUM   \n",
       "\n",
       "   SASAnalysisFormat Comment OrginalFeature FeatureType Information  \n",
       "21                                  BUN_DON     Numeric              "
      ]
     },
     "execution_count": 32,
     "metadata": {},
     "output_type": "execute_result"
    }
   ],
   "source": [
    "df_dict[df_dict.Feature.isin(features)]"
   ]
  },
  {
   "cell_type": "code",
   "execution_count": 33,
   "id": "790f67e0-1068-4cc7-a8c7-11257290fee9",
   "metadata": {},
   "outputs": [
    {
     "data": {
      "image/png": "[encoded data removed]",
      "text/plain": [
       "<Figure size 1500x500 with 1 Axes>"
      ]
     },
     "metadata": {},
     "output_type": "display_data"
    }
   ],
   "source": [
    "uv.plot_box(df, features, orientation='h')"
   ]
  },
  {
   "cell_type": "markdown",
   "id": "b9851a0d-f4cc-491c-868b-5a99c59830c4",
   "metadata": {},
   "source": [
    "##### [Creatinine](https://www.sciencedirect.com/science/article/pii/S0021915014013677?casa_token=ocgbMx1y4ikAAAAA:D0hbOvHvY45rjRH_LgJg62mSRUEu3ky2vZnuyhnyaP6xOphaF8WTWZ2TQ5KqGcNZi0xNrsLvunbZ)\n",
    "- Creatinine levels can be affected by various health issues, including heart conditions. Generally, high creatinine levels are more common and often indicate that the kidneys are not functioning pr?operly. This can be due to conditions such as chronic kidney disease, dehydration, or even heart failure. When the heart is not pumping efficiently, it can lead to reduced blood flow to the kidneys, causing an increase in creatinine levels."
   ]
  },
  {
   "cell_type": "code",
   "execution_count": 34,
   "id": "dc4c13dc-f79c-4941-b396-e18422e51944",
   "metadata": {},
   "outputs": [
    {
     "name": "stdout",
     "output_type": "stream",
     "text": [
      "                              count      mean       std   min   25%  50%  75%   max\n",
      "CreatinineRegistration_CAN  27359.0  1.365684  0.962710  0.08  0.94  1.2  1.5  24.0\n",
      "CreatinineTransplant_CAN    27076.0  1.373118  1.009271  0.06  0.94  1.2  1.5  37.0\n",
      "Creatinine_DON              27291.0  1.505226  1.557918  0.04  0.76  1.0  1.5  23.0\n",
      "\n",
      ":::: NaN Count:\n",
      "CreatinineRegistration_CAN    135\n",
      "CreatinineTransplant_CAN      418\n",
      "Creatinine_DON                203\n"
     ]
    }
   ],
   "source": [
    "# examine features\n",
    "features = uf.get_feature_list(df, 'Creatinine')"
   ]
  },
  {
   "cell_type": "code",
   "execution_count": 35,
   "id": "c5994089-5c2e-4851-8d45-9291f8bedbb2",
   "metadata": {},
   "outputs": [
    {
     "data": {
      "text/html": [
       "<div>\n",
       "<style scoped>\n",
       "    .dataframe tbody tr th:only-of-type {\n",
       "        vertical-align: middle;\n",
       "    }\n",
       "\n",
       "    .dataframe tbody tr th {\n",
       "        vertical-align: top;\n",
       "    }\n",
       "\n",
       "    .dataframe thead th {\n",
       "        text-align: right;\n",
       "    }\n",
       "</style>\n",
       "<table border=\"1\" class=\"dataframe\">\n",
       "  <thead>\n",
       "    <tr style=\"text-align: right;\">\n",
       "      <th></th>\n",
       "      <th>CreatinineRegistration_CAN</th>\n",
       "      <th>CreatinineTransplant_CAN</th>\n",
       "      <th>Creatinine_DON</th>\n",
       "    </tr>\n",
       "  </thead>\n",
       "  <tbody>\n",
       "    <tr>\n",
       "      <th>CreatinineRegistration_CAN</th>\n",
       "      <td>1.000000</td>\n",
       "      <td>0.676508</td>\n",
       "      <td>-0.037203</td>\n",
       "    </tr>\n",
       "    <tr>\n",
       "      <th>CreatinineTransplant_CAN</th>\n",
       "      <td>0.676508</td>\n",
       "      <td>1.000000</td>\n",
       "      <td>-0.023678</td>\n",
       "    </tr>\n",
       "    <tr>\n",
       "      <th>Creatinine_DON</th>\n",
       "      <td>-0.037203</td>\n",
       "      <td>-0.023678</td>\n",
       "      <td>1.000000</td>\n",
       "    </tr>\n",
       "  </tbody>\n",
       "</table>\n",
       "</div>"
      ],
      "text/plain": [
       "                            CreatinineRegistration_CAN  \\\n",
       "CreatinineRegistration_CAN                    1.000000   \n",
       "CreatinineTransplant_CAN                      0.676508   \n",
       "Creatinine_DON                               -0.037203   \n",
       "\n",
       "                            CreatinineTransplant_CAN  Creatinine_DON  \n",
       "CreatinineRegistration_CAN                  0.676508       -0.037203  \n",
       "CreatinineTransplant_CAN                    1.000000       -0.023678  \n",
       "Creatinine_DON                             -0.023678        1.000000  "
      ]
     },
     "execution_count": 35,
     "metadata": {},
     "output_type": "execute_result"
    }
   ],
   "source": [
    "df[features].corr()"
   ]
  },
  {
   "cell_type": "code",
   "execution_count": 36,
   "id": "1d28018c-bffe-424c-a1b6-238f72e07b36",
   "metadata": {},
   "outputs": [],
   "source": [
    "# create new feature if non of the row contain NaN\n",
    "df['Creatinine_Addition'] = df[features].apply(lambda row: row.sum() if row.notna().all() else np.nan, axis=1)\n",
    "# initialize list\n",
    "new = ['Creatinine_Addition']\n",
    "\n",
    "# update DataFrame\n",
    "df_drop  = uf.insert_into_dataframe(df_drop, features)\n",
    "df_numeric =  uf.insert_into_dataframe(df_numeric, new)\n",
    "df_new =  uf.insert_into_dataframe(df_new, new)\n",
    "df_both = uf.insert_into_dataframe(df_both, new)"
   ]
  },
  {
   "cell_type": "code",
   "execution_count": 37,
   "id": "974cd29d-4caf-4b8e-88f0-4b56d49a29c1",
   "metadata": {},
   "outputs": [
    {
     "data": {
      "image/png": "[encoded data removed]",
      "text/plain": [
       "<Figure size 1500x500 with 1 Axes>"
      ]
     },
     "metadata": {},
     "output_type": "display_data"
    }
   ],
   "source": [
    "# boxplot\n",
    "uv.plot_box(df, new, orientation='h')"
   ]
  },
  {
   "cell_type": "code",
   "execution_count": 38,
   "id": "657ad793-502d-4c83-8987-d155c384e879",
   "metadata": {},
   "outputs": [
    {
     "name": "stdout",
     "output_type": "stream",
     "text": [
      "                              count      mean       std   min   25%   50%   75%   max\n",
      "CreatinineRegistration_CAN  27359.0  1.365684  0.962710  0.08  0.94  1.20  1.50  24.0\n",
      "CreatinineTransplant_CAN    27076.0  1.373118  1.009271  0.06  0.94  1.20  1.50  37.0\n",
      "Creatinine_Addition         26951.0  4.241332  2.342882  0.91  2.97  3.61  4.63  50.3\n",
      "Creatinine_DON              27291.0  1.505226  1.557918  0.04  0.76  1.00  1.50  23.0\n",
      "\n",
      ":::: NaN Count:\n",
      "CreatinineRegistration_CAN    135\n",
      "CreatinineTransplant_CAN      418\n",
      "Creatinine_Addition           543\n",
      "Creatinine_DON                203\n"
     ]
    }
   ],
   "source": [
    "# examine features\n",
    "features = uf.get_feature_list(df, 'Creatinine')"
   ]
  },
  {
   "cell_type": "markdown",
   "id": "4e14aa5f-0c01-4a5d-921e-cf91d08ab715",
   "metadata": {},
   "source": [
    "##### DistanceFromDonorHospitaltoTXCenter"
   ]
  },
  {
   "cell_type": "code",
   "execution_count": 39,
   "id": "cfd13168-fb0a-45d8-8191-793d13cbfade",
   "metadata": {},
   "outputs": [
    {
     "name": "stdout",
     "output_type": "stream",
     "text": [
      "                                       count        mean         std  min   25%    50%    75%     max\n",
      "DistanceFromDonorHospitaltoTXCenter  27494.0  201.527351  222.020998  0.0  21.0  128.0  322.0  2215.0\n",
      "\n",
      ":::: NaN Count:\n",
      "DistanceFromDonorHospitaltoTXCenter    0\n"
     ]
    }
   ],
   "source": [
    "# examine features\n",
    "features = uf.get_feature_list(df, 'DistanceFromDonorHospitaltoTXCenter')"
   ]
  },
  {
   "cell_type": "code",
   "execution_count": 40,
   "id": "24f5bd34-8087-433b-98ad-10e17bac4972",
   "metadata": {},
   "outputs": [
    {
     "data": {
      "image/png": "[encoded data removed]",
      "text/plain": [
       "<Figure size 1500x500 with 1 Axes>"
      ]
     },
     "metadata": {},
     "output_type": "display_data"
    }
   ],
   "source": [
    "# boxplot\n",
    "uv.plot_box(df, features, orientation='h')"
   ]
  },
  {
   "cell_type": "markdown",
   "id": "1870e9e9-feb8-4210-b5ab-2d86cfb384f3",
   "metadata": {},
   "source": [
    "##### Hematocrit\n",
    "- Hematocrit is a blood test that measures the percentage of red blood cells (RBCs) in the total blood volume. It is an important indicator of overall health and can help diagnose various medical conditions.\n",
    "    - Normal Hematocrit Ranges\n",
    "        - Men: 38.3% to 48.6%\n",
    "        - Women: 35.5% to 44.9% "
   ]
  },
  {
   "cell_type": "code",
   "execution_count": 41,
   "id": "b260454e-ada1-4a7d-90c9-d066e6f93706",
   "metadata": {},
   "outputs": [
    {
     "name": "stdout",
     "output_type": "stream",
     "text": [
      "                  count       mean     std  min   25%   50%   75%   max\n",
      "Hematocrit_DON  27291.0  28.397493  5.0099  2.3  25.0  27.9  31.3  75.0\n",
      "\n",
      ":::: NaN Count:\n",
      "Hematocrit_DON    203\n"
     ]
    }
   ],
   "source": [
    "# examine features\n",
    "features = uf.get_feature_list(df, 'Hematocrit')"
   ]
  },
  {
   "cell_type": "code",
   "execution_count": 42,
   "id": "67809cd0-b8a9-4959-9b26-af74d5ee5a6e",
   "metadata": {},
   "outputs": [
    {
     "data": {
      "text/html": [
       "<div>\n",
       "<style scoped>\n",
       "    .dataframe tbody tr th:only-of-type {\n",
       "        vertical-align: middle;\n",
       "    }\n",
       "\n",
       "    .dataframe tbody tr th {\n",
       "        vertical-align: top;\n",
       "    }\n",
       "\n",
       "    .dataframe thead th {\n",
       "        text-align: right;\n",
       "    }\n",
       "</style>\n",
       "<table border=\"1\" class=\"dataframe\">\n",
       "  <thead>\n",
       "    <tr style=\"text-align: right;\">\n",
       "      <th></th>\n",
       "      <th>Feature</th>\n",
       "      <th>Description</th>\n",
       "      <th>Form</th>\n",
       "      <th>FeatureStartDate</th>\n",
       "      <th>FeatureEndDate</th>\n",
       "      <th>FormSection</th>\n",
       "      <th>DataType</th>\n",
       "      <th>SASAnalysisFormat</th>\n",
       "      <th>Comment</th>\n",
       "      <th>OrginalFeature</th>\n",
       "      <th>FeatureType</th>\n",
       "      <th>Information</th>\n",
       "    </tr>\n",
       "  </thead>\n",
       "  <tbody>\n",
       "    <tr>\n",
       "      <th>127</th>\n",
       "      <td>Hematocrit_DON</td>\n",
       "      <td>DDR:Hematocrit:</td>\n",
       "      <td>DDR</td>\n",
       "      <td>2004-06-30</td>\n",
       "      <td>NaT</td>\n",
       "      <td>CLINICAL INFORMATION</td>\n",
       "      <td>NUM</td>\n",
       "      <td></td>\n",
       "      <td></td>\n",
       "      <td>HEMATOCRIT_DON</td>\n",
       "      <td>Numeric</td>\n",
       "      <td></td>\n",
       "    </tr>\n",
       "  </tbody>\n",
       "</table>\n",
       "</div>"
      ],
      "text/plain": [
       "            Feature      Description Form FeatureStartDate FeatureEndDate  \\\n",
       "127  Hematocrit_DON  DDR:Hematocrit:  DDR       2004-06-30            NaT   \n",
       "\n",
       "              FormSection DataType SASAnalysisFormat Comment  OrginalFeature  \\\n",
       "127  CLINICAL INFORMATION      NUM                            HEMATOCRIT_DON   \n",
       "\n",
       "    FeatureType Information  \n",
       "127     Numeric              "
      ]
     },
     "execution_count": 42,
     "metadata": {},
     "output_type": "execute_result"
    }
   ],
   "source": [
    "df_dict[df_dict.Feature.isin(features)]"
   ]
  },
  {
   "cell_type": "code",
   "execution_count": 43,
   "id": "dc538623-3e40-4dd5-9fa6-8a3c0ec4e266",
   "metadata": {},
   "outputs": [
    {
     "data": {
      "image/png": "[encoded data removed]",
      "text/plain": [
       "<Figure size 1500x500 with 1 Axes>"
      ]
     },
     "metadata": {},
     "output_type": "display_data"
    }
   ],
   "source": [
    "uv.plot_box(df, features, orientation='h')"
   ]
  },
  {
   "cell_type": "markdown",
   "id": "a4c1220c-662b-43db-b925-904566dfe45f",
   "metadata": {},
   "source": [
    "##### Hemodynamics\n",
    "- Hemodynamics refers to the study of blood flow and the forces involved in the circulatory system. It encompasses the physical principles governing blood movement through vessels and the heart, as well as the mechanics of blood flow and pressure regulation.\n",
    "    - Here are some key ways hemodynamics can be affected:\n",
    "        - Heart Failure: In heart failure, the heart's ability to pump blood effectively is compromised. This can lead to increased pressure in the heart and blood vessels, causing fluid buildup in the lungs and other tissues.\n",
    "        - Valvular Heart Disease: Conditions like aortic stenosis or mitral regurgitation affect the flow of blood through the heart valves. This can lead to abnormal pressure gradients and changes in blood flow patterns, which can be detected through hemodynamic measurements.\n",
    "        - Cardiomyopathies: These diseases affect the heart muscle, leading to changes in the heart's structure and function. Hemodynamic changes in cardiomyopathies can include altered cardiac output and increased filling pressures.\n",
    "        - Hypertension: High blood pressure increases the workload on the heart, leading to changes in hemodynamics such as increased systemic vascular resistance and altered cardiac output1.\n",
    "        - Pericardial Disease: Conditions like pericarditis or pericardial effusion can restrict the heart's movement, affecting hemodynamics by increasing pressures within the heart chambers and reducing cardiac output.\n",
    "\n",
    "    - Hemodynamics:\n",
    "        - Hemodynamics_SYS_CAN: Systolic blood pressure. (mmHg)\n",
    "        - Hemodynamics_PA_DIA_CAN: Pulmonary artery diastolic pressure. (mmHg)\n",
    "        - Hemodynamics_PA_MN_CAN: Pulmonary artery mean pressure. (mmHg)\n",
    "        - Hemodynamics_PCW_CAN: Pulmonary capillary wedge pressure. (mmHg)\n",
    "        - Hemodynamics_CO_CAN: Cardiac output. (L/min)"
   ]
  },
  {
   "cell_type": "code",
   "execution_count": 44,
   "id": "094b671e-94ff-4321-8aea-ac2d2eba260e",
   "metadata": {},
   "outputs": [
    {
     "name": "stdout",
     "output_type": "stream",
     "text": [
      "                                       count       mean        std   min    25%    50%    75%    max\n",
      "HemodynamicsRegistration_CO_CAN      25907.0   4.260398   1.340504  0.39   3.32   4.10   5.00   15.0\n",
      "HemodynamicsRegistration_PA_DIA_CAN  26479.0  20.504332   8.689102  0.00  14.00  20.00  26.00   91.0\n",
      "HemodynamicsRegistration_PA_MN_CAN   26238.0  28.598895  10.199296  0.00  21.00  28.00  36.00   96.0\n",
      "HemodynamicsRegistration_PCW_CAN     24881.0  19.112114   8.805536  0.00  12.00  19.00  25.00   50.0\n",
      "HemodynamicsRegistration_SYS_CAN     26498.0  41.967507  14.231162  0.00  31.00  41.00  52.00  130.0\n",
      "HemodynamicsTransplant_CO_CAN        25939.0   4.531083   1.458923  0.20   3.50   4.39   5.34   15.0\n",
      "HemodynamicsTransplant_PA_DIA_CAN    26355.0  19.166428   8.481572  0.00  13.00  18.00  25.00  110.0\n",
      "HemodynamicsTransplant_PA_MN_CAN     26115.0  27.018696   9.911634  0.00  20.00  26.00  34.00  110.0\n",
      "HemodynamicsTransplant_PCW_CAN       25143.0  17.784904   8.675766  0.00  11.00  17.00  24.00   50.0\n",
      "HemodynamicsTransplant_SYS_CAN       26371.0  39.751083  13.799092  0.00  30.00  38.00  49.00  159.0\n",
      "\n",
      ":::: NaN Count:\n",
      "HemodynamicsRegistration_CO_CAN        1587\n",
      "HemodynamicsRegistration_PA_DIA_CAN    1015\n",
      "HemodynamicsRegistration_PA_MN_CAN     1256\n",
      "HemodynamicsRegistration_PCW_CAN       2613\n",
      "HemodynamicsRegistration_SYS_CAN        996\n",
      "HemodynamicsTransplant_CO_CAN          1555\n",
      "HemodynamicsTransplant_PA_DIA_CAN      1139\n",
      "HemodynamicsTransplant_PA_MN_CAN       1379\n",
      "HemodynamicsTransplant_PCW_CAN         2351\n",
      "HemodynamicsTransplant_SYS_CAN         1123\n"
     ]
    }
   ],
   "source": [
    "# examine features\n",
    "features = uf.get_feature_list(df, 'Hemodynamics')"
   ]
  },
  {
   "cell_type": "code",
   "execution_count": 45,
   "id": "46b159a2-3e9c-4d8e-90e1-0f3fa1e2f8fa",
   "metadata": {},
   "outputs": [
    {
     "data": {
      "text/html": [
       "<div>\n",
       "<style scoped>\n",
       "    .dataframe tbody tr th:only-of-type {\n",
       "        vertical-align: middle;\n",
       "    }\n",
       "\n",
       "    .dataframe tbody tr th {\n",
       "        vertical-align: top;\n",
       "    }\n",
       "\n",
       "    .dataframe thead th {\n",
       "        text-align: right;\n",
       "    }\n",
       "</style>\n",
       "<table border=\"1\" class=\"dataframe\">\n",
       "  <thead>\n",
       "    <tr style=\"text-align: right;\">\n",
       "      <th></th>\n",
       "      <th>HemodynamicsRegistration_CO_CAN</th>\n",
       "      <th>HemodynamicsRegistration_PA_DIA_CAN</th>\n",
       "      <th>HemodynamicsRegistration_PA_MN_CAN</th>\n",
       "      <th>HemodynamicsRegistration_PCW_CAN</th>\n",
       "      <th>HemodynamicsRegistration_SYS_CAN</th>\n",
       "      <th>HemodynamicsTransplant_CO_CAN</th>\n",
       "      <th>HemodynamicsTransplant_PA_DIA_CAN</th>\n",
       "      <th>HemodynamicsTransplant_PA_MN_CAN</th>\n",
       "      <th>HemodynamicsTransplant_PCW_CAN</th>\n",
       "      <th>HemodynamicsTransplant_SYS_CAN</th>\n",
       "    </tr>\n",
       "  </thead>\n",
       "  <tbody>\n",
       "    <tr>\n",
       "      <th>HemodynamicsRegistration_CO_CAN</th>\n",
       "      <td>1.000000</td>\n",
       "      <td>-0.213014</td>\n",
       "      <td>-0.189201</td>\n",
       "      <td>-0.234595</td>\n",
       "      <td>-0.149344</td>\n",
       "      <td>0.513201</td>\n",
       "      <td>-0.103378</td>\n",
       "      <td>-0.088282</td>\n",
       "      <td>-0.108389</td>\n",
       "      <td>-0.068698</td>\n",
       "    </tr>\n",
       "    <tr>\n",
       "      <th>HemodynamicsRegistration_PA_DIA_CAN</th>\n",
       "      <td>-0.213014</td>\n",
       "      <td>1.000000</td>\n",
       "      <td>0.892885</td>\n",
       "      <td>0.823537</td>\n",
       "      <td>0.785306</td>\n",
       "      <td>-0.071732</td>\n",
       "      <td>0.527120</td>\n",
       "      <td>0.513446</td>\n",
       "      <td>0.464825</td>\n",
       "      <td>0.462562</td>\n",
       "    </tr>\n",
       "    <tr>\n",
       "      <th>HemodynamicsRegistration_PA_MN_CAN</th>\n",
       "      <td>-0.189201</td>\n",
       "      <td>0.892885</td>\n",
       "      <td>1.000000</td>\n",
       "      <td>0.837692</td>\n",
       "      <td>0.918313</td>\n",
       "      <td>-0.052573</td>\n",
       "      <td>0.503240</td>\n",
       "      <td>0.559257</td>\n",
       "      <td>0.471483</td>\n",
       "      <td>0.537652</td>\n",
       "    </tr>\n",
       "    <tr>\n",
       "      <th>HemodynamicsRegistration_PCW_CAN</th>\n",
       "      <td>-0.234595</td>\n",
       "      <td>0.823537</td>\n",
       "      <td>0.837692</td>\n",
       "      <td>1.000000</td>\n",
       "      <td>0.763412</td>\n",
       "      <td>-0.077183</td>\n",
       "      <td>0.472317</td>\n",
       "      <td>0.492329</td>\n",
       "      <td>0.553182</td>\n",
       "      <td>0.453301</td>\n",
       "    </tr>\n",
       "    <tr>\n",
       "      <th>HemodynamicsRegistration_SYS_CAN</th>\n",
       "      <td>-0.149344</td>\n",
       "      <td>0.785306</td>\n",
       "      <td>0.918313</td>\n",
       "      <td>0.763412</td>\n",
       "      <td>1.000000</td>\n",
       "      <td>-0.034931</td>\n",
       "      <td>0.455553</td>\n",
       "      <td>0.539258</td>\n",
       "      <td>0.433570</td>\n",
       "      <td>0.581715</td>\n",
       "    </tr>\n",
       "    <tr>\n",
       "      <th>HemodynamicsTransplant_CO_CAN</th>\n",
       "      <td>0.513201</td>\n",
       "      <td>-0.071732</td>\n",
       "      <td>-0.052573</td>\n",
       "      <td>-0.077183</td>\n",
       "      <td>-0.034931</td>\n",
       "      <td>1.000000</td>\n",
       "      <td>-0.218884</td>\n",
       "      <td>-0.187500</td>\n",
       "      <td>-0.222123</td>\n",
       "      <td>-0.157365</td>\n",
       "    </tr>\n",
       "    <tr>\n",
       "      <th>HemodynamicsTransplant_PA_DIA_CAN</th>\n",
       "      <td>-0.103378</td>\n",
       "      <td>0.527120</td>\n",
       "      <td>0.503240</td>\n",
       "      <td>0.472317</td>\n",
       "      <td>0.455553</td>\n",
       "      <td>-0.218884</td>\n",
       "      <td>1.000000</td>\n",
       "      <td>0.901282</td>\n",
       "      <td>0.820059</td>\n",
       "      <td>0.790707</td>\n",
       "    </tr>\n",
       "    <tr>\n",
       "      <th>HemodynamicsTransplant_PA_MN_CAN</th>\n",
       "      <td>-0.088282</td>\n",
       "      <td>0.513446</td>\n",
       "      <td>0.559257</td>\n",
       "      <td>0.492329</td>\n",
       "      <td>0.539258</td>\n",
       "      <td>-0.187500</td>\n",
       "      <td>0.901282</td>\n",
       "      <td>1.000000</td>\n",
       "      <td>0.832295</td>\n",
       "      <td>0.916934</td>\n",
       "    </tr>\n",
       "    <tr>\n",
       "      <th>HemodynamicsTransplant_PCW_CAN</th>\n",
       "      <td>-0.108389</td>\n",
       "      <td>0.464825</td>\n",
       "      <td>0.471483</td>\n",
       "      <td>0.553182</td>\n",
       "      <td>0.433570</td>\n",
       "      <td>-0.222123</td>\n",
       "      <td>0.820059</td>\n",
       "      <td>0.832295</td>\n",
       "      <td>1.000000</td>\n",
       "      <td>0.760729</td>\n",
       "    </tr>\n",
       "    <tr>\n",
       "      <th>HemodynamicsTransplant_SYS_CAN</th>\n",
       "      <td>-0.068698</td>\n",
       "      <td>0.462562</td>\n",
       "      <td>0.537652</td>\n",
       "      <td>0.453301</td>\n",
       "      <td>0.581715</td>\n",
       "      <td>-0.157365</td>\n",
       "      <td>0.790707</td>\n",
       "      <td>0.916934</td>\n",
       "      <td>0.760729</td>\n",
       "      <td>1.000000</td>\n",
       "    </tr>\n",
       "  </tbody>\n",
       "</table>\n",
       "</div>"
      ],
      "text/plain": [
       "                                     HemodynamicsRegistration_CO_CAN  \\\n",
       "HemodynamicsRegistration_CO_CAN                             1.000000   \n",
       "HemodynamicsRegistration_PA_DIA_CAN                        -0.213014   \n",
       "HemodynamicsRegistration_PA_MN_CAN                         -0.189201   \n",
       "HemodynamicsRegistration_PCW_CAN                           -0.234595   \n",
       "HemodynamicsRegistration_SYS_CAN                           -0.149344   \n",
       "HemodynamicsTransplant_CO_CAN                               0.513201   \n",
       "HemodynamicsTransplant_PA_DIA_CAN                          -0.103378   \n",
       "HemodynamicsTransplant_PA_MN_CAN                           -0.088282   \n",
       "HemodynamicsTransplant_PCW_CAN                             -0.108389   \n",
       "HemodynamicsTransplant_SYS_CAN                             -0.068698   \n",
       "\n",
       "                                     HemodynamicsRegistration_PA_DIA_CAN  \\\n",
       "HemodynamicsRegistration_CO_CAN                                -0.213014   \n",
       "HemodynamicsRegistration_PA_DIA_CAN                             1.000000   \n",
       "HemodynamicsRegistration_PA_MN_CAN                              0.892885   \n",
       "HemodynamicsRegistration_PCW_CAN                                0.823537   \n",
       "HemodynamicsRegistration_SYS_CAN                                0.785306   \n",
       "HemodynamicsTransplant_CO_CAN                                  -0.071732   \n",
       "HemodynamicsTransplant_PA_DIA_CAN                               0.527120   \n",
       "HemodynamicsTransplant_PA_MN_CAN                                0.513446   \n",
       "HemodynamicsTransplant_PCW_CAN                                  0.464825   \n",
       "HemodynamicsTransplant_SYS_CAN                                  0.462562   \n",
       "\n",
       "                                     HemodynamicsRegistration_PA_MN_CAN  \\\n",
       "HemodynamicsRegistration_CO_CAN                               -0.189201   \n",
       "HemodynamicsRegistration_PA_DIA_CAN                            0.892885   \n",
       "HemodynamicsRegistration_PA_MN_CAN                             1.000000   \n",
       "HemodynamicsRegistration_PCW_CAN                               0.837692   \n",
       "HemodynamicsRegistration_SYS_CAN                               0.918313   \n",
       "HemodynamicsTransplant_CO_CAN                                 -0.052573   \n",
       "HemodynamicsTransplant_PA_DIA_CAN                              0.503240   \n",
       "HemodynamicsTransplant_PA_MN_CAN                               0.559257   \n",
       "HemodynamicsTransplant_PCW_CAN                                 0.471483   \n",
       "HemodynamicsTransplant_SYS_CAN                                 0.537652   \n",
       "\n",
       "                                     HemodynamicsRegistration_PCW_CAN  \\\n",
       "HemodynamicsRegistration_CO_CAN                             -0.234595   \n",
       "HemodynamicsRegistration_PA_DIA_CAN                          0.823537   \n",
       "HemodynamicsRegistration_PA_MN_CAN                           0.837692   \n",
       "HemodynamicsRegistration_PCW_CAN                             1.000000   \n",
       "HemodynamicsRegistration_SYS_CAN                             0.763412   \n",
       "HemodynamicsTransplant_CO_CAN                               -0.077183   \n",
       "HemodynamicsTransplant_PA_DIA_CAN                            0.472317   \n",
       "HemodynamicsTransplant_PA_MN_CAN                             0.492329   \n",
       "HemodynamicsTransplant_PCW_CAN                               0.553182   \n",
       "HemodynamicsTransplant_SYS_CAN                               0.453301   \n",
       "\n",
       "                                     HemodynamicsRegistration_SYS_CAN  \\\n",
       "HemodynamicsRegistration_CO_CAN                             -0.149344   \n",
       "HemodynamicsRegistration_PA_DIA_CAN                          0.785306   \n",
       "HemodynamicsRegistration_PA_MN_CAN                           0.918313   \n",
       "HemodynamicsRegistration_PCW_CAN                             0.763412   \n",
       "HemodynamicsRegistration_SYS_CAN                             1.000000   \n",
       "HemodynamicsTransplant_CO_CAN                               -0.034931   \n",
       "HemodynamicsTransplant_PA_DIA_CAN                            0.455553   \n",
       "HemodynamicsTransplant_PA_MN_CAN                             0.539258   \n",
       "HemodynamicsTransplant_PCW_CAN                               0.433570   \n",
       "HemodynamicsTransplant_SYS_CAN                               0.581715   \n",
       "\n",
       "                                     HemodynamicsTransplant_CO_CAN  \\\n",
       "HemodynamicsRegistration_CO_CAN                           0.513201   \n",
       "HemodynamicsRegistration_PA_DIA_CAN                      -0.071732   \n",
       "HemodynamicsRegistration_PA_MN_CAN                       -0.052573   \n",
       "HemodynamicsRegistration_PCW_CAN                         -0.077183   \n",
       "HemodynamicsRegistration_SYS_CAN                         -0.034931   \n",
       "HemodynamicsTransplant_CO_CAN                             1.000000   \n",
       "HemodynamicsTransplant_PA_DIA_CAN                        -0.218884   \n",
       "HemodynamicsTransplant_PA_MN_CAN                         -0.187500   \n",
       "HemodynamicsTransplant_PCW_CAN                           -0.222123   \n",
       "HemodynamicsTransplant_SYS_CAN                           -0.157365   \n",
       "\n",
       "                                     HemodynamicsTransplant_PA_DIA_CAN  \\\n",
       "HemodynamicsRegistration_CO_CAN                              -0.103378   \n",
       "HemodynamicsRegistration_PA_DIA_CAN                           0.527120   \n",
       "HemodynamicsRegistration_PA_MN_CAN                            0.503240   \n",
       "HemodynamicsRegistration_PCW_CAN                              0.472317   \n",
       "HemodynamicsRegistration_SYS_CAN                              0.455553   \n",
       "HemodynamicsTransplant_CO_CAN                                -0.218884   \n",
       "HemodynamicsTransplant_PA_DIA_CAN                             1.000000   \n",
       "HemodynamicsTransplant_PA_MN_CAN                              0.901282   \n",
       "HemodynamicsTransplant_PCW_CAN                                0.820059   \n",
       "HemodynamicsTransplant_SYS_CAN                                0.790707   \n",
       "\n",
       "                                     HemodynamicsTransplant_PA_MN_CAN  \\\n",
       "HemodynamicsRegistration_CO_CAN                             -0.088282   \n",
       "HemodynamicsRegistration_PA_DIA_CAN                          0.513446   \n",
       "HemodynamicsRegistration_PA_MN_CAN                           0.559257   \n",
       "HemodynamicsRegistration_PCW_CAN                             0.492329   \n",
       "HemodynamicsRegistration_SYS_CAN                             0.539258   \n",
       "HemodynamicsTransplant_CO_CAN                               -0.187500   \n",
       "HemodynamicsTransplant_PA_DIA_CAN                            0.901282   \n",
       "HemodynamicsTransplant_PA_MN_CAN                             1.000000   \n",
       "HemodynamicsTransplant_PCW_CAN                               0.832295   \n",
       "HemodynamicsTransplant_SYS_CAN                               0.916934   \n",
       "\n",
       "                                     HemodynamicsTransplant_PCW_CAN  \\\n",
       "HemodynamicsRegistration_CO_CAN                           -0.108389   \n",
       "HemodynamicsRegistration_PA_DIA_CAN                        0.464825   \n",
       "HemodynamicsRegistration_PA_MN_CAN                         0.471483   \n",
       "HemodynamicsRegistration_PCW_CAN                           0.553182   \n",
       "HemodynamicsRegistration_SYS_CAN                           0.433570   \n",
       "HemodynamicsTransplant_CO_CAN                             -0.222123   \n",
       "HemodynamicsTransplant_PA_DIA_CAN                          0.820059   \n",
       "HemodynamicsTransplant_PA_MN_CAN                           0.832295   \n",
       "HemodynamicsTransplant_PCW_CAN                             1.000000   \n",
       "HemodynamicsTransplant_SYS_CAN                             0.760729   \n",
       "\n",
       "                                     HemodynamicsTransplant_SYS_CAN  \n",
       "HemodynamicsRegistration_CO_CAN                           -0.068698  \n",
       "HemodynamicsRegistration_PA_DIA_CAN                        0.462562  \n",
       "HemodynamicsRegistration_PA_MN_CAN                         0.537652  \n",
       "HemodynamicsRegistration_PCW_CAN                           0.453301  \n",
       "HemodynamicsRegistration_SYS_CAN                           0.581715  \n",
       "HemodynamicsTransplant_CO_CAN                             -0.157365  \n",
       "HemodynamicsTransplant_PA_DIA_CAN                          0.790707  \n",
       "HemodynamicsTransplant_PA_MN_CAN                           0.916934  \n",
       "HemodynamicsTransplant_PCW_CAN                             0.760729  \n",
       "HemodynamicsTransplant_SYS_CAN                             1.000000  "
      ]
     },
     "execution_count": 45,
     "metadata": {},
     "output_type": "execute_result"
    }
   ],
   "source": [
    "df[features].corr()"
   ]
  },
  {
   "cell_type": "code",
   "execution_count": 46,
   "id": "ba18b1a9-b6a7-42ae-a9dd-ed5bbde6f399",
   "metadata": {},
   "outputs": [
    {
     "name": "stdout",
     "output_type": "stream",
     "text": [
      "                                       count       mean        std   min    25%    50%    75%    max\n",
      "HemodynamicsRegistration_CO_CAN      25907.0   4.260398   1.340504  0.39   3.32   4.10   5.00   15.0\n",
      "HemodynamicsRegistration_PA_DIA_CAN  26479.0  20.504332   8.689102  0.00  14.00  20.00  26.00   91.0\n",
      "HemodynamicsRegistration_PA_MN_CAN   26238.0  28.598895  10.199296  0.00  21.00  28.00  36.00   96.0\n",
      "HemodynamicsRegistration_PCW_CAN     24881.0  19.112114   8.805536  0.00  12.00  19.00  25.00   50.0\n",
      "HemodynamicsRegistration_SYS_CAN     26498.0  41.967507  14.231162  0.00  31.00  41.00  52.00  130.0\n",
      "HemodynamicsTransplant_CO_CAN        25939.0   4.531083   1.458923  0.20   3.50   4.39   5.34   15.0\n",
      "HemodynamicsTransplant_PA_DIA_CAN    26355.0  19.166428   8.481572  0.00  13.00  18.00  25.00  110.0\n",
      "HemodynamicsTransplant_PA_MN_CAN     26115.0  27.018696   9.911634  0.00  20.00  26.00  34.00  110.0\n",
      "HemodynamicsTransplant_PCW_CAN       25143.0  17.784904   8.675766  0.00  11.00  17.00  24.00   50.0\n",
      "HemodynamicsTransplant_SYS_CAN       26371.0  39.751083  13.799092  0.00  30.00  38.00  49.00  159.0\n",
      "\n",
      ":::: NaN Count:\n",
      "HemodynamicsRegistration_CO_CAN        1587\n",
      "HemodynamicsRegistration_PA_DIA_CAN    1015\n",
      "HemodynamicsRegistration_PA_MN_CAN     1256\n",
      "HemodynamicsRegistration_PCW_CAN       2613\n",
      "HemodynamicsRegistration_SYS_CAN        996\n",
      "HemodynamicsTransplant_CO_CAN          1555\n",
      "HemodynamicsTransplant_PA_DIA_CAN      1139\n",
      "HemodynamicsTransplant_PA_MN_CAN       1379\n",
      "HemodynamicsTransplant_PCW_CAN         2351\n",
      "HemodynamicsTransplant_SYS_CAN         1123\n"
     ]
    }
   ],
   "source": [
    "# examine features\n",
    "features = uf.get_feature_list(df, 'Hemodynamics')"
   ]
  },
  {
   "cell_type": "code",
   "execution_count": 47,
   "id": "e6e336bb-01d6-45d2-bedd-41653fac2daf",
   "metadata": {},
   "outputs": [],
   "source": [
    "# create new feature if non of the row contain NaN\n",
    "df['Hemodynamics_Addition_CAN'] = df[features].apply(lambda row: row.sum() if row.notna().all() else np.nan, axis=1)\n",
    "\n",
    "# initialize list\n",
    "featuresD = ['Hemodynamics_Addition_CAN']"
   ]
  },
  {
   "cell_type": "code",
   "execution_count": 48,
   "id": "722f41b5-aa05-4ea9-bc94-090a854dd48e",
   "metadata": {},
   "outputs": [
    {
     "data": {
      "text/html": [
       "<div>\n",
       "<style scoped>\n",
       "    .dataframe tbody tr th:only-of-type {\n",
       "        vertical-align: middle;\n",
       "    }\n",
       "\n",
       "    .dataframe tbody tr th {\n",
       "        vertical-align: top;\n",
       "    }\n",
       "\n",
       "    .dataframe thead th {\n",
       "        text-align: right;\n",
       "    }\n",
       "</style>\n",
       "<table border=\"1\" class=\"dataframe\">\n",
       "  <thead>\n",
       "    <tr style=\"text-align: right;\">\n",
       "      <th></th>\n",
       "      <th>HemodynamicsRegistration_CO_CAN</th>\n",
       "      <th>HemodynamicsRegistration_PA_DIA_CAN</th>\n",
       "      <th>HemodynamicsRegistration_PA_MN_CAN</th>\n",
       "      <th>HemodynamicsRegistration_PCW_CAN</th>\n",
       "      <th>HemodynamicsRegistration_SYS_CAN</th>\n",
       "      <th>HemodynamicsTransplant_CO_CAN</th>\n",
       "      <th>HemodynamicsTransplant_PA_DIA_CAN</th>\n",
       "      <th>HemodynamicsTransplant_PA_MN_CAN</th>\n",
       "      <th>HemodynamicsTransplant_PCW_CAN</th>\n",
       "      <th>HemodynamicsTransplant_SYS_CAN</th>\n",
       "      <th>Hemodynamics_Addition_CAN</th>\n",
       "    </tr>\n",
       "  </thead>\n",
       "  <tbody>\n",
       "    <tr>\n",
       "      <th>HemodynamicsRegistration_CO_CAN</th>\n",
       "      <td>1.000000</td>\n",
       "      <td>-0.213014</td>\n",
       "      <td>-0.189201</td>\n",
       "      <td>-0.234595</td>\n",
       "      <td>-0.149344</td>\n",
       "      <td>0.513201</td>\n",
       "      <td>-0.103378</td>\n",
       "      <td>-0.088282</td>\n",
       "      <td>-0.108389</td>\n",
       "      <td>-0.068698</td>\n",
       "      <td>-0.146948</td>\n",
       "    </tr>\n",
       "    <tr>\n",
       "      <th>HemodynamicsRegistration_PA_DIA_CAN</th>\n",
       "      <td>-0.213014</td>\n",
       "      <td>1.000000</td>\n",
       "      <td>0.892885</td>\n",
       "      <td>0.823537</td>\n",
       "      <td>0.785306</td>\n",
       "      <td>-0.071732</td>\n",
       "      <td>0.527120</td>\n",
       "      <td>0.513446</td>\n",
       "      <td>0.464825</td>\n",
       "      <td>0.462562</td>\n",
       "      <td>0.822865</td>\n",
       "    </tr>\n",
       "    <tr>\n",
       "      <th>HemodynamicsRegistration_PA_MN_CAN</th>\n",
       "      <td>-0.189201</td>\n",
       "      <td>0.892885</td>\n",
       "      <td>1.000000</td>\n",
       "      <td>0.837692</td>\n",
       "      <td>0.918313</td>\n",
       "      <td>-0.052573</td>\n",
       "      <td>0.503240</td>\n",
       "      <td>0.559257</td>\n",
       "      <td>0.471483</td>\n",
       "      <td>0.537652</td>\n",
       "      <td>0.872609</td>\n",
       "    </tr>\n",
       "    <tr>\n",
       "      <th>HemodynamicsRegistration_PCW_CAN</th>\n",
       "      <td>-0.234595</td>\n",
       "      <td>0.823537</td>\n",
       "      <td>0.837692</td>\n",
       "      <td>1.000000</td>\n",
       "      <td>0.763412</td>\n",
       "      <td>-0.077183</td>\n",
       "      <td>0.472317</td>\n",
       "      <td>0.492329</td>\n",
       "      <td>0.553182</td>\n",
       "      <td>0.453301</td>\n",
       "      <td>0.802123</td>\n",
       "    </tr>\n",
       "    <tr>\n",
       "      <th>HemodynamicsRegistration_SYS_CAN</th>\n",
       "      <td>-0.149344</td>\n",
       "      <td>0.785306</td>\n",
       "      <td>0.918313</td>\n",
       "      <td>0.763412</td>\n",
       "      <td>1.000000</td>\n",
       "      <td>-0.034931</td>\n",
       "      <td>0.455553</td>\n",
       "      <td>0.539258</td>\n",
       "      <td>0.433570</td>\n",
       "      <td>0.581715</td>\n",
       "      <td>0.852833</td>\n",
       "    </tr>\n",
       "    <tr>\n",
       "      <th>HemodynamicsTransplant_CO_CAN</th>\n",
       "      <td>0.513201</td>\n",
       "      <td>-0.071732</td>\n",
       "      <td>-0.052573</td>\n",
       "      <td>-0.077183</td>\n",
       "      <td>-0.034931</td>\n",
       "      <td>1.000000</td>\n",
       "      <td>-0.218884</td>\n",
       "      <td>-0.187500</td>\n",
       "      <td>-0.222123</td>\n",
       "      <td>-0.157365</td>\n",
       "      <td>-0.118492</td>\n",
       "    </tr>\n",
       "    <tr>\n",
       "      <th>HemodynamicsTransplant_PA_DIA_CAN</th>\n",
       "      <td>-0.103378</td>\n",
       "      <td>0.527120</td>\n",
       "      <td>0.503240</td>\n",
       "      <td>0.472317</td>\n",
       "      <td>0.455553</td>\n",
       "      <td>-0.218884</td>\n",
       "      <td>1.000000</td>\n",
       "      <td>0.901282</td>\n",
       "      <td>0.820059</td>\n",
       "      <td>0.790707</td>\n",
       "      <td>0.814664</td>\n",
       "    </tr>\n",
       "    <tr>\n",
       "      <th>HemodynamicsTransplant_PA_MN_CAN</th>\n",
       "      <td>-0.088282</td>\n",
       "      <td>0.513446</td>\n",
       "      <td>0.559257</td>\n",
       "      <td>0.492329</td>\n",
       "      <td>0.539258</td>\n",
       "      <td>-0.187500</td>\n",
       "      <td>0.901282</td>\n",
       "      <td>1.000000</td>\n",
       "      <td>0.832295</td>\n",
       "      <td>0.916934</td>\n",
       "      <td>0.870169</td>\n",
       "    </tr>\n",
       "    <tr>\n",
       "      <th>HemodynamicsTransplant_PCW_CAN</th>\n",
       "      <td>-0.108389</td>\n",
       "      <td>0.464825</td>\n",
       "      <td>0.471483</td>\n",
       "      <td>0.553182</td>\n",
       "      <td>0.433570</td>\n",
       "      <td>-0.222123</td>\n",
       "      <td>0.820059</td>\n",
       "      <td>0.832295</td>\n",
       "      <td>1.000000</td>\n",
       "      <td>0.760729</td>\n",
       "      <td>0.788812</td>\n",
       "    </tr>\n",
       "    <tr>\n",
       "      <th>HemodynamicsTransplant_SYS_CAN</th>\n",
       "      <td>-0.068698</td>\n",
       "      <td>0.462562</td>\n",
       "      <td>0.537652</td>\n",
       "      <td>0.453301</td>\n",
       "      <td>0.581715</td>\n",
       "      <td>-0.157365</td>\n",
       "      <td>0.790707</td>\n",
       "      <td>0.916934</td>\n",
       "      <td>0.760729</td>\n",
       "      <td>1.000000</td>\n",
       "      <td>0.848276</td>\n",
       "    </tr>\n",
       "    <tr>\n",
       "      <th>Hemodynamics_Addition_CAN</th>\n",
       "      <td>-0.146948</td>\n",
       "      <td>0.822865</td>\n",
       "      <td>0.872609</td>\n",
       "      <td>0.802123</td>\n",
       "      <td>0.852833</td>\n",
       "      <td>-0.118492</td>\n",
       "      <td>0.814664</td>\n",
       "      <td>0.870169</td>\n",
       "      <td>0.788812</td>\n",
       "      <td>0.848276</td>\n",
       "      <td>1.000000</td>\n",
       "    </tr>\n",
       "  </tbody>\n",
       "</table>\n",
       "</div>"
      ],
      "text/plain": [
       "                                     HemodynamicsRegistration_CO_CAN  \\\n",
       "HemodynamicsRegistration_CO_CAN                             1.000000   \n",
       "HemodynamicsRegistration_PA_DIA_CAN                        -0.213014   \n",
       "HemodynamicsRegistration_PA_MN_CAN                         -0.189201   \n",
       "HemodynamicsRegistration_PCW_CAN                           -0.234595   \n",
       "HemodynamicsRegistration_SYS_CAN                           -0.149344   \n",
       "HemodynamicsTransplant_CO_CAN                               0.513201   \n",
       "HemodynamicsTransplant_PA_DIA_CAN                          -0.103378   \n",
       "HemodynamicsTransplant_PA_MN_CAN                           -0.088282   \n",
       "HemodynamicsTransplant_PCW_CAN                             -0.108389   \n",
       "HemodynamicsTransplant_SYS_CAN                             -0.068698   \n",
       "Hemodynamics_Addition_CAN                                  -0.146948   \n",
       "\n",
       "                                     HemodynamicsRegistration_PA_DIA_CAN  \\\n",
       "HemodynamicsRegistration_CO_CAN                                -0.213014   \n",
       "HemodynamicsRegistration_PA_DIA_CAN                             1.000000   \n",
       "HemodynamicsRegistration_PA_MN_CAN                              0.892885   \n",
       "HemodynamicsRegistration_PCW_CAN                                0.823537   \n",
       "HemodynamicsRegistration_SYS_CAN                                0.785306   \n",
       "HemodynamicsTransplant_CO_CAN                                  -0.071732   \n",
       "HemodynamicsTransplant_PA_DIA_CAN                               0.527120   \n",
       "HemodynamicsTransplant_PA_MN_CAN                                0.513446   \n",
       "HemodynamicsTransplant_PCW_CAN                                  0.464825   \n",
       "HemodynamicsTransplant_SYS_CAN                                  0.462562   \n",
       "Hemodynamics_Addition_CAN                                       0.822865   \n",
       "\n",
       "                                     HemodynamicsRegistration_PA_MN_CAN  \\\n",
       "HemodynamicsRegistration_CO_CAN                               -0.189201   \n",
       "HemodynamicsRegistration_PA_DIA_CAN                            0.892885   \n",
       "HemodynamicsRegistration_PA_MN_CAN                             1.000000   \n",
       "HemodynamicsRegistration_PCW_CAN                               0.837692   \n",
       "HemodynamicsRegistration_SYS_CAN                               0.918313   \n",
       "HemodynamicsTransplant_CO_CAN                                 -0.052573   \n",
       "HemodynamicsTransplant_PA_DIA_CAN                              0.503240   \n",
       "HemodynamicsTransplant_PA_MN_CAN                               0.559257   \n",
       "HemodynamicsTransplant_PCW_CAN                                 0.471483   \n",
       "HemodynamicsTransplant_SYS_CAN                                 0.537652   \n",
       "Hemodynamics_Addition_CAN                                      0.872609   \n",
       "\n",
       "                                     HemodynamicsRegistration_PCW_CAN  \\\n",
       "HemodynamicsRegistration_CO_CAN                             -0.234595   \n",
       "HemodynamicsRegistration_PA_DIA_CAN                          0.823537   \n",
       "HemodynamicsRegistration_PA_MN_CAN                           0.837692   \n",
       "HemodynamicsRegistration_PCW_CAN                             1.000000   \n",
       "HemodynamicsRegistration_SYS_CAN                             0.763412   \n",
       "HemodynamicsTransplant_CO_CAN                               -0.077183   \n",
       "HemodynamicsTransplant_PA_DIA_CAN                            0.472317   \n",
       "HemodynamicsTransplant_PA_MN_CAN                             0.492329   \n",
       "HemodynamicsTransplant_PCW_CAN                               0.553182   \n",
       "HemodynamicsTransplant_SYS_CAN                               0.453301   \n",
       "Hemodynamics_Addition_CAN                                    0.802123   \n",
       "\n",
       "                                     HemodynamicsRegistration_SYS_CAN  \\\n",
       "HemodynamicsRegistration_CO_CAN                             -0.149344   \n",
       "HemodynamicsRegistration_PA_DIA_CAN                          0.785306   \n",
       "HemodynamicsRegistration_PA_MN_CAN                           0.918313   \n",
       "HemodynamicsRegistration_PCW_CAN                             0.763412   \n",
       "HemodynamicsRegistration_SYS_CAN                             1.000000   \n",
       "HemodynamicsTransplant_CO_CAN                               -0.034931   \n",
       "HemodynamicsTransplant_PA_DIA_CAN                            0.455553   \n",
       "HemodynamicsTransplant_PA_MN_CAN                             0.539258   \n",
       "HemodynamicsTransplant_PCW_CAN                               0.433570   \n",
       "HemodynamicsTransplant_SYS_CAN                               0.581715   \n",
       "Hemodynamics_Addition_CAN                                    0.852833   \n",
       "\n",
       "                                     HemodynamicsTransplant_CO_CAN  \\\n",
       "HemodynamicsRegistration_CO_CAN                           0.513201   \n",
       "HemodynamicsRegistration_PA_DIA_CAN                      -0.071732   \n",
       "HemodynamicsRegistration_PA_MN_CAN                       -0.052573   \n",
       "HemodynamicsRegistration_PCW_CAN                         -0.077183   \n",
       "HemodynamicsRegistration_SYS_CAN                         -0.034931   \n",
       "HemodynamicsTransplant_CO_CAN                             1.000000   \n",
       "HemodynamicsTransplant_PA_DIA_CAN                        -0.218884   \n",
       "HemodynamicsTransplant_PA_MN_CAN                         -0.187500   \n",
       "HemodynamicsTransplant_PCW_CAN                           -0.222123   \n",
       "HemodynamicsTransplant_SYS_CAN                           -0.157365   \n",
       "Hemodynamics_Addition_CAN                                -0.118492   \n",
       "\n",
       "                                     HemodynamicsTransplant_PA_DIA_CAN  \\\n",
       "HemodynamicsRegistration_CO_CAN                              -0.103378   \n",
       "HemodynamicsRegistration_PA_DIA_CAN                           0.527120   \n",
       "HemodynamicsRegistration_PA_MN_CAN                            0.503240   \n",
       "HemodynamicsRegistration_PCW_CAN                              0.472317   \n",
       "HemodynamicsRegistration_SYS_CAN                              0.455553   \n",
       "HemodynamicsTransplant_CO_CAN                                -0.218884   \n",
       "HemodynamicsTransplant_PA_DIA_CAN                             1.000000   \n",
       "HemodynamicsTransplant_PA_MN_CAN                              0.901282   \n",
       "HemodynamicsTransplant_PCW_CAN                                0.820059   \n",
       "HemodynamicsTransplant_SYS_CAN                                0.790707   \n",
       "Hemodynamics_Addition_CAN                                     0.814664   \n",
       "\n",
       "                                     HemodynamicsTransplant_PA_MN_CAN  \\\n",
       "HemodynamicsRegistration_CO_CAN                             -0.088282   \n",
       "HemodynamicsRegistration_PA_DIA_CAN                          0.513446   \n",
       "HemodynamicsRegistration_PA_MN_CAN                           0.559257   \n",
       "HemodynamicsRegistration_PCW_CAN                             0.492329   \n",
       "HemodynamicsRegistration_SYS_CAN                             0.539258   \n",
       "HemodynamicsTransplant_CO_CAN                               -0.187500   \n",
       "HemodynamicsTransplant_PA_DIA_CAN                            0.901282   \n",
       "HemodynamicsTransplant_PA_MN_CAN                             1.000000   \n",
       "HemodynamicsTransplant_PCW_CAN                               0.832295   \n",
       "HemodynamicsTransplant_SYS_CAN                               0.916934   \n",
       "Hemodynamics_Addition_CAN                                    0.870169   \n",
       "\n",
       "                                     HemodynamicsTransplant_PCW_CAN  \\\n",
       "HemodynamicsRegistration_CO_CAN                           -0.108389   \n",
       "HemodynamicsRegistration_PA_DIA_CAN                        0.464825   \n",
       "HemodynamicsRegistration_PA_MN_CAN                         0.471483   \n",
       "HemodynamicsRegistration_PCW_CAN                           0.553182   \n",
       "HemodynamicsRegistration_SYS_CAN                           0.433570   \n",
       "HemodynamicsTransplant_CO_CAN                             -0.222123   \n",
       "HemodynamicsTransplant_PA_DIA_CAN                          0.820059   \n",
       "HemodynamicsTransplant_PA_MN_CAN                           0.832295   \n",
       "HemodynamicsTransplant_PCW_CAN                             1.000000   \n",
       "HemodynamicsTransplant_SYS_CAN                             0.760729   \n",
       "Hemodynamics_Addition_CAN                                  0.788812   \n",
       "\n",
       "                                     HemodynamicsTransplant_SYS_CAN  \\\n",
       "HemodynamicsRegistration_CO_CAN                           -0.068698   \n",
       "HemodynamicsRegistration_PA_DIA_CAN                        0.462562   \n",
       "HemodynamicsRegistration_PA_MN_CAN                         0.537652   \n",
       "HemodynamicsRegistration_PCW_CAN                           0.453301   \n",
       "HemodynamicsRegistration_SYS_CAN                           0.581715   \n",
       "HemodynamicsTransplant_CO_CAN                             -0.157365   \n",
       "HemodynamicsTransplant_PA_DIA_CAN                          0.790707   \n",
       "HemodynamicsTransplant_PA_MN_CAN                           0.916934   \n",
       "HemodynamicsTransplant_PCW_CAN                             0.760729   \n",
       "HemodynamicsTransplant_SYS_CAN                             1.000000   \n",
       "Hemodynamics_Addition_CAN                                  0.848276   \n",
       "\n",
       "                                     Hemodynamics_Addition_CAN  \n",
       "HemodynamicsRegistration_CO_CAN                      -0.146948  \n",
       "HemodynamicsRegistration_PA_DIA_CAN                   0.822865  \n",
       "HemodynamicsRegistration_PA_MN_CAN                    0.872609  \n",
       "HemodynamicsRegistration_PCW_CAN                      0.802123  \n",
       "HemodynamicsRegistration_SYS_CAN                      0.852833  \n",
       "HemodynamicsTransplant_CO_CAN                        -0.118492  \n",
       "HemodynamicsTransplant_PA_DIA_CAN                     0.814664  \n",
       "HemodynamicsTransplant_PA_MN_CAN                      0.870169  \n",
       "HemodynamicsTransplant_PCW_CAN                        0.788812  \n",
       "HemodynamicsTransplant_SYS_CAN                        0.848276  \n",
       "Hemodynamics_Addition_CAN                             1.000000  "
      ]
     },
     "execution_count": 48,
     "metadata": {},
     "output_type": "execute_result"
    }
   ],
   "source": [
    "df[features + featuresD].corr()"
   ]
  },
  {
   "cell_type": "code",
   "execution_count": 49,
   "id": "b4f3e7c5-1c53-4f81-a9f2-1d616060bc6a",
   "metadata": {},
   "outputs": [],
   "source": [
    "# update DataFrame\n",
    "df_drop  = uf.insert_into_dataframe(df_drop, features)\n",
    "df_numeric =  uf.insert_into_dataframe(df_numeric, featuresD)\n",
    "df_new =  uf.insert_into_dataframe(df_new, featuresD)\n",
    "df_can = uf.insert_into_dataframe(df_can, featuresD)"
   ]
  },
  {
   "cell_type": "markdown",
   "id": "61843e8d-3bbc-4a75-bab6-235d853e05fd",
   "metadata": {},
   "source": [
    "##### [IschemicTimeHour](https://www.sciencedirect.com/science/article/pii/S0041134513004715)\n",
    "- Ischemic time refers to the period during which an organ or tissue is deprived of blood supply and, consequently, oxygen. This concept is crucial in various medical contexts, particularly in transplantation and acute medical conditions like strokes and heart attacks.\n",
    "    - Importance in Transplantation\n",
    "        - Kidney: Optimal cold ischemic time is less than 20 hours, with suboptimal times extending beyond 36 hours.\n",
    "        - Liver: Optimal cold ischemic time is less than 10 hours.\n",
    "        - Heart: Optimal cold ischemic time is less than 4 hours.\n",
    "        - Lung: Optimal cold ischemic time is less than 8 hours1.\n",
    "    - Clinical Implications\n",
    "        - Prolonged ischemic times can lead to greater tissue damage and delayed organ function.\n",
    "        - Shorter ischemic times are associated with better transplant outcomes and long-term success"
   ]
  },
  {
   "cell_type": "code",
   "execution_count": 50,
   "id": "425e8b07-0e25-4131-bb9a-959be024b94b",
   "metadata": {},
   "outputs": [
    {
     "name": "stdout",
     "output_type": "stream",
     "text": [
      "                        count      mean       std  min  25%  50%  75%   max\n",
      "IschemicTimeHour_DON  26941.0  3.234223  1.070724  0.3  2.5  3.3  3.9  12.0\n",
      "\n",
      ":::: NaN Count:\n",
      "IschemicTimeHour_DON    553\n"
     ]
    }
   ],
   "source": [
    "# examine features\n",
    "features = uf.get_feature_list(df, 'IschemicTimeHour_DON')"
   ]
  },
  {
   "cell_type": "code",
   "execution_count": 51,
   "id": "4cf6e53d-a8c6-4658-a378-8e1e08a0b0d9",
   "metadata": {},
   "outputs": [
    {
     "data": {
      "image/png": "[encoded data removed]",
      "text/plain": [
       "<Figure size 1500x500 with 1 Axes>"
      ]
     },
     "metadata": {},
     "output_type": "display_data"
    }
   ],
   "source": [
    "uv.plot_box(df, features)"
   ]
  },
  {
   "cell_type": "markdown",
   "id": "1d3d6049-9947-4aa4-8842-2d91bcb658ec",
   "metadata": {},
   "source": [
    "##### LV_EjectionFractionPercent\n",
    "- Left ventricular ejection fraction (LVEF) is a critical measurement used to assess the function of the heart, particularly in the context of organ donation and transplantation. It represents the percentage of blood that is pumped out of the left ventricle with each heartbeat.\n",
    "    - Normal LVEF: Typically, a normal ejection fraction is between 50% and 70%.\n",
    "    - Mildly Reduced LVEF: Values between 41% and 49% may indicate mild dysfunction.\n",
    "    - Reduced LVEF: An LVEF less than 40% is often considered significantly reduced and may be a contraindication for organ donation, although recent studies suggest that donor hearts with reduced LVEF can still be viable for transplantation under certain conditions."
   ]
  },
  {
   "cell_type": "code",
   "execution_count": 52,
   "id": "dde2e553-01e1-473b-933c-c5eca7507404",
   "metadata": {},
   "outputs": [
    {
     "name": "stdout",
     "output_type": "stream",
     "text": [
      "                                  count       mean       std   min   25%   50%   75%   max\n",
      "LV_EjectionFractionPercent_DON  27463.0  61.619236  6.645749  10.0  56.0  60.0  65.0  99.0\n",
      "\n",
      ":::: NaN Count:\n",
      "LV_EjectionFractionPercent_DON    31\n"
     ]
    }
   ],
   "source": [
    "# examine features\n",
    "features = uf.get_feature_list(df, 'LV_EjectionFractionPercent')"
   ]
  },
  {
   "cell_type": "code",
   "execution_count": 53,
   "id": "48fc7600-4902-402a-9465-e9cfe9334e56",
   "metadata": {},
   "outputs": [
    {
     "data": {
      "text/html": [
       "<div>\n",
       "<style scoped>\n",
       "    .dataframe tbody tr th:only-of-type {\n",
       "        vertical-align: middle;\n",
       "    }\n",
       "\n",
       "    .dataframe tbody tr th {\n",
       "        vertical-align: top;\n",
       "    }\n",
       "\n",
       "    .dataframe thead th {\n",
       "        text-align: right;\n",
       "    }\n",
       "</style>\n",
       "<table border=\"1\" class=\"dataframe\">\n",
       "  <thead>\n",
       "    <tr style=\"text-align: right;\">\n",
       "      <th></th>\n",
       "      <th>Feature</th>\n",
       "      <th>Description</th>\n",
       "      <th>Form</th>\n",
       "      <th>FeatureStartDate</th>\n",
       "      <th>FeatureEndDate</th>\n",
       "      <th>FormSection</th>\n",
       "      <th>DataType</th>\n",
       "      <th>SASAnalysisFormat</th>\n",
       "      <th>Comment</th>\n",
       "      <th>OrginalFeature</th>\n",
       "      <th>FeatureType</th>\n",
       "      <th>Information</th>\n",
       "    </tr>\n",
       "  </thead>\n",
       "  <tbody>\n",
       "    <tr>\n",
       "      <th>195</th>\n",
       "      <td>LV_EjectionFractionPercent_DON</td>\n",
       "      <td>DECEASED DONOR LV EJECTION FRACTION %</td>\n",
       "      <td>DDR</td>\n",
       "      <td>1999-10-25</td>\n",
       "      <td>NaT</td>\n",
       "      <td>HEART DONOR'S CARDIAC FUNCTION</td>\n",
       "      <td>NUM</td>\n",
       "      <td></td>\n",
       "      <td></td>\n",
       "      <td>LV_EJECT</td>\n",
       "      <td>Numeric</td>\n",
       "      <td></td>\n",
       "    </tr>\n",
       "  </tbody>\n",
       "</table>\n",
       "</div>"
      ],
      "text/plain": [
       "                            Feature                            Description  \\\n",
       "195  LV_EjectionFractionPercent_DON  DECEASED DONOR LV EJECTION FRACTION %   \n",
       "\n",
       "    Form FeatureStartDate FeatureEndDate                     FormSection  \\\n",
       "195  DDR       1999-10-25            NaT  HEART DONOR'S CARDIAC FUNCTION   \n",
       "\n",
       "    DataType SASAnalysisFormat Comment OrginalFeature FeatureType Information  \n",
       "195      NUM                                 LV_EJECT     Numeric              "
      ]
     },
     "execution_count": 53,
     "metadata": {},
     "output_type": "execute_result"
    }
   ],
   "source": [
    "df_dict[df_dict.Feature.isin(features)]"
   ]
  },
  {
   "cell_type": "code",
   "execution_count": 54,
   "id": "48e957dd-82f5-41ca-9696-77ab65c0ac40",
   "metadata": {},
   "outputs": [
    {
     "data": {
      "image/png": "[encoded data removed]",
      "text/plain": [
       "<Figure size 1500x500 with 1 Axes>"
      ]
     },
     "metadata": {},
     "output_type": "display_data"
    }
   ],
   "source": [
    "uv.plot_box(df, features, orientation='h')"
   ]
  },
  {
   "cell_type": "markdown",
   "id": "d520faf2-4f3d-49b3-8364-356e5c7f335f",
   "metadata": {},
   "source": [
    "##### [Level_SGOT](https://www.mdpi.com/2073-4409/9/3/567)\n",
    "- SGOT (AST) and ALT (DON) are enzymes that are commonly measured to assess liver health:\n",
    "    - SGOT (AST): Also known as aspartate aminotransferase (AST), this enzyme is found in various tissues, including the liver, heart, muscles, and kidneys. It plays a role in amino acid metabolism. Elevated levels of AST in the blood can indicate liver damage, heart problems, or muscle injury.\n",
    "        - Conservative normal range of 8 to 45 units/L for healthy individuals. \n",
    "    - SGOT (ALT): Also known as alanine aminotransferase (ALT), this enzyme is primarily found in the liver. It helps convert proteins into energy for liver cells. High levels of ALT are more specific to liver damage compared to AST.\n",
    "        - The typical normal range for ALT is approximately 7 to 56 units per liter (U/L) of serum. However, ranges may vary slightly between laboratories. "
   ]
  },
  {
   "cell_type": "code",
   "execution_count": 55,
   "id": "a1461501-4795-4e74-b16a-df8db399992e",
   "metadata": {},
   "outputs": [
    {
     "name": "stdout",
     "output_type": "stream",
     "text": [
      "                      count        mean         std  min   25%   50%   75%      max\n",
      "Level_SGOT_ALT_DON  27287.0  114.875032  408.872451  3.0  23.0  41.0  83.0  44117.0\n",
      "Level_SGOT_AST_DON  27287.0  102.015934  302.539273  0.3  26.0  44.0  87.0  10254.0\n",
      "\n",
      ":::: NaN Count:\n",
      "Level_SGOT_ALT_DON    207\n",
      "Level_SGOT_AST_DON    207\n"
     ]
    }
   ],
   "source": [
    "# examine features\n",
    "features = uf.get_feature_list(df, 'Level_SGOT')"
   ]
  },
  {
   "cell_type": "code",
   "execution_count": 56,
   "id": "239495b5-f21d-4da0-a4b5-57a13fac57d1",
   "metadata": {},
   "outputs": [
    {
     "data": {
      "text/html": [
       "<div>\n",
       "<style scoped>\n",
       "    .dataframe tbody tr th:only-of-type {\n",
       "        vertical-align: middle;\n",
       "    }\n",
       "\n",
       "    .dataframe tbody tr th {\n",
       "        vertical-align: top;\n",
       "    }\n",
       "\n",
       "    .dataframe thead th {\n",
       "        text-align: right;\n",
       "    }\n",
       "</style>\n",
       "<table border=\"1\" class=\"dataframe\">\n",
       "  <thead>\n",
       "    <tr style=\"text-align: right;\">\n",
       "      <th></th>\n",
       "      <th>Feature</th>\n",
       "      <th>Description</th>\n",
       "      <th>Form</th>\n",
       "      <th>FeatureStartDate</th>\n",
       "      <th>FeatureEndDate</th>\n",
       "      <th>FormSection</th>\n",
       "      <th>DataType</th>\n",
       "      <th>SASAnalysisFormat</th>\n",
       "      <th>Comment</th>\n",
       "      <th>OrginalFeature</th>\n",
       "      <th>FeatureType</th>\n",
       "      <th>Information</th>\n",
       "    </tr>\n",
       "  </thead>\n",
       "  <tbody>\n",
       "    <tr>\n",
       "      <th>259</th>\n",
       "      <td>Level_SGOT_AST_DON</td>\n",
       "      <td>DECEASED DONOR-TERMINAL SGOT/AST</td>\n",
       "      <td>DDR</td>\n",
       "      <td>1994-04-01</td>\n",
       "      <td>NaT</td>\n",
       "      <td>CLINICAL INFORMATION</td>\n",
       "      <td>NUM</td>\n",
       "      <td></td>\n",
       "      <td></td>\n",
       "      <td>SGOT_DON</td>\n",
       "      <td>Numeric</td>\n",
       "      <td></td>\n",
       "    </tr>\n",
       "    <tr>\n",
       "      <th>260</th>\n",
       "      <td>Level_SGOT_ALT_DON</td>\n",
       "      <td>DECEASED DONOR-TERMINAL SGPT/ALT</td>\n",
       "      <td>DDR</td>\n",
       "      <td>1994-04-01</td>\n",
       "      <td>NaT</td>\n",
       "      <td>CLINICAL INFORMATION</td>\n",
       "      <td>NUM</td>\n",
       "      <td></td>\n",
       "      <td></td>\n",
       "      <td>SGPT_DON</td>\n",
       "      <td>Numeric</td>\n",
       "      <td></td>\n",
       "    </tr>\n",
       "  </tbody>\n",
       "</table>\n",
       "</div>"
      ],
      "text/plain": [
       "                Feature                       Description Form  \\\n",
       "259  Level_SGOT_AST_DON  DECEASED DONOR-TERMINAL SGOT/AST  DDR   \n",
       "260  Level_SGOT_ALT_DON  DECEASED DONOR-TERMINAL SGPT/ALT  DDR   \n",
       "\n",
       "    FeatureStartDate FeatureEndDate           FormSection DataType  \\\n",
       "259       1994-04-01            NaT  CLINICAL INFORMATION      NUM   \n",
       "260       1994-04-01            NaT  CLINICAL INFORMATION      NUM   \n",
       "\n",
       "    SASAnalysisFormat Comment OrginalFeature FeatureType Information  \n",
       "259                                 SGOT_DON     Numeric              \n",
       "260                                 SGPT_DON     Numeric              "
      ]
     },
     "execution_count": 56,
     "metadata": {},
     "output_type": "execute_result"
    }
   ],
   "source": [
    "df_dict[df_dict.Feature.isin(features)]"
   ]
  },
  {
   "cell_type": "code",
   "execution_count": 57,
   "id": "624d4ca2-9eb8-45d1-87c3-edb8db17f5f4",
   "metadata": {},
   "outputs": [
    {
     "data": {
      "text/html": [
       "<div>\n",
       "<style scoped>\n",
       "    .dataframe tbody tr th:only-of-type {\n",
       "        vertical-align: middle;\n",
       "    }\n",
       "\n",
       "    .dataframe tbody tr th {\n",
       "        vertical-align: top;\n",
       "    }\n",
       "\n",
       "    .dataframe thead th {\n",
       "        text-align: right;\n",
       "    }\n",
       "</style>\n",
       "<table border=\"1\" class=\"dataframe\">\n",
       "  <thead>\n",
       "    <tr style=\"text-align: right;\">\n",
       "      <th></th>\n",
       "      <th>Level_SGOT_ALT_DON</th>\n",
       "      <th>Level_SGOT_AST_DON</th>\n",
       "    </tr>\n",
       "  </thead>\n",
       "  <tbody>\n",
       "    <tr>\n",
       "      <th>Level_SGOT_ALT_DON</th>\n",
       "      <td>1.000000</td>\n",
       "      <td>0.556127</td>\n",
       "    </tr>\n",
       "    <tr>\n",
       "      <th>Level_SGOT_AST_DON</th>\n",
       "      <td>0.556127</td>\n",
       "      <td>1.000000</td>\n",
       "    </tr>\n",
       "  </tbody>\n",
       "</table>\n",
       "</div>"
      ],
      "text/plain": [
       "                    Level_SGOT_ALT_DON  Level_SGOT_AST_DON\n",
       "Level_SGOT_ALT_DON            1.000000            0.556127\n",
       "Level_SGOT_AST_DON            0.556127            1.000000"
      ]
     },
     "execution_count": 57,
     "metadata": {},
     "output_type": "execute_result"
    }
   ],
   "source": [
    "df[features].corr()"
   ]
  },
  {
   "cell_type": "markdown",
   "id": "91a467a8-92ef-4349-a824-940f1f4a51e7",
   "metadata": {},
   "source": [
    "##### Addition can help you understand the combined enzyme activity. Capturing the overall level of these enzymes might be helpful."
   ]
  },
  {
   "cell_type": "code",
   "execution_count": 58,
   "id": "976c2d33-4de6-44fc-af54-650241fd600a",
   "metadata": {},
   "outputs": [],
   "source": [
    "# new feature\n",
    "df['Level_SGOT_Addition_DON'] = df.Level_SGOT_ALT_DON + df.Level_SGOT_AST_DON\n",
    "\n",
    "# initialize list\n",
    "new = ['Level_SGOT_Addition_DON']\n",
    "\n",
    "# update DataFrame\n",
    "df_drop  = uf.insert_into_dataframe(df_drop, features)\n",
    "df_numeric =  uf.insert_into_dataframe(df_numeric, new)\n",
    "df_new =  uf.insert_into_dataframe(df_new, new)\n",
    "df_both = uf.insert_into_dataframe(df_both, new)\n",
    "df_don = uf.insert_into_dataframe(df_don, new)"
   ]
  },
  {
   "cell_type": "code",
   "execution_count": 59,
   "id": "5df06d1e-cec7-44be-a5cc-9bb85b135350",
   "metadata": {},
   "outputs": [
    {
     "data": {
      "image/png": "[encoded data removed]",
      "text/plain": [
       "<Figure size 1500x500 with 1 Axes>"
      ]
     },
     "metadata": {},
     "output_type": "display_data"
    }
   ],
   "source": [
    "uv.plot_box(df, new, orientation='h')"
   ]
  },
  {
   "cell_type": "markdown",
   "id": "b537fa34-62b3-4e7d-b1cd-7a857697e7ad",
   "metadata": {},
   "source": [
    "##### LungPO2\n",
    "    - Remove:\n",
    "        - LungPO2_Done_DON \n",
    "- Lung PO2 (Partial Pressure of Oxygen) is a measure of the pressure exerted by oxygen in the lungs. It is an important indicator of how well oxygen is being transferred from the air in the lungs to the blood. The value of PO2 is typically measured in millimeters of mercury (mmHg) and provides insight into the efficiency of the respiratory system. In clinical and transplant contexts, particularly with donors, it helps assess the oxygenation status of the donor’s lungs, which is critical when evaluating organs for transplantation. `LungPO2_DON`: PO2 on 100% oxygen refers to the partial pressure of oxygen in arterial blood when a patient is breathing 100% oxygen.\n",
    "\n",
    "- The Fraction of Inspired Oxygen (Lung FIO2) refers to the concentration of oxygen in the air that is being inhaled by a patient. It is a critical parameter in managing patients with respiratory distress and is often expressed as a percentage or as a decimal. `LungPO2_FIO2_DON`: Lung pO2 on FiO2 refers to the partial pressure of oxygen in arterial blood (PaO2) in relation to the fraction of inspired oxygen (FiO2).\n",
    "    - Normal Range for FIO2\n",
    "        - Room Air: The FIO2 in room air is approximately 21% or 0.21 as a decimal.\n",
    "    - Supplemental Oxygen:\n",
    "        - Low-Flow Oxygen Therapy: FIO2 can range from about 24% (0.24) to 40% (0.40), depending on the delivery device (e.g., nasal cannula, simple face mask).\n",
    "        - High-Flow Oxygen Therapy: FIO2 can be set between 40% (0.40) and 100% (1.0), especially in more controlled environments like intensive care units.<br><br>\n",
    "\n",
    "- The partial pressure of oxygen (PO2) levels can significantly impact heart conditions.\n",
    "    - Low PO2 levels, or hypoxemia, can lead to insufficient oxygen in the blood, which stresses the heart as it works harder to supply oxygen to tissues1. This can exacerbate conditions like congestive heart failure.\n",
    "    - To compensate for low oxygen levels, the heart may increase its rate and output, which can strain the heart over time2.\n",
    "    - Even if blood oxygenation appears normal, poor cardiac output can result in inadequate oxygen delivery to tissues, leading to hypoxia. This can cause symptoms like chest pain, shortness of breath, and fatigue.\n",
    "    - Interestingly, higher bilirubin levels, which can be influenced by PO2, have been associated with a reduced risk of cardiovascular diseases due to their antioxidant properties."
   ]
  },
  {
   "cell_type": "code",
   "execution_count": 60,
   "id": "40d590f6-9d90-41a5-9085-cb8fc033183c",
   "metadata": {},
   "outputs": [
    {
     "name": "stdout",
     "output_type": "stream",
     "text": [
      "                    count unique      top   freq        mean         std   min    25%    50%    75%    max\n",
      "LungPO2_DON       27254.0    NaN      NaN    NaN  281.117169  159.796818  7.38  131.0  258.0  426.0  698.0\n",
      "LungPO2_Done_DON    27494      3  Missing  19938         NaN         NaN   NaN    NaN    NaN    NaN    NaN\n",
      "LungPO2_FIO2_DON  27175.0    NaN      NaN    NaN   82.080221   25.587828   1.0   60.0  100.0  100.0  100.0\n",
      "\n",
      ":::: NaN Count:\n",
      "LungPO2_DON         240\n",
      "LungPO2_Done_DON      0\n",
      "LungPO2_FIO2_DON    319\n"
     ]
    }
   ],
   "source": [
    "# examine features\n",
    "features = uf.get_feature_list(df, 'LungPO2')"
   ]
  },
  {
   "cell_type": "code",
   "execution_count": 61,
   "id": "06d9d999-ee3f-4b4f-8b7a-2e30d72d0fb1",
   "metadata": {},
   "outputs": [
    {
     "data": {
      "text/plain": [
       "LungPO2_Done_DON\n",
       "Missing    19938\n",
       "Yes         7525\n",
       "No            31\n",
       "Name: count, dtype: int64"
      ]
     },
     "execution_count": 61,
     "metadata": {},
     "output_type": "execute_result"
    }
   ],
   "source": [
    "df.LungPO2_Done_DON.value_counts(dropna=False)"
   ]
  },
  {
   "cell_type": "code",
   "execution_count": 62,
   "id": "454bea38-d15d-4d44-bc37-1f3ed54ab429",
   "metadata": {},
   "outputs": [
    {
     "data": {
      "text/html": [
       "<div>\n",
       "<style scoped>\n",
       "    .dataframe tbody tr th:only-of-type {\n",
       "        vertical-align: middle;\n",
       "    }\n",
       "\n",
       "    .dataframe tbody tr th {\n",
       "        vertical-align: top;\n",
       "    }\n",
       "\n",
       "    .dataframe thead th {\n",
       "        text-align: right;\n",
       "    }\n",
       "</style>\n",
       "<table border=\"1\" class=\"dataframe\">\n",
       "  <thead>\n",
       "    <tr style=\"text-align: right;\">\n",
       "      <th></th>\n",
       "      <th>LungPO2_DON</th>\n",
       "      <th>LungPO2_FIO2_DON</th>\n",
       "    </tr>\n",
       "  </thead>\n",
       "  <tbody>\n",
       "    <tr>\n",
       "      <th>LungPO2_DON</th>\n",
       "      <td>1.000000</td>\n",
       "      <td>0.617971</td>\n",
       "    </tr>\n",
       "    <tr>\n",
       "      <th>LungPO2_FIO2_DON</th>\n",
       "      <td>0.617971</td>\n",
       "      <td>1.000000</td>\n",
       "    </tr>\n",
       "  </tbody>\n",
       "</table>\n",
       "</div>"
      ],
      "text/plain": [
       "                  LungPO2_DON  LungPO2_FIO2_DON\n",
       "LungPO2_DON          1.000000          0.617971\n",
       "LungPO2_FIO2_DON     0.617971          1.000000"
      ]
     },
     "execution_count": 62,
     "metadata": {},
     "output_type": "execute_result"
    }
   ],
   "source": [
    "# remove feature\n",
    "features.remove('LungPO2_Done_DON')\n",
    "# corr\n",
    "df[features].corr()"
   ]
  },
  {
   "cell_type": "code",
   "execution_count": 63,
   "id": "cbb29692-5f56-4873-bd85-7c62e62a7194",
   "metadata": {},
   "outputs": [
    {
     "data": {
      "image/png": "[encoded data removed]",
      "text/plain": [
       "<Figure size 1500x500 with 2 Axes>"
      ]
     },
     "metadata": {},
     "output_type": "display_data"
    }
   ],
   "source": [
    "uv.plot_box(df, features, orientation='v')"
   ]
  },
  {
   "cell_type": "markdown",
   "id": "879a0e68-5785-4b25-a839-e3e6032b3fa3",
   "metadata": {},
   "source": [
    "##### OrganRecovery\n",
    "- Normal `PCO2` Levels: The normal range for arterial blood `PCO2` is 35 to 45 mmHg (millimeters of mercury) or 4.7 to 6.0 kPa"
   ]
  },
  {
   "cell_type": "code",
   "execution_count": 64,
   "id": "43200539-de55-4644-b633-12970a82a1c1",
   "metadata": {},
   "outputs": [
    {
     "name": "stdout",
     "output_type": "stream",
     "text": [
      "                          count      mean       std   min   25%   50%   75%    max\n",
      "OrganRecovery_PCO2_DON  27261.0  38.66196  7.050992  10.1  34.0  38.0  42.2  116.3\n",
      "\n",
      ":::: NaN Count:\n",
      "OrganRecovery_PCO2_DON    233\n"
     ]
    }
   ],
   "source": [
    "# examine features\n",
    "features = uf.get_feature_list(df, 'OrganRecovery')"
   ]
  },
  {
   "cell_type": "code",
   "execution_count": 65,
   "id": "84effa77-e9bb-4e78-b6b0-eb96219b288d",
   "metadata": {},
   "outputs": [
    {
     "data": {
      "text/html": [
       "<div>\n",
       "<style scoped>\n",
       "    .dataframe tbody tr th:only-of-type {\n",
       "        vertical-align: middle;\n",
       "    }\n",
       "\n",
       "    .dataframe tbody tr th {\n",
       "        vertical-align: top;\n",
       "    }\n",
       "\n",
       "    .dataframe thead th {\n",
       "        text-align: right;\n",
       "    }\n",
       "</style>\n",
       "<table border=\"1\" class=\"dataframe\">\n",
       "  <thead>\n",
       "    <tr style=\"text-align: right;\">\n",
       "      <th></th>\n",
       "      <th>Feature</th>\n",
       "      <th>Description</th>\n",
       "      <th>Form</th>\n",
       "      <th>FeatureStartDate</th>\n",
       "      <th>FeatureEndDate</th>\n",
       "      <th>FormSection</th>\n",
       "      <th>DataType</th>\n",
       "      <th>SASAnalysisFormat</th>\n",
       "      <th>Comment</th>\n",
       "      <th>OrginalFeature</th>\n",
       "      <th>FeatureType</th>\n",
       "      <th>Information</th>\n",
       "    </tr>\n",
       "  </thead>\n",
       "  <tbody>\n",
       "    <tr>\n",
       "      <th>208</th>\n",
       "      <td>OrganRecovery_PCO2_DON</td>\n",
       "      <td>DDR:pCO2:</td>\n",
       "      <td>DDR</td>\n",
       "      <td>2004-06-30</td>\n",
       "      <td>NaT</td>\n",
       "      <td>ORGAN RECOVERY</td>\n",
       "      <td>NUM</td>\n",
       "      <td></td>\n",
       "      <td></td>\n",
       "      <td>PCO2_DON</td>\n",
       "      <td>Numeric</td>\n",
       "      <td>Maintaining appropriate PCO2 levels is crucial for preserving organ function and optimizing outcomes in transplantation.</td>\n",
       "    </tr>\n",
       "  </tbody>\n",
       "</table>\n",
       "</div>"
      ],
      "text/plain": [
       "                    Feature Description Form FeatureStartDate FeatureEndDate  \\\n",
       "208  OrganRecovery_PCO2_DON   DDR:pCO2:  DDR       2004-06-30            NaT   \n",
       "\n",
       "        FormSection DataType SASAnalysisFormat Comment OrginalFeature  \\\n",
       "208  ORGAN RECOVERY      NUM                                 PCO2_DON   \n",
       "\n",
       "    FeatureType  \\\n",
       "208     Numeric   \n",
       "\n",
       "                                                                                                                  Information  \n",
       "208  Maintaining appropriate PCO2 levels is crucial for preserving organ function and optimizing outcomes in transplantation.  "
      ]
     },
     "execution_count": 65,
     "metadata": {},
     "output_type": "execute_result"
    }
   ],
   "source": [
    "df_dict[df_dict.Feature.isin(features)]"
   ]
  },
  {
   "cell_type": "code",
   "execution_count": 66,
   "id": "df475e33-c097-4554-a0a4-8db8695284d2",
   "metadata": {},
   "outputs": [
    {
     "data": {
      "image/png": "[encoded data removed]",
      "text/plain": [
       "<Figure size 1500x500 with 1 Axes>"
      ]
     },
     "metadata": {},
     "output_type": "display_data"
    }
   ],
   "source": [
    "uv.plot_box(df, features, orientation='h')"
   ]
  },
  {
   "cell_type": "markdown",
   "id": "cab7021b-0c13-4d7d-acc8-91240ce88b65",
   "metadata": {},
   "source": [
    "##### [Bilirubin](https://www.mountsinai.org/health-library/tests/bilirubin-blood-test)\n",
    "- Heart conditions can indeed influence total bilirubin levels, though the relationship is complex. Generally, higher bilirubin levels have been associated with a reduced risk of cardiovascular diseases (CVD). This is because bilirubin has antioxidant properties that may protect against oxidative stress and inflammation, which are key factors in the development of CVD. However, certain heart conditions, especially those that affect liver function or blood flow, could potentially lead to changes in bilirubin levels. For example, congestive heart failure can cause liver congestion, which might impair the liver's ability to process bilirubin, potentially leading to elevated levels.\n",
    "- Bilirubin is a clinical measurement that evaluates the combined levels of direct (conjugated) and indirect (unconjugated) bilirubin in the blood. It is an important diagnostic marker for liver function, bile duct health, and conditions like jaundice."
   ]
  },
  {
   "cell_type": "code",
   "execution_count": 67,
   "id": "7b20ffc7-9e80-4c89-b9ac-2a8e31676b4a",
   "metadata": {},
   "outputs": [
    {
     "name": "stdout",
     "output_type": "stream",
     "text": [
      "                                count      mean       std  min  25%  50%  75%   max\n",
      "TerminalTotalBilirubin_DON    27288.0  1.044261  1.427990  0.0  0.5  0.7  1.1  45.4\n",
      "TotalBilirubinTransplant_CAN  27041.0  0.995037  1.732819  0.1  0.5  0.7  1.1  80.0\n",
      "\n",
      ":::: NaN Count:\n",
      "TerminalTotalBilirubin_DON      206\n",
      "TotalBilirubinTransplant_CAN    453\n"
     ]
    }
   ],
   "source": [
    "# examine features\n",
    "features = uf.get_feature_list(df, 'Bilirubin')"
   ]
  },
  {
   "cell_type": "code",
   "execution_count": 68,
   "id": "402037e1-f9d6-49ff-ab2f-15f57155e026",
   "metadata": {},
   "outputs": [],
   "source": [
    "# new feature\n",
    "df['TotalBilirubin_Addition'] = df.TotalBilirubinTransplant_CAN + df.TerminalTotalBilirubin_DON\n",
    "\n",
    "# initialize list\n",
    "new = ['TotalBilirubin_Addition']\n",
    "\n",
    "# update DataFrame\n",
    "df_drop  = uf.insert_into_dataframe(df_drop, features)\n",
    "df_numeric =  uf.insert_into_dataframe(df_numeric, new)\n",
    "df_new =  uf.insert_into_dataframe(df_new, new)\n",
    "df_both = uf.insert_into_dataframe(df_both, new)"
   ]
  },
  {
   "cell_type": "code",
   "execution_count": 69,
   "id": "85f6ccf4-832d-4944-b3a8-e197036b6c6e",
   "metadata": {},
   "outputs": [
    {
     "data": {
      "image/png": "[encoded data removed]",
      "text/plain": [
       "<Figure size 1500x500 with 1 Axes>"
      ]
     },
     "metadata": {},
     "output_type": "display_data"
    }
   ],
   "source": [
    "uv.plot_box(df, new, orientation='h')"
   ]
  },
  {
   "cell_type": "markdown",
   "id": "3a1a6524-d1e5-47c2-aaa0-53c5780f65f6",
   "metadata": {},
   "source": [
    "##### TotalDayWaitList"
   ]
  },
  {
   "cell_type": "code",
   "execution_count": 70,
   "id": "830a8e80-b2c4-49d9-93f7-7358c1e68831",
   "metadata": {},
   "outputs": [
    {
     "name": "stdout",
     "output_type": "stream",
     "text": [
      "                        count        mean         std  min   25%   50%    75%     max\n",
      "TotalDayWaitList_CAN  27494.0  192.774314  311.074495  0.0  18.0  69.0  231.0  3835.0\n",
      "\n",
      ":::: NaN Count:\n",
      "TotalDayWaitList_CAN    0\n"
     ]
    }
   ],
   "source": [
    "# examine features\n",
    "features = uf.get_feature_list(df, 'TotalDayWaitList')"
   ]
  },
  {
   "cell_type": "code",
   "execution_count": 71,
   "id": "d5a9a647-ba94-4552-982e-665aa0681b34",
   "metadata": {},
   "outputs": [
    {
     "data": {
      "image/png": "[encoded data removed]",
      "text/plain": [
       "<Figure size 1500x500 with 1 Axes>"
      ]
     },
     "metadata": {},
     "output_type": "display_data"
    }
   ],
   "source": [
    "uv.plot_box(df, features, orientation='h')"
   ]
  },
  {
   "cell_type": "markdown",
   "id": "d43b820e-d1cd-4dd8-852c-f6bfb792557b",
   "metadata": {},
   "source": [
    "### Nominal"
   ]
  },
  {
   "cell_type": "code",
   "execution_count": 72,
   "id": "99efec2e-66fe-46d5-975d-703cb5c44b73",
   "metadata": {},
   "outputs": [],
   "source": [
    "# remove unused category\n",
    "df = uf.remove_cat_zero_count(df).copy()"
   ]
  },
  {
   "cell_type": "code",
   "execution_count": 73,
   "id": "8c662c3a-bff7-45cc-8203-7b87266eed8c",
   "metadata": {},
   "outputs": [
    {
     "name": "stdout",
     "output_type": "stream",
     "text": [
      "['AcuteRejectionEpisode', 'AirwayDehiscencePostTransplant', 'AllocationType_DON', 'AntiHypertensive_DON', 'AntibodyResultHBSAB_DON', 'AntibodyResultRPR_VDRL_DON', 'Antibody_HEP_C_DON', 'AntigenBW4_CAN', 'AntigenBW6_CAN', 'AntigenC1_CAN', 'AntigenC2_CAN', 'AntigenDA1_DON', 'AntigenDA2_DON', 'AntigenDB1_DON', 'AntigenDB2_DON', 'AntigenDQ1_CAN', 'AntigenDQ2_CAN', 'AntigenDR1_DON', 'AntigenDR2_DON', 'AntigenDR51_2_CAN', 'AntigenDR51_CAN', 'AntigenDR52_2_CAN', 'AntigenDR52_CAN', 'AntigenDR53_2_CAN', 'AntigenDR53_CAN', 'AntigenRA1_CAN', 'AntigenRA2_CAN', 'AntigenRB1_CAN', 'AntigenRB2_CAN', 'AntigenRDR1_CAN', 'AntigenRDR2_CAN', 'ArginnieManagement_DON', 'Biopsy_DON', 'BloodGroupMatchLevel', 'BloodGroup_CAN', 'BloodGroup_DON', 'BloodInfectionSource_DON', 'BronchoscopyLeft_DON', 'BronchoscopyRight_DON', 'CMVStatus_Transplant_CAN', 'CMV_IGG_Transplant_CAN', 'CMV_IGM_Transplant_CAN', 'CancerExtraCranial_DON', 'CancerHistory_DON', 'CancerIntraCranial_DON', 'CancerSkin_DON', 'CardiacArrest_DON', 'CauseOfDeath_DON', 'CerebroVascularDisease_CAN', 'ChestXray_DON', 'CigaretteHistory_DON', 'CigaretteUse_CAN', 'Citizenship_CAN', 'Citizenship_DON', 'CocaineUse_DON', 'CoronaryAngiogram_DON', 'CrossMatchDone', 'DeathCircumstance_DON', 'DeathMechanism_DON', 'DeceasedRetyped_DON', 'DefibrillatorImplantRegistration_CAN', 'DiabetesHistory_DON', 'DiabetesType_CAN', 'Diabetes_DON', 'DiagnosisAtListing_CAN', 'DialysisBetweenRegistrationTransplant_CAN', 'DialysisPostDischarge', 'DialysisPriorRegistration_CAN', 'Diuretics_DON', 'EpsteinBarrSeroStatusTransplant_CAN', 'EpsteinBarr_IGG_DON', 'EpsteinBarr_IGM_DON', 'Ethnicity_CAN', 'Ethnicity_DON', 'Gender_CAN', 'Gender_DON', 'GraftFailStatus', 'GraftStatus', 'HBV_NAT_Result_CAN', 'HBV_NAT_Result_DON', 'HCV_NAT_PreTranspant_CAN', 'HCV_NAT_Result_DON', 'HEP_C_SerostatusStatus_CAN', 'HIV_NAT_PreTransplant_CAN', 'HIV_NAT_Result_DON', 'HIV_Risk_DON', 'HIV_SeroStatusTransplant_CAN', 'HeartProcedureType_CAN', 'HeavyAlcoholUse_DON', 'HeparinManagement_DON', 'Hepatitis_B_CoreAntibody_CAN', 'Hepatitis_B_CoreAntibody_DON', 'Hispanic_CAN', 'HypertensionHistory_DON', 'InfectionClinical_DON', 'InfectionTherapyIV_CAN', 'InotropesIVRegistration_CAN', 'InotropesIVTransplant_CAN', 'InotropesVasodilatorsRegistration_CO_CAN', 'InotropesVasodilatorsRegistration_DIA_CAN', 'InotropesVasodilatorsRegistration_MN_CAN', 'InotropesVasodilatorsRegistration_PCW_CAN', 'InotropesVasodilatorsRegistration_SYS_CAN', 'InotropesVasodilatorsTransplant_CO_CAN', 'InotropesVasodilatorsTransplant_DIA_CAN', 'InotropesVasodilatorsTransplant_MN_CAN', 'InotropesVasodilatorsTransplant_PCW_CAN', 'InotropesVasodilatorsTransplant_SYS_CAN', 'InotropicAgent_DON', 'InotropicMedicationProcurement_DON', 'InsulinManagement_DON', 'KidneyAllocation_DON', 'LV_EjectionFractionMedthod_DON', 'LifeSupportInhaledRegistration_CAN', 'LifeSupportInhaledTransplant_CAN', 'LifeSupportInhaled_CAN', 'LifeSupportMechanismRegistration_OTHER_CAN', 'LifeSupportMechanismTransplant_OTHER_CAN', 'LifeSupportRegistration_CAN', 'LifeSupportRegistration_ECMO_CAN', 'LifeSupportRegistration_IABP_CAN', 'LifeSupportRegistration_PGE_CAN', 'LifeSupportTransplant_CAN', 'LifeSupportTransplant_ECMO_CAN', 'LifeSupportTransplant_IABP_CAN', 'LifeSupportTransplant_PGE_CAN', 'LungPO2_Done_DON', 'MalignancyBetweenRegistrationTransplant_CAN', 'Malignancy_CAN', 'MyocardialInfarctionHistory_DON', 'NonHeartBeating_DON', 'OtherDrugUse_DON', 'OtherInfectionSource_DON', 'PacemakerPostTransplant', 'PastCocaineUse_DON', 'PastOtherDrugUse_DON', 'PreviousMalignancy_CAN', 'PreviousTransplantAnyOrgan_CAN', 'PreviousTransplantSameOrgan_CAN', 'PrimaryDiagnosisType_CAN', 'PriorCardiacSurgeryListAndTransplant_CAN', 'PriorCardiacSurgeryTypeListAndTransplant_CAN', 'PriorCardiacSurgeryType_CAN', 'PriorCardiacSurgery_CAN', 'PriorLungSurgeryAfterRegistration_CAN', 'PulmonaryCatheter_DON', 'PulmonaryInfection_DON', 'RecipientStatus', 'RejectionTreatmentWithinOneYear', 'ResidencyStateRegistration_CAN', 'ResidencyStateTransplant_CAN', 'ResidencyState_DON', 'SerologyAntiCMV_DON', 'StatusAtTransplant_CAN', 'SteroidsUse_CAN', 'SteroidsUse_DON', 'StrokePostTransplant', 'SurfaceAntigenHEP_B_CAN', 'SurfaceAntigenHEP_B_DON', 'SurfaceHBVAntibodyTotalTransplant_CAN', 'SynthicAntiDiureticHormone_DON', 'Tatoos_DON', 'ThyroxineT4_DON', 'TransfusionAfterRegistration_CAN', 'TransplantRegion', 'TransplantStatus', 'TransplantType_CAN', 'TriiodothyronineT3_DON', 'UrineInfection_DON', 'UrinePortein_DON', 'Vasodilators_DON', 'VentilatorRegistration_CAN', 'VentilatorTransplant_CAN', 'VentilatorySupportAfterRegistration_CAN', 'VentilatorySupport_CAN', 'WaitListDiagnosisCode_CAN', 'WorkIncomeRegistration_CAN', 'WorkIncomeTransplant_CAN']\n"
     ]
    }
   ],
   "source": [
    "print(sorted(df_nominal.column.to_list()))"
   ]
  },
  {
   "cell_type": "markdown",
   "id": "0becb3da-547c-4434-a98c-9ca05061f04d",
   "metadata": {},
   "source": [
    "#### User Function(s)"
   ]
  },
  {
   "cell_type": "code",
   "execution_count": 74,
   "id": "883fd039-af11-45c6-8cfd-5dd13d56b352",
   "metadata": {},
   "outputs": [],
   "source": [
    "def valuCounts(data, featuresList):\n",
    "    for feature in featuresList:\n",
    "        print(data[feature].value_counts(dropna=False).to_string())\n",
    "        print('\\n')\n",
    "\n",
    "def genericMapCat(value):\n",
    "    if value in ['Missing', 'Not Done', 'Indeterminate', 'UNKNOWN', 'Pending', 'Cannot Disclose']:\n",
    "        return 'Unknown'\n",
    "    else:\n",
    "        return value\n",
    "\n",
    "\n",
    "def antigenMapCat(value):\n",
    "    if value in ['Not Tested','Unknown', 'Not Done']:\n",
    "        return 'Unknown'\n",
    "    elif value == '0':\n",
    "        return 'Negative'\n",
    "    else:\n",
    "        return value  \n",
    "\n",
    "\n",
    "def antigenCDR(value):\n",
    "    if value in ['0', 'No second antigen detected']:\n",
    "        return 'Negative'\n",
    "    elif value in ['Missing', 'Not Done', 'Not Tested']:\n",
    "        return 'Unknown'\n",
    "    else:\n",
    "        return 'Positive'\n",
    "\n",
    "\n",
    "def bronchMapCat(value):\n",
    "    if value in ['Missing','No Bronchoscopy','Unknown','Unknown if bronchoscopy performed']:\n",
    "        return 'Unknown'\n",
    "    elif value in ['Normal']:\n",
    "        return value\n",
    "    else:\n",
    "        return 'Abnormal'\n",
    "\n",
    "\n",
    "def cmvMapCat(value):\n",
    "    if value in ['Indeterminate','Not Done','Missing']:\n",
    "        return 'Unknown'\n",
    "    else:\n",
    "        return value\n",
    "\n",
    "\n",
    "def xrayMapCat(value):\n",
    "    if value in ['Missing', 'Results Unknown', 'No chest x-ray']:\n",
    "        return 'Unknown'\n",
    "    elif value in ['Normal']:\n",
    "        return value\n",
    "    else:\n",
    "        return 'Abnormal'\n",
    "\n",
    "\n",
    "def epsteinBarrMapCat(value):\n",
    "    if value in ['Not Done','Indeterminate', 'Missing', 'Pending']:\n",
    "        return 'Unknown'\n",
    "    else:\n",
    "        return value"
   ]
  },
  {
   "cell_type": "markdown",
   "id": "81efc618-b4b7-408a-9878-620891a757c6",
   "metadata": {},
   "source": [
    "##### AcuteRejectionEpisode (LABEL)"
   ]
  },
  {
   "cell_type": "code",
   "execution_count": 75,
   "id": "9d0d15f2-07d2-4d33-b214-8e7b04e15d55",
   "metadata": {},
   "outputs": [
    {
     "name": "stdout",
     "output_type": "stream",
     "text": [
      "                       count unique top   freq\n",
      "AcuteRejectionEpisode  27494      4  No  21925\n",
      "\n",
      ":::: NaN Count:\n",
      "AcuteRejectionEpisode    0\n"
     ]
    }
   ],
   "source": [
    "features = uf.get_feature_list(df, 'AcuteRejectionEpisode')"
   ]
  },
  {
   "cell_type": "code",
   "execution_count": 76,
   "id": "7b1d382f-f67b-4246-b5bf-fd94766a1c9a",
   "metadata": {},
   "outputs": [
    {
     "name": "stdout",
     "output_type": "stream",
     "text": [
      "AcuteRejectionEpisode\n",
      "No                                                             21925\n",
      "Yes, at least one episode treated with anti-rejection agent     2844\n",
      "Yes, none treated with additional anti-rejection agent          2253\n",
      "Missing                                                          472\n",
      "\n",
      "\n"
     ]
    }
   ],
   "source": [
    "valuCounts(df, features)"
   ]
  },
  {
   "cell_type": "code",
   "execution_count": 77,
   "id": "ebd4a96c-2f76-42dd-84f8-6979e5354e21",
   "metadata": {},
   "outputs": [
    {
     "name": "stdout",
     "output_type": "stream",
     "text": [
      "AcuteRejectionEpisode\n",
      "No                                                             21925\n",
      "Yes, at least one episode treated with anti-rejection agent     2844\n",
      "Yes, none treated with additional anti-rejection agent          2253\n",
      "Unknown                                                          472\n",
      "\n",
      "\n"
     ]
    }
   ],
   "source": [
    "# remap\n",
    "df[features] = df[features].map(genericMapCat).fillna(df[features])\n",
    "valuCounts(df, features)"
   ]
  },
  {
   "cell_type": "markdown",
   "id": "931cfdf0-95e2-4a3d-971a-7a5fb936a49c",
   "metadata": {},
   "source": [
    "##### AirwayDehiscencePostTransplant"
   ]
  },
  {
   "cell_type": "code",
   "execution_count": 78,
   "id": "a07a33f1-890e-4a3b-8153-2e532a04e378",
   "metadata": {},
   "outputs": [
    {
     "name": "stdout",
     "output_type": "stream",
     "text": [
      "                                count unique top   freq\n",
      "AirwayDehiscencePostTransplant  27494      4  No  26834\n",
      "\n",
      ":::: NaN Count:\n",
      "AirwayDehiscencePostTransplant    0\n"
     ]
    }
   ],
   "source": [
    "features = uf.get_feature_list(df, 'AirwayDehiscencePostTransplant')"
   ]
  },
  {
   "cell_type": "code",
   "execution_count": 79,
   "id": "06eda555-70a2-445a-beb4-b191a950ab97",
   "metadata": {},
   "outputs": [
    {
     "name": "stdout",
     "output_type": "stream",
     "text": [
      "AirwayDehiscencePostTransplant\n",
      "No         26834\n",
      "Missing      464\n",
      "Unknown      123\n",
      "Yes           73\n",
      "\n",
      "\n"
     ]
    }
   ],
   "source": [
    "valuCounts(df, features)"
   ]
  },
  {
   "cell_type": "code",
   "execution_count": 80,
   "id": "6871aa87-930b-45e3-83f6-752accdd5cc6",
   "metadata": {},
   "outputs": [
    {
     "name": "stdout",
     "output_type": "stream",
     "text": [
      "AirwayDehiscencePostTransplant\n",
      "No         26834\n",
      "Unknown      587\n",
      "Yes           73\n",
      "\n",
      "\n"
     ]
    }
   ],
   "source": [
    "# remap\n",
    "df[features] = df[features].map(genericMapCat).fillna(df[features])\n",
    "valuCounts(df, features)"
   ]
  },
  {
   "cell_type": "markdown",
   "id": "a37c28d7-38e8-4231-8c12-06e72d819385",
   "metadata": {},
   "source": [
    "##### AllocationType_DON"
   ]
  },
  {
   "cell_type": "code",
   "execution_count": 81,
   "id": "f5d40bf4-4e54-4bea-abfb-76216edb9e14",
   "metadata": {},
   "outputs": [
    {
     "name": "stdout",
     "output_type": "stream",
     "text": [
      "                    count unique    top   freq\n",
      "AllocationType_DON  27494      4  Local  13907\n",
      "\n",
      ":::: NaN Count:\n",
      "AllocationType_DON    0\n"
     ]
    }
   ],
   "source": [
    "features = uf.get_feature_list(df, 'AllocationType_DON')"
   ]
  },
  {
   "cell_type": "code",
   "execution_count": 82,
   "id": "e813e4a3-a6ff-4f69-b96e-1bea4b43b557",
   "metadata": {},
   "outputs": [
    {
     "name": "stdout",
     "output_type": "stream",
     "text": [
      "AllocationType_DON\n",
      "Local            13907\n",
      "National          8311\n",
      "Regional          5251\n",
      "Foreign Donor       25\n",
      "\n",
      "\n"
     ]
    }
   ],
   "source": [
    "valuCounts(df, features)"
   ]
  },
  {
   "cell_type": "markdown",
   "id": "a5496653-3afa-43da-9d32-fa4aeebada19",
   "metadata": {},
   "source": [
    "##### AntiHypertensive_DON"
   ]
  },
  {
   "cell_type": "code",
   "execution_count": 83,
   "id": "420c5874-3e09-416d-be30-72873c0efb73",
   "metadata": {},
   "outputs": [
    {
     "name": "stdout",
     "output_type": "stream",
     "text": [
      "                      count unique top   freq\n",
      "AntiHypertensive_DON  27494      4  No  18224\n",
      "\n",
      ":::: NaN Count:\n",
      "AntiHypertensive_DON    0\n"
     ]
    }
   ],
   "source": [
    "features = uf.get_feature_list(df, 'AntiHypertensive_DON')"
   ]
  },
  {
   "cell_type": "code",
   "execution_count": 84,
   "id": "5b491f49-6bce-422c-ab24-53c96564f0d3",
   "metadata": {},
   "outputs": [
    {
     "name": "stdout",
     "output_type": "stream",
     "text": [
      "AntiHypertensive_DON\n",
      "No         18224\n",
      "Yes         9057\n",
      "Missing      204\n",
      "Unknown        9\n",
      "\n",
      "\n"
     ]
    }
   ],
   "source": [
    "valuCounts(df, features)"
   ]
  },
  {
   "cell_type": "code",
   "execution_count": 85,
   "id": "16c5c425-bbab-4ec5-8d3d-7b1f7a2d375a",
   "metadata": {},
   "outputs": [
    {
     "name": "stdout",
     "output_type": "stream",
     "text": [
      "AntiHypertensive_DON\n",
      "No         18224\n",
      "Yes         9057\n",
      "Unknown      213\n",
      "\n",
      "\n"
     ]
    }
   ],
   "source": [
    "# remap\n",
    "df[features] = df[features].map(genericMapCat).fillna(df[features])\n",
    "valuCounts(df, features)"
   ]
  },
  {
   "cell_type": "markdown",
   "id": "c5c9384a-ddb0-4481-8fb1-0e05699a7920",
   "metadata": {},
   "source": [
    "##### Antibody Result"
   ]
  },
  {
   "cell_type": "code",
   "execution_count": 86,
   "id": "0e96d5a8-f8eb-46f8-8343-0cb78658a5dd",
   "metadata": {},
   "outputs": [
    {
     "name": "stdout",
     "output_type": "stream",
     "text": [
      "                            count unique       top   freq\n",
      "AntibodyResultHBSAB_DON     27494      7  Not Done  23406\n",
      "AntibodyResultRPR_VDRL_DON  27494      4  Negative  26751\n",
      "\n",
      ":::: NaN Count:\n",
      "AntibodyResultHBSAB_DON       0\n",
      "AntibodyResultRPR_VDRL_DON    0\n"
     ]
    }
   ],
   "source": [
    "features = uf.get_feature_list(df, 'AntibodyResult')"
   ]
  },
  {
   "cell_type": "code",
   "execution_count": 87,
   "id": "dbaa609e-85fa-43b4-9068-f85f9eb2b615",
   "metadata": {},
   "outputs": [
    {
     "name": "stdout",
     "output_type": "stream",
     "text": [
      "AntibodyResultHBSAB_DON\n",
      "Not Done           23406\n",
      "Negative            2410\n",
      "Positive            1570\n",
      "Indeterminate         57\n",
      "Missing               44\n",
      "Unknown                6\n",
      "Cannot Disclose        1\n",
      "\n",
      "\n",
      "AntibodyResultRPR_VDRL_DON\n",
      "Negative    26751\n",
      "Not Done      542\n",
      "Positive      181\n",
      "Missing        20\n",
      "\n",
      "\n"
     ]
    }
   ],
   "source": [
    "valuCounts(df, features)"
   ]
  },
  {
   "cell_type": "code",
   "execution_count": 88,
   "id": "989dbc20-fee2-4ec3-b421-eb8254b6a0af",
   "metadata": {},
   "outputs": [
    {
     "name": "stdout",
     "output_type": "stream",
     "text": [
      "AntibodyResultHBSAB_DON\n",
      "Unknown     23514\n",
      "Negative     2410\n",
      "Positive     1570\n",
      "\n",
      "\n",
      "AntibodyResultRPR_VDRL_DON\n",
      "Negative    26751\n",
      "Unknown       562\n",
      "Positive      181\n",
      "\n",
      "\n"
     ]
    }
   ],
   "source": [
    "# remap\n",
    "df[features] = df[features].map(genericMapCat).fillna(df[features])\n",
    "valuCounts(df, features)"
   ]
  },
  {
   "cell_type": "markdown",
   "id": "296853e5-22be-4fe7-8559-e4e7f3c4ee0f",
   "metadata": {},
   "source": [
    "##### Antibody_HEP"
   ]
  },
  {
   "cell_type": "code",
   "execution_count": 89,
   "id": "a0928795-c536-48df-aa37-3d663dfef4b5",
   "metadata": {},
   "outputs": [
    {
     "name": "stdout",
     "output_type": "stream",
     "text": [
      "                    count unique       top   freq\n",
      "Antibody_HEP_C_DON  27494      5  Negative  26048\n",
      "\n",
      ":::: NaN Count:\n",
      "Antibody_HEP_C_DON    0\n"
     ]
    }
   ],
   "source": [
    "features = uf.get_feature_list(df, 'Antibody_HEP')"
   ]
  },
  {
   "cell_type": "code",
   "execution_count": 90,
   "id": "6179628c-7f78-438c-ba04-20f31d40927d",
   "metadata": {},
   "outputs": [
    {
     "name": "stdout",
     "output_type": "stream",
     "text": [
      "Antibody_HEP_C_DON\n",
      "Negative    26048\n",
      "Positive     1441\n",
      "Missing         3\n",
      "Not Done        1\n",
      "Pending         1\n",
      "\n",
      "\n"
     ]
    }
   ],
   "source": [
    "valuCounts(df, features)"
   ]
  },
  {
   "cell_type": "code",
   "execution_count": 91,
   "id": "459af134-5717-4bf3-a86b-ffe32d4f29ef",
   "metadata": {},
   "outputs": [
    {
     "name": "stdout",
     "output_type": "stream",
     "text": [
      "Antibody_HEP_C_DON\n",
      "Negative    26048\n",
      "Positive     1441\n",
      "Unknown         5\n",
      "\n",
      "\n"
     ]
    }
   ],
   "source": [
    "# remap\n",
    "df[features] = df[features].map(genericMapCat).fillna(df[features])\n",
    "valuCounts(df, features)"
   ]
  },
  {
   "cell_type": "markdown",
   "id": "cf7c82ba-b6cb-4885-ade4-cdb7f75525de",
   "metadata": {},
   "source": [
    "##### AntigenB"
   ]
  },
  {
   "cell_type": "code",
   "execution_count": 92,
   "id": "8cf76eb0-d0e2-41d3-88c2-727a619e67b8",
   "metadata": {},
   "outputs": [
    {
     "name": "stdout",
     "output_type": "stream",
     "text": [
      "                count unique top   freq\n",
      "AntigenBW4_CAN  27494      4   0  18669\n",
      "AntigenBW6_CAN  27494      4   0  18337\n",
      "\n",
      ":::: NaN Count:\n",
      "AntigenBW4_CAN    0\n",
      "AntigenBW6_CAN    0\n"
     ]
    }
   ],
   "source": [
    "features = uf.get_feature_list(df, 'AntigenBW')"
   ]
  },
  {
   "cell_type": "code",
   "execution_count": 93,
   "id": "86ff1708-59d2-4b79-a7fb-eddeed9d243d",
   "metadata": {},
   "outputs": [
    {
     "name": "stdout",
     "output_type": "stream",
     "text": [
      "AntigenBW4_CAN\n",
      "0           18669\n",
      "Positive     5980\n",
      "Negative     2840\n",
      "Not Done        5\n",
      "\n",
      "\n",
      "AntigenBW6_CAN\n",
      "0           18337\n",
      "Positive     7989\n",
      "Negative     1167\n",
      "Not Done        1\n",
      "\n",
      "\n"
     ]
    }
   ],
   "source": [
    "valuCounts(df, features)"
   ]
  },
  {
   "cell_type": "code",
   "execution_count": 94,
   "id": "ae1615e8-12cd-4412-a65c-d62670494276",
   "metadata": {},
   "outputs": [
    {
     "name": "stdout",
     "output_type": "stream",
     "text": [
      "AntigenBW4_CAN\n",
      "Negative    21509\n",
      "Positive     5980\n",
      "Unknown         5\n",
      "\n",
      "\n",
      "AntigenBW6_CAN\n",
      "Negative    19504\n",
      "Positive     7989\n",
      "Unknown         1\n",
      "\n",
      "\n"
     ]
    }
   ],
   "source": [
    "# remap\n",
    "df[features] = df[features].map(antigenMapCat).fillna(df[features])\n",
    "valuCounts(df, features)"
   ]
  },
  {
   "cell_type": "markdown",
   "id": "c3993429-a9d6-4b26-a09e-6483f85eeb29",
   "metadata": {},
   "source": [
    "##### AntigenC"
   ]
  },
  {
   "cell_type": "code",
   "execution_count": 95,
   "id": "56a4faad-be15-41bb-ba83-143e126acc2e",
   "metadata": {},
   "outputs": [
    {
     "name": "stdout",
     "output_type": "stream",
     "text": [
      "               count unique top   freq\n",
      "AntigenC1_CAN  27494     37   0  18502\n",
      "AntigenC2_CAN  27494     45   0  19309\n",
      "\n",
      ":::: NaN Count:\n",
      "AntigenC1_CAN    0\n",
      "AntigenC2_CAN    0\n"
     ]
    }
   ],
   "source": [
    "features = uf.get_feature_list(df, 'AntigenC')"
   ]
  },
  {
   "cell_type": "code",
   "execution_count": 96,
   "id": "a7d32aff-d8e4-43f3-9e94-cc79ddb1a99d",
   "metadata": {},
   "outputs": [
    {
     "name": "stdout",
     "output_type": "stream",
     "text": [
      "AntigenC1_CAN\n",
      "0        18502\n",
      "07        1933\n",
      "04        1817\n",
      "06         888\n",
      "05         867\n",
      "02         852\n",
      "10         694\n",
      "01         538\n",
      "09         355\n",
      "08         233\n",
      "12         132\n",
      "16          96\n",
      "04:01       78\n",
      "03:04       71\n",
      "15          63\n",
      "07:01       63\n",
      "07:02       40\n",
      "14          36\n",
      "03:03       35\n",
      "02:02       34\n",
      "03          33\n",
      "01:02       32\n",
      "17          31\n",
      "02:10       16\n",
      "05:01       11\n",
      "18           8\n",
      "03:02        6\n",
      "16:01        6\n",
      "07:04        5\n",
      "06:02        5\n",
      "08:02        4\n",
      "12:03        3\n",
      "08:04        2\n",
      "15:05        2\n",
      "07:18        1\n",
      "03:06        1\n",
      "17:01        1\n",
      "\n",
      "\n",
      "AntigenC2_CAN\n",
      "0        19309\n",
      "07        2302\n",
      "16         750\n",
      "10         611\n",
      "12         600\n",
      "06         591\n",
      "08         527\n",
      "04         475\n",
      "15         391\n",
      "17         382\n",
      "05         369\n",
      "09         292\n",
      "14         197\n",
      "18         127\n",
      "07:02       92\n",
      "07:01       89\n",
      "02          81\n",
      "16:01       53\n",
      "04:01       41\n",
      "12:03       37\n",
      "01          30\n",
      "08:02       26\n",
      "17:01       19\n",
      "14:02       16\n",
      "15:02       12\n",
      "07:04       12\n",
      "03          11\n",
      "03:04        8\n",
      "06:02        7\n",
      "18:01        6\n",
      "05:01        6\n",
      "12:02        5\n",
      "15:05        4\n",
      "02:02        2\n",
      "03:03        2\n",
      "03:02        2\n",
      "17:03        2\n",
      "01:02        1\n",
      "07:18        1\n",
      "16:04        1\n",
      "16:02        1\n",
      "02:10        1\n",
      "08:03        1\n",
      "08:04        1\n",
      "18:02        1\n",
      "\n",
      "\n"
     ]
    }
   ],
   "source": [
    "valuCounts(df, features)"
   ]
  },
  {
   "cell_type": "code",
   "execution_count": 97,
   "id": "b5954bca-6a88-4a5b-a6bf-d66755dea8c8",
   "metadata": {},
   "outputs": [
    {
     "name": "stdout",
     "output_type": "stream",
     "text": [
      "AntigenC1_CAN\n",
      "Negative    18502\n",
      "Positive     8992\n",
      "\n",
      "\n",
      "AntigenC2_CAN\n",
      "Negative    19309\n",
      "Positive     8185\n",
      "\n",
      "\n"
     ]
    }
   ],
   "source": [
    "# remap\n",
    "df[features] = df[features].map(antigenCDR).fillna(df[features])\n",
    "valuCounts(df, features)"
   ]
  },
  {
   "cell_type": "markdown",
   "id": "e4cd05d9-b7e9-48b7-a2a4-c8f9ddc305eb",
   "metadata": {},
   "source": [
    "##### AntigenD"
   ]
  },
  {
   "cell_type": "code",
   "execution_count": 98,
   "id": "1fe2596c-5716-43d5-a784-4f4ecd574f08",
   "metadata": {},
   "outputs": [
    {
     "name": "stdout",
     "output_type": "stream",
     "text": [
      "                   count unique top   freq\n",
      "AntigenDA1_DON     27494     40   2  10926\n",
      "AntigenDA2_DON     27494     47  24   3050\n",
      "AntigenDB1_DON     27494     82   7   5447\n",
      "AntigenDB2_DON     27494     90  44   3942\n",
      "AntigenDQ1_CAN     27494     25   0  18245\n",
      "AntigenDQ2_CAN     27494     25   0  19333\n",
      "AntigenDR1_DON     27494     44   4   6809\n",
      "AntigenDR2_DON     27494     48  15   5737\n",
      "AntigenDR51_2_CAN  27494      8   0  25924\n",
      "AntigenDR51_CAN    27494      9   0  19712\n",
      "AntigenDR52_2_CAN  27494     10   0  25828\n",
      "AntigenDR52_CAN    27494     10   0  19139\n",
      "AntigenDR53_2_CAN  27494      6   0  25917\n",
      "AntigenDR53_CAN    27494      7   0  19450\n",
      "\n",
      ":::: NaN Count:\n",
      "AntigenDA1_DON       0\n",
      "AntigenDA2_DON       0\n",
      "AntigenDB1_DON       0\n",
      "AntigenDB2_DON       0\n",
      "AntigenDQ1_CAN       0\n",
      "AntigenDQ2_CAN       0\n",
      "AntigenDR1_DON       0\n",
      "AntigenDR2_DON       0\n",
      "AntigenDR51_2_CAN    0\n",
      "AntigenDR51_CAN      0\n",
      "AntigenDR52_2_CAN    0\n",
      "AntigenDR52_CAN      0\n",
      "AntigenDR53_2_CAN    0\n",
      "AntigenDR53_CAN      0\n"
     ]
    }
   ],
   "source": [
    "features = uf.get_feature_list(df, 'AntigenD')"
   ]
  },
  {
   "cell_type": "code",
   "execution_count": 99,
   "id": "3f46b056-0700-4913-ab4d-90c248312733",
   "metadata": {},
   "outputs": [
    {
     "name": "stdout",
     "output_type": "stream",
     "text": [
      "AntigenDA1_DON\n",
      "2          10926\n",
      "1           6203\n",
      "3           3377\n",
      "24          1629\n",
      "11          1231\n",
      "23          1001\n",
      "30           731\n",
      "29           469\n",
      "26           359\n",
      "31           257\n",
      "33           254\n",
      "25           217\n",
      "68           205\n",
      "32           179\n",
      "02:01         93\n",
      "34            77\n",
      "36            60\n",
      "01:01         56\n",
      "66            42\n",
      "03:01         32\n",
      "11:01         16\n",
      "74            15\n",
      "24:02         14\n",
      "24:03          9\n",
      "30:01          5\n",
      "02:06          4\n",
      "02:05          4\n",
      "29:02          4\n",
      "02:03          4\n",
      "Missing        3\n",
      "33:03          3\n",
      "02:02          3\n",
      "34:02          2\n",
      "10             2\n",
      "68:02          2\n",
      "26:01          2\n",
      "01:02          1\n",
      "66:01          1\n",
      "03:02          1\n",
      "69             1\n",
      "\n",
      "\n",
      "AntigenDA2_DON\n",
      "24                            3050\n",
      "68                            3044\n",
      "3                             2853\n",
      "2                             2731\n",
      "No second antigen detected    2256\n",
      "30                            1773\n",
      "11                            1635\n",
      "29                            1440\n",
      "31                            1429\n",
      "32                            1427\n",
      "33                            1200\n",
      "26                            1026\n",
      "23                             931\n",
      "25                             610\n",
      "74                             564\n",
      "34                             352\n",
      "66                             339\n",
      "36                             188\n",
      "1                              188\n",
      "80                             103\n",
      "69                              71\n",
      "24:02                           36\n",
      "02:01                           36\n",
      "03:01                           26\n",
      "68:01                           26\n",
      "29:02                           22\n",
      "11:01                           20\n",
      "24:03                           16\n",
      "66:01                           16\n",
      "30:01                           14\n",
      "Missing                         13\n",
      "30:02                            9\n",
      "68:02                            9\n",
      "26:01                            8\n",
      "33:03                            5\n",
      "34:02                            4\n",
      "02:05                            4\n",
      "33:01                            3\n",
      "02:03                            3\n",
      "66:02                            3\n",
      "01:01                            3\n",
      "02:06                            2\n",
      "10                               2\n",
      "43                               1\n",
      "29:01                            1\n",
      "28                               1\n",
      "0                                1\n",
      "\n",
      "\n",
      "AntigenDB1_DON\n",
      "7          5447\n",
      "8          3724\n",
      "35         3241\n",
      "44         2389\n",
      "18         1478\n",
      "62         1275\n",
      "27         1144\n",
      "13          854\n",
      "39          785\n",
      "65          695\n",
      "60          689\n",
      "51          568\n",
      "38          410\n",
      "42          372\n",
      "61          366\n",
      "72          355\n",
      "45          345\n",
      "49          344\n",
      "37          340\n",
      "53          337\n",
      "57          252\n",
      "41          236\n",
      "71          224\n",
      "64          218\n",
      "63          197\n",
      "58          162\n",
      "52          144\n",
      "50          122\n",
      "55          115\n",
      "48           93\n",
      "07:02        78\n",
      "08:01        58\n",
      "75           40\n",
      "56           40\n",
      "47           38\n",
      "14           34\n",
      "40:05        27\n",
      "39:01        25\n",
      "46           23\n",
      "13:02        21\n",
      "15:01        21\n",
      "27:05        14\n",
      "70           13\n",
      "35:01        12\n",
      "40:01        12\n",
      "44:02        10\n",
      "44:03         9\n",
      "15            7\n",
      "54            7\n",
      "39:02         7\n",
      "14:02         6\n",
      "51:01         6\n",
      "14:01         5\n",
      "77            5\n",
      "15:03         5\n",
      "78            4\n",
      "81            4\n",
      "Missing       3\n",
      "50:01         3\n",
      "40            3\n",
      "38:01         3\n",
      "35:12         3\n",
      "41:02         2\n",
      "42:01         2\n",
      "76            2\n",
      "35:08         2\n",
      "35:03         2\n",
      "39:06         2\n",
      "15:10         2\n",
      "51:02         1\n",
      "35:02         1\n",
      "27:04         1\n",
      "15:07         1\n",
      "703           1\n",
      "15:16         1\n",
      "59            1\n",
      "15:17         1\n",
      "42:02         1\n",
      "15:18         1\n",
      "56:03         1\n",
      "40:06         1\n",
      "55:01         1\n",
      "\n",
      "\n",
      "AntigenDB2_DON\n",
      "44                            3942\n",
      "51                            2140\n",
      "35                            1924\n",
      "57                            1630\n",
      "60                            1587\n",
      "62                            1506\n",
      "No second antigen detected    1190\n",
      "58                            1065\n",
      "53                             918\n",
      "61                             843\n",
      "39                             824\n",
      "65                             743\n",
      "49                             693\n",
      "8                              663\n",
      "55                             661\n",
      "18                             647\n",
      "27                             618\n",
      "52                             595\n",
      "45                             574\n",
      "50                             444\n",
      "38                             402\n",
      "72                             396\n",
      "37                             330\n",
      "41                             325\n",
      "42                             282\n",
      "64                             280\n",
      "71                             254\n",
      "56                             253\n",
      "63                             237\n",
      "48                             237\n",
      "13                             217\n",
      "81                             186\n",
      "7                              162\n",
      "47                              96\n",
      "78                              83\n",
      "75                              53\n",
      "40:05                           38\n",
      "82                              32\n",
      "46                              31\n",
      "44:03                           29\n",
      "39:01                           27\n",
      "51:01                           25\n",
      "44:02                           24\n",
      "40:01                           23\n",
      "54                              21\n",
      "70                              19\n",
      "73                              18\n",
      "51:02                           16\n",
      "57:01                           15\n",
      "Missing                         15\n",
      "15:01                           15\n",
      "08:01                           13\n",
      "27:05                           11\n",
      "55:01                           11\n",
      "40                               9\n",
      "39:02                            8\n",
      "35:01                            7\n",
      "77                               5\n",
      "13:02                            5\n",
      "14                               5\n",
      "14:01                            5\n",
      "57:03                            5\n",
      "42:01                            4\n",
      "59                               4\n",
      "39:05                            4\n",
      "67                               4\n",
      "07:02                            4\n",
      "14:02                            4\n",
      "35:03                            3\n",
      "38:01                            3\n",
      "50:01                            3\n",
      "40:02                            3\n",
      "41:01                            2\n",
      "35:08                            2\n",
      "35:12                            2\n",
      "76                               2\n",
      "39:06                            2\n",
      "48:01                            2\n",
      "56:01                            2\n",
      "15:10                            2\n",
      "41:02                            1\n",
      "22                               1\n",
      "15:17                            1\n",
      "27:08                            1\n",
      "15:16                            1\n",
      "35:02                            1\n",
      "42:02                            1\n",
      "12                               1\n",
      "82:01                            1\n",
      "15                               1\n",
      "\n",
      "\n",
      "AntigenDQ1_CAN\n",
      "0        18245\n",
      "2         2972\n",
      "7         1541\n",
      "5         1540\n",
      "6         1338\n",
      "8          531\n",
      "4          493\n",
      "9          207\n",
      "02:01      131\n",
      "03:01      115\n",
      "02:02       98\n",
      "03:02       67\n",
      "05:01       48\n",
      "1           35\n",
      "06:02       28\n",
      "3           27\n",
      "03:03       21\n",
      "03:19       19\n",
      "04:02       12\n",
      "05:03       10\n",
      "04:01        5\n",
      "06:03        4\n",
      "05:02        4\n",
      "06:04        2\n",
      "06:09        1\n",
      "\n",
      "\n",
      "AntigenDQ2_CAN\n",
      "0        19333\n",
      "6         2615\n",
      "7         1626\n",
      "5         1283\n",
      "8         1024\n",
      "9          429\n",
      "4          313\n",
      "2          286\n",
      "06:02      136\n",
      "05:01       98\n",
      "06:03       61\n",
      "03:02       56\n",
      "03:01       52\n",
      "04:02       27\n",
      "06:04       24\n",
      "03:03       24\n",
      "05:03       20\n",
      "3           17\n",
      "02:02       15\n",
      "06:09       13\n",
      "02:01       11\n",
      "03:19       11\n",
      "05:02       10\n",
      "06:01        7\n",
      "1            3\n",
      "\n",
      "\n",
      "AntigenDR1_DON\n",
      "4          6809\n",
      "1          4454\n",
      "7          3927\n",
      "17         2733\n",
      "11         2207\n",
      "13         2030\n",
      "8          1479\n",
      "15         1030\n",
      "9           469\n",
      "01:03       463\n",
      "12          446\n",
      "14          438\n",
      "10          335\n",
      "18          328\n",
      "16           70\n",
      "03:01        63\n",
      "01:01        43\n",
      "04:01        36\n",
      "04:04        13\n",
      "103          12\n",
      "13:01        12\n",
      "11:01        11\n",
      "15:01         9\n",
      "01:02         8\n",
      "13:02         8\n",
      "03:02         7\n",
      "04:07         7\n",
      "09:01         6\n",
      "08:02         6\n",
      "Missing       5\n",
      "04:02         4\n",
      "14:04         3\n",
      "04:05         3\n",
      "3             3\n",
      "08:01         2\n",
      "14:54         2\n",
      "13:03         2\n",
      "12:01         2\n",
      "04:03         2\n",
      "11:04         2\n",
      "11:03         2\n",
      "04:11         1\n",
      "13:05         1\n",
      "14:02         1\n",
      "\n",
      "\n",
      "AntigenDR2_DON\n",
      "15                            5737\n",
      "13                            4371\n",
      "11                            2768\n",
      "17                            2527\n",
      "7                             2378\n",
      "4                             1931\n",
      "No second antigen detected    1823\n",
      "14                            1565\n",
      "8                             1178\n",
      "16                             950\n",
      "12                             730\n",
      "9                              385\n",
      "18                             378\n",
      "10                             322\n",
      "1                              101\n",
      "01:03                           84\n",
      "15:01                           38\n",
      "13:01                           32\n",
      "11:01                           22\n",
      "13:02                           19\n",
      "Missing                         17\n",
      "04:01                           14\n",
      "14:04                           12\n",
      "16:02                           11\n",
      "12:01                           11\n",
      "11:04                           11\n",
      "15:03                            8\n",
      "08:01                            8\n",
      "13:03                            7\n",
      "03:01                            7\n",
      "04:04                            5\n",
      "11:03                            5\n",
      "14:54                            5\n",
      "09:01                            5\n",
      "15:02                            4\n",
      "16:01                            4\n",
      "14:02                            3\n",
      "103                              3\n",
      "01:01                            2\n",
      "14:06                            2\n",
      "14:01                            2\n",
      "08:02                            2\n",
      "04:05                            2\n",
      "3                                1\n",
      "5                                1\n",
      "12:02                            1\n",
      "04:07                            1\n",
      "13:05                            1\n",
      "\n",
      "\n",
      "AntigenDR51_2_CAN\n",
      "0           25924\n",
      "Negative     1382\n",
      "Positive      105\n",
      "Not Done       59\n",
      "1              13\n",
      "5               5\n",
      "2               3\n",
      "3               3\n",
      "\n",
      "\n",
      "AntigenDR51_CAN\n",
      "0           19712\n",
      "Negative     5044\n",
      "Positive     2338\n",
      "Not Done      157\n",
      "1             131\n",
      "3              91\n",
      "5               8\n",
      "2               7\n",
      "4               6\n",
      "\n",
      "\n",
      "AntigenDR52_2_CAN\n",
      "0           25828\n",
      "Negative     1084\n",
      "Positive      377\n",
      "Not Done       59\n",
      "2              56\n",
      "5              33\n",
      "3              21\n",
      "1              13\n",
      "7              13\n",
      "4              10\n",
      "\n",
      "\n",
      "AntigenDR52_CAN\n",
      "0           19139\n",
      "Positive     5173\n",
      "Negative     2476\n",
      "Not Done      153\n",
      "1             140\n",
      "2             140\n",
      "5             116\n",
      "4             102\n",
      "7              31\n",
      "3              24\n",
      "\n",
      "\n",
      "AntigenDR53_2_CAN\n",
      "0           25917\n",
      "Negative     1294\n",
      "Positive      163\n",
      "Not Done       60\n",
      "3              39\n",
      "2              21\n",
      "\n",
      "\n",
      "AntigenDR53_CAN\n",
      "0           19450\n",
      "Negative     3968\n",
      "Positive     3523\n",
      "3             274\n",
      "Not Done      160\n",
      "2              91\n",
      "1              28\n",
      "\n",
      "\n"
     ]
    }
   ],
   "source": [
    "valuCounts(df, features)"
   ]
  },
  {
   "cell_type": "code",
   "execution_count": 100,
   "id": "30a39f02-f3f1-4178-ac80-67f71419c242",
   "metadata": {},
   "outputs": [
    {
     "name": "stdout",
     "output_type": "stream",
     "text": [
      "AntigenDA1_DON\n",
      "Positive    27491\n",
      "Unknown         3\n",
      "\n",
      "\n",
      "AntigenDA2_DON\n",
      "Positive    25224\n",
      "Negative     2257\n",
      "Unknown        13\n",
      "\n",
      "\n",
      "AntigenDB1_DON\n",
      "Positive    27491\n",
      "Unknown         3\n",
      "\n",
      "\n",
      "AntigenDB2_DON\n",
      "Positive    26289\n",
      "Negative     1190\n",
      "Unknown        15\n",
      "\n",
      "\n",
      "AntigenDQ1_CAN\n",
      "Negative    18245\n",
      "Positive     9249\n",
      "\n",
      "\n",
      "AntigenDQ2_CAN\n",
      "Negative    19333\n",
      "Positive     8161\n",
      "\n",
      "\n",
      "AntigenDR1_DON\n",
      "Positive    27489\n",
      "Unknown         5\n",
      "\n",
      "\n",
      "AntigenDR2_DON\n",
      "Positive    25654\n",
      "Negative     1823\n",
      "Unknown        17\n",
      "\n",
      "\n",
      "AntigenDR51_2_CAN\n",
      "Negative    25924\n",
      "Positive     1511\n",
      "Unknown        59\n",
      "\n",
      "\n",
      "AntigenDR51_CAN\n",
      "Negative    19712\n",
      "Positive     7625\n",
      "Unknown       157\n",
      "\n",
      "\n",
      "AntigenDR52_2_CAN\n",
      "Negative    25828\n",
      "Positive     1607\n",
      "Unknown        59\n",
      "\n",
      "\n",
      "AntigenDR52_CAN\n",
      "Negative    19139\n",
      "Positive     8202\n",
      "Unknown       153\n",
      "\n",
      "\n",
      "AntigenDR53_2_CAN\n",
      "Negative    25917\n",
      "Positive     1517\n",
      "Unknown        60\n",
      "\n",
      "\n",
      "AntigenDR53_CAN\n",
      "Negative    19450\n",
      "Positive     7884\n",
      "Unknown       160\n",
      "\n",
      "\n"
     ]
    }
   ],
   "source": [
    "# remap\n",
    "df[features] = df[features].map(antigenCDR).fillna(df[features])\n",
    "valuCounts(df, features)"
   ]
  },
  {
   "cell_type": "markdown",
   "id": "31357ea0-f2e0-4ebf-b7d9-6be5275edc44",
   "metadata": {},
   "source": [
    "##### AntigenR"
   ]
  },
  {
   "cell_type": "code",
   "execution_count": 101,
   "id": "4577a729-c21d-45ab-a108-1f0b8592d1e1",
   "metadata": {},
   "outputs": [
    {
     "name": "stdout",
     "output_type": "stream",
     "text": [
      "                 count unique top  freq\n",
      "AntigenRA1_CAN   27494     51   2  9198\n",
      "AntigenRA2_CAN   27494     52  68  2516\n",
      "AntigenRB1_CAN   27494    100   7  4669\n",
      "AntigenRB2_CAN   27494     98  44  3348\n",
      "AntigenRDR1_CAN  27494     54   4  5220\n",
      "AntigenRDR2_CAN  27494     57  15  5346\n",
      "\n",
      ":::: NaN Count:\n",
      "AntigenRA1_CAN     0\n",
      "AntigenRA2_CAN     0\n",
      "AntigenRB1_CAN     0\n",
      "AntigenRB2_CAN     0\n",
      "AntigenRDR1_CAN    0\n",
      "AntigenRDR2_CAN    0\n"
     ]
    }
   ],
   "source": [
    "features = uf.get_feature_list(df, 'AntigenR')"
   ]
  },
  {
   "cell_type": "code",
   "execution_count": 102,
   "id": "0db8d3bd-6e76-48ad-bca8-f5bf84e8ac42",
   "metadata": {},
   "outputs": [
    {
     "name": "stdout",
     "output_type": "stream",
     "text": [
      "AntigenRA1_CAN\n",
      "2             9198\n",
      "1             5186\n",
      "3             2828\n",
      "Missing       2067\n",
      "24            1491\n",
      "11            1279\n",
      "23            1137\n",
      "30             822\n",
      "29             483\n",
      "02:01          393\n",
      "33             337\n",
      "26             324\n",
      "01:01          257\n",
      "0              251\n",
      "68             202\n",
      "32             190\n",
      "25             176\n",
      "31             172\n",
      "34             114\n",
      "03:01          109\n",
      "36              69\n",
      "24:02           61\n",
      "66              56\n",
      "11:01           54\n",
      "74              31\n",
      "02:02           23\n",
      "02:05           22\n",
      "30:01           19\n",
      "33:03           17\n",
      "02:03           16\n",
      "26:01           16\n",
      "29:02           15\n",
      "30:02           14\n",
      "10              10\n",
      "68:02            7\n",
      "34:02            7\n",
      "24:03            6\n",
      "68:01            5\n",
      "02:06            5\n",
      "28               4\n",
      "33:01            4\n",
      "03:02            3\n",
      "01:02            3\n",
      "66:01            2\n",
      "66:02            2\n",
      "80               2\n",
      "02:07            1\n",
      "69               1\n",
      "210              1\n",
      "29:01            1\n",
      "Not Tested       1\n",
      "\n",
      "\n",
      "AntigenRA2_CAN\n",
      "68                            2516\n",
      "24                            2478\n",
      "3                             2399\n",
      "No second antigen detected    2267\n",
      "2                             2263\n",
      "Missing                       2067\n",
      "30                            1661\n",
      "11                            1420\n",
      "32                            1265\n",
      "33                            1219\n",
      "29                            1145\n",
      "31                            1062\n",
      "23                            1002\n",
      "26                             908\n",
      "74                             710\n",
      "25                             480\n",
      "34                             461\n",
      "66                             361\n",
      "36                             301\n",
      "0                              272\n",
      "1                              173\n",
      "02:01                          140\n",
      "03:01                          123\n",
      "24:02                          113\n",
      "80                             102\n",
      "68:01                           82\n",
      "11:01                           70\n",
      "69                              63\n",
      "29:02                           61\n",
      "68:02                           59\n",
      "30:02                           42\n",
      "30:01                           38\n",
      "33:03                           28\n",
      "34:02                           16\n",
      "01:01                           16\n",
      "33:01                           16\n",
      "26:01                           15\n",
      "66:01                           12\n",
      "24:03                           12\n",
      "28                              11\n",
      "66:02                           10\n",
      "02:05                            8\n",
      "02:02                            7\n",
      "43                               5\n",
      "29:01                            4\n",
      "02:03                            3\n",
      "03:02                            2\n",
      "9                                2\n",
      "34:01                            1\n",
      "10                               1\n",
      "11:02                            1\n",
      "Not Tested                       1\n",
      "\n",
      "\n",
      "AntigenRB1_CAN\n",
      "7             4669\n",
      "8             3099\n",
      "35            2886\n",
      "44            2160\n",
      "Missing       2067\n",
      "18            1443\n",
      "27             984\n",
      "62             894\n",
      "13             792\n",
      "51             595\n",
      "60             547\n",
      "53             519\n",
      "39             510\n",
      "65             470\n",
      "42             434\n",
      "38             429\n",
      "72             374\n",
      "45             370\n",
      "49             312\n",
      "57             269\n",
      "61             259\n",
      "0              250\n",
      "37             247\n",
      "41             246\n",
      "07:02          233\n",
      "58             217\n",
      "71             214\n",
      "63             203\n",
      "64             189\n",
      "52             175\n",
      "50             174\n",
      "08:01          163\n",
      "55              92\n",
      "15:01           79\n",
      "35:01           69\n",
      "75              63\n",
      "44:02           60\n",
      "48              60\n",
      "56              56\n",
      "46              55\n",
      "27:05           39\n",
      "40:01           39\n",
      "14:02           29\n",
      "47              29\n",
      "15:03           28\n",
      "44:03           27\n",
      "13:02           26\n",
      "15:10           26\n",
      "14              23\n",
      "42:01           20\n",
      "70              18\n",
      "35:03           17\n",
      "38:01           17\n",
      "40:05           16\n",
      "14:01           16\n",
      "51:01           15\n",
      "39:01           15\n",
      "40              13\n",
      "54              12\n",
      "15:16           11\n",
      "40:02           11\n",
      "57:01           10\n",
      "15               9\n",
      "81               9\n",
      "39:05            7\n",
      "77               7\n",
      "35:02            6\n",
      "39:06            6\n",
      "76               5\n",
      "55:01            4\n",
      "50:01            4\n",
      "78               4\n",
      "15:18            4\n",
      "42:02            4\n",
      "27:08            3\n",
      "35:08            3\n",
      "41:01            3\n",
      "41:02            3\n",
      "73               2\n",
      "13:01            2\n",
      "21               2\n",
      "57:03            2\n",
      "35:12            2\n",
      "27:03            2\n",
      "39:02            2\n",
      "15:06            1\n",
      "22               1\n",
      "15:07            1\n",
      "15:13            1\n",
      "40:06            1\n",
      "56:01            1\n",
      "38:02            1\n",
      "15:17            1\n",
      "5                1\n",
      "15:24            1\n",
      "15:02            1\n",
      "16               1\n",
      "82               1\n",
      "07:14            1\n",
      "Not Tested       1\n",
      "\n",
      "\n",
      "AntigenRB2_CAN\n",
      "44                            3348\n",
      "Missing                       2067\n",
      "35                            1698\n",
      "51                            1678\n",
      "57                            1427\n",
      "62                            1343\n",
      "60                            1308\n",
      "No second antigen detected    1167\n",
      "53                            1157\n",
      "58                            1126\n",
      "65                             698\n",
      "61                             676\n",
      "49                             638\n",
      "18                             572\n",
      "52                             571\n",
      "8                              551\n",
      "55                             549\n",
      "45                             536\n",
      "27                             521\n",
      "39                             470\n",
      "72                             455\n",
      "38                             367\n",
      "50                             354\n",
      "41                             293\n",
      "42                             290\n",
      "71                             278\n",
      "81                             269\n",
      "0                              256\n",
      "63                             251\n",
      "37                             249\n",
      "64                             229\n",
      "56                             221\n",
      "13                             198\n",
      "7                              151\n",
      "48                             133\n",
      "44:02                          120\n",
      "78                             111\n",
      "44:03                          100\n",
      "75                              99\n",
      "51:01                           81\n",
      "47                              66\n",
      "57:01                           55\n",
      "46                              54\n",
      "40:01                           48\n",
      "82                              43\n",
      "08:01                           41\n",
      "15:01                           40\n",
      "35:01                           40\n",
      "54                              32\n",
      "27:05                           31\n",
      "39:01                           31\n",
      "70                              27\n",
      "55:01                           25\n",
      "40:02                           20\n",
      "50:01                           19\n",
      "42:01                           18\n",
      "77                              18\n",
      "73                              18\n",
      "40                              18\n",
      "57:03                           17\n",
      "07:02                           17\n",
      "14:02                           17\n",
      "14                              14\n",
      "40:05                           14\n",
      "38:01                           14\n",
      "13:02                           11\n",
      "67                              11\n",
      "56:01                           11\n",
      "15:03                           11\n",
      "51:02                           10\n",
      "35:03                           10\n",
      "35:02                            8\n",
      "15:10                            8\n",
      "39:06                            6\n",
      "59                               5\n",
      "15:16                            5\n",
      "14:01                            5\n",
      "15                               5\n",
      "35:12                            4\n",
      "41:01                            4\n",
      "41:02                            4\n",
      "35:08                            4\n",
      "40:06                            3\n",
      "27:08                            3\n",
      "76                               3\n",
      "39:05                            2\n",
      "42:02                            2\n",
      "48:01                            2\n",
      "15:18                            2\n",
      "27:03                            2\n",
      "16                               2\n",
      "15:17                            2\n",
      "50:02                            1\n",
      "39:02                            1\n",
      "27:04                            1\n",
      "15:02                            1\n",
      "82:01                            1\n",
      "Not Tested                       1\n",
      "\n",
      "\n",
      "AntigenRDR1_CAN\n",
      "4           5220\n",
      "7           3739\n",
      "1           3683\n",
      "11          2629\n",
      "Missing     2067\n",
      "17          2057\n",
      "13          1979\n",
      "8           1312\n",
      "15          1117\n",
      "9            542\n",
      "12           519\n",
      "14           386\n",
      "10           364\n",
      "18           315\n",
      "01:03        276\n",
      "0            250\n",
      "03:01        164\n",
      "01:01        124\n",
      "04:01        123\n",
      "16            92\n",
      "11:01         80\n",
      "01:02         60\n",
      "04:04         44\n",
      "15:01         43\n",
      "13:01         35\n",
      "04:07         27\n",
      "03:02         25\n",
      "13:02         22\n",
      "09:01         21\n",
      "3             21\n",
      "11:04         20\n",
      "08:01         17\n",
      "12:01         16\n",
      "15:03         12\n",
      "14:54         11\n",
      "13:03         11\n",
      "04:05         10\n",
      "04:03          9\n",
      "04:02          9\n",
      "08:02          8\n",
      "103            6\n",
      "14:04          6\n",
      "2              5\n",
      "04:11          3\n",
      "04:06          2\n",
      "15:02          2\n",
      "16:02          2\n",
      "13:05          2\n",
      "6              2\n",
      "12:02          1\n",
      "5              1\n",
      "16:01          1\n",
      "14:01          1\n",
      "Not Done       1\n",
      "\n",
      "\n",
      "AntigenRDR2_CAN\n",
      "15                            5346\n",
      "13                            3828\n",
      "11                            2725\n",
      "17                            2407\n",
      "Missing                       2067\n",
      "7                             1823\n",
      "No second antigen detected    1679\n",
      "4                             1425\n",
      "14                            1211\n",
      "8                              942\n",
      "16                             765\n",
      "12                             752\n",
      "18                             422\n",
      "9                              351\n",
      "10                             313\n",
      "0                              264\n",
      "15:01                          200\n",
      "1                              142\n",
      "13:01                          100\n",
      "01:03                          100\n",
      "13:02                           63\n",
      "11:01                           62\n",
      "15:03                           60\n",
      "04:01                           52\n",
      "11:04                           42\n",
      "03:01                           41\n",
      "13:03                           33\n",
      "14:54                           32\n",
      "12:01                           29\n",
      "04:04                           22\n",
      "08:01                           20\n",
      "09:01                           20\n",
      "16:01                           17\n",
      "15:02                           15\n",
      "16:02                           13\n",
      "04:07                           12\n",
      "14:04                           11\n",
      "01:02                            8\n",
      "04:03                            8\n",
      "11:03                            8\n",
      "04:05                            7\n",
      "04:02                            7\n",
      "14:01                            6\n",
      "08:03                            6\n",
      "03:02                            5\n",
      "3                                5\n",
      "01:01                            4\n",
      "12:02                            4\n",
      "04:11                            3\n",
      "14:06                            3\n",
      "08:02                            3\n",
      "14:02                            3\n",
      "103                              2\n",
      "14:03                            2\n",
      "13:05                            2\n",
      "2                                1\n",
      "Not Done                         1\n",
      "\n",
      "\n"
     ]
    }
   ],
   "source": [
    "valuCounts(df, features)"
   ]
  },
  {
   "cell_type": "code",
   "execution_count": 103,
   "id": "71e01bf5-a450-4abf-af00-e44551d4c254",
   "metadata": {},
   "outputs": [
    {
     "name": "stdout",
     "output_type": "stream",
     "text": [
      "AntigenRA1_CAN\n",
      "Positive    25175\n",
      "Unknown      2068\n",
      "Negative      251\n",
      "\n",
      "\n",
      "AntigenRA2_CAN\n",
      "Positive    22887\n",
      "Negative     2539\n",
      "Unknown      2068\n",
      "\n",
      "\n",
      "AntigenRB1_CAN\n",
      "Positive    25176\n",
      "Unknown      2068\n",
      "Negative      250\n",
      "\n",
      "\n",
      "AntigenRB2_CAN\n",
      "Positive    24003\n",
      "Unknown      2068\n",
      "Negative     1423\n",
      "\n",
      "\n",
      "AntigenRDR1_CAN\n",
      "Positive    25176\n",
      "Unknown      2068\n",
      "Negative      250\n",
      "\n",
      "\n",
      "AntigenRDR2_CAN\n",
      "Positive    23483\n",
      "Unknown      2068\n",
      "Negative     1943\n",
      "\n",
      "\n"
     ]
    }
   ],
   "source": [
    "# remap\n",
    "df[features] = df[features].map(antigenCDR).fillna(df[features])\n",
    "valuCounts(df, features)"
   ]
  },
  {
   "cell_type": "markdown",
   "id": "b46a3943-cfe2-4da6-8076-342799d346ef",
   "metadata": {},
   "source": [
    "##### ArginnieManagement_DON"
   ]
  },
  {
   "cell_type": "code",
   "execution_count": 104,
   "id": "60eb4454-1ea9-4873-977d-d136e12e71cf",
   "metadata": {},
   "outputs": [
    {
     "name": "stdout",
     "output_type": "stream",
     "text": [
      "                        count unique  top   freq\n",
      "ArginnieManagement_DON  27494      4  Yes  18927\n",
      "\n",
      ":::: NaN Count:\n",
      "ArginnieManagement_DON    0\n"
     ]
    }
   ],
   "source": [
    "features = uf.get_feature_list(df, 'ArginnieManagement_DON')"
   ]
  },
  {
   "cell_type": "code",
   "execution_count": 105,
   "id": "c51d158c-051d-4632-892e-17f6d0475a3f",
   "metadata": {},
   "outputs": [
    {
     "name": "stdout",
     "output_type": "stream",
     "text": [
      "ArginnieManagement_DON\n",
      "Yes        18927\n",
      "No          8356\n",
      "Missing      204\n",
      "Unknown        7\n",
      "\n",
      "\n"
     ]
    }
   ],
   "source": [
    "valuCounts(df, features)"
   ]
  },
  {
   "cell_type": "code",
   "execution_count": 106,
   "id": "a93b5832-cb18-435c-a5fe-b95074ab70d0",
   "metadata": {},
   "outputs": [
    {
     "name": "stdout",
     "output_type": "stream",
     "text": [
      "ArginnieManagement_DON\n",
      "Yes        18927\n",
      "No          8356\n",
      "Unknown      211\n",
      "\n",
      "\n"
     ]
    }
   ],
   "source": [
    "# remap\n",
    "df[features] = df[features].map(genericMapCat).fillna(df[features])\n",
    "valuCounts(df, features)"
   ]
  },
  {
   "cell_type": "markdown",
   "id": "38e4e99b-1327-4496-ace1-86966d98bdb4",
   "metadata": {},
   "source": [
    "##### Biopsy_DON"
   ]
  },
  {
   "cell_type": "code",
   "execution_count": 107,
   "id": "85c81d45-dbcc-4d08-802d-d2d7d7d27b5c",
   "metadata": {},
   "outputs": [
    {
     "name": "stdout",
     "output_type": "stream",
     "text": [
      "            count unique              top   freq\n",
      "Biopsy_DON  27494      5  Biopsy not done  27260\n",
      "\n",
      ":::: NaN Count:\n",
      "Biopsy_DON    0\n"
     ]
    }
   ],
   "source": [
    "features = uf.get_feature_list(df, 'Biopsy_DON')"
   ]
  },
  {
   "cell_type": "code",
   "execution_count": 108,
   "id": "e59cad09-77be-42ae-ac94-81f46a83f22d",
   "metadata": {},
   "outputs": [
    {
     "name": "stdout",
     "output_type": "stream",
     "text": [
      "Biopsy_DON\n",
      "Biopsy not done                 27260\n",
      "Missing                           204\n",
      "Yes, rejection not confirmed       12\n",
      "Unknown                             9\n",
      "Yes, rejection confirmed            9\n",
      "\n",
      "\n"
     ]
    }
   ],
   "source": [
    "valuCounts(df, features)"
   ]
  },
  {
   "cell_type": "code",
   "execution_count": 109,
   "id": "36dc4c35-b6df-47e4-8c0e-e0e1ff99ea10",
   "metadata": {},
   "outputs": [
    {
     "name": "stdout",
     "output_type": "stream",
     "text": [
      "Biopsy_DON\n",
      "Biopsy not done                 27260\n",
      "Unknown                           213\n",
      "Yes, rejection not confirmed       12\n",
      "Yes, rejection confirmed            9\n",
      "\n",
      "\n"
     ]
    }
   ],
   "source": [
    "# remap\n",
    "df[features] = df[features].map(genericMapCat).fillna(df[features])\n",
    "valuCounts(df, features)"
   ]
  },
  {
   "cell_type": "markdown",
   "id": "4bd37208-0ee4-4bcb-9767-35d93b268a0f",
   "metadata": {},
   "source": [
    "##### BloodGroup"
   ]
  },
  {
   "cell_type": "code",
   "execution_count": 110,
   "id": "e3af58bf-9335-401b-955c-faf8cc793030",
   "metadata": {},
   "outputs": [
    {
     "name": "stdout",
     "output_type": "stream",
     "text": [
      "                      count unique        top   freq\n",
      "BloodGroupMatchLevel  27494      3  Identical  23463\n",
      "BloodGroup_CAN        27494      8          A  10918\n",
      "BloodGroup_DON        27494      8          O  13873\n",
      "\n",
      ":::: NaN Count:\n",
      "BloodGroupMatchLevel    0\n",
      "BloodGroup_CAN          0\n",
      "BloodGroup_DON          0\n"
     ]
    }
   ],
   "source": [
    "features = uf.get_feature_list(df, 'BloodGroup')"
   ]
  },
  {
   "cell_type": "code",
   "execution_count": 111,
   "id": "cc15f82f-ae50-450f-a02a-82f5d4fbc8d2",
   "metadata": {},
   "outputs": [
    {
     "name": "stdout",
     "output_type": "stream",
     "text": [
      "BloodGroupMatchLevel\n",
      "Identical       23463\n",
      "Compatible       4030\n",
      "Incompatible        1\n",
      "\n",
      "\n",
      "BloodGroup_CAN\n",
      "A      10918\n",
      "O      10687\n",
      "B       4242\n",
      "AB      1562\n",
      "A1        69\n",
      "A2         7\n",
      "A1B        5\n",
      "A2B        4\n",
      "\n",
      "\n",
      "BloodGroup_DON\n",
      "O      13873\n",
      "A1      4876\n",
      "A       4212\n",
      "B       3081\n",
      "A2       837\n",
      "AB       297\n",
      "A1B      226\n",
      "A2B       92\n",
      "\n",
      "\n"
     ]
    }
   ],
   "source": [
    "valuCounts(df, features)"
   ]
  },
  {
   "cell_type": "markdown",
   "id": "90f7fc41-7219-4f6c-97b6-5a1a9925cd47",
   "metadata": {},
   "source": [
    "##### Infection"
   ]
  },
  {
   "cell_type": "code",
   "execution_count": 112,
   "id": "78e71db4-c104-4271-a25f-f4936a2860b4",
   "metadata": {},
   "outputs": [
    {
     "name": "stdout",
     "output_type": "stream",
     "text": [
      "                          count unique  top   freq\n",
      "BloodInfectionSource_DON  27494      3    0  24748\n",
      "InfectionClinical_DON     27494      4  Yes  21010\n",
      "InfectionTherapyIV_CAN    27494      4   No  23989\n",
      "OtherInfectionSource_DON  27494      3    0  19006\n",
      "PulmonaryInfection_DON    27494      3    1  19224\n",
      "UrineInfection_DON        27494      3    0  24270\n",
      "\n",
      ":::: NaN Count:\n",
      "BloodInfectionSource_DON    0\n",
      "InfectionClinical_DON       0\n",
      "InfectionTherapyIV_CAN      0\n",
      "OtherInfectionSource_DON    0\n",
      "PulmonaryInfection_DON      0\n",
      "UrineInfection_DON          0\n"
     ]
    }
   ],
   "source": [
    "features = uf.get_feature_list(df, 'Infection')"
   ]
  },
  {
   "cell_type": "code",
   "execution_count": 113,
   "id": "dd0a5503-d285-4d82-a784-779497ce3efe",
   "metadata": {},
   "outputs": [
    {
     "name": "stdout",
     "output_type": "stream",
     "text": [
      "BloodInfectionSource_DON\n",
      "0      24748\n",
      "1       2743\n",
      "999        3\n",
      "\n",
      "\n",
      "InfectionClinical_DON\n",
      "Yes        21010\n",
      "No          6227\n",
      "Missing      203\n",
      "Unknown       54\n",
      "\n",
      "\n",
      "InfectionTherapyIV_CAN\n",
      "No         23989\n",
      "Yes         2804\n",
      "Missing      428\n",
      "Unknown      273\n",
      "\n",
      "\n",
      "OtherInfectionSource_DON\n",
      "0      19006\n",
      "999     6484\n",
      "1       2004\n",
      "\n",
      "\n",
      "PulmonaryInfection_DON\n",
      "1      19224\n",
      "0       8267\n",
      "999        3\n",
      "\n",
      "\n",
      "UrineInfection_DON\n",
      "0      24270\n",
      "1       3221\n",
      "999        3\n",
      "\n",
      "\n"
     ]
    }
   ],
   "source": [
    "valuCounts(df, features)"
   ]
  },
  {
   "cell_type": "code",
   "execution_count": 114,
   "id": "c9f9cdb2-05c4-47ba-a3c7-93bc50d8bfb9",
   "metadata": {},
   "outputs": [
    {
     "name": "stdout",
     "output_type": "stream",
     "text": [
      "BloodInfectionSource_DON\n",
      "No         24748\n",
      "Yes         2743\n",
      "Unknown        3\n",
      "\n",
      "\n",
      "InfectionClinical_DON\n",
      "Yes        21010\n",
      "No          6227\n",
      "Unknown      257\n",
      "\n",
      "\n",
      "InfectionTherapyIV_CAN\n",
      "No         23989\n",
      "Yes         2804\n",
      "Unknown      701\n",
      "\n",
      "\n",
      "OtherInfectionSource_DON\n",
      "No         19006\n",
      "Unknown     6484\n",
      "Yes         2004\n",
      "\n",
      "\n",
      "PulmonaryInfection_DON\n",
      "Yes        19224\n",
      "No          8267\n",
      "Unknown        3\n",
      "\n",
      "\n",
      "UrineInfection_DON\n",
      "No         24270\n",
      "Yes         3221\n",
      "Unknown        3\n",
      "\n",
      "\n"
     ]
    }
   ],
   "source": [
    "# convert to str\n",
    "df[features] = df[features].astype(str)\n",
    "\n",
    "# remap\n",
    "for feature in features:\n",
    "    df[feature] = df[feature].map({'0': 'No', '1': 'Yes', '999': 'Unknown', 'Missing': 'Unknown'}).fillna(df[feature])\n",
    "\n",
    "# convert to category\n",
    "df[features] = df[features].astype('category')\n",
    "valuCounts(df, features)"
   ]
  },
  {
   "cell_type": "markdown",
   "id": "ca164857-c513-4f41-bc52-8171f6a85298",
   "metadata": {},
   "source": [
    "##### Bronchoscopy"
   ]
  },
  {
   "cell_type": "code",
   "execution_count": 115,
   "id": "e4ec39f8-aefd-4b9a-8639-bb02bbc3c883",
   "metadata": {},
   "outputs": [
    {
     "name": "stdout",
     "output_type": "stream",
     "text": [
      "                       count unique      top   freq\n",
      "BronchoscopyLeft_DON   27494      9  Missing  13654\n",
      "BronchoscopyRight_DON  27494      9  Missing  13863\n",
      "\n",
      ":::: NaN Count:\n",
      "BronchoscopyLeft_DON     0\n",
      "BronchoscopyRight_DON    0\n"
     ]
    }
   ],
   "source": [
    "features = uf.get_feature_list(df, 'Bronchoscopy')"
   ]
  },
  {
   "cell_type": "code",
   "execution_count": 116,
   "id": "5709430d-1ce5-422b-bd3a-5af14eae9434",
   "metadata": {},
   "outputs": [
    {
     "name": "stdout",
     "output_type": "stream",
     "text": [
      "BronchoscopyLeft_DON\n",
      "Missing                                13654\n",
      "Normal                                  9863\n",
      "Abnormal-purulent secretions            2079\n",
      "Abnormal-blood                           896\n",
      "No Bronchoscopy                          632\n",
      "Abnormal-anatomy/other lesion            189\n",
      "Abnormal-aspiration of foreign body      124\n",
      "Unknown                                   45\n",
      "Unknown if bronchoscopy performed         12\n",
      "\n",
      "\n",
      "BronchoscopyRight_DON\n",
      "Missing                                13863\n",
      "Normal                                  9242\n",
      "Abnormal-purulent secretions            2357\n",
      "Abnormal-blood                           960\n",
      "No Bronchoscopy                          638\n",
      "Abnormal-anatomy/other lesion            218\n",
      "Abnormal-aspiration of foreign body      157\n",
      "Unknown                                   50\n",
      "Unknown if bronchoscopy performed          9\n",
      "\n",
      "\n"
     ]
    }
   ],
   "source": [
    "valuCounts(df, features)"
   ]
  },
  {
   "cell_type": "code",
   "execution_count": 117,
   "id": "a4c740ed-6528-41b6-82ac-b017e8f2ae60",
   "metadata": {},
   "outputs": [
    {
     "name": "stdout",
     "output_type": "stream",
     "text": [
      "BronchoscopyLeft_DON\n",
      "Unknown     14343\n",
      "Normal       9863\n",
      "Abnormal     3288\n",
      "\n",
      "\n",
      "BronchoscopyRight_DON\n",
      "Unknown     14560\n",
      "Normal       9242\n",
      "Abnormal     3692\n",
      "\n",
      "\n"
     ]
    }
   ],
   "source": [
    "# remap\n",
    "df[features] = df[features].map(bronchMapCat).fillna(df[features])\n",
    "valuCounts(df, features)"
   ]
  },
  {
   "cell_type": "markdown",
   "id": "9734dfd6-04c9-49c3-bf9b-6d1727655799",
   "metadata": {},
   "source": [
    "##### CMV"
   ]
  },
  {
   "cell_type": "code",
   "execution_count": 118,
   "id": "28631a48-3d51-413e-a11d-bbe147985541",
   "metadata": {},
   "outputs": [
    {
     "name": "stdout",
     "output_type": "stream",
     "text": [
      "                          count unique       top   freq\n",
      "CMVStatus_Transplant_CAN  27494      5  Positive  15309\n",
      "CMV_IGG_Transplant_CAN    27494      5   Missing  20095\n",
      "CMV_IGM_Transplant_CAN    27494      5   Missing  20096\n",
      "SerologyAntiCMV_DON       27494      6  Positive  16829\n",
      "\n",
      ":::: NaN Count:\n",
      "CMVStatus_Transplant_CAN    0\n",
      "CMV_IGG_Transplant_CAN      0\n",
      "CMV_IGM_Transplant_CAN      0\n",
      "SerologyAntiCMV_DON         0\n"
     ]
    }
   ],
   "source": [
    "features = uf.get_feature_list(df, 'CMV')"
   ]
  },
  {
   "cell_type": "code",
   "execution_count": 119,
   "id": "42d4d996-4303-433c-8b78-90068db1c144",
   "metadata": {},
   "outputs": [
    {
     "name": "stdout",
     "output_type": "stream",
     "text": [
      "CMVStatus_Transplant_CAN\n",
      "Positive    15309\n",
      "Negative    11312\n",
      "Missing       407\n",
      "Not Done      241\n",
      "Unknown       225\n",
      "\n",
      "\n",
      "CMV_IGG_Transplant_CAN\n",
      "Missing     20095\n",
      "Positive     4340\n",
      "Negative     2899\n",
      "Not Done      134\n",
      "Unknown        26\n",
      "\n",
      "\n",
      "CMV_IGM_Transplant_CAN\n",
      "Missing     20096\n",
      "Negative     5123\n",
      "Not Done     1906\n",
      "Positive      253\n",
      "Unknown       116\n",
      "\n",
      "\n",
      "SerologyAntiCMV_DON\n",
      "Positive         16829\n",
      "Negative         10526\n",
      "Indeterminate      107\n",
      "Not Done            22\n",
      "Missing              9\n",
      "Unknown              1\n",
      "\n",
      "\n"
     ]
    }
   ],
   "source": [
    "valuCounts(df, features)"
   ]
  },
  {
   "cell_type": "code",
   "execution_count": 120,
   "id": "20e26c27-a9a0-4be9-950c-bf39ec4dfc52",
   "metadata": {},
   "outputs": [
    {
     "name": "stdout",
     "output_type": "stream",
     "text": [
      "CMVStatus_Transplant_CAN\n",
      "Positive    15309\n",
      "Negative    11312\n",
      "Unknown       873\n",
      "\n",
      "\n",
      "CMV_IGG_Transplant_CAN\n",
      "Unknown     20255\n",
      "Positive     4340\n",
      "Negative     2899\n",
      "\n",
      "\n",
      "CMV_IGM_Transplant_CAN\n",
      "Unknown     22118\n",
      "Negative     5123\n",
      "Positive      253\n",
      "\n",
      "\n",
      "SerologyAntiCMV_DON\n",
      "Positive    16829\n",
      "Negative    10526\n",
      "Unknown       139\n",
      "\n",
      "\n"
     ]
    }
   ],
   "source": [
    "# add to list: No value\n",
    "# removeCols.extend(['CMV_IGG_Transplant_CAN','CMV_IGM_Transplant_CAN'])\n",
    "# remap\n",
    "df[features] = df[features].map(cmvMapCat).fillna(df[features])\n",
    "valuCounts(df, features)"
   ]
  },
  {
   "cell_type": "markdown",
   "id": "5cedcccb-f952-4063-bb9e-a1e60ddb4ed2",
   "metadata": {},
   "source": [
    "##### Cancer"
   ]
  },
  {
   "cell_type": "code",
   "execution_count": 121,
   "id": "0583502f-e157-49af-9356-16146da7f40b",
   "metadata": {},
   "outputs": [
    {
     "name": "stdout",
     "output_type": "stream",
     "text": [
      "                        count unique top   freq\n",
      "CancerExtraCranial_DON  27494      4  No  27089\n",
      "CancerHistory_DON       27494      4  No  26955\n",
      "CancerIntraCranial_DON  27494      4  No  27074\n",
      "CancerSkin_DON          27494      4  No  27115\n",
      "\n",
      ":::: NaN Count:\n",
      "CancerExtraCranial_DON    0\n",
      "CancerHistory_DON         0\n",
      "CancerIntraCranial_DON    0\n",
      "CancerSkin_DON            0\n"
     ]
    }
   ],
   "source": [
    "features = uf.get_feature_list(df, 'Cancer')"
   ]
  },
  {
   "cell_type": "code",
   "execution_count": 122,
   "id": "3f4980cf-ae3b-47b1-9d17-5bc92a499ff0",
   "metadata": {},
   "outputs": [
    {
     "name": "stdout",
     "output_type": "stream",
     "text": [
      "CancerExtraCranial_DON\n",
      "No         27089\n",
      "Missing      205\n",
      "Unknown      151\n",
      "Yes           49\n",
      "\n",
      "\n",
      "CancerHistory_DON\n",
      "No         26955\n",
      "Yes          352\n",
      "Unknown      176\n",
      "Missing       11\n",
      "\n",
      "\n",
      "CancerIntraCranial_DON\n",
      "No         27074\n",
      "Missing      205\n",
      "Unknown      161\n",
      "Yes           54\n",
      "\n",
      "\n",
      "CancerSkin_DON\n",
      "No         27115\n",
      "Missing      205\n",
      "Unknown      152\n",
      "Yes           22\n",
      "\n",
      "\n"
     ]
    }
   ],
   "source": [
    "valuCounts(df, features)"
   ]
  },
  {
   "cell_type": "code",
   "execution_count": 123,
   "id": "c5bd3176-c0e7-4986-914b-666c084900a2",
   "metadata": {},
   "outputs": [
    {
     "name": "stdout",
     "output_type": "stream",
     "text": [
      "CancerExtraCranial_DON\n",
      "No         27089\n",
      "Unknown      356\n",
      "Yes           49\n",
      "\n",
      "\n",
      "CancerHistory_DON\n",
      "No         26955\n",
      "Yes          352\n",
      "Unknown      187\n",
      "\n",
      "\n",
      "CancerIntraCranial_DON\n",
      "No         27074\n",
      "Unknown      366\n",
      "Yes           54\n",
      "\n",
      "\n",
      "CancerSkin_DON\n",
      "No         27115\n",
      "Unknown      357\n",
      "Yes           22\n",
      "\n",
      "\n"
     ]
    }
   ],
   "source": [
    "# remap\n",
    "df[features] = df[features].map(genericMapCat).fillna(df[features])\n",
    "valuCounts(df, features)"
   ]
  },
  {
   "cell_type": "markdown",
   "id": "d8b53bcd-d729-4b77-a21b-9df3ec9f63e8",
   "metadata": {},
   "source": [
    "##### CardiacArrest_DON"
   ]
  },
  {
   "cell_type": "code",
   "execution_count": 124,
   "id": "4f42260e-6fdc-47ed-9f06-e0821f9502c1",
   "metadata": {},
   "outputs": [
    {
     "name": "stdout",
     "output_type": "stream",
     "text": [
      "                   count unique top   freq\n",
      "CardiacArrest_DON  27494      3  No  24997\n",
      "\n",
      ":::: NaN Count:\n",
      "CardiacArrest_DON    0\n"
     ]
    }
   ],
   "source": [
    "features = uf.get_feature_list(df, 'CardiacArrest_DON')"
   ]
  },
  {
   "cell_type": "code",
   "execution_count": 125,
   "id": "50a901cf-101b-4f00-b595-f150df1de840",
   "metadata": {},
   "outputs": [
    {
     "name": "stdout",
     "output_type": "stream",
     "text": [
      "CardiacArrest_DON\n",
      "No         24997\n",
      "Yes         1986\n",
      "Missing      511\n",
      "\n",
      "\n"
     ]
    }
   ],
   "source": [
    "valuCounts(df, features)"
   ]
  },
  {
   "cell_type": "code",
   "execution_count": 126,
   "id": "bfd16c5c-45eb-426d-9435-5904036f046f",
   "metadata": {},
   "outputs": [
    {
     "name": "stdout",
     "output_type": "stream",
     "text": [
      "CardiacArrest_DON\n",
      "No         24997\n",
      "Yes         1986\n",
      "Unknown      511\n",
      "\n",
      "\n"
     ]
    }
   ],
   "source": [
    "# remap\n",
    "df[features] = df[features].map(genericMapCat).fillna(df[features])\n",
    "valuCounts(df, features)"
   ]
  },
  {
   "cell_type": "markdown",
   "id": "3f98e186-6257-4bf1-b48a-85832d4dede7",
   "metadata": {},
   "source": [
    "##### Cause of Death"
   ]
  },
  {
   "cell_type": "code",
   "execution_count": 127,
   "id": "53870bf6-8fed-445a-960c-82a94c4aed82",
   "metadata": {},
   "outputs": [
    {
     "name": "stdout",
     "output_type": "stream",
     "text": [
      "                       count unique                        top   freq\n",
      "CauseOfDeath_DON       27494      6                HEAD TRAUMA  12519\n",
      "DeathCircumstance_DON  27494      8  DEATH FROM NATURAL CAUSES   6417\n",
      "DeathMechanism_DON     27494     13               BLUNT INJURY   7645\n",
      "\n",
      ":::: NaN Count:\n",
      "CauseOfDeath_DON         0\n",
      "DeathCircumstance_DON    0\n",
      "DeathMechanism_DON       0\n"
     ]
    }
   ],
   "source": [
    "features = uf.get_feature_list(df, 'Death')"
   ]
  },
  {
   "cell_type": "code",
   "execution_count": 128,
   "id": "9b956f77-b468-41e7-bd96-83f3a35c1650",
   "metadata": {},
   "outputs": [
    {
     "name": "stdout",
     "output_type": "stream",
     "text": [
      "CauseOfDeath_DON\n",
      "HEAD TRAUMA               12519\n",
      "ANOXIA                     9813\n",
      "CEREBROVASCULAR/STROKE     4428\n",
      "OTHER SPECIFY               610\n",
      "CNS TUMOR                   120\n",
      "Missing                       4\n",
      "\n",
      "\n",
      "DeathCircumstance_DON\n",
      "DEATH FROM NATURAL CAUSES    6417\n",
      "MVA                          5946\n",
      "Accident, Non-MVA            4798\n",
      "SUICIDE                      4403\n",
      "NONE OF THE ABOVE            3451\n",
      "HOMICIDE                     2464\n",
      "Missing                        14\n",
      "CHILD-ABUSE                     1\n",
      "\n",
      "\n",
      "DeathMechanism_DON\n",
      "BLUNT INJURY                      7645\n",
      "GUNSHOT WOUND                     4771\n",
      "DRUG INTOXICATION                 4706\n",
      "INTRACRANIAL HEMORRHAGE/STROKE    4685\n",
      "CARDIOVASCULAR                    2373\n",
      "ASPHYXIATION                      1664\n",
      "DEATH FROM NATURAL CAUSES          567\n",
      "NONE OF THE ABOVE                  516\n",
      "SEIZURE                            278\n",
      "DROWNING                           171\n",
      "STAB                                73\n",
      "ELECTRICAL                          38\n",
      "Missing                              7\n",
      "\n",
      "\n"
     ]
    }
   ],
   "source": [
    "valuCounts(df, features)"
   ]
  },
  {
   "cell_type": "markdown",
   "id": "9ec69e57-c1b3-4f8f-ac9f-17e859c04bd4",
   "metadata": {},
   "source": [
    "##### CerebroVascularDisease_CAN"
   ]
  },
  {
   "cell_type": "code",
   "execution_count": 129,
   "id": "bda6d16f-435e-44a7-9dcf-cff18597384a",
   "metadata": {},
   "outputs": [
    {
     "name": "stdout",
     "output_type": "stream",
     "text": [
      "                            count unique top   freq\n",
      "CerebroVascularDisease_CAN  27494      4  No  25451\n",
      "\n",
      ":::: NaN Count:\n",
      "CerebroVascularDisease_CAN    0\n"
     ]
    }
   ],
   "source": [
    "features = uf.get_feature_list(df, 'CerebroVascularDisease')"
   ]
  },
  {
   "cell_type": "code",
   "execution_count": 130,
   "id": "1ab4acd9-c084-4f2f-bc41-91d302ab660a",
   "metadata": {},
   "outputs": [
    {
     "name": "stdout",
     "output_type": "stream",
     "text": [
      "CerebroVascularDisease_CAN\n",
      "No         25451\n",
      "Yes         1795\n",
      "Unknown      171\n",
      "Missing       77\n",
      "\n",
      "\n"
     ]
    }
   ],
   "source": [
    "valuCounts(df, features)"
   ]
  },
  {
   "cell_type": "code",
   "execution_count": 131,
   "id": "5ea401d8-5811-45ea-aa2b-866e3adc8ce7",
   "metadata": {},
   "outputs": [
    {
     "name": "stdout",
     "output_type": "stream",
     "text": [
      "CerebroVascularDisease_CAN\n",
      "No         25451\n",
      "Yes         1795\n",
      "Unknown      248\n",
      "\n",
      "\n"
     ]
    }
   ],
   "source": [
    "# remap\n",
    "df[features] = df[features].map(genericMapCat).fillna(df[features])\n",
    "valuCounts(df, features)"
   ]
  },
  {
   "cell_type": "markdown",
   "id": "c0381f61-c8ec-409a-bcf1-c6437257af30",
   "metadata": {},
   "source": [
    "##### ChestXray"
   ]
  },
  {
   "cell_type": "code",
   "execution_count": 132,
   "id": "3dfb4784-96d6-4d94-b051-f2f1b60e5583",
   "metadata": {},
   "outputs": [
    {
     "name": "stdout",
     "output_type": "stream",
     "text": [
      "               count unique            top   freq\n",
      "ChestXray_DON  27494      7  Abnormal-both  14749\n",
      "\n",
      ":::: NaN Count:\n",
      "ChestXray_DON    0\n"
     ]
    }
   ],
   "source": [
    "features = uf.get_feature_list(df, 'ChestXray')"
   ]
  },
  {
   "cell_type": "code",
   "execution_count": 133,
   "id": "fbb00f8a-72ce-480b-b538-9a1c88647ba5",
   "metadata": {},
   "outputs": [
    {
     "name": "stdout",
     "output_type": "stream",
     "text": [
      "ChestXray_DON\n",
      "Abnormal-both      14749\n",
      "Normal              5659\n",
      "Abnormal-right      3230\n",
      "Abnormal-left       2484\n",
      "Missing             1304\n",
      "Results Unknown       55\n",
      "No chest x-ray        13\n",
      "\n",
      "\n"
     ]
    }
   ],
   "source": [
    "valuCounts(df, features)"
   ]
  },
  {
   "cell_type": "code",
   "execution_count": 134,
   "id": "9d2ee087-c95a-4781-8eba-87e3c4e0dd3b",
   "metadata": {},
   "outputs": [
    {
     "name": "stdout",
     "output_type": "stream",
     "text": [
      "ChestXray_DON\n",
      "Abnormal    20463\n",
      "Normal       5659\n",
      "Unknown      1372\n",
      "\n",
      "\n"
     ]
    }
   ],
   "source": [
    "# remap\n",
    "df[features] = df[features].map(xrayMapCat).fillna(df[features])\n",
    "valuCounts(df, features)"
   ]
  },
  {
   "cell_type": "markdown",
   "id": "44ba9be1-4c9f-458d-887b-a57c1c6631d9",
   "metadata": {},
   "source": [
    "##### Cigarette"
   ]
  },
  {
   "cell_type": "code",
   "execution_count": 135,
   "id": "0c3a71bc-4deb-438c-b7ed-d77335e731f9",
   "metadata": {},
   "outputs": [
    {
     "name": "stdout",
     "output_type": "stream",
     "text": [
      "                         count unique      top   freq\n",
      "CigaretteAbstinence_CAN  27494     10  Missing  15490\n",
      "CigaretteHistory_DON     27494      4       No  23905\n",
      "CigaretteUse_CAN         27494      3       No  15417\n",
      "\n",
      ":::: NaN Count:\n",
      "CigaretteAbstinence_CAN    0\n",
      "CigaretteHistory_DON       0\n",
      "CigaretteUse_CAN           0\n"
     ]
    }
   ],
   "source": [
    "features = uf.get_feature_list(df, 'Cigarette')"
   ]
  },
  {
   "cell_type": "code",
   "execution_count": 136,
   "id": "e9520ec8-207b-4926-a1e3-086a6ec38625",
   "metadata": {},
   "outputs": [
    {
     "name": "stdout",
     "output_type": "stream",
     "text": [
      "CigaretteAbstinence_CAN\n",
      "Missing               15490\n",
      ">60 months             6818\n",
      "3-12 months            1996\n",
      "13-24 months            953\n",
      "25-36 months            594\n",
      "37-48 months            465\n",
      "Unknown duration        425\n",
      "49-60 months            392\n",
      "0-2 months              311\n",
      "Continues to smoke       50\n",
      "\n",
      "\n",
      "CigaretteHistory_DON\n",
      "No         23905\n",
      "Yes         3131\n",
      "Unknown      453\n",
      "Missing        5\n",
      "\n",
      "\n",
      "CigaretteUse_CAN\n",
      "No         15417\n",
      "Yes        12004\n",
      "Missing       73\n",
      "\n",
      "\n"
     ]
    }
   ],
   "source": [
    "valuCounts(df, features)"
   ]
  },
  {
   "cell_type": "code",
   "execution_count": 137,
   "id": "0cdcc67f-b0d7-4d0f-bc30-9823fa2f2fa4",
   "metadata": {},
   "outputs": [
    {
     "name": "stdout",
     "output_type": "stream",
     "text": [
      "CigaretteAbstinence_CAN\n",
      "Unknown               15915\n",
      ">60 months             6818\n",
      "3-12 months            1996\n",
      "13-24 months            953\n",
      "25-36 months            594\n",
      "37-48 months            465\n",
      "49-60 months            392\n",
      "0-2 months              311\n",
      "Continues to smoke       50\n",
      "\n",
      "\n",
      "CigaretteHistory_DON\n",
      "No         23905\n",
      "Yes         3131\n",
      "Unknown      458\n",
      "\n",
      "\n",
      "CigaretteUse_CAN\n",
      "No         15417\n",
      "Yes        12004\n",
      "Unknown       73\n",
      "\n",
      "\n"
     ]
    }
   ],
   "source": [
    "# remap\n",
    "for feature in features:\n",
    "    df[feature] = df[feature].map({'Missing': 'Unknown', 'Unknown duration': 'Unknown'}).fillna(df[feature])\n",
    "\n",
    "valuCounts(df, features)"
   ]
  },
  {
   "cell_type": "markdown",
   "id": "75488fcc-81db-4699-99be-4d5f06f5a91b",
   "metadata": {},
   "source": [
    "##### Citizenship"
   ]
  },
  {
   "cell_type": "code",
   "execution_count": 138,
   "id": "79dc76ba-fc39-480f-86aa-f8e8662c1d3a",
   "metadata": {},
   "outputs": [
    {
     "name": "stdout",
     "output_type": "stream",
     "text": [
      "                 count unique         top   freq\n",
      "Citizenship_CAN  27494      7  US Citizen  26446\n",
      "Citizenship_DON  27494      7  US Citizen  24700\n",
      "\n",
      ":::: NaN Count:\n",
      "Citizenship_CAN    0\n",
      "Citizenship_DON    0\n"
     ]
    }
   ],
   "source": [
    "features = uf.get_feature_list(df, 'Citizenship')"
   ]
  },
  {
   "cell_type": "code",
   "execution_count": 139,
   "id": "6e5110f8-2f32-4595-a83f-97cabcf525d0",
   "metadata": {},
   "outputs": [
    {
     "name": "stdout",
     "output_type": "stream",
     "text": [
      "Citizenship_CAN\n",
      "US Citizen                                                                         26446\n",
      "Non-US Citizen/US Resident                                                           754\n",
      "Non-US Citizen/Non-US Resident, Traveled to US for Transplant                        113\n",
      "Missing                                                                               72\n",
      "Non-US Citizen/Non-US Resident, Traveled to US for Reason Other Than Transplant       70\n",
      "RESIDENT ALIEN                                                                        30\n",
      "NON-RESIDENT ALIEN                                                                     9\n",
      "\n",
      "\n",
      "Citizenship_DON\n",
      "US Citizen                                                                         24700\n",
      "Unknown                                                                             1599\n",
      "Non-US Citizen/US Resident                                                           869\n",
      "Missing                                                                              200\n",
      "Non-US Citizen/Non-US Resident, Traveled to US for Reason Other Than Transplant       94\n",
      "RESIDENT ALIEN                                                                        24\n",
      "NON-RESIDENT ALIEN                                                                     8\n",
      "\n",
      "\n"
     ]
    }
   ],
   "source": [
    "valuCounts(df, features)"
   ]
  },
  {
   "cell_type": "code",
   "execution_count": 140,
   "id": "06c87ead-3701-468f-9cbf-36e1550ade1b",
   "metadata": {},
   "outputs": [
    {
     "name": "stdout",
     "output_type": "stream",
     "text": [
      "Citizenship_CAN\n",
      "US Citizen                                                                         26446\n",
      "Non-US Citizen/US Resident                                                           754\n",
      "Non-US Citizen/Non-US Resident, Traveled to US for Transplant                        113\n",
      "Unknown                                                                               72\n",
      "Non-US Citizen/Non-US Resident, Traveled to US for Reason Other Than Transplant       70\n",
      "RESIDENT ALIEN                                                                        30\n",
      "NON-RESIDENT ALIEN                                                                     9\n",
      "\n",
      "\n",
      "Citizenship_DON\n",
      "US Citizen                                                                         24700\n",
      "Unknown                                                                             1799\n",
      "Non-US Citizen/US Resident                                                           869\n",
      "Non-US Citizen/Non-US Resident, Traveled to US for Reason Other Than Transplant       94\n",
      "RESIDENT ALIEN                                                                        24\n",
      "NON-RESIDENT ALIEN                                                                     8\n",
      "\n",
      "\n"
     ]
    }
   ],
   "source": [
    "# remap\n",
    "df[features] = df[features].map(genericMapCat).fillna(df[features])\n",
    "valuCounts(df, features)"
   ]
  },
  {
   "cell_type": "markdown",
   "id": "3f4995f4-6e08-4372-a48e-4666ad2015dd",
   "metadata": {},
   "source": [
    "##### Cocaine & Drug"
   ]
  },
  {
   "cell_type": "code",
   "execution_count": 141,
   "id": "931727c8-2901-43e2-b4c5-ea64aec91c84",
   "metadata": {},
   "outputs": [
    {
     "name": "stdout",
     "output_type": "stream",
     "text": [
      "                      count unique      top   freq\n",
      "CocaineUse_DON        27494      4  Missing  21373\n",
      "OtherDrugUse_DON      27494      4  Missing  12152\n",
      "PastCocaineUse_DON    27494      4       No  20699\n",
      "PastOtherDrugUse_DON  27494      4      Yes  15342\n",
      "\n",
      ":::: NaN Count:\n",
      "CocaineUse_DON          0\n",
      "OtherDrugUse_DON        0\n",
      "PastCocaineUse_DON      0\n",
      "PastOtherDrugUse_DON    0\n"
     ]
    }
   ],
   "source": [
    "features = uf.get_feature_list(df, 'Cocaine|Drug')"
   ]
  },
  {
   "cell_type": "code",
   "execution_count": 142,
   "id": "a2d8daef-5c9f-4186-bac0-83d73f7ec959",
   "metadata": {},
   "outputs": [
    {
     "name": "stdout",
     "output_type": "stream",
     "text": [
      "CocaineUse_DON\n",
      "Missing    21373\n",
      "Yes         3237\n",
      "No          2062\n",
      "Unknown      822\n",
      "\n",
      "\n",
      "OtherDrugUse_DON\n",
      "Missing    12152\n",
      "Yes        11699\n",
      "No          2339\n",
      "Unknown     1304\n",
      "\n",
      "\n",
      "PastCocaineUse_DON\n",
      "No         20699\n",
      "Yes         6121\n",
      "Unknown      470\n",
      "Missing      204\n",
      "\n",
      "\n",
      "PastOtherDrugUse_DON\n",
      "Yes        15342\n",
      "No         11658\n",
      "Unknown      290\n",
      "Missing      204\n",
      "\n",
      "\n"
     ]
    }
   ],
   "source": [
    "valuCounts(df, features)"
   ]
  },
  {
   "cell_type": "code",
   "execution_count": 143,
   "id": "e1e1882b-ceb9-4d80-a62f-1afb157117f5",
   "metadata": {},
   "outputs": [
    {
     "name": "stdout",
     "output_type": "stream",
     "text": [
      "CocaineUse_DON\n",
      "Unknown    22195\n",
      "Yes         3237\n",
      "No          2062\n",
      "\n",
      "\n",
      "OtherDrugUse_DON\n",
      "Unknown    13456\n",
      "Yes        11699\n",
      "No          2339\n",
      "\n",
      "\n",
      "PastCocaineUse_DON\n",
      "No         20699\n",
      "Yes         6121\n",
      "Unknown      674\n",
      "\n",
      "\n",
      "PastOtherDrugUse_DON\n",
      "Yes        15342\n",
      "No         11658\n",
      "Unknown      494\n",
      "\n",
      "\n"
     ]
    }
   ],
   "source": [
    "# remap\n",
    "df[features] = df[features].map(genericMapCat).fillna(df[features])\n",
    "valuCounts(df, features)"
   ]
  },
  {
   "cell_type": "markdown",
   "id": "2076a4de-90cd-4a1d-b0bd-446d7821dc65",
   "metadata": {},
   "source": [
    "##### CoronaryAngiogram_DON"
   ]
  },
  {
   "cell_type": "code",
   "execution_count": 144,
   "id": "ddbd8614-c7ec-4fbc-b5dd-b4ebf7e04d66",
   "metadata": {},
   "outputs": [
    {
     "name": "stdout",
     "output_type": "stream",
     "text": [
      "                       count unique top   freq\n",
      "CoronaryAngiogram_DON  27494      4  No  17207\n",
      "\n",
      ":::: NaN Count:\n",
      "CoronaryAngiogram_DON    0\n"
     ]
    }
   ],
   "source": [
    "features = uf.get_feature_list(df, 'CoronaryAngiogram')"
   ]
  },
  {
   "cell_type": "code",
   "execution_count": 145,
   "id": "ce76ac5a-4551-4ed4-923a-27dbe04105a9",
   "metadata": {},
   "outputs": [
    {
     "name": "stdout",
     "output_type": "stream",
     "text": [
      "CoronaryAngiogram_DON\n",
      "No                 17207\n",
      "Yes, normal         9196\n",
      "Yes, not normal      884\n",
      "Missing              207\n",
      "\n",
      "\n"
     ]
    }
   ],
   "source": [
    "valuCounts(df, features)"
   ]
  },
  {
   "cell_type": "code",
   "execution_count": 146,
   "id": "c5e8deb5-5191-4618-824d-f4294fed1557",
   "metadata": {},
   "outputs": [
    {
     "name": "stdout",
     "output_type": "stream",
     "text": [
      "CoronaryAngiogram_DON\n",
      "Unknown     17414\n",
      "Normal       9196\n",
      "Abnormal      884\n",
      "\n",
      "\n"
     ]
    }
   ],
   "source": [
    "# remap\n",
    "for feature in features:\n",
    "    df[feature] = df[feature].map({'Missing': 'Unknown', 'No': 'Unknown', 'Yes, normal': 'Normal', 'Yes, not normal': 'Abnormal'}).fillna(df[feature])\n",
    "\n",
    "valuCounts(df, features)"
   ]
  },
  {
   "cell_type": "markdown",
   "id": "f277458d-316c-4543-801f-41e461772a79",
   "metadata": {},
   "source": [
    "##### CrossMatchDone"
   ]
  },
  {
   "cell_type": "code",
   "execution_count": 147,
   "id": "2cb718b0-9160-4619-a656-e9e0a0795c74",
   "metadata": {},
   "outputs": [
    {
     "name": "stdout",
     "output_type": "stream",
     "text": [
      "                count unique  top   freq\n",
      "CrossMatchDone  27494      3  Yes  25337\n",
      "\n",
      ":::: NaN Count:\n",
      "CrossMatchDone    0\n"
     ]
    }
   ],
   "source": [
    "features = uf.get_feature_list(df, 'CrossMatchDone')"
   ]
  },
  {
   "cell_type": "code",
   "execution_count": 148,
   "id": "800b24f9-1e07-4d31-b63e-6e05675700e4",
   "metadata": {},
   "outputs": [
    {
     "name": "stdout",
     "output_type": "stream",
     "text": [
      "CrossMatchDone\n",
      "Yes        25337\n",
      "No          1503\n",
      "Missing      654\n",
      "\n",
      "\n"
     ]
    }
   ],
   "source": [
    "valuCounts(df, features)"
   ]
  },
  {
   "cell_type": "code",
   "execution_count": 149,
   "id": "111ee01f-0e32-4c61-8646-c6aa25a3ec8b",
   "metadata": {},
   "outputs": [
    {
     "name": "stdout",
     "output_type": "stream",
     "text": [
      "CrossMatchDone\n",
      "Yes        25337\n",
      "No          1503\n",
      "Unknown      654\n",
      "\n",
      "\n"
     ]
    }
   ],
   "source": [
    "# remap\n",
    "df[features] = df[features].map(genericMapCat).fillna(df[features])\n",
    "valuCounts(df, features)"
   ]
  },
  {
   "cell_type": "markdown",
   "id": "39378357-2c30-4830-a7bb-e60c35dae73c",
   "metadata": {},
   "source": [
    "##### DeceasedRetyped_DON"
   ]
  },
  {
   "cell_type": "code",
   "execution_count": 150,
   "id": "0559ddf5-5920-4d21-9698-81598b59bd96",
   "metadata": {},
   "outputs": [
    {
     "name": "stdout",
     "output_type": "stream",
     "text": [
      "                     count unique  top   freq\n",
      "DeceasedRetyped_DON  27494      3  Yes  16441\n",
      "\n",
      ":::: NaN Count:\n",
      "DeceasedRetyped_DON    0\n"
     ]
    }
   ],
   "source": [
    "features = uf.get_feature_list(df, 'DeceasedRetyped')"
   ]
  },
  {
   "cell_type": "code",
   "execution_count": 151,
   "id": "8bba8efb-8d51-4969-9607-a6a5f4b84ffc",
   "metadata": {},
   "outputs": [
    {
     "name": "stdout",
     "output_type": "stream",
     "text": [
      "DeceasedRetyped_DON\n",
      "Yes        16441\n",
      "No         10397\n",
      "Missing      656\n",
      "\n",
      "\n"
     ]
    }
   ],
   "source": [
    "valuCounts(df, features)"
   ]
  },
  {
   "cell_type": "code",
   "execution_count": 152,
   "id": "ae2a374f-f1e5-485a-8dc4-033cfda31e28",
   "metadata": {},
   "outputs": [
    {
     "name": "stdout",
     "output_type": "stream",
     "text": [
      "DeceasedRetyped_DON\n",
      "Yes        16441\n",
      "No         10397\n",
      "Unknown      656\n",
      "\n",
      "\n"
     ]
    }
   ],
   "source": [
    "# remap\n",
    "df[features] = df[features].map(genericMapCat).fillna(df[features])\n",
    "valuCounts(df, features)"
   ]
  },
  {
   "cell_type": "markdown",
   "id": "68f77853-58e7-4a68-877e-be523ed37142",
   "metadata": {},
   "source": [
    "##### Defibrillator"
   ]
  },
  {
   "cell_type": "code",
   "execution_count": 153,
   "id": "bf3e0056-e8b4-4dc6-aa50-766ebdb03c48",
   "metadata": {},
   "outputs": [
    {
     "name": "stdout",
     "output_type": "stream",
     "text": [
      "                                      count unique  top   freq\n",
      "DefibrillatorImplantRegistration_CAN  27494      4  Yes  20150\n",
      "\n",
      ":::: NaN Count:\n",
      "DefibrillatorImplantRegistration_CAN    0\n"
     ]
    }
   ],
   "source": [
    "features = uf.get_feature_list(df, 'Defibrillator')"
   ]
  },
  {
   "cell_type": "code",
   "execution_count": 154,
   "id": "2335c8b6-5cb2-4031-956c-3f611e9d3886",
   "metadata": {},
   "outputs": [
    {
     "name": "stdout",
     "output_type": "stream",
     "text": [
      "DefibrillatorImplantRegistration_CAN\n",
      "Yes        20150\n",
      "No          6917\n",
      "Unknown      352\n",
      "Missing       75\n",
      "\n",
      "\n"
     ]
    }
   ],
   "source": [
    "valuCounts(df, features)"
   ]
  },
  {
   "cell_type": "code",
   "execution_count": 155,
   "id": "4c47489a-9f0e-4944-a444-fd8f3c0ffefa",
   "metadata": {},
   "outputs": [
    {
     "name": "stdout",
     "output_type": "stream",
     "text": [
      "DefibrillatorImplantRegistration_CAN\n",
      "Yes        20150\n",
      "No          6917\n",
      "Unknown      427\n",
      "\n",
      "\n"
     ]
    }
   ],
   "source": [
    "# remap\n",
    "df[features] = df[features].map(genericMapCat).fillna(df[features])\n",
    "valuCounts(df, features)"
   ]
  },
  {
   "cell_type": "markdown",
   "id": "4f228209-1625-42e2-b08f-6c864c243c3c",
   "metadata": {},
   "source": [
    "##### Diabetes"
   ]
  },
  {
   "cell_type": "code",
   "execution_count": 156,
   "id": "6d5d1f2f-fa8f-4aa8-a462-5eac9fe12a39",
   "metadata": {},
   "outputs": [
    {
     "name": "stdout",
     "output_type": "stream",
     "text": [
      "                     count unique top   freq\n",
      "DiabetesHistory_DON  27494      7  No  26290\n",
      "DiabetesType_CAN     27494      7  No  19468\n",
      "Diabetes_DON         27494      4  No  26290\n",
      "\n",
      ":::: NaN Count:\n",
      "DiabetesHistory_DON    0\n",
      "DiabetesType_CAN       0\n",
      "Diabetes_DON           0\n"
     ]
    }
   ],
   "source": [
    "features = uf.get_feature_list(df, 'Diabetes')"
   ]
  },
  {
   "cell_type": "code",
   "execution_count": 157,
   "id": "30ee9ab8-c8a2-4ede-b599-23ad52e024b7",
   "metadata": {},
   "outputs": [
    {
     "name": "stdout",
     "output_type": "stream",
     "text": [
      "DiabetesHistory_DON\n",
      "No                       26290\n",
      "Yes, 0-5 Years             494\n",
      "Yes, >10 Years             262\n",
      "Unknown                    183\n",
      "Yes, 6-10 Years            163\n",
      "Yes, Duration Unknown       98\n",
      "Missing                      4\n",
      "\n",
      "\n",
      "DiabetesType_CAN\n",
      "No                         19468\n",
      "Type II                     7234\n",
      "Type I                       360\n",
      "Type Unknown                 224\n",
      "Type Other                   115\n",
      "Missing                       73\n",
      "Diabetes Status Unknown       20\n",
      "\n",
      "\n",
      "Diabetes_DON\n",
      "No         26290\n",
      "Yes         1017\n",
      "Unknown      183\n",
      "Missing        4\n",
      "\n",
      "\n"
     ]
    }
   ],
   "source": [
    "valuCounts(df, features)"
   ]
  },
  {
   "cell_type": "code",
   "execution_count": 158,
   "id": "5c84060f-e58b-465d-a614-604332b44583",
   "metadata": {},
   "outputs": [
    {
     "name": "stdout",
     "output_type": "stream",
     "text": [
      "DiabetesHistory_DON\n",
      "No                       26290\n",
      "Yes, 0-5 Years             494\n",
      "Yes, >10 Years             262\n",
      "Unknown                    187\n",
      "Yes, 6-10 Years            163\n",
      "Yes, Duration Unknown       98\n",
      "\n",
      "\n",
      "DiabetesType_CAN\n",
      "No              19468\n",
      "Type II          7234\n",
      "Type I            360\n",
      "Type Unknown      224\n",
      "Type Other        115\n",
      "Unknown            93\n",
      "\n",
      "\n",
      "Diabetes_DON\n",
      "No         26290\n",
      "Yes         1017\n",
      "Unknown      187\n",
      "\n",
      "\n"
     ]
    }
   ],
   "source": [
    "# remap\n",
    "for feature in features:\n",
    "    df[feature] = df[feature].map({'Missing': 'Unknown', 'Diabetes Status Unknown': 'Unknown'}).fillna(df[feature])\n",
    "\n",
    "valuCounts(df, features)"
   ]
  },
  {
   "cell_type": "markdown",
   "id": "e0adb0b5-b4f4-4497-9339-08cd0eaf5d69",
   "metadata": {},
   "source": [
    "##### Diagnosis"
   ]
  },
  {
   "cell_type": "code",
   "execution_count": 159,
   "id": "9550275b-0160-4388-b280-64925b200328",
   "metadata": {},
   "outputs": [
    {
     "name": "stdout",
     "output_type": "stream",
     "text": [
      "                           count unique                           top  freq\n",
      "DiagnosisAtListing_CAN     27494     38  DILATED MYOPATHY: IDIOPATHIC  9531\n",
      "PrimaryDiagnosisType_CAN   27494     37  DILATED MYOPATHY: IDIOPATHIC  9364\n",
      "WaitListDiagnosisCode_CAN  27494     37  DILATED MYOPATHY: IDIOPATHIC  9487\n",
      "\n",
      ":::: NaN Count:\n",
      "DiagnosisAtListing_CAN       0\n",
      "PrimaryDiagnosisType_CAN     0\n",
      "WaitListDiagnosisCode_CAN    0\n"
     ]
    }
   ],
   "source": [
    "features = uf.get_feature_list(df, 'Diagnosis')"
   ]
  },
  {
   "cell_type": "code",
   "execution_count": 160,
   "id": "31874830-1598-47bc-a802-72b57c21b1a7",
   "metadata": {},
   "outputs": [
    {
     "name": "stdout",
     "output_type": "stream",
     "text": [
      "DiagnosisAtListing_CAN\n",
      "DILATED MYOPATHY: IDIOPATHIC                                              9531\n",
      "DILATED MYOPATHY: ISCHEMIC                                                7749\n",
      "DILATED MYOPATHY: OTHER SPECIFY                                           2474\n",
      "DILATED MYOPATHY: FAMILIAL                                                 967\n",
      "CONGENITAL HEART DEFECT - WITH SURGERY                                     832\n",
      "HYPERTROPHIC CARDIOMYOPATHY                                                777\n",
      "CORONARY ARTERY DISEASE                                                    744\n",
      "RESTRICTIVE MYOPATHY: AMYLOIDOSIS                                          519\n",
      "OTHER - SPECIFY                                                            489\n",
      "HEART RE-TX/GF: CORONARY ARTERY DISEASE                                    470\n",
      "DILATED MYOPATHY: ADRIAMYCIN                                               441\n",
      "DILATED MYOPATHY: POST PARTUM                                              346\n",
      "VALVULAR HEART DISEASE                                                     342\n",
      "DILATED MYOPATHY: VIRAL                                                    295\n",
      "RESTRICTIVE MYOPATHY: SARCOIDOSIS                                          238\n",
      "DILATED MYOPATHY: MYOCARDITIS                                              198\n",
      "RESTRICTIVE MYOPATHY: IDIOPATHIC                                           152\n",
      "ARRHYTHMOGENIC RIGHT VENTRICULAR DYSPLASIA/CARDIOMYOPATHY                  143\n",
      "HEART RE-TX/GF: CHRONIC REJECTION                                          115\n",
      "DILATED MYOPATHY: ALCOHOLIC                                                 83\n",
      "RESTRICTIVE MYOPATHY: OTHER SPECIFY                                         76\n",
      "HEART RE-TX/GF: PRIMARY FAILURE                                             75\n",
      "Missing                                                                     73\n",
      "CONGENITAL HEART DEFECT - WITHOUT SURGERY                                   70\n",
      "RESTRICTIVE MYOPATHY: SEC TO RADIAT/CHEM                                    65\n",
      "HEART RE-TX/GF: OTHER SPECIFY                                               47\n",
      "HEART RE-TX/GF: RESTRICTIVE/CONSTRICTIVE                                    39\n",
      "DILATED MYOPATHY: VIRAL (NOT COVID-19)                                      35\n",
      "HEART RE-TX/GF: ACUTE REJECTION                                             32\n",
      "HEART RE-TX/GF: NON-SPECIFIC                                                29\n",
      "CONGENITAL HEART DEFECT - PRIOR SURGERY UNKNOWN                             15\n",
      "MUSCULAR DYSTROPHY: OTHER SPECIFY                                           15\n",
      "RESTRICTIVE MYOPATHY: ENDOCARDIAL FIBROS                                     6\n",
      "CANCER                                                                       4\n",
      "HEART RE-TX/GF: HYPERACUTE REJECTION                                         3\n",
      "COVID-19: DILATED MYOPATHY: ACTIVE MYOCARDITIS                               2\n",
      "COVID-19: DILATED MYOPATHY: HISTORY OF MYOCARDITIS                           2\n",
      "CONGENITAL HEART DEFECT - HYPOPLASTIC LEFT HEART SYNDROME - UNOPERATED       1\n",
      "\n",
      "\n",
      "PrimaryDiagnosisType_CAN\n",
      "DILATED MYOPATHY: IDIOPATHIC                                 9364\n",
      "DILATED MYOPATHY: ISCHEMIC                                   7832\n",
      "DILATED MYOPATHY: OTHER SPECIFY                              2536\n",
      "DILATED MYOPATHY: FAMILIAL                                    961\n",
      "CONGENITAL HEART DEFECT - WITH SURGERY                        830\n",
      "CORONARY ARTERY DISEASE                                       786\n",
      "HYPERTROPHIC CARDIOMYOPATHY                                   775\n",
      "RESTRICTIVE MYOPATHY: AMYLOIDOSIS                             521\n",
      "OTHER - SPECIFY                                               498\n",
      "HEART RE-TX/GF: CORONARY ARTERY DISEASE                       452\n",
      "DILATED MYOPATHY: ADRIAMYCIN                                  428\n",
      "DILATED MYOPATHY: POST PARTUM                                 341\n",
      "VALVULAR HEART DISEASE                                        324\n",
      "RESTRICTIVE MYOPATHY: SARCOIDOSIS                             261\n",
      "DILATED MYOPATHY: VIRAL                                       247\n",
      "DILATED MYOPATHY: MYOCARDITIS                                 201\n",
      "ARRHYTHMOGENIC RIGHT VENTRICULAR DYSPLASIA/CARDIOMYOPATHY     168\n",
      "RESTRICTIVE MYOPATHY: IDIOPATHIC                              159\n",
      "HEART RE-TX/GF: CHRONIC REJECTION                             123\n",
      "RESTRICTIVE MYOPATHY: OTHER SPECIFY                            86\n",
      "HEART RE-TX/GF: PRIMARY FAILURE                                79\n",
      "DILATED MYOPATHY: ALCOHOLIC                                    75\n",
      "CONGENITAL HEART DEFECT - WITHOUT SURGERY                      71\n",
      "Missing                                                        71\n",
      "RESTRICTIVE MYOPATHY: SEC TO RADIAT/CHEM                       60\n",
      "HEART RE-TX/GF: OTHER SPECIFY                                  51\n",
      "DILATED MYOPATHY: VIRAL (NOT COVID-19)                         43\n",
      "HEART RE-TX/GF: RESTRICTIVE/CONSTRICTIVE                       43\n",
      "HEART RE-TX/GF: NON-SPECIFIC                                   31\n",
      "HEART RE-TX/GF: ACUTE REJECTION                                27\n",
      "MUSCULAR DYSTROPHY: OTHER SPECIFY                              18\n",
      "CONGENITAL HEART DEFECT - PRIOR SURGERY UNKNOWN                14\n",
      "RESTRICTIVE MYOPATHY: ENDOCARDIAL FIBROS                        8\n",
      "COVID-19: DILATED MYOPATHY: HISTORY OF MYOCARDITIS              5\n",
      "CANCER                                                          3\n",
      "COVID-19: DILATED MYOPATHY: ACTIVE MYOCARDITIS                  1\n",
      "HEART RE-TX/GF: HYPERACUTE REJECTION                            1\n",
      "\n",
      "\n",
      "WaitListDiagnosisCode_CAN\n",
      "DILATED MYOPATHY: IDIOPATHIC                                              9487\n",
      "DILATED MYOPATHY: ISCHEMIC                                                7870\n",
      "DILATED MYOPATHY: OTHER SPECIFY                                           2827\n",
      "DILATED MYOPATHY: FAMILIAL                                                 978\n",
      "CONGENITAL HEART DEFECT - WITH SURGERY                                     832\n",
      "HYPERTROPHIC CARDIOMYOPATHY                                                761\n",
      "CORONARY ARTERY DISEASE                                                    655\n",
      "RESTRICTIVE MYOPATHY: AMYLOIDOSIS                                          519\n",
      "HEART RE-TX/GF: CORONARY ARTERY DISEASE                                    497\n",
      "DILATED MYOPATHY: ADRIAMYCIN                                               420\n",
      "DILATED MYOPATHY: POST PARTUM                                              338\n",
      "VALVULAR HEART DISEASE                                                     315\n",
      "OTHER - SPECIFY                                                            299\n",
      "DILATED MYOPATHY: VIRAL                                                    288\n",
      "RESTRICTIVE MYOPATHY: SARCOIDOSIS                                          215\n",
      "DILATED MYOPATHY: MYOCARDITIS                                              200\n",
      "RESTRICTIVE MYOPATHY: IDIOPATHIC                                           160\n",
      "ARRHYTHMOGENIC RIGHT VENTRICULAR DYSPLASIA/CARDIOMYOPATHY                  140\n",
      "RESTRICTIVE MYOPATHY: OTHER SPECIFY                                        119\n",
      "HEART RE-TX/GF: CHRONIC REJECTION                                          109\n",
      "DILATED MYOPATHY: ALCOHOLIC                                                 71\n",
      "CONGENITAL HEART DEFECT - WITHOUT SURGERY                                   70\n",
      "HEART RE-TX/GF: PRIMARY FAILURE                                             63\n",
      "HEART RE-TX/GF: OTHER SPECIFY                                               48\n",
      "RESTRICTIVE MYOPATHY: SEC TO RADIAT/CHEM                                    46\n",
      "HEART RE-TX/GF: RESTRICTIVE/CONSTRICTIVE                                    37\n",
      "DILATED MYOPATHY: VIRAL (NOT COVID-19)                                      35\n",
      "HEART RE-TX/GF: NON-SPECIFIC                                                35\n",
      "HEART RE-TX/GF: ACUTE REJECTION                                             22\n",
      "MUSCULAR DYSTROPHY: OTHER SPECIFY                                           14\n",
      "CONGENITAL HEART DEFECT - PRIOR SURGERY UNKNOWN                              7\n",
      "RESTRICTIVE MYOPATHY: ENDOCARDIAL FIBROS                                     6\n",
      "HEART RE-TX/GF: HYPERACUTE REJECTION                                         4\n",
      "CANCER                                                                       2\n",
      "COVID-19: DILATED MYOPATHY: ACTIVE MYOCARDITIS                               2\n",
      "COVID-19: DILATED MYOPATHY: HISTORY OF MYOCARDITIS                           2\n",
      "CONGENITAL HEART DEFECT - HYPOPLASTIC LEFT HEART SYNDROME - UNOPERATED       1\n",
      "\n",
      "\n"
     ]
    }
   ],
   "source": [
    "valuCounts(df, features)"
   ]
  },
  {
   "cell_type": "markdown",
   "id": "455e3959-2dff-41fd-bb09-ec27dfdf21d6",
   "metadata": {},
   "source": [
    "##### Dialysis"
   ]
  },
  {
   "cell_type": "code",
   "execution_count": 161,
   "id": "7a5d4f44-5c5f-439f-ae27-fe87c7009d6c",
   "metadata": {},
   "outputs": [
    {
     "name": "stdout",
     "output_type": "stream",
     "text": [
      "                                           count unique top   freq\n",
      "DialysisBetweenRegistrationTransplant_CAN  27494      4  No  25801\n",
      "DialysisPostDischarge                      27494      4  No  23158\n",
      "DialysisPriorRegistration_CAN              27494      3  No  25571\n",
      "\n",
      ":::: NaN Count:\n",
      "DialysisBetweenRegistrationTransplant_CAN    0\n",
      "DialysisPostDischarge                        0\n",
      "DialysisPriorRegistration_CAN                0\n"
     ]
    }
   ],
   "source": [
    "features = uf.get_feature_list(df, 'Dialysis')"
   ]
  },
  {
   "cell_type": "code",
   "execution_count": 162,
   "id": "a0d3dcc3-9b6a-4c48-8077-e855e54bde6b",
   "metadata": {},
   "outputs": [
    {
     "name": "stdout",
     "output_type": "stream",
     "text": [
      "DialysisBetweenRegistrationTransplant_CAN\n",
      "No         25801\n",
      "Yes         1245\n",
      "Missing      423\n",
      "Unknown       25\n",
      "\n",
      "\n",
      "DialysisPostDischarge\n",
      "No         23158\n",
      "Yes         3751\n",
      "Missing      466\n",
      "Unknown      119\n",
      "\n",
      "\n",
      "DialysisPriorRegistration_CAN\n",
      "No         25571\n",
      "Yes         1483\n",
      "Missing      440\n",
      "\n",
      "\n"
     ]
    }
   ],
   "source": [
    "valuCounts(df, features)"
   ]
  },
  {
   "cell_type": "code",
   "execution_count": 163,
   "id": "560de7cd-e9dd-421b-a2f8-e4bee033af3a",
   "metadata": {},
   "outputs": [
    {
     "name": "stdout",
     "output_type": "stream",
     "text": [
      "DialysisBetweenRegistrationTransplant_CAN\n",
      "No         25801\n",
      "Yes         1245\n",
      "Unknown      448\n",
      "\n",
      "\n",
      "DialysisPostDischarge\n",
      "No         23158\n",
      "Yes         3751\n",
      "Unknown      585\n",
      "\n",
      "\n",
      "DialysisPriorRegistration_CAN\n",
      "No         25571\n",
      "Yes         1483\n",
      "Unknown      440\n",
      "\n",
      "\n"
     ]
    }
   ],
   "source": [
    "# remap\n",
    "df[features] = df[features].map(genericMapCat).fillna(df[features])\n",
    "valuCounts(df, features)"
   ]
  },
  {
   "cell_type": "markdown",
   "id": "d1bdd99d-164d-40db-aa53-58c0da34cdc6",
   "metadata": {},
   "source": [
    "##### Diuretics"
   ]
  },
  {
   "cell_type": "code",
   "execution_count": 164,
   "id": "19b88f9e-b0e2-43ce-ae03-767ef6d986a6",
   "metadata": {},
   "outputs": [
    {
     "name": "stdout",
     "output_type": "stream",
     "text": [
      "               count unique  top   freq\n",
      "Diuretics_DON  27494      4  Yes  19129\n",
      "\n",
      ":::: NaN Count:\n",
      "Diuretics_DON    0\n"
     ]
    }
   ],
   "source": [
    "features = uf.get_feature_list(df, 'Diuretics')"
   ]
  },
  {
   "cell_type": "code",
   "execution_count": 165,
   "id": "2540b6a9-3bc9-4884-9eda-6e1fda545fe1",
   "metadata": {},
   "outputs": [
    {
     "name": "stdout",
     "output_type": "stream",
     "text": [
      "Diuretics_DON\n",
      "Yes        19129\n",
      "No          8155\n",
      "Missing      204\n",
      "Unknown        6\n",
      "\n",
      "\n"
     ]
    }
   ],
   "source": [
    "valuCounts(df, features)"
   ]
  },
  {
   "cell_type": "code",
   "execution_count": 166,
   "id": "978bf1ad-7f8b-4c0f-b453-3995b4925f5f",
   "metadata": {},
   "outputs": [
    {
     "name": "stdout",
     "output_type": "stream",
     "text": [
      "Diuretics_DON\n",
      "Yes        19129\n",
      "No          8155\n",
      "Unknown      210\n",
      "\n",
      "\n"
     ]
    }
   ],
   "source": [
    "# remap\n",
    "df[features] = df[features].map(genericMapCat).fillna(df[features])\n",
    "valuCounts(df, features)"
   ]
  },
  {
   "cell_type": "markdown",
   "id": "77f943c3-4f3d-4b84-9851-b58e4086abfb",
   "metadata": {},
   "source": [
    "##### EpsteinBarr"
   ]
  },
  {
   "cell_type": "code",
   "execution_count": 167,
   "id": "aa6be8a2-807d-4528-b916-cc1d3dd82b33",
   "metadata": {},
   "outputs": [
    {
     "name": "stdout",
     "output_type": "stream",
     "text": [
      "                                     count unique       top   freq\n",
      "EpsteinBarrSeroStatusTransplant_CAN  27494      5  Positive  22558\n",
      "EpsteinBarr_IGG_DON                  27494      6  Positive  24494\n",
      "EpsteinBarr_IGM_DON                  27494      7  Negative  21916\n",
      "\n",
      ":::: NaN Count:\n",
      "EpsteinBarrSeroStatusTransplant_CAN    0\n",
      "EpsteinBarr_IGG_DON                    0\n",
      "EpsteinBarr_IGM_DON                    0\n"
     ]
    }
   ],
   "source": [
    "features = uf.get_feature_list(df, 'EpsteinBarr')"
   ]
  },
  {
   "cell_type": "code",
   "execution_count": 168,
   "id": "d57e9479-c745-4226-bb19-4ea22f9f34aa",
   "metadata": {},
   "outputs": [
    {
     "name": "stdout",
     "output_type": "stream",
     "text": [
      "EpsteinBarrSeroStatusTransplant_CAN\n",
      "Positive    22558\n",
      "Negative     2689\n",
      "Not Done     1482\n",
      "Missing       414\n",
      "Unknown       351\n",
      "\n",
      "\n",
      "EpsteinBarr_IGG_DON\n",
      "Positive         24494\n",
      "Negative          1699\n",
      "Not Done          1095\n",
      "Indeterminate      177\n",
      "Missing             22\n",
      "Pending              7\n",
      "\n",
      "\n",
      "EpsteinBarr_IGM_DON\n",
      "Negative         21916\n",
      "Not Done          5100\n",
      "Positive           376\n",
      "Indeterminate       69\n",
      "Missing             27\n",
      "Pending              4\n",
      "Unknown              2\n",
      "\n",
      "\n"
     ]
    }
   ],
   "source": [
    "valuCounts(df, features)"
   ]
  },
  {
   "cell_type": "code",
   "execution_count": 169,
   "id": "80d060db-aea0-4cda-90c6-6250620d5e49",
   "metadata": {},
   "outputs": [
    {
     "name": "stdout",
     "output_type": "stream",
     "text": [
      "EpsteinBarrSeroStatusTransplant_CAN\n",
      "Positive    22558\n",
      "Negative     2689\n",
      "Unknown      2247\n",
      "\n",
      "\n",
      "EpsteinBarr_IGG_DON\n",
      "Positive    24494\n",
      "Negative     1699\n",
      "Unknown      1301\n",
      "\n",
      "\n",
      "EpsteinBarr_IGM_DON\n",
      "Negative    21916\n",
      "Unknown      5202\n",
      "Positive      376\n",
      "\n",
      "\n"
     ]
    }
   ],
   "source": [
    "# remap\n",
    "df[features] = df[features].map(epsteinBarrMapCat).fillna(df[features])\n",
    "valuCounts(df, features)"
   ]
  },
  {
   "cell_type": "markdown",
   "id": "d57ddf32-a373-434b-be00-ca4600f5e985",
   "metadata": {},
   "source": [
    "##### Ethnicity"
   ]
  },
  {
   "cell_type": "code",
   "execution_count": 170,
   "id": "a688180c-545f-448f-9de2-8c516003278f",
   "metadata": {},
   "outputs": [
    {
     "name": "stdout",
     "output_type": "stream",
     "text": [
      "               count unique                  top   freq\n",
      "Ethnicity_CAN  27494      7  White, Non-Hispanic  17394\n",
      "Ethnicity_DON  27494      7  White, Non-Hispanic  17468\n",
      "\n",
      ":::: NaN Count:\n",
      "Ethnicity_CAN    0\n",
      "Ethnicity_DON    0\n"
     ]
    }
   ],
   "source": [
    "features = uf.get_feature_list(df, 'Ethnicity')"
   ]
  },
  {
   "cell_type": "code",
   "execution_count": 171,
   "id": "d03564c5-0bbc-412e-8c32-7aac4ae2aa8c",
   "metadata": {},
   "outputs": [
    {
     "name": "stdout",
     "output_type": "stream",
     "text": [
      "Ethnicity_CAN\n",
      "White, Non-Hispanic                       17394\n",
      "Black                                      6275\n",
      "Hispanic                                   2460\n",
      "Asian                                      1015\n",
      "Multiracial                                 158\n",
      "Native Hawaiian/other Pacific Islander      108\n",
      "Amer Ind/Alaska Native                       84\n",
      "\n",
      "\n",
      "Ethnicity_DON\n",
      "White, Non-Hispanic                       17468\n",
      "Hispanic                                   4647\n",
      "Black                                      4443\n",
      "Asian                                       484\n",
      "Multiracial                                 230\n",
      "Amer Ind/Alaska Native                      167\n",
      "Native Hawaiian/other Pacific Islander       55\n",
      "\n",
      "\n"
     ]
    }
   ],
   "source": [
    "valuCounts(df, features)"
   ]
  },
  {
   "cell_type": "markdown",
   "id": "dc41d66d-71e5-4915-802c-8f199c6ad751",
   "metadata": {},
   "source": [
    "##### Gender"
   ]
  },
  {
   "cell_type": "code",
   "execution_count": 172,
   "id": "dd077a93-f411-401b-b8e6-9bf6c7ba382e",
   "metadata": {},
   "outputs": [
    {
     "name": "stdout",
     "output_type": "stream",
     "text": [
      "            count unique top   freq\n",
      "Gender_CAN  27494      2   M  20100\n",
      "Gender_DON  27494      2   M  19423\n",
      "\n",
      ":::: NaN Count:\n",
      "Gender_CAN    0\n",
      "Gender_DON    0\n"
     ]
    }
   ],
   "source": [
    "features = uf.get_feature_list(df, 'Gender')"
   ]
  },
  {
   "cell_type": "code",
   "execution_count": 173,
   "id": "31616f6a-7c5d-46f0-be81-59640479adc9",
   "metadata": {},
   "outputs": [
    {
     "name": "stdout",
     "output_type": "stream",
     "text": [
      "Gender_CAN\n",
      "M    20100\n",
      "F     7394\n",
      "\n",
      "\n",
      "Gender_DON\n",
      "M    19423\n",
      "F     8071\n",
      "\n",
      "\n"
     ]
    }
   ],
   "source": [
    "valuCounts(df, features)"
   ]
  },
  {
   "cell_type": "markdown",
   "id": "94fa2ed4-d20a-48b2-881a-e20f5a7e2df9",
   "metadata": {},
   "source": [
    "##### GraftFailStatus (LABEL)"
   ]
  },
  {
   "cell_type": "code",
   "execution_count": 174,
   "id": "3988b482-6e10-4a97-8558-f2cb8bcf3e1b",
   "metadata": {},
   "outputs": [
    {
     "name": "stdout",
     "output_type": "stream",
     "text": [
      "                 count unique      top   freq\n",
      "GraftFailStatus  27494      3  Success  21789\n",
      "\n",
      ":::: NaN Count:\n",
      "GraftFailStatus    0\n"
     ]
    }
   ],
   "source": [
    "features = uf.get_feature_list(df, 'GraftFailStatus')"
   ]
  },
  {
   "cell_type": "code",
   "execution_count": 175,
   "id": "4edc5568-f428-4883-8fa1-044312452b3a",
   "metadata": {},
   "outputs": [
    {
     "name": "stdout",
     "output_type": "stream",
     "text": [
      "GraftFailStatus\n",
      "Success    21789\n",
      "Failure     5279\n",
      "Missing      426\n",
      "\n",
      "\n"
     ]
    }
   ],
   "source": [
    "valuCounts(df, features)"
   ]
  },
  {
   "cell_type": "code",
   "execution_count": 176,
   "id": "32882bb5-b3cd-466b-b0a4-32260cf76c89",
   "metadata": {},
   "outputs": [
    {
     "name": "stdout",
     "output_type": "stream",
     "text": [
      "GraftFailStatus\n",
      "Success    21789\n",
      "Failure     5279\n",
      "Unknown      426\n",
      "\n",
      "\n"
     ]
    }
   ],
   "source": [
    "# remap\n",
    "df[features] = df[features].map(genericMapCat).fillna(df[features])\n",
    "valuCounts(df, features)"
   ]
  },
  {
   "cell_type": "markdown",
   "id": "39c12cf5-ee3d-434f-846c-06582228c053",
   "metadata": {},
   "source": [
    "##### GraftStatus (LABEL)"
   ]
  },
  {
   "cell_type": "code",
   "execution_count": 177,
   "id": "b4c271aa-648d-4510-a252-ee4a7a0a34a4",
   "metadata": {},
   "outputs": [
    {
     "name": "stdout",
     "output_type": "stream",
     "text": [
      "             count unique  top   freq\n",
      "GraftStatus  27494      3  Yes  25478\n",
      "\n",
      ":::: NaN Count:\n",
      "GraftStatus    0\n"
     ]
    }
   ],
   "source": [
    "features = uf.get_feature_list(df, 'GraftStatus')"
   ]
  },
  {
   "cell_type": "code",
   "execution_count": 178,
   "id": "64223464-6fba-45f7-8a96-0dedc7d18e62",
   "metadata": {},
   "outputs": [
    {
     "name": "stdout",
     "output_type": "stream",
     "text": [
      "GraftStatus\n",
      "Yes        25478\n",
      "No          1389\n",
      "Missing      627\n",
      "\n",
      "\n"
     ]
    }
   ],
   "source": [
    "valuCounts(df, features)"
   ]
  },
  {
   "cell_type": "code",
   "execution_count": 179,
   "id": "b0ea567b-8449-4572-92b2-d05868eb13f6",
   "metadata": {},
   "outputs": [
    {
     "name": "stdout",
     "output_type": "stream",
     "text": [
      "GraftStatus\n",
      "Yes        25478\n",
      "No          1389\n",
      "Unknown      627\n",
      "\n",
      "\n"
     ]
    }
   ],
   "source": [
    "# remap\n",
    "df[features] = df[features].map(genericMapCat).fillna(df[features])\n",
    "valuCounts(df, features)"
   ]
  },
  {
   "cell_type": "markdown",
   "id": "89a8b4d9-20f4-4bd4-9c44-01dad9d3b76d",
   "metadata": {},
   "source": [
    "##### NAT"
   ]
  },
  {
   "cell_type": "code",
   "execution_count": 180,
   "id": "6b3b596b-8f82-4d25-b504-5e873b51fba2",
   "metadata": {},
   "outputs": [
    {
     "name": "stdout",
     "output_type": "stream",
     "text": [
      "                           count unique       top   freq\n",
      "HBV_NAT_Result_CAN         27494      5   Missing  14286\n",
      "HBV_NAT_Result_DON         27494      5  Negative  19961\n",
      "HCV_NAT_PreTranspant_CAN   27494      5   Missing  14284\n",
      "HCV_NAT_Result_DON         27494      6  Negative  19142\n",
      "HIV_NAT_PreTransplant_CAN  27494      5   Missing  14285\n",
      "HIV_NAT_Result_DON         27494      4  Negative  20031\n",
      "\n",
      ":::: NaN Count:\n",
      "HBV_NAT_Result_CAN           0\n",
      "HBV_NAT_Result_DON           0\n",
      "HCV_NAT_PreTranspant_CAN     0\n",
      "HCV_NAT_Result_DON           0\n",
      "HIV_NAT_PreTransplant_CAN    0\n",
      "HIV_NAT_Result_DON           0\n"
     ]
    }
   ],
   "source": [
    "features = uf.get_feature_list(df, '_NAT_')"
   ]
  },
  {
   "cell_type": "code",
   "execution_count": 181,
   "id": "bf30080c-f6d1-415b-8206-b0535cf30ec6",
   "metadata": {},
   "outputs": [
    {
     "name": "stdout",
     "output_type": "stream",
     "text": [
      "HBV_NAT_Result_CAN\n",
      "Missing     14286\n",
      "Not Done    10671\n",
      "Negative     2311\n",
      "Unknown       204\n",
      "Positive       22\n",
      "\n",
      "\n",
      "HBV_NAT_Result_DON\n",
      "Negative    19961\n",
      "Missing      7403\n",
      "Not Done      112\n",
      "Positive       14\n",
      "Unknown         4\n",
      "\n",
      "\n",
      "HCV_NAT_PreTranspant_CAN\n",
      "Missing     14284\n",
      "Not Done     9959\n",
      "Negative     3015\n",
      "Unknown       200\n",
      "Positive       36\n",
      "\n",
      "\n",
      "HCV_NAT_Result_DON\n",
      "Negative         19142\n",
      "Missing           7403\n",
      "Positive           924\n",
      "Not Done            23\n",
      "Indeterminate        1\n",
      "Unknown              1\n",
      "\n",
      "\n",
      "HIV_NAT_PreTransplant_CAN\n",
      "Missing     14285\n",
      "Not Done    10849\n",
      "Negative     2136\n",
      "Unknown       213\n",
      "Positive       11\n",
      "\n",
      "\n",
      "HIV_NAT_Result_DON\n",
      "Negative    20031\n",
      "Missing      7403\n",
      "Not Done       59\n",
      "Unknown         1\n",
      "\n",
      "\n"
     ]
    }
   ],
   "source": [
    "valuCounts(df, features)"
   ]
  },
  {
   "cell_type": "code",
   "execution_count": 182,
   "id": "46a3e7d7-3c4f-4522-870d-1bf5e6170c79",
   "metadata": {},
   "outputs": [
    {
     "name": "stdout",
     "output_type": "stream",
     "text": [
      "HBV_NAT_Result_CAN\n",
      "Unknown     25161\n",
      "Negative     2311\n",
      "Positive       22\n",
      "\n",
      "\n",
      "HBV_NAT_Result_DON\n",
      "Negative    19961\n",
      "Unknown      7519\n",
      "Positive       14\n",
      "\n",
      "\n",
      "HCV_NAT_PreTranspant_CAN\n",
      "Unknown     24443\n",
      "Negative     3015\n",
      "Positive       36\n",
      "\n",
      "\n",
      "HCV_NAT_Result_DON\n",
      "Negative    19142\n",
      "Unknown      7428\n",
      "Positive      924\n",
      "\n",
      "\n",
      "HIV_NAT_PreTransplant_CAN\n",
      "Unknown     25347\n",
      "Negative     2136\n",
      "Positive       11\n",
      "\n",
      "\n",
      "HIV_NAT_Result_DON\n",
      "Negative    20031\n",
      "Unknown      7463\n",
      "\n",
      "\n"
     ]
    }
   ],
   "source": [
    "# remap\n",
    "df[features] = df[features].map(genericMapCat).fillna(df[features])\n",
    "valuCounts(df, features)"
   ]
  },
  {
   "cell_type": "markdown",
   "id": "bd1533d6-a4dd-4139-b289-da45b78d60f1",
   "metadata": {},
   "source": [
    "##### HEP"
   ]
  },
  {
   "cell_type": "code",
   "execution_count": 183,
   "id": "3e71a9f5-31ab-4256-9783-ca5c9ffc2d5b",
   "metadata": {},
   "outputs": [
    {
     "name": "stdout",
     "output_type": "stream",
     "text": [
      "                            count unique       top   freq\n",
      "Antibody_HEP_C_DON          27494      3  Negative  26048\n",
      "HEP_C_SerostatusStatus_CAN  27494      5  Negative  25963\n",
      "SurfaceAntigenHEP_B_CAN     27494      5  Negative  26206\n",
      "SurfaceAntigenHEP_B_DON     27494      5  Negative  27441\n",
      "\n",
      ":::: NaN Count:\n",
      "Antibody_HEP_C_DON            0\n",
      "HEP_C_SerostatusStatus_CAN    0\n",
      "SurfaceAntigenHEP_B_CAN       0\n",
      "SurfaceAntigenHEP_B_DON       0\n"
     ]
    }
   ],
   "source": [
    "features = uf.get_feature_list(df, 'HEP')"
   ]
  },
  {
   "cell_type": "code",
   "execution_count": 184,
   "id": "721e55b4-0028-40c7-bced-e21e35ffc488",
   "metadata": {},
   "outputs": [
    {
     "name": "stdout",
     "output_type": "stream",
     "text": [
      "Antibody_HEP_C_DON\n",
      "Negative    26048\n",
      "Positive     1441\n",
      "Unknown         5\n",
      "\n",
      "\n",
      "HEP_C_SerostatusStatus_CAN\n",
      "Negative    25963\n",
      "Positive      573\n",
      "Missing       409\n",
      "Not Done      387\n",
      "Unknown       162\n",
      "\n",
      "\n",
      "SurfaceAntigenHEP_B_CAN\n",
      "Negative    26206\n",
      "Missing       409\n",
      "Positive      391\n",
      "Not Done      353\n",
      "Unknown       135\n",
      "\n",
      "\n",
      "SurfaceAntigenHEP_B_DON\n",
      "Negative         27441\n",
      "Positive            21\n",
      "Missing             15\n",
      "Not Done            15\n",
      "Indeterminate        2\n",
      "\n",
      "\n"
     ]
    }
   ],
   "source": [
    "valuCounts(df, features)"
   ]
  },
  {
   "cell_type": "code",
   "execution_count": 185,
   "id": "82897a34-462c-4864-8e37-8d28181072cc",
   "metadata": {},
   "outputs": [
    {
     "name": "stdout",
     "output_type": "stream",
     "text": [
      "Antibody_HEP_C_DON\n",
      "Negative    26048\n",
      "Positive     1441\n",
      "Unknown         5\n",
      "\n",
      "\n",
      "HEP_C_SerostatusStatus_CAN\n",
      "Negative    25963\n",
      "Unknown       958\n",
      "Positive      573\n",
      "\n",
      "\n",
      "SurfaceAntigenHEP_B_CAN\n",
      "Negative    26206\n",
      "Unknown       897\n",
      "Positive      391\n",
      "\n",
      "\n",
      "SurfaceAntigenHEP_B_DON\n",
      "Negative    27441\n",
      "Unknown        32\n",
      "Positive       21\n",
      "\n",
      "\n"
     ]
    }
   ],
   "source": [
    "# remap\n",
    "df[features] = df[features].map(genericMapCat).fillna(df[features])\n",
    "valuCounts(df, features)"
   ]
  },
  {
   "cell_type": "markdown",
   "id": "2e98a76b-6eb6-4915-adcf-b21101afde73",
   "metadata": {},
   "source": [
    "##### HIV"
   ]
  },
  {
   "cell_type": "code",
   "execution_count": 186,
   "id": "faeb263f-9d92-403d-bf1a-79568dd3fa91",
   "metadata": {},
   "outputs": [
    {
     "name": "stdout",
     "output_type": "stream",
     "text": [
      "                              count unique       top   freq\n",
      "HIV_NAT_PreTransplant_CAN     27494      3   Unknown  25347\n",
      "HIV_NAT_Result_DON            27494      2  Negative  20031\n",
      "HIV_Risk_DON                  27494      4        No  20100\n",
      "HIV_SeroStatusTransplant_CAN  27494      5  Negative  26423\n",
      "\n",
      ":::: NaN Count:\n",
      "HIV_NAT_PreTransplant_CAN       0\n",
      "HIV_NAT_Result_DON              0\n",
      "HIV_Risk_DON                    0\n",
      "HIV_SeroStatusTransplant_CAN    0\n"
     ]
    }
   ],
   "source": [
    "features = uf.get_feature_list(df, 'HIV')"
   ]
  },
  {
   "cell_type": "code",
   "execution_count": 187,
   "id": "ec61917d-f482-4b24-88d0-93fe08f1fe6b",
   "metadata": {},
   "outputs": [
    {
     "name": "stdout",
     "output_type": "stream",
     "text": [
      "HIV_NAT_PreTransplant_CAN\n",
      "Unknown     25347\n",
      "Negative     2136\n",
      "Positive       11\n",
      "\n",
      "\n",
      "HIV_NAT_Result_DON\n",
      "Negative    20031\n",
      "Unknown      7463\n",
      "\n",
      "\n",
      "HIV_Risk_DON\n",
      "No         20100\n",
      "Yes         7383\n",
      "Unknown        7\n",
      "Missing        4\n",
      "\n",
      "\n",
      "HIV_SeroStatusTransplant_CAN\n",
      "Negative    26423\n",
      "Missing       409\n",
      "Unknown       312\n",
      "Not Done      249\n",
      "Positive      101\n",
      "\n",
      "\n"
     ]
    }
   ],
   "source": [
    "valuCounts(df, features)"
   ]
  },
  {
   "cell_type": "code",
   "execution_count": 188,
   "id": "b879113b-94ce-4ffe-bc36-4de44a34a39f",
   "metadata": {},
   "outputs": [
    {
     "name": "stdout",
     "output_type": "stream",
     "text": [
      "HIV_NAT_PreTransplant_CAN\n",
      "Unknown     25347\n",
      "Negative     2136\n",
      "Positive       11\n",
      "\n",
      "\n",
      "HIV_NAT_Result_DON\n",
      "Negative    20031\n",
      "Unknown      7463\n",
      "\n",
      "\n",
      "HIV_Risk_DON\n",
      "No         20100\n",
      "Yes         7383\n",
      "Unknown       11\n",
      "\n",
      "\n",
      "HIV_SeroStatusTransplant_CAN\n",
      "Negative    26423\n",
      "Unknown       970\n",
      "Positive      101\n",
      "\n",
      "\n"
     ]
    }
   ],
   "source": [
    "# remap\n",
    "df[features] = df[features].map(genericMapCat).fillna(df[features])\n",
    "valuCounts(df, features)"
   ]
  },
  {
   "cell_type": "markdown",
   "id": "c55061c8-cf74-4b3a-9558-d0521364437c",
   "metadata": {},
   "source": [
    "##### HeartProcedureType_CAN"
   ]
  },
  {
   "cell_type": "code",
   "execution_count": 189,
   "id": "5a2aaee8-5031-46e9-8070-ff85c49971be",
   "metadata": {},
   "outputs": [
    {
     "name": "stdout",
     "output_type": "stream",
     "text": [
      "                        count unique                 top   freq\n",
      "HeartProcedureType_CAN  27494      5  Orthotopic Bicaval  22081\n",
      "\n",
      ":::: NaN Count:\n",
      "HeartProcedureType_CAN    0\n"
     ]
    }
   ],
   "source": [
    "features = uf.get_feature_list(df, 'HeartProcedureType')"
   ]
  },
  {
   "cell_type": "code",
   "execution_count": 190,
   "id": "0ad24bb6-91ac-4a39-b303-0e5e35d55d14",
   "metadata": {},
   "outputs": [
    {
     "name": "stdout",
     "output_type": "stream",
     "text": [
      "HeartProcedureType_CAN\n",
      "Orthotopic Bicaval                22081\n",
      "Orthotopic Traditional             4338\n",
      "Orthotopic Total (Bicaval, PV)      637\n",
      "Missing                             423\n",
      "Heterotopic                          15\n",
      "\n",
      "\n"
     ]
    }
   ],
   "source": [
    "valuCounts(df, features)"
   ]
  },
  {
   "cell_type": "code",
   "execution_count": 191,
   "id": "de324e06-acfd-4bed-b6f3-ddcec4f43b75",
   "metadata": {},
   "outputs": [
    {
     "name": "stdout",
     "output_type": "stream",
     "text": [
      "HeartProcedureType_CAN\n",
      "Orthotopic Bicaval                22081\n",
      "Orthotopic Traditional             4338\n",
      "Orthotopic Total (Bicaval, PV)      637\n",
      "Unknown                             423\n",
      "Heterotopic                          15\n",
      "\n",
      "\n"
     ]
    }
   ],
   "source": [
    "# remap\n",
    "df[features] = df[features].map(genericMapCat).fillna(df[features])\n",
    "valuCounts(df, features)"
   ]
  },
  {
   "cell_type": "markdown",
   "id": "223237eb-9890-41c3-b04f-fe2db94a3d1e",
   "metadata": {},
   "source": [
    "##### HeavyAlcoholUse_DON"
   ]
  },
  {
   "cell_type": "code",
   "execution_count": 192,
   "id": "8305d733-c937-4eaa-92f9-5bbc09965c64",
   "metadata": {},
   "outputs": [
    {
     "name": "stdout",
     "output_type": "stream",
     "text": [
      "                     count unique top   freq\n",
      "HeavyAlcoholUse_DON  27494      4  No  22150\n",
      "\n",
      ":::: NaN Count:\n",
      "HeavyAlcoholUse_DON    0\n"
     ]
    }
   ],
   "source": [
    "features = uf.get_feature_list(df, 'HeavyAlcoholUse_DON')"
   ]
  },
  {
   "cell_type": "code",
   "execution_count": 193,
   "id": "7e3825dd-610a-49cc-84f2-b2a4e483f463",
   "metadata": {},
   "outputs": [
    {
     "name": "stdout",
     "output_type": "stream",
     "text": [
      "HeavyAlcoholUse_DON\n",
      "No         22150\n",
      "Yes         4668\n",
      "Unknown      664\n",
      "Missing       12\n",
      "\n",
      "\n"
     ]
    }
   ],
   "source": [
    "valuCounts(df, features)"
   ]
  },
  {
   "cell_type": "code",
   "execution_count": 194,
   "id": "a2854f9e-6550-40b8-a091-94d26cc8c65e",
   "metadata": {},
   "outputs": [
    {
     "name": "stdout",
     "output_type": "stream",
     "text": [
      "HeavyAlcoholUse_DON\n",
      "No         22150\n",
      "Yes         4668\n",
      "Unknown      676\n",
      "\n",
      "\n"
     ]
    }
   ],
   "source": [
    "# remap\n",
    "df[features] = df[features].map(genericMapCat).fillna(df[features])\n",
    "valuCounts(df, features)"
   ]
  },
  {
   "cell_type": "markdown",
   "id": "33ebafd8-efaa-416a-8e57-6ae7a5a6037e",
   "metadata": {},
   "source": [
    "##### HeparinManagement_DON"
   ]
  },
  {
   "cell_type": "code",
   "execution_count": 195,
   "id": "d61bde97-64ff-4667-a1dd-c3a367ac402b",
   "metadata": {},
   "outputs": [
    {
     "name": "stdout",
     "output_type": "stream",
     "text": [
      "                       count unique  top   freq\n",
      "HeparinManagement_DON  27494      4  Yes  26857\n",
      "\n",
      ":::: NaN Count:\n",
      "HeparinManagement_DON    0\n"
     ]
    }
   ],
   "source": [
    "features = uf.get_feature_list(df, 'HeparinManagement_DON')"
   ]
  },
  {
   "cell_type": "code",
   "execution_count": 196,
   "id": "9edfc480-3ae8-4923-93e7-d55fbab3f935",
   "metadata": {},
   "outputs": [
    {
     "name": "stdout",
     "output_type": "stream",
     "text": [
      "HeparinManagement_DON\n",
      "Yes        26857\n",
      "No           431\n",
      "Missing      204\n",
      "Unknown        2\n",
      "\n",
      "\n"
     ]
    }
   ],
   "source": [
    "valuCounts(df, features)"
   ]
  },
  {
   "cell_type": "code",
   "execution_count": 197,
   "id": "2ce6d9df-bf78-49c2-bf6a-d59c170299f8",
   "metadata": {},
   "outputs": [
    {
     "name": "stdout",
     "output_type": "stream",
     "text": [
      "HeparinManagement_DON\n",
      "Yes        26857\n",
      "No           431\n",
      "Unknown      206\n",
      "\n",
      "\n"
     ]
    }
   ],
   "source": [
    "# remap\n",
    "df[features] = df[features].map(genericMapCat).fillna(df[features])\n",
    "valuCounts(df, features)"
   ]
  },
  {
   "cell_type": "markdown",
   "id": "dff7841b-4187-48c7-8a5e-7ca397d175eb",
   "metadata": {},
   "source": [
    "##### Hepatitis"
   ]
  },
  {
   "cell_type": "code",
   "execution_count": 198,
   "id": "b5a48b42-6f50-4392-8c49-78759eee5301",
   "metadata": {},
   "outputs": [
    {
     "name": "stdout",
     "output_type": "stream",
     "text": [
      "                              count unique       top   freq\n",
      "Hepatitis_B_CoreAntibody_CAN  27494      5  Negative  24587\n",
      "Hepatitis_B_CoreAntibody_DON  27494      5  Negative  26917\n",
      "\n",
      ":::: NaN Count:\n",
      "Hepatitis_B_CoreAntibody_CAN    0\n",
      "Hepatitis_B_CoreAntibody_DON    0\n"
     ]
    }
   ],
   "source": [
    "features = uf.get_feature_list(df, 'Hepatitis')"
   ]
  },
  {
   "cell_type": "code",
   "execution_count": 199,
   "id": "129032b9-c43d-4814-9640-3f606d67aaf5",
   "metadata": {},
   "outputs": [
    {
     "name": "stdout",
     "output_type": "stream",
     "text": [
      "Hepatitis_B_CoreAntibody_CAN\n",
      "Negative    24587\n",
      "Positive     1242\n",
      "Not Done     1108\n",
      "Missing       408\n",
      "Unknown       149\n",
      "\n",
      "\n",
      "Hepatitis_B_CoreAntibody_DON\n",
      "Negative         26917\n",
      "Positive           562\n",
      "Not Done            13\n",
      "Indeterminate        1\n",
      "Pending              1\n",
      "\n",
      "\n"
     ]
    }
   ],
   "source": [
    "valuCounts(df, features)"
   ]
  },
  {
   "cell_type": "code",
   "execution_count": 200,
   "id": "26d907dd-2c09-4301-a8d1-51e7c7817580",
   "metadata": {},
   "outputs": [
    {
     "name": "stdout",
     "output_type": "stream",
     "text": [
      "Hepatitis_B_CoreAntibody_CAN\n",
      "Negative    24587\n",
      "Unknown      1665\n",
      "Positive     1242\n",
      "\n",
      "\n",
      "Hepatitis_B_CoreAntibody_DON\n",
      "Negative    26917\n",
      "Positive      562\n",
      "Unknown        15\n",
      "\n",
      "\n"
     ]
    }
   ],
   "source": [
    "# remap\n",
    "df[features] = df[features].map(genericMapCat).fillna(df[features])\n",
    "valuCounts(df, features)"
   ]
  },
  {
   "cell_type": "markdown",
   "id": "e0338169-4f5d-4875-9297-c390388afcd7",
   "metadata": {},
   "source": [
    "##### Hispanic_CAN"
   ]
  },
  {
   "cell_type": "code",
   "execution_count": 201,
   "id": "cef7e991-2002-4453-9ddc-ba13a533a96d",
   "metadata": {},
   "outputs": [
    {
     "name": "stdout",
     "output_type": "stream",
     "text": [
      "              count unique                      top   freq\n",
      "Hispanic_CAN  27494      2  Non-Hispanic/Non-Latino  25004\n",
      "\n",
      ":::: NaN Count:\n",
      "Hispanic_CAN    0\n"
     ]
    }
   ],
   "source": [
    "features = uf.get_feature_list(df, 'Hispanic_CAN')"
   ]
  },
  {
   "cell_type": "code",
   "execution_count": 202,
   "id": "a1276212-41d8-4fe1-be6c-038fe46d4aba",
   "metadata": {},
   "outputs": [
    {
     "name": "stdout",
     "output_type": "stream",
     "text": [
      "Hispanic_CAN\n",
      "Non-Hispanic/Non-Latino    25004\n",
      "Hispanic/Latino             2490\n",
      "\n",
      "\n"
     ]
    }
   ],
   "source": [
    "valuCounts(df, features)"
   ]
  },
  {
   "cell_type": "code",
   "execution_count": 203,
   "id": "370e27a9-a1e1-4c9b-8bc3-0390a5809ac3",
   "metadata": {},
   "outputs": [],
   "source": [
    "# add to list: duplicate value\n",
    "removeCols.extend(features)"
   ]
  },
  {
   "cell_type": "markdown",
   "id": "c696581f-4443-49ee-9975-46b1f571bf95",
   "metadata": {},
   "source": [
    "##### HypertensionHistory_DON"
   ]
  },
  {
   "cell_type": "code",
   "execution_count": 204,
   "id": "1885a724-a17b-4dae-85e9-9e5df720c2c0",
   "metadata": {},
   "outputs": [
    {
     "name": "stdout",
     "output_type": "stream",
     "text": [
      "                         count unique top   freq\n",
      "HypertensionHistory_DON  27494      4  No  23062\n",
      "\n",
      ":::: NaN Count:\n",
      "HypertensionHistory_DON    0\n"
     ]
    }
   ],
   "source": [
    "features = uf.get_feature_list(df, 'HypertensionHistory_DON')"
   ]
  },
  {
   "cell_type": "code",
   "execution_count": 205,
   "id": "8ad66960-3b80-4723-8cd4-b168b9e3c91a",
   "metadata": {},
   "outputs": [
    {
     "name": "stdout",
     "output_type": "stream",
     "text": [
      "HypertensionHistory_DON\n",
      "No         23062\n",
      "Yes         4214\n",
      "Unknown      214\n",
      "Missing        4\n",
      "\n",
      "\n"
     ]
    }
   ],
   "source": [
    "valuCounts(df, features)"
   ]
  },
  {
   "cell_type": "code",
   "execution_count": 206,
   "id": "65100ea7-0549-407d-9713-583ad4e8db11",
   "metadata": {},
   "outputs": [
    {
     "name": "stdout",
     "output_type": "stream",
     "text": [
      "HypertensionHistory_DON\n",
      "No         23062\n",
      "Yes         4214\n",
      "Unknown      218\n",
      "\n",
      "\n"
     ]
    }
   ],
   "source": [
    "# remap\n",
    "df[features] = df[features].map(genericMapCat).fillna(df[features])\n",
    "valuCounts(df, features)"
   ]
  },
  {
   "cell_type": "markdown",
   "id": "dbdb9720-e350-4d36-9b46-6faf1f68b290",
   "metadata": {},
   "source": [
    "##### Infection"
   ]
  },
  {
   "cell_type": "code",
   "execution_count": 207,
   "id": "e87e3576-aa5e-43a9-b3ea-0ff5df84d9b1",
   "metadata": {},
   "outputs": [
    {
     "name": "stdout",
     "output_type": "stream",
     "text": [
      "                          count unique  top   freq\n",
      "BloodInfectionSource_DON  27494      3   No  24748\n",
      "InfectionClinical_DON     27494      3  Yes  21010\n",
      "InfectionTherapyIV_CAN    27494      3   No  23989\n",
      "OtherInfectionSource_DON  27494      3   No  19006\n",
      "PulmonaryInfection_DON    27494      3  Yes  19224\n",
      "UrineInfection_DON        27494      3   No  24270\n",
      "\n",
      ":::: NaN Count:\n",
      "BloodInfectionSource_DON    0\n",
      "InfectionClinical_DON       0\n",
      "InfectionTherapyIV_CAN      0\n",
      "OtherInfectionSource_DON    0\n",
      "PulmonaryInfection_DON      0\n",
      "UrineInfection_DON          0\n"
     ]
    }
   ],
   "source": [
    "features = uf.get_feature_list(df, 'Infection')"
   ]
  },
  {
   "cell_type": "markdown",
   "id": "14317561-bfa2-405d-a6f8-a02ec853fdba",
   "metadata": {},
   "source": [
    "##### Inotropic"
   ]
  },
  {
   "cell_type": "code",
   "execution_count": 208,
   "id": "745be0ba-3b13-4017-a19e-ea7159c2fd67",
   "metadata": {},
   "outputs": [
    {
     "name": "stdout",
     "output_type": "stream",
     "text": [
      "                                    count unique      top   freq\n",
      "InotropicAgent_DON                  27494      7  Missing  16899\n",
      "InotropicMedicationProcurement_DON  27494      4       No  16656\n",
      "\n",
      ":::: NaN Count:\n",
      "InotropicAgent_DON                    0\n",
      "InotropicMedicationProcurement_DON    0\n"
     ]
    }
   ],
   "source": [
    "features = uf.get_feature_list(df, 'Inotropic')"
   ]
  },
  {
   "cell_type": "code",
   "execution_count": 209,
   "id": "13e0f917-262a-4a65-aa60-4ce6fb2625d2",
   "metadata": {},
   "outputs": [
    {
     "name": "stdout",
     "output_type": "stream",
     "text": [
      "InotropicAgent_DON\n",
      "Missing           16899\n",
      "Neosynephrine      4382\n",
      "Levophed           3182\n",
      "Dopamine           1711\n",
      "Other, specify      603\n",
      "Dobutamine          593\n",
      "Epinephrine         124\n",
      "\n",
      "\n",
      "InotropicMedicationProcurement_DON\n",
      "No         16656\n",
      "Yes        10596\n",
      "Missing      203\n",
      "Unknown       39\n",
      "\n",
      "\n"
     ]
    }
   ],
   "source": [
    "valuCounts(df, features)"
   ]
  },
  {
   "cell_type": "code",
   "execution_count": 210,
   "id": "93043d9e-2229-48e4-b416-5392f9214f8d",
   "metadata": {},
   "outputs": [
    {
     "name": "stdout",
     "output_type": "stream",
     "text": [
      "InotropicAgent_DON\n",
      "Unknown           16899\n",
      "Neosynephrine      4382\n",
      "Levophed           3182\n",
      "Dopamine           1711\n",
      "Other, specify      603\n",
      "Dobutamine          593\n",
      "Epinephrine         124\n",
      "\n",
      "\n",
      "InotropicMedicationProcurement_DON\n",
      "No         16656\n",
      "Yes        10596\n",
      "Unknown      242\n",
      "\n",
      "\n"
     ]
    }
   ],
   "source": [
    "# remap\n",
    "df[features] = df[features].map(genericMapCat).fillna(df[features])\n",
    "valuCounts(df, features)"
   ]
  },
  {
   "cell_type": "markdown",
   "id": "19af0a59-a964-4671-9b6a-d30636177469",
   "metadata": {},
   "source": [
    "##### InsulinManagement_DON"
   ]
  },
  {
   "cell_type": "code",
   "execution_count": 211,
   "id": "d9bda6af-9e74-4560-975c-20bc0765a9f8",
   "metadata": {},
   "outputs": [
    {
     "name": "stdout",
     "output_type": "stream",
     "text": [
      "                       count unique  top   freq\n",
      "InsulinManagement_DON  27494      4  Yes  15561\n",
      "\n",
      ":::: NaN Count:\n",
      "InsulinManagement_DON    0\n"
     ]
    }
   ],
   "source": [
    "features = uf.get_feature_list(df, 'InsulinManagement_DON')"
   ]
  },
  {
   "cell_type": "code",
   "execution_count": 212,
   "id": "7c6c91d3-ce35-4733-a622-256fec3ba1b7",
   "metadata": {},
   "outputs": [
    {
     "name": "stdout",
     "output_type": "stream",
     "text": [
      "InsulinManagement_DON\n",
      "Yes        15561\n",
      "No         11724\n",
      "Missing      203\n",
      "Unknown        6\n",
      "\n",
      "\n"
     ]
    }
   ],
   "source": [
    "valuCounts(df, features)"
   ]
  },
  {
   "cell_type": "code",
   "execution_count": 213,
   "id": "76147e1e-7a0c-4b9a-90ff-e4e2a7d162ef",
   "metadata": {},
   "outputs": [
    {
     "name": "stdout",
     "output_type": "stream",
     "text": [
      "InsulinManagement_DON\n",
      "Yes        15561\n",
      "No         11724\n",
      "Unknown      209\n",
      "\n",
      "\n"
     ]
    }
   ],
   "source": [
    "# remap\n",
    "df[features] = df[features].map(genericMapCat).fillna(df[features])\n",
    "valuCounts(df, features)"
   ]
  },
  {
   "cell_type": "markdown",
   "id": "b3518cbb-5b9a-4908-81ed-c9cb50545937",
   "metadata": {},
   "source": [
    "##### InotropesIV"
   ]
  },
  {
   "cell_type": "code",
   "execution_count": 214,
   "id": "faacea6f-e967-4e5a-ab25-efcbc26fca76",
   "metadata": {},
   "outputs": [
    {
     "name": "stdout",
     "output_type": "stream",
     "text": [
      "                             count  unique  top   freq\n",
      "InotropesIVRegistration_CAN  27494       2    0  18350\n",
      "InotropesIVTransplant_CAN    27494       2    0  17142\n",
      "\n",
      ":::: NaN Count:\n",
      "InotropesIVRegistration_CAN    0\n",
      "InotropesIVTransplant_CAN      0\n"
     ]
    }
   ],
   "source": [
    "features = uf.get_feature_list(df, 'InotropesIV')"
   ]
  },
  {
   "cell_type": "code",
   "execution_count": 215,
   "id": "d2a78748-5521-4ad0-8fff-ed3838834a3a",
   "metadata": {},
   "outputs": [
    {
     "name": "stdout",
     "output_type": "stream",
     "text": [
      "InotropesIVRegistration_CAN\n",
      "0    18350\n",
      "1     9144\n",
      "\n",
      "\n",
      "InotropesIVTransplant_CAN\n",
      "0    17142\n",
      "1    10352\n",
      "\n",
      "\n"
     ]
    }
   ],
   "source": [
    "valuCounts(df, features)"
   ]
  },
  {
   "cell_type": "code",
   "execution_count": 216,
   "id": "ab260c53-ff15-47fe-8a12-6e16fddac968",
   "metadata": {},
   "outputs": [
    {
     "name": "stdout",
     "output_type": "stream",
     "text": [
      "InotropesIVRegistration_CAN\n",
      "No     18350\n",
      "Yes     9144\n",
      "\n",
      "\n",
      "InotropesIVTransplant_CAN\n",
      "No     17142\n",
      "Yes    10352\n",
      "\n",
      "\n"
     ]
    }
   ],
   "source": [
    "# covert to string\n",
    "df[features] = df[features].astype(str)\n",
    "\n",
    "# iterate\n",
    "for feature in features:\n",
    "    # remap\n",
    "    df[feature] = df[feature].map({'0': 'No', '1': 'Yes'}).fillna(df[feature])\n",
    "\n",
    "# convert to category\n",
    "df[features] = df[features].astype('category')\n",
    "valuCounts(df, features)"
   ]
  },
  {
   "cell_type": "markdown",
   "id": "6e0cc3b3-b580-478d-a463-a4354dae3073",
   "metadata": {},
   "source": [
    "##### InotropesVasodilators"
   ]
  },
  {
   "cell_type": "code",
   "execution_count": 217,
   "id": "ca0dd01a-72ef-40d7-8c57-9ae19656de20",
   "metadata": {},
   "outputs": [
    {
     "name": "stdout",
     "output_type": "stream",
     "text": [
      "                                           count unique top   freq\n",
      "InotropesVasodilatorsRegistration_CO_CAN   27494      3  No  15205\n",
      "InotropesVasodilatorsRegistration_DIA_CAN  27494      3  No  15438\n",
      "InotropesVasodilatorsRegistration_MN_CAN   27494      3  No  15336\n",
      "InotropesVasodilatorsRegistration_PCW_CAN  27494      3  No  15219\n",
      "InotropesVasodilatorsRegistration_SYS_CAN  27494      3  No  15446\n",
      "InotropesVasodilatorsTransplant_CO_CAN     27494      3  No  14741\n",
      "InotropesVasodilatorsTransplant_DIA_CAN    27494      3  No  14890\n",
      "InotropesVasodilatorsTransplant_MN_CAN     27494      3  No  14778\n",
      "InotropesVasodilatorsTransplant_PCW_CAN    27494      3  No  14728\n",
      "InotropesVasodilatorsTransplant_SYS_CAN    27494      3  No  14902\n",
      "\n",
      ":::: NaN Count:\n",
      "InotropesVasodilatorsRegistration_CO_CAN     0\n",
      "InotropesVasodilatorsRegistration_DIA_CAN    0\n",
      "InotropesVasodilatorsRegistration_MN_CAN     0\n",
      "InotropesVasodilatorsRegistration_PCW_CAN    0\n",
      "InotropesVasodilatorsRegistration_SYS_CAN    0\n",
      "InotropesVasodilatorsTransplant_CO_CAN       0\n",
      "InotropesVasodilatorsTransplant_DIA_CAN      0\n",
      "InotropesVasodilatorsTransplant_MN_CAN       0\n",
      "InotropesVasodilatorsTransplant_PCW_CAN      0\n",
      "InotropesVasodilatorsTransplant_SYS_CAN      0\n"
     ]
    }
   ],
   "source": [
    "features = uf.get_feature_list(df, 'InotropesVasodilators')"
   ]
  },
  {
   "cell_type": "code",
   "execution_count": 218,
   "id": "85ce9678-7a9b-4fb8-83c2-5afb12e45d47",
   "metadata": {},
   "outputs": [
    {
     "name": "stdout",
     "output_type": "stream",
     "text": [
      "InotropesVasodilatorsRegistration_CO_CAN\n",
      "No         15205\n",
      "Yes        10699\n",
      "Missing     1590\n",
      "\n",
      "\n",
      "InotropesVasodilatorsRegistration_DIA_CAN\n",
      "No         15438\n",
      "Yes        11039\n",
      "Missing     1017\n",
      "\n",
      "\n",
      "InotropesVasodilatorsRegistration_MN_CAN\n",
      "No         15336\n",
      "Yes        10900\n",
      "Missing     1258\n",
      "\n",
      "\n",
      "InotropesVasodilatorsRegistration_PCW_CAN\n",
      "No         15219\n",
      "Yes         9659\n",
      "Missing     2616\n",
      "\n",
      "\n",
      "InotropesVasodilatorsRegistration_SYS_CAN\n",
      "No         15446\n",
      "Yes        11050\n",
      "Missing      998\n",
      "\n",
      "\n",
      "InotropesVasodilatorsTransplant_CO_CAN\n",
      "No         14741\n",
      "Yes        11191\n",
      "Missing     1562\n",
      "\n",
      "\n",
      "InotropesVasodilatorsTransplant_DIA_CAN\n",
      "No         14890\n",
      "Yes        11460\n",
      "Missing     1144\n",
      "\n",
      "\n",
      "InotropesVasodilatorsTransplant_MN_CAN\n",
      "No         14778\n",
      "Yes        11331\n",
      "Missing     1385\n",
      "\n",
      "\n",
      "InotropesVasodilatorsTransplant_PCW_CAN\n",
      "No         14728\n",
      "Yes        10410\n",
      "Missing     2356\n",
      "\n",
      "\n",
      "InotropesVasodilatorsTransplant_SYS_CAN\n",
      "No         14902\n",
      "Yes        11463\n",
      "Missing     1129\n",
      "\n",
      "\n"
     ]
    }
   ],
   "source": [
    "valuCounts(df, features)"
   ]
  },
  {
   "cell_type": "code",
   "execution_count": 219,
   "id": "72c5af76-e355-4a77-9e3a-bd2fea8e50b3",
   "metadata": {},
   "outputs": [
    {
     "name": "stdout",
     "output_type": "stream",
     "text": [
      "InotropesVasodilatorsRegistration_CO_CAN\n",
      "No         15205\n",
      "Yes        10699\n",
      "Unknown     1590\n",
      "\n",
      "\n",
      "InotropesVasodilatorsRegistration_DIA_CAN\n",
      "No         15438\n",
      "Yes        11039\n",
      "Unknown     1017\n",
      "\n",
      "\n",
      "InotropesVasodilatorsRegistration_MN_CAN\n",
      "No         15336\n",
      "Yes        10900\n",
      "Unknown     1258\n",
      "\n",
      "\n",
      "InotropesVasodilatorsRegistration_PCW_CAN\n",
      "No         15219\n",
      "Yes         9659\n",
      "Unknown     2616\n",
      "\n",
      "\n",
      "InotropesVasodilatorsRegistration_SYS_CAN\n",
      "No         15446\n",
      "Yes        11050\n",
      "Unknown      998\n",
      "\n",
      "\n",
      "InotropesVasodilatorsTransplant_CO_CAN\n",
      "No         14741\n",
      "Yes        11191\n",
      "Unknown     1562\n",
      "\n",
      "\n",
      "InotropesVasodilatorsTransplant_DIA_CAN\n",
      "No         14890\n",
      "Yes        11460\n",
      "Unknown     1144\n",
      "\n",
      "\n",
      "InotropesVasodilatorsTransplant_MN_CAN\n",
      "No         14778\n",
      "Yes        11331\n",
      "Unknown     1385\n",
      "\n",
      "\n",
      "InotropesVasodilatorsTransplant_PCW_CAN\n",
      "No         14728\n",
      "Yes        10410\n",
      "Unknown     2356\n",
      "\n",
      "\n",
      "InotropesVasodilatorsTransplant_SYS_CAN\n",
      "No         14902\n",
      "Yes        11463\n",
      "Unknown     1129\n",
      "\n",
      "\n"
     ]
    }
   ],
   "source": [
    "# remap\n",
    "df[features] = df[features].map(genericMapCat).fillna(df[features])\n",
    "valuCounts(df, features)"
   ]
  },
  {
   "cell_type": "markdown",
   "id": "2e47f45e-11e7-4f18-855c-a70754ecd949",
   "metadata": {},
   "source": [
    "##### KidneyAllocation_DON"
   ]
  },
  {
   "cell_type": "code",
   "execution_count": 220,
   "id": "583ef54c-3030-415e-a32f-099175d5494e",
   "metadata": {},
   "outputs": [
    {
     "name": "stdout",
     "output_type": "stream",
     "text": [
      "                      count unique top   freq\n",
      "KidneyAllocation_DON  27494      3  No  26748\n",
      "\n",
      ":::: NaN Count:\n",
      "KidneyAllocation_DON    0\n"
     ]
    }
   ],
   "source": [
    "features = uf.get_feature_list(df, 'KidneyAllocation_DON')"
   ]
  },
  {
   "cell_type": "code",
   "execution_count": 221,
   "id": "c173cee1-eaed-4989-9945-ff1992a92353",
   "metadata": {},
   "outputs": [
    {
     "name": "stdout",
     "output_type": "stream",
     "text": [
      "KidneyAllocation_DON\n",
      "No         26748\n",
      "Yes          743\n",
      "Missing        3\n",
      "\n",
      "\n"
     ]
    }
   ],
   "source": [
    "valuCounts(df, features)"
   ]
  },
  {
   "cell_type": "code",
   "execution_count": 222,
   "id": "bc5767ae-8cc7-44c1-a8c4-b6548053cad0",
   "metadata": {},
   "outputs": [
    {
     "name": "stdout",
     "output_type": "stream",
     "text": [
      "KidneyAllocation_DON\n",
      "No         26748\n",
      "Yes          743\n",
      "Unknown        3\n",
      "\n",
      "\n"
     ]
    }
   ],
   "source": [
    "# remap\n",
    "df[features] = df[features].map(genericMapCat).fillna(df[features])\n",
    "valuCounts(df, features)"
   ]
  },
  {
   "cell_type": "markdown",
   "id": "9b9d5257-b6ac-44d4-b8f5-3c8012055c03",
   "metadata": {},
   "source": [
    "##### LV_EjectionFractionMedthod_DON"
   ]
  },
  {
   "cell_type": "code",
   "execution_count": 223,
   "id": "26ebab5a-98cf-4259-917e-ed083c31c807",
   "metadata": {},
   "outputs": [
    {
     "name": "stdout",
     "output_type": "stream",
     "text": [
      "                                count unique   top   freq\n",
      "LV_EjectionFractionMedthod_DON  27494      3  Echo  26892\n",
      "\n",
      ":::: NaN Count:\n",
      "LV_EjectionFractionMedthod_DON    0\n"
     ]
    }
   ],
   "source": [
    "features = uf.get_feature_list(df, 'LV_EjectionFractionMedthod_DON')"
   ]
  },
  {
   "cell_type": "code",
   "execution_count": 224,
   "id": "4ad51bd5-f386-4c9a-b331-b34f31e3f188",
   "metadata": {},
   "outputs": [
    {
     "name": "stdout",
     "output_type": "stream",
     "text": [
      "LV_EjectionFractionMedthod_DON\n",
      "Echo         26892\n",
      "Angiogram      559\n",
      "Missing         43\n",
      "\n",
      "\n"
     ]
    }
   ],
   "source": [
    "valuCounts(df, features)"
   ]
  },
  {
   "cell_type": "code",
   "execution_count": 225,
   "id": "c4ab8754-6dd6-4986-97c3-003ba2d03599",
   "metadata": {},
   "outputs": [
    {
     "name": "stdout",
     "output_type": "stream",
     "text": [
      "LV_EjectionFractionMedthod_DON\n",
      "Echo         26892\n",
      "Angiogram      559\n",
      "Unknown         43\n",
      "\n",
      "\n"
     ]
    }
   ],
   "source": [
    "# remap\n",
    "df[features] = df[features].map(genericMapCat).fillna(df[features])\n",
    "valuCounts(df, features)"
   ]
  },
  {
   "cell_type": "markdown",
   "id": "7a0180a9-8e3b-4fc8-868c-64648ea611ae",
   "metadata": {},
   "source": [
    "##### LifeSupport"
   ]
  },
  {
   "cell_type": "code",
   "execution_count": 226,
   "id": "0a048788-6ffc-4163-8501-ab935455807f",
   "metadata": {},
   "outputs": [
    {
     "name": "stdout",
     "output_type": "stream",
     "text": [
      "                                            count unique  top   freq\n",
      "LifeSupportInhaledRegistration_CAN          27494      2    0  27440\n",
      "LifeSupportInhaledTransplant_CAN            27494      2    0  27441\n",
      "LifeSupportInhaled_CAN                      27494      2    0  27440\n",
      "LifeSupportMechanismRegistration_OTHER_CAN  27494      2    0  26129\n",
      "LifeSupportMechanismTransplant_OTHER_CAN    27494      2    0  25569\n",
      "LifeSupportRegistration_CAN                 27494      3  Yes  17626\n",
      "LifeSupportRegistration_ECMO_CAN            27494      2    0  26958\n",
      "LifeSupportRegistration_IABP_CAN            27494      2    0  25114\n",
      "LifeSupportRegistration_PGE_CAN             27494      2    0  27478\n",
      "LifeSupportTransplant_CAN                   27494      3  Yes  22321\n",
      "LifeSupportTransplant_ECMO_CAN              27494      2    0  26801\n",
      "LifeSupportTransplant_IABP_CAN              27494      2    0  23554\n",
      "LifeSupportTransplant_PGE_CAN               27494      2    0  27414\n",
      "\n",
      ":::: NaN Count:\n",
      "LifeSupportInhaledRegistration_CAN            0\n",
      "LifeSupportInhaledTransplant_CAN              0\n",
      "LifeSupportInhaled_CAN                        0\n",
      "LifeSupportMechanismRegistration_OTHER_CAN    0\n",
      "LifeSupportMechanismTransplant_OTHER_CAN      0\n",
      "LifeSupportRegistration_CAN                   0\n",
      "LifeSupportRegistration_ECMO_CAN              0\n",
      "LifeSupportRegistration_IABP_CAN              0\n",
      "LifeSupportRegistration_PGE_CAN               0\n",
      "LifeSupportTransplant_CAN                     0\n",
      "LifeSupportTransplant_ECMO_CAN                0\n",
      "LifeSupportTransplant_IABP_CAN                0\n",
      "LifeSupportTransplant_PGE_CAN                 0\n"
     ]
    }
   ],
   "source": [
    "features = uf.get_feature_list(df, 'LifeSupport')"
   ]
  },
  {
   "cell_type": "code",
   "execution_count": 227,
   "id": "1833b079-3712-4ee6-bb20-3bea9652e050",
   "metadata": {},
   "outputs": [
    {
     "name": "stdout",
     "output_type": "stream",
     "text": [
      "LifeSupportInhaledRegistration_CAN\n",
      "0    27440\n",
      "1       54\n",
      "\n",
      "\n",
      "LifeSupportInhaledTransplant_CAN\n",
      "0    27441\n",
      "1       53\n",
      "\n",
      "\n",
      "LifeSupportInhaled_CAN\n",
      "0    27440\n",
      "1       54\n",
      "\n",
      "\n",
      "LifeSupportMechanismRegistration_OTHER_CAN\n",
      "0    26129\n",
      "1     1365\n",
      "\n",
      "\n",
      "LifeSupportMechanismTransplant_OTHER_CAN\n",
      "0    25569\n",
      "1     1925\n",
      "\n",
      "\n",
      "LifeSupportRegistration_CAN\n",
      "Yes        17626\n",
      "No          9793\n",
      "Missing       75\n",
      "\n",
      "\n",
      "LifeSupportRegistration_ECMO_CAN\n",
      "0    26958\n",
      "1      536\n",
      "\n",
      "\n",
      "LifeSupportRegistration_IABP_CAN\n",
      "0    25114\n",
      "1     2380\n",
      "\n",
      "\n",
      "LifeSupportRegistration_PGE_CAN\n",
      "0    27478\n",
      "1       16\n",
      "\n",
      "\n",
      "LifeSupportTransplant_CAN\n",
      "Yes        22321\n",
      "No          4776\n",
      "Missing      397\n",
      "\n",
      "\n",
      "LifeSupportTransplant_ECMO_CAN\n",
      "0    26801\n",
      "1      693\n",
      "\n",
      "\n",
      "LifeSupportTransplant_IABP_CAN\n",
      "0    23554\n",
      "1     3940\n",
      "\n",
      "\n",
      "LifeSupportTransplant_PGE_CAN\n",
      "0    27414\n",
      "1       80\n",
      "\n",
      "\n"
     ]
    }
   ],
   "source": [
    "valuCounts(df, features)"
   ]
  },
  {
   "cell_type": "code",
   "execution_count": 228,
   "id": "c2f6680f-dd61-4380-9b35-4f9971182223",
   "metadata": {},
   "outputs": [
    {
     "name": "stdout",
     "output_type": "stream",
     "text": [
      "LifeSupportInhaledRegistration_CAN\n",
      "No     27440\n",
      "Yes       54\n",
      "\n",
      "\n",
      "LifeSupportInhaledTransplant_CAN\n",
      "No     27441\n",
      "Yes       53\n",
      "\n",
      "\n",
      "LifeSupportInhaled_CAN\n",
      "No     27440\n",
      "Yes       54\n",
      "\n",
      "\n",
      "LifeSupportMechanismRegistration_OTHER_CAN\n",
      "No     26129\n",
      "Yes     1365\n",
      "\n",
      "\n",
      "LifeSupportMechanismTransplant_OTHER_CAN\n",
      "No     25569\n",
      "Yes     1925\n",
      "\n",
      "\n",
      "LifeSupportRegistration_CAN\n",
      "Yes        17626\n",
      "No          9793\n",
      "Unknown       75\n",
      "\n",
      "\n",
      "LifeSupportRegistration_ECMO_CAN\n",
      "No     26958\n",
      "Yes      536\n",
      "\n",
      "\n",
      "LifeSupportRegistration_IABP_CAN\n",
      "No     25114\n",
      "Yes     2380\n",
      "\n",
      "\n",
      "LifeSupportRegistration_PGE_CAN\n",
      "No     27478\n",
      "Yes       16\n",
      "\n",
      "\n",
      "LifeSupportTransplant_CAN\n",
      "Yes        22321\n",
      "No          4776\n",
      "Unknown      397\n",
      "\n",
      "\n",
      "LifeSupportTransplant_ECMO_CAN\n",
      "No     26801\n",
      "Yes      693\n",
      "\n",
      "\n",
      "LifeSupportTransplant_IABP_CAN\n",
      "No     23554\n",
      "Yes     3940\n",
      "\n",
      "\n",
      "LifeSupportTransplant_PGE_CAN\n",
      "No     27414\n",
      "Yes       80\n",
      "\n",
      "\n"
     ]
    }
   ],
   "source": [
    "# convert to str\n",
    "df[features] = df[features].astype(str)\n",
    "\n",
    "# iterate remap\n",
    "for feature in features:\n",
    "    df[feature] = df[feature].map({'0': 'No', '1': 'Yes', 'Missing': 'Unknown'}).fillna(df[feature])\n",
    "\n",
    "# convert to category\n",
    "df[features] = df[features].astype('category')\n",
    "valuCounts(df, features)"
   ]
  },
  {
   "cell_type": "markdown",
   "id": "37b9aa17-5ec9-4e16-bd46-ac60adc61f9e",
   "metadata": {},
   "source": [
    "##### LungPO2_Done_DON"
   ]
  },
  {
   "cell_type": "code",
   "execution_count": 229,
   "id": "ff837b81-ae6b-4112-8441-b43b931581a0",
   "metadata": {},
   "outputs": [
    {
     "name": "stdout",
     "output_type": "stream",
     "text": [
      "                  count unique      top   freq\n",
      "LungPO2_Done_DON  27494      3  Missing  19938\n",
      "\n",
      ":::: NaN Count:\n",
      "LungPO2_Done_DON    0\n"
     ]
    }
   ],
   "source": [
    "features = uf.get_feature_list(df, 'LungPO2_Done_DON')"
   ]
  },
  {
   "cell_type": "code",
   "execution_count": 230,
   "id": "66952974-36f4-4e65-8cb5-d014989298de",
   "metadata": {},
   "outputs": [
    {
     "name": "stdout",
     "output_type": "stream",
     "text": [
      "LungPO2_Done_DON\n",
      "Missing    19938\n",
      "Yes         7525\n",
      "No            31\n",
      "\n",
      "\n"
     ]
    }
   ],
   "source": [
    "valuCounts(df, features)"
   ]
  },
  {
   "cell_type": "code",
   "execution_count": 231,
   "id": "85b9c618-40c0-4ade-acb5-c1da7040f694",
   "metadata": {},
   "outputs": [
    {
     "name": "stdout",
     "output_type": "stream",
     "text": [
      "LungPO2_Done_DON\n",
      "Unknown    19938\n",
      "Yes         7525\n",
      "No            31\n",
      "\n",
      "\n"
     ]
    }
   ],
   "source": [
    "# remap\n",
    "df[features] = df[features].map(genericMapCat).fillna(df[features])\n",
    "valuCounts(df, features)"
   ]
  },
  {
   "cell_type": "markdown",
   "id": "160e4bc2-4fb2-4b0d-a52f-5af65d39e9b5",
   "metadata": {},
   "source": [
    "##### Malignancy"
   ]
  },
  {
   "cell_type": "code",
   "execution_count": 232,
   "id": "6ec47f5f-4805-45fa-8aa9-91dbe930d31b",
   "metadata": {},
   "outputs": [
    {
     "name": "stdout",
     "output_type": "stream",
     "text": [
      "                                             count unique      top   freq\n",
      "MalignancyBetweenRegistrationTransplant_CAN  27494      4  Missing  20100\n",
      "Malignancy_CAN                               27494      4       No  24964\n",
      "PreviousMalignancy_CAN                       27494      4       No  24955\n",
      "\n",
      ":::: NaN Count:\n",
      "MalignancyBetweenRegistrationTransplant_CAN    0\n",
      "Malignancy_CAN                                 0\n",
      "PreviousMalignancy_CAN                         0\n"
     ]
    }
   ],
   "source": [
    "features = uf.get_feature_list(df, 'Malignancy')"
   ]
  },
  {
   "cell_type": "code",
   "execution_count": 233,
   "id": "53ef5739-ba8e-47c0-920c-69fb027c0cdc",
   "metadata": {},
   "outputs": [
    {
     "name": "stdout",
     "output_type": "stream",
     "text": [
      "MalignancyBetweenRegistrationTransplant_CAN\n",
      "Missing    20100\n",
      "No          7325\n",
      "Unknown       40\n",
      "Yes           29\n",
      "\n",
      "\n",
      "Malignancy_CAN\n",
      "No         24964\n",
      "Yes         2451\n",
      "Missing       73\n",
      "Unknown        6\n",
      "\n",
      "\n",
      "PreviousMalignancy_CAN\n",
      "No         24955\n",
      "Yes         2440\n",
      "Missing       73\n",
      "Unknown       26\n",
      "\n",
      "\n"
     ]
    }
   ],
   "source": [
    "valuCounts(df, features)"
   ]
  },
  {
   "cell_type": "code",
   "execution_count": 234,
   "id": "6825d2da-a8f2-4a57-9a93-0fafcb6e58fa",
   "metadata": {},
   "outputs": [
    {
     "name": "stdout",
     "output_type": "stream",
     "text": [
      "MalignancyBetweenRegistrationTransplant_CAN\n",
      "Unknown    20140\n",
      "No          7325\n",
      "Yes           29\n",
      "\n",
      "\n",
      "Malignancy_CAN\n",
      "No         24964\n",
      "Yes         2451\n",
      "Unknown       79\n",
      "\n",
      "\n",
      "PreviousMalignancy_CAN\n",
      "No         24955\n",
      "Yes         2440\n",
      "Unknown       99\n",
      "\n",
      "\n"
     ]
    }
   ],
   "source": [
    "# remap\n",
    "df[features] = df[features].map(genericMapCat).fillna(df[features])\n",
    "valuCounts(df, features)"
   ]
  },
  {
   "cell_type": "markdown",
   "id": "63fa0f53-0ecf-479a-b223-63a90d410187",
   "metadata": {},
   "source": [
    "##### MyocardialInfarctionHistory_DON"
   ]
  },
  {
   "cell_type": "code",
   "execution_count": 235,
   "id": "6c801e96-8e10-4074-902a-b03c17031c94",
   "metadata": {},
   "outputs": [
    {
     "name": "stdout",
     "output_type": "stream",
     "text": [
      "                                 count unique top   freq\n",
      "MyocardialInfarctionHistory_DON  27494      4  No  26871\n",
      "\n",
      ":::: NaN Count:\n",
      "MyocardialInfarctionHistory_DON    0\n"
     ]
    }
   ],
   "source": [
    "features = uf.get_feature_list(df, 'MyocardialInfarctionHistory_DON')"
   ]
  },
  {
   "cell_type": "code",
   "execution_count": 236,
   "id": "ea54065c-1bc6-4557-8591-781b47b8e093",
   "metadata": {},
   "outputs": [
    {
     "name": "stdout",
     "output_type": "stream",
     "text": [
      "MyocardialInfarctionHistory_DON\n",
      "No         26871\n",
      "Unknown      210\n",
      "Yes          208\n",
      "Missing      205\n",
      "\n",
      "\n"
     ]
    }
   ],
   "source": [
    "valuCounts(df, features)"
   ]
  },
  {
   "cell_type": "code",
   "execution_count": 237,
   "id": "6e87ad35-3338-441d-8a88-bd855ae3cd3e",
   "metadata": {},
   "outputs": [
    {
     "name": "stdout",
     "output_type": "stream",
     "text": [
      "MyocardialInfarctionHistory_DON\n",
      "No         26871\n",
      "Unknown      415\n",
      "Yes          208\n",
      "\n",
      "\n"
     ]
    }
   ],
   "source": [
    "# remap\n",
    "df[features] = df[features].map(genericMapCat).fillna(df[features])\n",
    "valuCounts(df, features)"
   ]
  },
  {
   "cell_type": "markdown",
   "id": "9c1465a4-9739-4dbe-a096-599c01dc1fdf",
   "metadata": {},
   "source": [
    "##### NonHeartBeating_DON"
   ]
  },
  {
   "cell_type": "code",
   "execution_count": 238,
   "id": "ffa94732-b99a-455e-acff-b584a0b794f2",
   "metadata": {},
   "outputs": [
    {
     "name": "stdout",
     "output_type": "stream",
     "text": [
      "                     count unique top   freq\n",
      "NonHeartBeating_DON  27494      3  No  27171\n",
      "\n",
      ":::: NaN Count:\n",
      "NonHeartBeating_DON    0\n"
     ]
    }
   ],
   "source": [
    "features = uf.get_feature_list(df, 'NonHeartBeating_DON')"
   ]
  },
  {
   "cell_type": "code",
   "execution_count": 239,
   "id": "c7bc4ddd-1418-4cd7-b457-a1edf7597fdd",
   "metadata": {},
   "outputs": [
    {
     "name": "stdout",
     "output_type": "stream",
     "text": [
      "NonHeartBeating_DON\n",
      "No         27171\n",
      "Yes          318\n",
      "Missing        5\n",
      "\n",
      "\n"
     ]
    }
   ],
   "source": [
    "valuCounts(df, features)"
   ]
  },
  {
   "cell_type": "code",
   "execution_count": 240,
   "id": "8a7a249e-a60e-4aed-8085-854f5707d375",
   "metadata": {},
   "outputs": [
    {
     "name": "stdout",
     "output_type": "stream",
     "text": [
      "NonHeartBeating_DON\n",
      "No         27171\n",
      "Yes          318\n",
      "Unknown        5\n",
      "\n",
      "\n"
     ]
    }
   ],
   "source": [
    "# remap\n",
    "df[features] = df[features].map(genericMapCat).fillna(df[features])\n",
    "valuCounts(df, features)"
   ]
  },
  {
   "cell_type": "markdown",
   "id": "8b75c2d1-5e63-4a05-a573-5eaeb05fb98b",
   "metadata": {},
   "source": [
    "##### PacemakerPostTransplant"
   ]
  },
  {
   "cell_type": "code",
   "execution_count": 241,
   "id": "479f103b-26bb-42a1-b3f9-ce9788ccdfe8",
   "metadata": {},
   "outputs": [
    {
     "name": "stdout",
     "output_type": "stream",
     "text": [
      "                         count unique top   freq\n",
      "PacemakerPostTransplant  27494      4  No  26256\n",
      "\n",
      ":::: NaN Count:\n",
      "PacemakerPostTransplant    0\n"
     ]
    }
   ],
   "source": [
    "features = uf.get_feature_list(df, 'PacemakerPostTransplant')"
   ]
  },
  {
   "cell_type": "code",
   "execution_count": 242,
   "id": "4324b76b-e010-465c-9292-89cdf92b5b22",
   "metadata": {},
   "outputs": [
    {
     "name": "stdout",
     "output_type": "stream",
     "text": [
      "PacemakerPostTransplant\n",
      "No         26256\n",
      "Yes          671\n",
      "Missing      468\n",
      "Unknown       99\n",
      "\n",
      "\n"
     ]
    }
   ],
   "source": [
    "valuCounts(df, features)"
   ]
  },
  {
   "cell_type": "code",
   "execution_count": 243,
   "id": "0afbae2d-bc3c-483d-8824-b3b2c06eb859",
   "metadata": {},
   "outputs": [
    {
     "name": "stdout",
     "output_type": "stream",
     "text": [
      "PacemakerPostTransplant\n",
      "No         26256\n",
      "Yes          671\n",
      "Unknown      567\n",
      "\n",
      "\n"
     ]
    }
   ],
   "source": [
    "# remap\n",
    "df[features] = df[features].map(genericMapCat).fillna(df[features])\n",
    "valuCounts(df, features)"
   ]
  },
  {
   "cell_type": "markdown",
   "id": "1cc99c00-62cf-48f0-93a6-e2692ab1a9b0",
   "metadata": {},
   "source": [
    "##### PreviousTransplant"
   ]
  },
  {
   "cell_type": "code",
   "execution_count": 244,
   "id": "dc4cafbd-272b-4a1b-a570-ef92bbe0a23e",
   "metadata": {},
   "outputs": [
    {
     "name": "stdout",
     "output_type": "stream",
     "text": [
      "                                 count unique top   freq\n",
      "PreviousTransplantAnyOrgan_CAN   27494      2  No  26584\n",
      "PreviousTransplantNumber_CAN     27494      4   0  26612\n",
      "PreviousTransplantSameOrgan_CAN  27494      2  No  26653\n",
      "\n",
      ":::: NaN Count:\n",
      "PreviousTransplantAnyOrgan_CAN     0\n",
      "PreviousTransplantNumber_CAN       0\n",
      "PreviousTransplantSameOrgan_CAN    0\n"
     ]
    }
   ],
   "source": [
    "features = uf.get_feature_list(df, 'PreviousTransplant')"
   ]
  },
  {
   "cell_type": "code",
   "execution_count": 245,
   "id": "7dd28608-8a1d-4a62-ae9a-884643990553",
   "metadata": {},
   "outputs": [
    {
     "name": "stdout",
     "output_type": "stream",
     "text": [
      "PreviousTransplantAnyOrgan_CAN\n",
      "No     26584\n",
      "Yes      910\n",
      "\n",
      "\n",
      "PreviousTransplantNumber_CAN\n",
      "0    26612\n",
      "1      835\n",
      "2       44\n",
      "3        3\n",
      "\n",
      "\n",
      "PreviousTransplantSameOrgan_CAN\n",
      "No     26653\n",
      "Yes      841\n",
      "\n",
      "\n"
     ]
    }
   ],
   "source": [
    "valuCounts(df, features)"
   ]
  },
  {
   "cell_type": "markdown",
   "id": "14d35fcc-7428-4c66-ab47-7e75c2c9bf9c",
   "metadata": {},
   "source": [
    "##### PriorCardiacSurgery"
   ]
  },
  {
   "cell_type": "code",
   "execution_count": 246,
   "id": "94400080-63fb-40f4-984d-2f9e1b134d41",
   "metadata": {},
   "outputs": [
    {
     "name": "stdout",
     "output_type": "stream",
     "text": [
      "                                              count unique      top   freq\n",
      "PriorCardiacSurgeryListAndTransplant_CAN      27494      4       No  20919\n",
      "PriorCardiacSurgeryTypeListAndTransplant_CAN  27494     21  Missing  21426\n",
      "PriorCardiacSurgeryType_CAN                   27494     24  Missing  16734\n",
      "PriorCardiacSurgery_CAN                       27494      4       No  16114\n",
      "\n",
      ":::: NaN Count:\n",
      "PriorCardiacSurgeryListAndTransplant_CAN        0\n",
      "PriorCardiacSurgeryTypeListAndTransplant_CAN    0\n",
      "PriorCardiacSurgeryType_CAN                     0\n",
      "PriorCardiacSurgery_CAN                         0\n"
     ]
    }
   ],
   "source": [
    "features = uf.get_feature_list(df, 'PriorCardiacSurgery')"
   ]
  },
  {
   "cell_type": "code",
   "execution_count": 247,
   "id": "c63610ab-452b-4d27-b588-77160e64ea90",
   "metadata": {},
   "outputs": [
    {
     "name": "stdout",
     "output_type": "stream",
     "text": [
      "PriorCardiacSurgeryListAndTransplant_CAN\n",
      "No         20919\n",
      "Yes         6075\n",
      "Missing      423\n",
      "Unknown       77\n",
      "\n",
      "\n",
      "PriorCardiacSurgeryTypeListAndTransplant_CAN\n",
      "Missing                                                        21426\n",
      "Other, specify                                                  3967\n",
      "CABG                                                             816\n",
      "Valve Replace/Repair                                             426\n",
      "Congenital                                                       251\n",
      "Valve Replace/Repair; Other, specify                             203\n",
      "CABG; Other, specify                                             172\n",
      "CABG; Valve Replace/Repair                                       101\n",
      "Left Vent. Remodeling                                             31\n",
      "Valve Replace/Repair; Congenital                                  28\n",
      "CABG; Valve Replace/Repair; Other, specify                        23\n",
      "Congenital; Other, specify                                        19\n",
      "Left Vent. Remodeling; Other, specify                             11\n",
      "Valve Replace/Repair; Congenital; Other, specify                   7\n",
      "CABG; Valve Replace/Repair; Congenital                             3\n",
      "CABG; Congenital                                                   2\n",
      "CABG; Left Vent. Remodeling                                        2\n",
      "Valve Replace/Repair; Left Vent. Remodeling                        2\n",
      "Valve Replace/Repair; Left Vent. Remodeling; Other, specify        2\n",
      "Congenital; Left Vent. Remodeling; Other, specify                  1\n",
      "CABG; Congenital; Other, specify                                   1\n",
      "\n",
      "\n",
      "PriorCardiacSurgeryType_CAN\n",
      "Missing                                                        16734\n",
      "Other, specify                                                  4807\n",
      "CABG                                                            2550\n",
      "Valve Replace/Repair                                            1271\n",
      "Congenital                                                       615\n",
      "CABG; Other, specify                                             478\n",
      "Valve Replace/Repair; Other, specify                             366\n",
      "CABG; Valve Replace/Repair                                       341\n",
      "Valve Replace/Repair; Congenital                                 113\n",
      "CABG; Valve Replace/Repair; Other, specify                        73\n",
      "Congenital; Other, specify                                        45\n",
      "Left Vent. Remodeling                                             33\n",
      "Left Vent. Remodeling; Other, specify                             16\n",
      "Valve Replace/Repair; Congenital; Other, specify                  14\n",
      "CABG; Left Vent. Remodeling                                        9\n",
      "Congenital; Left Vent. Remodeling                                  7\n",
      "CABG; Congenital                                                   6\n",
      "CABG; Congenital; Other, specify                                   5\n",
      "Valve Replace/Repair; Left Vent. Remodeling                        3\n",
      "CABG; Left Vent. Remodeling; Other, specify                        3\n",
      "Valve Replace/Repair; Left Vent. Remodeling; Other, specify        2\n",
      "Valve Replace/Repair; Congenital; Left Vent. Remodeling            1\n",
      "CABG; Valve Replace/Repair; Left Vent. Remodeling                  1\n",
      "CABG; Valve Replace/Repair; Congenital                             1\n",
      "\n",
      "\n",
      "PriorCardiacSurgery_CAN\n",
      "No         16114\n",
      "Yes        10760\n",
      "Unknown      429\n",
      "Missing      191\n",
      "\n",
      "\n"
     ]
    }
   ],
   "source": [
    "valuCounts(df, features)"
   ]
  },
  {
   "cell_type": "code",
   "execution_count": 248,
   "id": "eda88bdd-c0ff-4d96-a87c-2892074a027b",
   "metadata": {},
   "outputs": [
    {
     "name": "stdout",
     "output_type": "stream",
     "text": [
      "PriorCardiacSurgeryListAndTransplant_CAN\n",
      "No         20919\n",
      "Yes         6075\n",
      "Unknown      500\n",
      "\n",
      "\n",
      "PriorCardiacSurgeryTypeListAndTransplant_CAN\n",
      "Unknown                                                        21426\n",
      "Other, specify                                                  3967\n",
      "CABG                                                             816\n",
      "Valve Replace/Repair                                             426\n",
      "Congenital                                                       251\n",
      "Valve Replace/Repair; Other, specify                             203\n",
      "CABG; Other, specify                                             172\n",
      "CABG; Valve Replace/Repair                                       101\n",
      "Left Vent. Remodeling                                             31\n",
      "Valve Replace/Repair; Congenital                                  28\n",
      "CABG; Valve Replace/Repair; Other, specify                        23\n",
      "Congenital; Other, specify                                        19\n",
      "Left Vent. Remodeling; Other, specify                             11\n",
      "Valve Replace/Repair; Congenital; Other, specify                   7\n",
      "CABG; Valve Replace/Repair; Congenital                             3\n",
      "CABG; Congenital                                                   2\n",
      "CABG; Left Vent. Remodeling                                        2\n",
      "Valve Replace/Repair; Left Vent. Remodeling                        2\n",
      "Valve Replace/Repair; Left Vent. Remodeling; Other, specify        2\n",
      "Congenital; Left Vent. Remodeling; Other, specify                  1\n",
      "CABG; Congenital; Other, specify                                   1\n",
      "\n",
      "\n",
      "PriorCardiacSurgeryType_CAN\n",
      "Unknown                                                        16734\n",
      "Other, specify                                                  4807\n",
      "CABG                                                            2550\n",
      "Valve Replace/Repair                                            1271\n",
      "Congenital                                                       615\n",
      "CABG; Other, specify                                             478\n",
      "Valve Replace/Repair; Other, specify                             366\n",
      "CABG; Valve Replace/Repair                                       341\n",
      "Valve Replace/Repair; Congenital                                 113\n",
      "CABG; Valve Replace/Repair; Other, specify                        73\n",
      "Congenital; Other, specify                                        45\n",
      "Left Vent. Remodeling                                             33\n",
      "Left Vent. Remodeling; Other, specify                             16\n",
      "Valve Replace/Repair; Congenital; Other, specify                  14\n",
      "CABG; Left Vent. Remodeling                                        9\n",
      "Congenital; Left Vent. Remodeling                                  7\n",
      "CABG; Congenital                                                   6\n",
      "CABG; Congenital; Other, specify                                   5\n",
      "Valve Replace/Repair; Left Vent. Remodeling                        3\n",
      "CABG; Left Vent. Remodeling; Other, specify                        3\n",
      "Valve Replace/Repair; Left Vent. Remodeling; Other, specify        2\n",
      "Valve Replace/Repair; Congenital; Left Vent. Remodeling            1\n",
      "CABG; Valve Replace/Repair; Left Vent. Remodeling                  1\n",
      "CABG; Valve Replace/Repair; Congenital                             1\n",
      "\n",
      "\n",
      "PriorCardiacSurgery_CAN\n",
      "No         16114\n",
      "Yes        10760\n",
      "Unknown      620\n",
      "\n",
      "\n"
     ]
    }
   ],
   "source": [
    "# remap\n",
    "df[features] = df[features].map(genericMapCat).fillna(df[features])\n",
    "valuCounts(df, features)"
   ]
  },
  {
   "cell_type": "markdown",
   "id": "4c887b1a-71cf-462a-a39e-1ac01d5145c6",
   "metadata": {},
   "source": [
    "##### PriorLungSurgeryAfterRegistration_CAN"
   ]
  },
  {
   "cell_type": "code",
   "execution_count": 249,
   "id": "f2ba6206-36f6-46ef-9447-0347ee477308",
   "metadata": {},
   "outputs": [
    {
     "name": "stdout",
     "output_type": "stream",
     "text": [
      "                                       count unique top   freq\n",
      "PriorLungSurgeryAfterRegistration_CAN  27494      4  No  26887\n",
      "\n",
      ":::: NaN Count:\n",
      "PriorLungSurgeryAfterRegistration_CAN    0\n"
     ]
    }
   ],
   "source": [
    "features = uf.get_feature_list(df, 'PriorLungSurgeryAfterRegistration_CAN')"
   ]
  },
  {
   "cell_type": "code",
   "execution_count": 250,
   "id": "38dab162-222c-4da7-a62e-d33f12697144",
   "metadata": {},
   "outputs": [
    {
     "name": "stdout",
     "output_type": "stream",
     "text": [
      "PriorLungSurgeryAfterRegistration_CAN\n",
      "No         26887\n",
      "Missing      422\n",
      "Yes          109\n",
      "Unknown       76\n",
      "\n",
      "\n"
     ]
    }
   ],
   "source": [
    "valuCounts(df, features)"
   ]
  },
  {
   "cell_type": "code",
   "execution_count": 251,
   "id": "e0d30626-2d37-46dd-a21f-c2d14f52511e",
   "metadata": {},
   "outputs": [
    {
     "name": "stdout",
     "output_type": "stream",
     "text": [
      "PriorLungSurgeryAfterRegistration_CAN\n",
      "No         26887\n",
      "Unknown      498\n",
      "Yes          109\n",
      "\n",
      "\n"
     ]
    }
   ],
   "source": [
    "# remap\n",
    "df[features] = df[features].map(genericMapCat).fillna(df[features])\n",
    "valuCounts(df, features)"
   ]
  },
  {
   "cell_type": "markdown",
   "id": "5411559b-4b79-4ad2-b888-2a986ad82acd",
   "metadata": {},
   "source": [
    "##### Residency"
   ]
  },
  {
   "cell_type": "code",
   "execution_count": 252,
   "id": "46dc003e-a185-456e-b046-9095f82d32f7",
   "metadata": {},
   "outputs": [
    {
     "name": "stdout",
     "output_type": "stream",
     "text": [
      "                                count unique top  freq\n",
      "ResidencyStateRegistration_CAN  27494     56  CA  3317\n",
      "ResidencyStateTransplant_CAN    27494     55  CA  3294\n",
      "ResidencyState_DON              27494     55  CA  2886\n",
      "\n",
      ":::: NaN Count:\n",
      "ResidencyStateRegistration_CAN    0\n",
      "ResidencyStateTransplant_CAN      0\n",
      "ResidencyState_DON                0\n"
     ]
    }
   ],
   "source": [
    "features = uf.get_feature_list(df, 'Residency')"
   ]
  },
  {
   "cell_type": "markdown",
   "id": "c14c0557-1e6f-453f-a758-7d7bc5e75773",
   "metadata": {},
   "source": [
    "##### StatusAtTransplant_CAN"
   ]
  },
  {
   "cell_type": "code",
   "execution_count": 253,
   "id": "38a5a575-16cd-4d36-b08d-bccd727beffc",
   "metadata": {},
   "outputs": [
    {
     "name": "stdout",
     "output_type": "stream",
     "text": [
      "                        count unique                                                                                                  top   freq\n",
      "StatusAtTransplant_CAN  27494      8  Hypoplastic Left Heart Syndrome; Atrioventricular Septal Defect; Other left Heart Valvar/Structural  11532\n",
      "\n",
      ":::: NaN Count:\n",
      "StatusAtTransplant_CAN    0\n"
     ]
    }
   ],
   "source": [
    "features = uf.get_feature_list(df, 'StatusAtTransplant_CAN')"
   ]
  },
  {
   "cell_type": "code",
   "execution_count": 254,
   "id": "9b18a50b-6b66-4809-b9da-7cc4ba9853f7",
   "metadata": {},
   "outputs": [
    {
     "name": "stdout",
     "output_type": "stream",
     "text": [
      "StatusAtTransplant_CAN\n",
      "Hypoplastic Left Heart Syndrome; Atrioventricular Septal Defect; Other left Heart Valvar/Structural        11532\n",
      "Transposition of the Great Arteries; Truncus Arteriosus; Congenitally Corrected Transposition (L-TGA)       5316\n",
      "Atrioventricular Septal Defect; Congenitally Corrected Transposition (L-TGA); Other                         4784\n",
      "Transposition of the Great Arteries; Atrioventricular Septal Defect; Other left Heart Valvar/Structural     1990\n",
      "Hypoplastic Left Heart Syndrome; Other left Heart Valvar/Structural Hypoplasia; Congenitally Correct        1839\n",
      "Hypoplastic Left Heart Syndrome; Transposition of the Great Arteries; Atrioventricular Septal Defect        1500\n",
      "Other left Heart Valvar/Structural Hypoplasia; Truncus Arteriosus; Congenitally Corrected Transposition      455\n",
      "Hypoplastic Left Heart Syndrome; Transposition of the Great Arteries; Truncus Arteriosus; Congenital          78\n",
      "\n",
      "\n"
     ]
    }
   ],
   "source": [
    "valuCounts(df, features)"
   ]
  },
  {
   "cell_type": "markdown",
   "id": "0ecc3017-2af6-4e73-a03c-3a1657a91c7a",
   "metadata": {},
   "source": [
    "##### SteroidsUse_CAN"
   ]
  },
  {
   "cell_type": "code",
   "execution_count": 255,
   "id": "6f0ef2ac-6ec3-4a84-a30a-0038bccb1cc3",
   "metadata": {},
   "outputs": [
    {
     "name": "stdout",
     "output_type": "stream",
     "text": [
      "                 count unique  top   freq\n",
      "SteroidsUse_CAN  27494      4   No  24942\n",
      "SteroidsUse_DON  27494      4  Yes  19377\n",
      "\n",
      ":::: NaN Count:\n",
      "SteroidsUse_CAN    0\n",
      "SteroidsUse_DON    0\n"
     ]
    }
   ],
   "source": [
    "features = uf.get_feature_list(df, 'Steroids')"
   ]
  },
  {
   "cell_type": "code",
   "execution_count": 256,
   "id": "3aa11876-5707-44b2-a3db-0107d5593581",
   "metadata": {},
   "outputs": [
    {
     "name": "stdout",
     "output_type": "stream",
     "text": [
      "SteroidsUse_CAN\n",
      "No         24942\n",
      "Yes         1905\n",
      "Missing      429\n",
      "Unknown      218\n",
      "\n",
      "\n",
      "SteroidsUse_DON\n",
      "Yes        19377\n",
      "No          7896\n",
      "Missing      203\n",
      "Unknown       18\n",
      "\n",
      "\n"
     ]
    }
   ],
   "source": [
    "valuCounts(df, features)"
   ]
  },
  {
   "cell_type": "code",
   "execution_count": 257,
   "id": "9980b6b5-96e5-40be-a88a-2edbc2826d54",
   "metadata": {},
   "outputs": [
    {
     "name": "stdout",
     "output_type": "stream",
     "text": [
      "SteroidsUse_CAN\n",
      "No         24942\n",
      "Yes         1905\n",
      "Unknown      647\n",
      "\n",
      "\n",
      "SteroidsUse_DON\n",
      "Yes        19377\n",
      "No          7896\n",
      "Unknown      221\n",
      "\n",
      "\n"
     ]
    }
   ],
   "source": [
    "# remap\n",
    "df[features] = df[features].map(genericMapCat).fillna(df[features])\n",
    "valuCounts(df, features)"
   ]
  },
  {
   "cell_type": "markdown",
   "id": "4bf911e1-b19d-493b-8c29-3e8ce7c043e1",
   "metadata": {},
   "source": [
    "##### StrokePostTransplant (LABEL)"
   ]
  },
  {
   "cell_type": "code",
   "execution_count": 258,
   "id": "27c6a5f0-366e-4e93-93fe-e7f3a5ef7f8a",
   "metadata": {},
   "outputs": [
    {
     "name": "stdout",
     "output_type": "stream",
     "text": [
      "                      count unique top   freq\n",
      "StrokePostTransplant  27494      4  No  25997\n",
      "\n",
      ":::: NaN Count:\n",
      "StrokePostTransplant    0\n"
     ]
    }
   ],
   "source": [
    "features = uf.get_feature_list(df, 'StrokePostTransplant')"
   ]
  },
  {
   "cell_type": "code",
   "execution_count": 259,
   "id": "3e1f36f5-70b5-49e5-9d92-b20f7c67b752",
   "metadata": {},
   "outputs": [
    {
     "name": "stdout",
     "output_type": "stream",
     "text": [
      "StrokePostTransplant\n",
      "No         25997\n",
      "Yes          864\n",
      "Missing      463\n",
      "Unknown      170\n",
      "\n",
      "\n"
     ]
    }
   ],
   "source": [
    "valuCounts(df, features)"
   ]
  },
  {
   "cell_type": "code",
   "execution_count": 260,
   "id": "a3329d49-571b-4d54-9f7a-b84602c4725e",
   "metadata": {},
   "outputs": [
    {
     "name": "stdout",
     "output_type": "stream",
     "text": [
      "StrokePostTransplant\n",
      "No         25997\n",
      "Yes          864\n",
      "Unknown      633\n",
      "\n",
      "\n"
     ]
    }
   ],
   "source": [
    "# remap\n",
    "df[features] = df[features].map(genericMapCat).fillna(df[features])\n",
    "valuCounts(df, features)"
   ]
  },
  {
   "cell_type": "markdown",
   "id": "971227d9-bd9d-47a9-965b-6d0e7561042d",
   "metadata": {},
   "source": [
    "##### SurfaceAntigen"
   ]
  },
  {
   "cell_type": "code",
   "execution_count": 261,
   "id": "4ae35455-bc4a-408f-92ed-b6c66c16d5dd",
   "metadata": {},
   "outputs": [
    {
     "name": "stdout",
     "output_type": "stream",
     "text": [
      "                         count unique       top   freq\n",
      "SurfaceAntigenHEP_B_CAN  27494      3  Negative  26206\n",
      "SurfaceAntigenHEP_B_DON  27494      3  Negative  27441\n",
      "\n",
      ":::: NaN Count:\n",
      "SurfaceAntigenHEP_B_CAN    0\n",
      "SurfaceAntigenHEP_B_DON    0\n"
     ]
    }
   ],
   "source": [
    "features = uf.get_feature_list(df, 'SurfaceAntigen')"
   ]
  },
  {
   "cell_type": "code",
   "execution_count": 262,
   "id": "8f876a0a-7f35-4870-8f1a-2a478ad6127c",
   "metadata": {},
   "outputs": [
    {
     "name": "stdout",
     "output_type": "stream",
     "text": [
      "SurfaceAntigenHEP_B_CAN\n",
      "Negative    26206\n",
      "Unknown       897\n",
      "Positive      391\n",
      "\n",
      "\n",
      "SurfaceAntigenHEP_B_DON\n",
      "Negative    27441\n",
      "Unknown        32\n",
      "Positive       21\n",
      "\n",
      "\n"
     ]
    }
   ],
   "source": [
    "valuCounts(df, features)"
   ]
  },
  {
   "cell_type": "markdown",
   "id": "f34942c9-7119-4c17-80f9-1542e2620d78",
   "metadata": {},
   "source": [
    "##### SynthicAntiDiureticHormone_DON"
   ]
  },
  {
   "cell_type": "code",
   "execution_count": 263,
   "id": "b332a9ce-f288-4341-8629-0217035a0b49",
   "metadata": {},
   "outputs": [
    {
     "name": "stdout",
     "output_type": "stream",
     "text": [
      "                                count unique top   freq\n",
      "SynthicAntiDiureticHormone_DON  27494      4  No  23506\n",
      "\n",
      ":::: NaN Count:\n",
      "SynthicAntiDiureticHormone_DON    0\n"
     ]
    }
   ],
   "source": [
    "features = uf.get_feature_list(df, 'SynthicAntiDiureticHormone_DON')"
   ]
  },
  {
   "cell_type": "code",
   "execution_count": 264,
   "id": "9b88cc3b-7d81-4769-8e20-c887c800e3d2",
   "metadata": {},
   "outputs": [
    {
     "name": "stdout",
     "output_type": "stream",
     "text": [
      "SynthicAntiDiureticHormone_DON\n",
      "No         23506\n",
      "Yes         3778\n",
      "Missing      204\n",
      "Unknown        6\n",
      "\n",
      "\n"
     ]
    }
   ],
   "source": [
    "valuCounts(df, features)"
   ]
  },
  {
   "cell_type": "code",
   "execution_count": 265,
   "id": "b91fbf4a-f675-4401-82c5-1a06f8d0408a",
   "metadata": {},
   "outputs": [
    {
     "name": "stdout",
     "output_type": "stream",
     "text": [
      "SynthicAntiDiureticHormone_DON\n",
      "No         23506\n",
      "Yes         3778\n",
      "Unknown      210\n",
      "\n",
      "\n"
     ]
    }
   ],
   "source": [
    "# remap\n",
    "df[features] = df[features].map(genericMapCat).fillna(df[features])\n",
    "valuCounts(df, features)"
   ]
  },
  {
   "cell_type": "markdown",
   "id": "5c71a95b-6dc2-40da-86f8-357a6e162acd",
   "metadata": {},
   "source": [
    "##### Tatoos_DON"
   ]
  },
  {
   "cell_type": "code",
   "execution_count": 266,
   "id": "fba1cbd8-c0d9-4ce4-b669-5faefd7757da",
   "metadata": {},
   "outputs": [
    {
     "name": "stdout",
     "output_type": "stream",
     "text": [
      "            count unique  top   freq\n",
      "Tatoos_DON  27494      4  Yes  15462\n",
      "\n",
      ":::: NaN Count:\n",
      "Tatoos_DON    0\n"
     ]
    }
   ],
   "source": [
    "features = uf.get_feature_list(df, 'Tatoos_DON')"
   ]
  },
  {
   "cell_type": "code",
   "execution_count": 267,
   "id": "ed38034d-238a-450e-a8aa-41f46c218e77",
   "metadata": {},
   "outputs": [
    {
     "name": "stdout",
     "output_type": "stream",
     "text": [
      "Tatoos_DON\n",
      "Yes        15462\n",
      "No         11799\n",
      "Missing      204\n",
      "Unknown       29\n",
      "\n",
      "\n"
     ]
    }
   ],
   "source": [
    "valuCounts(df, features)"
   ]
  },
  {
   "cell_type": "code",
   "execution_count": 268,
   "id": "a837ec70-cf3d-47a9-a0b4-56a6d32ca304",
   "metadata": {},
   "outputs": [
    {
     "name": "stdout",
     "output_type": "stream",
     "text": [
      "Tatoos_DON\n",
      "Yes        15462\n",
      "No         11799\n",
      "Unknown      233\n",
      "\n",
      "\n"
     ]
    }
   ],
   "source": [
    "# remap\n",
    "df[features] = df[features].map(genericMapCat).fillna(df[features])\n",
    "valuCounts(df, features)"
   ]
  },
  {
   "cell_type": "markdown",
   "id": "3c95270d-210f-4aec-b46c-3238bf257ca3",
   "metadata": {},
   "source": [
    "##### ThyroxineT4_DON"
   ]
  },
  {
   "cell_type": "code",
   "execution_count": 269,
   "id": "fd7c8206-114a-4b9e-a170-c41b9b19f7d4",
   "metadata": {},
   "outputs": [
    {
     "name": "stdout",
     "output_type": "stream",
     "text": [
      "                 count unique  top   freq\n",
      "ThyroxineT4_DON  27494      4  Yes  17822\n",
      "\n",
      ":::: NaN Count:\n",
      "ThyroxineT4_DON    0\n"
     ]
    }
   ],
   "source": [
    "features = uf.get_feature_list(df, 'ThyroxineT4_DON')"
   ]
  },
  {
   "cell_type": "code",
   "execution_count": 270,
   "id": "a0a02326-d991-49af-8c0c-56c9f4b18ad7",
   "metadata": {},
   "outputs": [
    {
     "name": "stdout",
     "output_type": "stream",
     "text": [
      "ThyroxineT4_DON\n",
      "Yes        17822\n",
      "No          9462\n",
      "Missing      204\n",
      "Unknown        6\n",
      "\n",
      "\n"
     ]
    }
   ],
   "source": [
    "valuCounts(df, features)"
   ]
  },
  {
   "cell_type": "code",
   "execution_count": 271,
   "id": "67ca156d-22e0-48f9-ac65-38c185c65872",
   "metadata": {},
   "outputs": [
    {
     "name": "stdout",
     "output_type": "stream",
     "text": [
      "ThyroxineT4_DON\n",
      "Yes        17822\n",
      "No          9462\n",
      "Unknown      210\n",
      "\n",
      "\n"
     ]
    }
   ],
   "source": [
    "# remap\n",
    "df[features] = df[features].map(genericMapCat).fillna(df[features])\n",
    "valuCounts(df, features)"
   ]
  },
  {
   "cell_type": "markdown",
   "id": "4a4a76f7-80d5-4bc8-b22b-78f07c121e19",
   "metadata": {},
   "source": [
    "##### Transfusion"
   ]
  },
  {
   "cell_type": "code",
   "execution_count": 272,
   "id": "acc017e8-3776-4ab9-80d8-f0de02eec70c",
   "metadata": {},
   "outputs": [],
   "source": [
    "def reMapCat(value):\n",
    "    if value in ['NONE']:\n",
    "        return 'No'\n",
    "    elif value in['Unknown']:\n",
    "        return 'Unknow'\n",
    "    else:\n",
    "        return 'Yes'"
   ]
  },
  {
   "cell_type": "code",
   "execution_count": 273,
   "id": "80900a71-9659-471c-9883-05cc9e46043f",
   "metadata": {},
   "outputs": [
    {
     "name": "stdout",
     "output_type": "stream",
     "text": [
      "                                  count unique   top   freq\n",
      "TransfusionAfterRegistration_CAN  27494      4    No  21307\n",
      "TransfusionNumber_DON             27494      6  NONE  13242\n",
      "\n",
      ":::: NaN Count:\n",
      "TransfusionAfterRegistration_CAN    0\n",
      "TransfusionNumber_DON               0\n"
     ]
    }
   ],
   "source": [
    "features = uf.get_feature_list(df, 'Transfusion')"
   ]
  },
  {
   "cell_type": "code",
   "execution_count": 274,
   "id": "38d95a0d-0217-4ebb-8824-33be54d27b89",
   "metadata": {},
   "outputs": [
    {
     "name": "stdout",
     "output_type": "stream",
     "text": [
      "TransfusionAfterRegistration_CAN\n",
      "No         21307\n",
      "Yes         5435\n",
      "Missing      424\n",
      "Unknown      328\n",
      "\n",
      "\n",
      "TransfusionNumber_DON\n",
      "NONE               13242\n",
      "1 - 5               9172\n",
      "6 - 10              3082\n",
      "GREATER THAN 10     1969\n",
      "Missing               28\n",
      "UNKNOWN                1\n",
      "\n",
      "\n"
     ]
    }
   ],
   "source": [
    "valuCounts(df, features)"
   ]
  },
  {
   "cell_type": "code",
   "execution_count": 275,
   "id": "9b138c1e-f4ed-4aef-8add-daf7aa5ad3e3",
   "metadata": {},
   "outputs": [
    {
     "name": "stdout",
     "output_type": "stream",
     "text": [
      "TransfusionAfterRegistration_CAN\n",
      "No         21307\n",
      "Yes         5435\n",
      "Unknown      752\n",
      "\n",
      "\n",
      "TransfusionNumber_DON\n",
      "NONE               13242\n",
      "1 - 5               9172\n",
      "6 - 10              3082\n",
      "GREATER THAN 10     1969\n",
      "Unknown               29\n",
      "\n",
      "\n"
     ]
    }
   ],
   "source": [
    "# remap\n",
    "df[features] = df[features].map(genericMapCat).fillna(df[features])\n",
    "valuCounts(df, features)"
   ]
  },
  {
   "cell_type": "code",
   "execution_count": 276,
   "id": "ccb2649e-fb3d-4a26-9e4a-0e747db1df3e",
   "metadata": {},
   "outputs": [
    {
     "name": "stdout",
     "output_type": "stream",
     "text": [
      "TransfusionNumber_DON\n",
      "Yes       14223\n",
      "No        13242\n",
      "Unknow       29\n",
      "\n",
      "\n"
     ]
    }
   ],
   "source": [
    "df['TransfusionNumber_DON'] = df['TransfusionNumber_DON'].map(reMapCat).fillna(df['TransfusionNumber_DON'])\n",
    "valuCounts(df, ['TransfusionNumber_DON'])"
   ]
  },
  {
   "cell_type": "code",
   "execution_count": 277,
   "id": "b0c76a4c-0f47-44da-9073-090c8fbce016",
   "metadata": {},
   "outputs": [],
   "source": [
    "# remove value & reset index\n",
    "df_ordinal = df_ordinal.drop(df_ordinal[df_ordinal['column'].str.contains('TransfusionNumber_DON')].index)\n",
    "df_ordinal = df_ordinal.reset_index(drop=True)\n",
    "\n",
    "# add to nominal\n",
    "df_nominal = uf.insert_into_dataframe(df_nominal, ['TransfusionNumber_DON'])"
   ]
  },
  {
   "cell_type": "markdown",
   "id": "215440ce-2e9f-4b1c-9414-e9b568c0ed2e",
   "metadata": {},
   "source": [
    "##### TransplantRegion"
   ]
  },
  {
   "cell_type": "code",
   "execution_count": 278,
   "id": "a4095a5b-4434-4f41-ac69-f2e5a5e214c9",
   "metadata": {},
   "outputs": [
    {
     "name": "stdout",
     "output_type": "stream",
     "text": [
      "                  count unique       top  freq\n",
      "TransplantRegion  27494     11  Region 5  4638\n",
      "\n",
      ":::: NaN Count:\n",
      "TransplantRegion    0\n"
     ]
    }
   ],
   "source": [
    "features = uf.get_feature_list(df, 'TransplantRegion')"
   ]
  },
  {
   "cell_type": "code",
   "execution_count": 279,
   "id": "4aa58b6f-4786-4cbb-a9ad-0cf36ec99c2b",
   "metadata": {},
   "outputs": [
    {
     "name": "stdout",
     "output_type": "stream",
     "text": [
      "TransplantRegion\n",
      "Region 5     4638\n",
      "Region 11    3501\n",
      "Region 3     3111\n",
      "Region 2     3021\n",
      "Region 4     2904\n",
      "Region 7     2474\n",
      "Region 10    2146\n",
      "Region 9     1833\n",
      "Region 8     1780\n",
      "Region 1     1259\n",
      "Region 6      827\n",
      "\n",
      "\n"
     ]
    }
   ],
   "source": [
    "valuCounts(df, features)"
   ]
  },
  {
   "cell_type": "markdown",
   "id": "44c5b732-6a64-4b3f-9baf-875e66f8dc80",
   "metadata": {},
   "source": [
    "##### TransplantStatus (LABEL)"
   ]
  },
  {
   "cell_type": "code",
   "execution_count": 280,
   "id": "05ac4a42-7664-4af6-992d-f5219e05f87e",
   "metadata": {},
   "outputs": [
    {
     "name": "stdout",
     "output_type": "stream",
     "text": [
      "                  count unique    top   freq\n",
      "TransplantStatus  27494      3  Alive  21956\n",
      "\n",
      ":::: NaN Count:\n",
      "TransplantStatus    0\n"
     ]
    }
   ],
   "source": [
    "features = uf.get_feature_list(df, 'TransplantStatus')"
   ]
  },
  {
   "cell_type": "code",
   "execution_count": 281,
   "id": "fde7860f-b3d2-403d-a5fb-9c290c3b22e4",
   "metadata": {},
   "outputs": [
    {
     "name": "stdout",
     "output_type": "stream",
     "text": [
      "TransplantStatus\n",
      "Alive      21956\n",
      "Dead        5113\n",
      "Missing      425\n",
      "\n",
      "\n"
     ]
    }
   ],
   "source": [
    "valuCounts(df, features)"
   ]
  },
  {
   "cell_type": "code",
   "execution_count": 282,
   "id": "afbce4ed-c99b-438b-856d-da7d8de213be",
   "metadata": {},
   "outputs": [
    {
     "name": "stdout",
     "output_type": "stream",
     "text": [
      "TransplantStatus\n",
      "Alive      21956\n",
      "Dead        5113\n",
      "Unknown      425\n",
      "\n",
      "\n"
     ]
    }
   ],
   "source": [
    "# remap\n",
    "df[features] = df[features].map(genericMapCat).fillna(df[features])\n",
    "valuCounts(df, features)"
   ]
  },
  {
   "cell_type": "markdown",
   "id": "86177f3c-5460-4b18-9f87-4f7ce3160b4f",
   "metadata": {},
   "source": [
    "##### TransplantType_CAN"
   ]
  },
  {
   "cell_type": "code",
   "execution_count": 283,
   "id": "c6e71d00-cfe5-4daf-a992-91d4be026bd3",
   "metadata": {},
   "outputs": [
    {
     "name": "stdout",
     "output_type": "stream",
     "text": [
      "                    count unique top   freq\n",
      "TransplantType_CAN  27494      3   O  27056\n",
      "\n",
      ":::: NaN Count:\n",
      "TransplantType_CAN    0\n"
     ]
    }
   ],
   "source": [
    "features = uf.get_feature_list(df, 'TransplantType_CAN')"
   ]
  },
  {
   "cell_type": "code",
   "execution_count": 284,
   "id": "0c9ef330-8a5d-4a4a-b36f-1f05d3aa2b4f",
   "metadata": {},
   "outputs": [
    {
     "name": "stdout",
     "output_type": "stream",
     "text": [
      "TransplantType_CAN\n",
      "O    27056\n",
      "X      423\n",
      "H       15\n",
      "\n",
      "\n"
     ]
    }
   ],
   "source": [
    "valuCounts(df, features)"
   ]
  },
  {
   "cell_type": "code",
   "execution_count": 285,
   "id": "8b6ebd5d-bae2-4e1d-a91b-1a57c9b4e986",
   "metadata": {},
   "outputs": [],
   "source": [
    "# add to removeCols list\n",
    "removeCols.extend(features)"
   ]
  },
  {
   "cell_type": "markdown",
   "id": "72712d6d-d7ad-4d54-ac30-85c3a1185bd5",
   "metadata": {},
   "source": [
    "##### TriiodothyronineT3_DON"
   ]
  },
  {
   "cell_type": "code",
   "execution_count": 286,
   "id": "68342f05-e243-4d81-9861-309dee369570",
   "metadata": {},
   "outputs": [
    {
     "name": "stdout",
     "output_type": "stream",
     "text": [
      "                        count unique top   freq\n",
      "TriiodothyronineT3_DON  27494      4  No  27177\n",
      "\n",
      ":::: NaN Count:\n",
      "TriiodothyronineT3_DON    0\n"
     ]
    }
   ],
   "source": [
    "features = uf.get_feature_list(df, 'TriiodothyronineT3_DON')"
   ]
  },
  {
   "cell_type": "code",
   "execution_count": 287,
   "id": "04c5ff80-33c6-4c3a-bb7a-69bbd9f47a20",
   "metadata": {},
   "outputs": [
    {
     "name": "stdout",
     "output_type": "stream",
     "text": [
      "TriiodothyronineT3_DON\n",
      "No         27177\n",
      "Missing      204\n",
      "Yes          106\n",
      "Unknown        7\n",
      "\n",
      "\n"
     ]
    }
   ],
   "source": [
    "valuCounts(df, features)"
   ]
  },
  {
   "cell_type": "code",
   "execution_count": 288,
   "id": "d8d2e732-8bce-4aa7-b49e-2bc3e87d5dea",
   "metadata": {},
   "outputs": [
    {
     "name": "stdout",
     "output_type": "stream",
     "text": [
      "TriiodothyronineT3_DON\n",
      "No         27177\n",
      "Unknown      211\n",
      "Yes          106\n",
      "\n",
      "\n"
     ]
    }
   ],
   "source": [
    "# remap\n",
    "df[features] = df[features].map(genericMapCat).fillna(df[features])\n",
    "valuCounts(df, features)"
   ]
  },
  {
   "cell_type": "markdown",
   "id": "4995045b-5361-4027-9962-4057b759a330",
   "metadata": {},
   "source": [
    "##### Urine"
   ]
  },
  {
   "cell_type": "code",
   "execution_count": 289,
   "id": "8da19f06-c84d-46b9-b6d7-62b4635d848c",
   "metadata": {},
   "outputs": [
    {
     "name": "stdout",
     "output_type": "stream",
     "text": [
      "                    count unique top   freq\n",
      "UrineInfection_DON  27494      3  No  24270\n",
      "UrinePortein_DON    27494      4  No  14435\n",
      "\n",
      ":::: NaN Count:\n",
      "UrineInfection_DON    0\n",
      "UrinePortein_DON      0\n"
     ]
    }
   ],
   "source": [
    "features = uf.get_feature_list(df, 'Urine')"
   ]
  },
  {
   "cell_type": "code",
   "execution_count": 290,
   "id": "3f44a07d-35e1-4837-a7c6-1c12a0d2c217",
   "metadata": {},
   "outputs": [
    {
     "name": "stdout",
     "output_type": "stream",
     "text": [
      "UrineInfection_DON\n",
      "No         24270\n",
      "Yes         3221\n",
      "Unknown        3\n",
      "\n",
      "\n",
      "UrinePortein_DON\n",
      "No         14435\n",
      "Yes        12727\n",
      "Missing      203\n",
      "Unknown      129\n",
      "\n",
      "\n"
     ]
    }
   ],
   "source": [
    "valuCounts(df, features)"
   ]
  },
  {
   "cell_type": "code",
   "execution_count": 291,
   "id": "cfc24207-0d0f-4cb7-82dd-fd2d6fbcf8a5",
   "metadata": {},
   "outputs": [
    {
     "name": "stdout",
     "output_type": "stream",
     "text": [
      "UrineInfection_DON\n",
      "No         24270\n",
      "Yes         3221\n",
      "Unknown        3\n",
      "\n",
      "\n",
      "UrinePortein_DON\n",
      "No         14435\n",
      "Yes        12727\n",
      "Unknown      332\n",
      "\n",
      "\n"
     ]
    }
   ],
   "source": [
    "# remap\n",
    "df[features] = df[features].map(genericMapCat).fillna(df[features])\n",
    "valuCounts(df, features)"
   ]
  },
  {
   "cell_type": "markdown",
   "id": "188024f7-0227-4787-aec2-9a8f1b08523e",
   "metadata": {},
   "source": [
    "##### Vasodilators"
   ]
  },
  {
   "cell_type": "code",
   "execution_count": 292,
   "id": "0deb2afd-489f-4bd7-a932-3aa5f4ab3ea3",
   "metadata": {},
   "outputs": [
    {
     "name": "stdout",
     "output_type": "stream",
     "text": [
      "                  count unique top   freq\n",
      "Vasodilators_DON  27494      4  No  22797\n",
      "\n",
      ":::: NaN Count:\n",
      "Vasodilators_DON    0\n"
     ]
    }
   ],
   "source": [
    "features = uf.get_feature_list(df, '^Vasodilators')"
   ]
  },
  {
   "cell_type": "code",
   "execution_count": 293,
   "id": "3f00addf-e126-4021-82f9-a5da27d3865a",
   "metadata": {},
   "outputs": [
    {
     "name": "stdout",
     "output_type": "stream",
     "text": [
      "Vasodilators_DON\n",
      "No         22797\n",
      "Yes         4483\n",
      "Missing      204\n",
      "Unknown       10\n",
      "\n",
      "\n"
     ]
    }
   ],
   "source": [
    "valuCounts(df, features)"
   ]
  },
  {
   "cell_type": "code",
   "execution_count": 294,
   "id": "a1ef6902-5460-471a-a038-06a129a6e74f",
   "metadata": {},
   "outputs": [
    {
     "name": "stdout",
     "output_type": "stream",
     "text": [
      "Vasodilators_DON\n",
      "No         22797\n",
      "Yes         4483\n",
      "Unknown      214\n",
      "\n",
      "\n"
     ]
    }
   ],
   "source": [
    "# remap\n",
    "df[features] = df[features].map(genericMapCat).fillna(df[features])\n",
    "valuCounts(df, features)"
   ]
  },
  {
   "cell_type": "markdown",
   "id": "65ddf754-1e37-4486-9a9d-58edea7a2e49",
   "metadata": {},
   "source": [
    "##### Ventilator"
   ]
  },
  {
   "cell_type": "code",
   "execution_count": 295,
   "id": "1813e608-64da-4136-adb8-65c18e42dd33",
   "metadata": {},
   "outputs": [
    {
     "name": "stdout",
     "output_type": "stream",
     "text": [
      "                                         count unique top   freq\n",
      "VentilatorRegistration_CAN               27494      2  No  27085\n",
      "VentilatorTransplant_CAN                 27494      2  No  27091\n",
      "VentilatorySupportAfterRegistration_CAN  27494      4  No  21959\n",
      "VentilatorySupport_CAN                   27494      4  No  21959\n",
      "\n",
      ":::: NaN Count:\n",
      "VentilatorRegistration_CAN                 0\n",
      "VentilatorTransplant_CAN                   0\n",
      "VentilatorySupportAfterRegistration_CAN    0\n",
      "VentilatorySupport_CAN                     0\n"
     ]
    }
   ],
   "source": [
    "features = uf.get_feature_list(df, 'Ventilator')"
   ]
  },
  {
   "cell_type": "code",
   "execution_count": 296,
   "id": "a56c7f43-239c-47c3-a98a-fb297b243fb0",
   "metadata": {},
   "outputs": [
    {
     "name": "stdout",
     "output_type": "stream",
     "text": [
      "VentilatorRegistration_CAN\n",
      "No     27085\n",
      "Yes      409\n",
      "\n",
      "\n",
      "VentilatorTransplant_CAN\n",
      "No     27091\n",
      "Yes      403\n",
      "\n",
      "\n",
      "VentilatorySupportAfterRegistration_CAN\n",
      "No         21959\n",
      "Yes         4838\n",
      "Missing      424\n",
      "Unknown      273\n",
      "\n",
      "\n",
      "VentilatorySupport_CAN\n",
      "No         21959\n",
      "Yes         4838\n",
      "Missing      424\n",
      "Unknown      273\n",
      "\n",
      "\n"
     ]
    }
   ],
   "source": [
    "valuCounts(df, features)"
   ]
  },
  {
   "cell_type": "code",
   "execution_count": 297,
   "id": "4116944a-2875-4f82-84ab-437f4015440a",
   "metadata": {},
   "outputs": [
    {
     "name": "stdout",
     "output_type": "stream",
     "text": [
      "VentilatorRegistration_CAN\n",
      "No     27085\n",
      "Yes      409\n",
      "\n",
      "\n",
      "VentilatorTransplant_CAN\n",
      "No     27091\n",
      "Yes      403\n",
      "\n",
      "\n",
      "VentilatorySupportAfterRegistration_CAN\n",
      "No         21959\n",
      "Yes         4838\n",
      "Unknown      697\n",
      "\n",
      "\n",
      "VentilatorySupport_CAN\n",
      "No         21959\n",
      "Yes         4838\n",
      "Unknown      697\n",
      "\n",
      "\n"
     ]
    }
   ],
   "source": [
    "# remap\n",
    "df[features] = df[features].map(genericMapCat).fillna(df[features])\n",
    "valuCounts(df, features)"
   ]
  },
  {
   "cell_type": "markdown",
   "id": "36d90ee1-8b95-402f-b821-2a50c0e9c09a",
   "metadata": {},
   "source": [
    "##### WorkIncome"
   ]
  },
  {
   "cell_type": "code",
   "execution_count": 298,
   "id": "724a0cf5-4b31-4c86-8f6f-607883db4920",
   "metadata": {},
   "outputs": [
    {
     "name": "stdout",
     "output_type": "stream",
     "text": [
      "                            count unique top   freq\n",
      "WorkIncomeRegistration_CAN  27494      4  No  21761\n",
      "WorkIncomeTransplant_CAN    27494      4  No  22850\n",
      "\n",
      ":::: NaN Count:\n",
      "WorkIncomeRegistration_CAN    0\n",
      "WorkIncomeTransplant_CAN      0\n"
     ]
    }
   ],
   "source": [
    "features = uf.get_feature_list(df, 'WorkIncome')"
   ]
  },
  {
   "cell_type": "code",
   "execution_count": 299,
   "id": "2c99e5af-f6ba-4095-bb95-8390a3d25bae",
   "metadata": {},
   "outputs": [
    {
     "name": "stdout",
     "output_type": "stream",
     "text": [
      "WorkIncomeRegistration_CAN\n",
      "No         21761\n",
      "Yes         4836\n",
      "Unknown      663\n",
      "Missing      234\n",
      "\n",
      "\n",
      "WorkIncomeTransplant_CAN\n",
      "No         22850\n",
      "Yes         3375\n",
      "Unknown      813\n",
      "Missing      456\n",
      "\n",
      "\n"
     ]
    }
   ],
   "source": [
    "valuCounts(df, features)"
   ]
  },
  {
   "cell_type": "code",
   "execution_count": 300,
   "id": "c71bac82-084f-4bfb-bc6c-c6ddb1a847fa",
   "metadata": {},
   "outputs": [
    {
     "name": "stdout",
     "output_type": "stream",
     "text": [
      "WorkIncomeRegistration_CAN\n",
      "No         21761\n",
      "Yes         4836\n",
      "Unknown      897\n",
      "\n",
      "\n",
      "WorkIncomeTransplant_CAN\n",
      "No         22850\n",
      "Yes         3375\n",
      "Unknown     1269\n",
      "\n",
      "\n"
     ]
    }
   ],
   "source": [
    "# remap\n",
    "df[features] = df[features].map(genericMapCat).fillna(df[features])\n",
    "valuCounts(df, features)"
   ]
  },
  {
   "cell_type": "markdown",
   "id": "973df5ab-eb4b-4588-b398-87c8a3c890b2",
   "metadata": {},
   "source": [
    "### Ordinal"
   ]
  },
  {
   "cell_type": "code",
   "execution_count": 301,
   "id": "0b803b16-72af-44b8-89d0-d9a2e9ffe224",
   "metadata": {},
   "outputs": [],
   "source": [
    "# remove unused category\n",
    "df = uf.remove_cat_zero_count(df).copy()"
   ]
  },
  {
   "cell_type": "code",
   "execution_count": 302,
   "id": "ca5da297-fa3a-4f53-8174-150ca6efd4b4",
   "metadata": {},
   "outputs": [
    {
     "name": "stdout",
     "output_type": "stream",
     "text": [
      "['CigaretteAbstinence_CAN', 'DiabetesHistory_DON', 'EducationLevel_CAN', 'FunctionalStatusFollowUp', 'FunctionalStatusRegistration_CAN', 'FunctionalStatusTransplant_CAN', 'MedicalConditionTransplant_CAN', 'MismatchLevel_AMIS', 'MismatchLevel_BMIS', 'MismatchLevel_DRMIS', 'MismatchLevel_HLMIS', 'PreviousTransplantNumber_CAN']\n"
     ]
    }
   ],
   "source": [
    "print(sorted(df_ordinal.column.to_list()))"
   ]
  },
  {
   "cell_type": "markdown",
   "id": "0f2987fb-78f0-47be-ab90-cbcda3ae0f54",
   "metadata": {},
   "source": [
    "##### CigaretteAbstinence_CAN"
   ]
  },
  {
   "cell_type": "code",
   "execution_count": 303,
   "id": "ceb60376-231a-495f-a244-52f7107b4a5a",
   "metadata": {},
   "outputs": [
    {
     "name": "stdout",
     "output_type": "stream",
     "text": [
      "                         count unique      top   freq\n",
      "CigaretteAbstinence_CAN  27494      9  Unknown  15915\n",
      "\n",
      ":::: NaN Count:\n",
      "CigaretteAbstinence_CAN    0\n"
     ]
    }
   ],
   "source": [
    "features = uf.get_feature_list(df, 'CigaretteAbstinence_CAN')"
   ]
  },
  {
   "cell_type": "code",
   "execution_count": 304,
   "id": "934e26b2-5e8c-4fb9-9cef-55c3f9e605fe",
   "metadata": {},
   "outputs": [
    {
     "name": "stdout",
     "output_type": "stream",
     "text": [
      "CigaretteAbstinence_CAN\n",
      "Unknown               15915\n",
      ">60 months             6818\n",
      "3-12 months            1996\n",
      "13-24 months            953\n",
      "25-36 months            594\n",
      "37-48 months            465\n",
      "49-60 months            392\n",
      "0-2 months              311\n",
      "Continues to smoke       50\n",
      "\n",
      "\n"
     ]
    }
   ],
   "source": [
    "valuCounts(df, features)"
   ]
  },
  {
   "cell_type": "markdown",
   "id": "c9936327-167a-4482-9741-69335917fa02",
   "metadata": {},
   "source": [
    "##### DiabetesHistory_DON"
   ]
  },
  {
   "cell_type": "code",
   "execution_count": 305,
   "id": "0ceba17e-2dd4-44f6-a700-c05801e38c97",
   "metadata": {},
   "outputs": [
    {
     "name": "stdout",
     "output_type": "stream",
     "text": [
      "                     count unique top   freq\n",
      "DiabetesHistory_DON  27494      6  No  26290\n",
      "\n",
      ":::: NaN Count:\n",
      "DiabetesHistory_DON    0\n"
     ]
    }
   ],
   "source": [
    "features = uf.get_feature_list(df, 'DiabetesHistory_DON')"
   ]
  },
  {
   "cell_type": "code",
   "execution_count": 306,
   "id": "33d606ad-6f14-4efd-a064-b6cd8f58b72d",
   "metadata": {},
   "outputs": [
    {
     "name": "stdout",
     "output_type": "stream",
     "text": [
      "DiabetesHistory_DON\n",
      "No                       26290\n",
      "Yes, 0-5 Years             494\n",
      "Yes, >10 Years             262\n",
      "Unknown                    187\n",
      "Yes, 6-10 Years            163\n",
      "Yes, Duration Unknown       98\n",
      "\n",
      "\n"
     ]
    }
   ],
   "source": [
    "valuCounts(df, features)"
   ]
  },
  {
   "cell_type": "markdown",
   "id": "ae53cd2a-12d5-4eb4-8ee0-2378beb9bcb8",
   "metadata": {},
   "source": [
    "##### EducationLevel_CAN"
   ]
  },
  {
   "cell_type": "code",
   "execution_count": 307,
   "id": "f0bd501a-d661-492f-aed1-f493e90e41b2",
   "metadata": {},
   "outputs": [
    {
     "name": "stdout",
     "output_type": "stream",
     "text": [
      "                    count unique                        top   freq\n",
      "EducationLevel_CAN  27494      8  HIGH SCHOOL (9-12) or GED  10115\n",
      "\n",
      ":::: NaN Count:\n",
      "EducationLevel_CAN    0\n"
     ]
    }
   ],
   "source": [
    "features = uf.get_feature_list(df, 'EducationLevel_CAN')"
   ]
  },
  {
   "cell_type": "code",
   "execution_count": 308,
   "id": "e8d99f44-b725-47bc-b3e4-4b3be3a7a34f",
   "metadata": {},
   "outputs": [
    {
     "name": "stdout",
     "output_type": "stream",
     "text": [
      "EducationLevel_CAN\n",
      "HIGH SCHOOL (9-12) or GED            10115\n",
      "ATTENDED COLLEGE/TECHNICAL SCHOOL     7430\n",
      "ASSOCIATE/BACHELOR DEGREE             5576\n",
      "POST-COLLEGE GRADUATE DEGREE          2492\n",
      "UNKNOWN                                917\n",
      "GRADE SCHOOL (0-8)                     840\n",
      "Missing                                 74\n",
      "NONE                                    50\n",
      "\n",
      "\n"
     ]
    }
   ],
   "source": [
    "valuCounts(df, features)"
   ]
  },
  {
   "cell_type": "code",
   "execution_count": 309,
   "id": "979c187f-affd-455d-938b-3a9a64eec9ed",
   "metadata": {},
   "outputs": [
    {
     "name": "stdout",
     "output_type": "stream",
     "text": [
      "EducationLevel_CAN\n",
      "HIGH SCHOOL (9-12) or GED            10115\n",
      "ATTENDED COLLEGE/TECHNICAL SCHOOL     7430\n",
      "ASSOCIATE/BACHELOR DEGREE             5576\n",
      "POST-COLLEGE GRADUATE DEGREE          2492\n",
      "Unknown                                991\n",
      "GRADE SCHOOL (0-8)                     840\n",
      "NONE                                    50\n",
      "\n",
      "\n"
     ]
    }
   ],
   "source": [
    "# remap\n",
    "df[features] = df[features].map(genericMapCat).fillna(df[features])\n",
    "valuCounts(df, features)"
   ]
  },
  {
   "cell_type": "markdown",
   "id": "c13c2b8c-cb22-4b68-85d5-737776f1b556",
   "metadata": {},
   "source": [
    "##### FunctionalStatusFollowUp (LABEL)"
   ]
  },
  {
   "cell_type": "code",
   "execution_count": 310,
   "id": "9ae3b59c-6068-49d2-8585-2b21d9dbdf91",
   "metadata": {},
   "outputs": [
    {
     "name": "stdout",
     "output_type": "stream",
     "text": [
      "                          count unique      top   freq\n",
      "FunctionalStatusFollowUp  27494     11  Unknown  11964\n",
      "\n",
      ":::: NaN Count:\n",
      "FunctionalStatusFollowUp    0\n"
     ]
    }
   ],
   "source": [
    "features = uf.get_feature_list(df, 'FunctionalStatusFollowUp')"
   ]
  },
  {
   "cell_type": "code",
   "execution_count": 311,
   "id": "bcab1056-d078-41a6-8473-b0db260cb237",
   "metadata": {},
   "outputs": [
    {
     "name": "stdout",
     "output_type": "stream",
     "text": [
      "FunctionalStatusFollowUp\n",
      "Unknown                                                                      11964\n",
      "100% - Normal, no complaints, no evidence of disease                          4278\n",
      "90% - Able to carry on normal activity: minor symptoms of disease             3764\n",
      "80% - Normal activity with effort: some symptoms of disease                   2189\n",
      "20% - Very sick, hospitalization necessary: active treatment necessary        1312\n",
      "70% - Cares for self: unable to carry on normal activity or active work       1209\n",
      "10% - Moribund, fatal processes progressing rapidly                            962\n",
      "60% - Requires occasional assistance but is able to care for needs             523\n",
      "40% - Disabled: requires special care and assistance                           485\n",
      "50% - Requires considerable assistance and frequent medical care               470\n",
      "30% - Severely disabled: hospitalization is indicated, death not imminent      338\n",
      "\n",
      "\n"
     ]
    }
   ],
   "source": [
    "valuCounts(df, features)"
   ]
  },
  {
   "cell_type": "markdown",
   "id": "739028a2-63ed-41df-8ca0-65ca3bef4a1d",
   "metadata": {},
   "source": [
    "##### FunctionalStatus"
   ]
  },
  {
   "cell_type": "code",
   "execution_count": 312,
   "id": "551de176-092b-4dc7-a336-36509ea4869b",
   "metadata": {},
   "outputs": [],
   "source": [
    "def reMapCat(value):\n",
    "    if value == '100% - Fully active, normal':\n",
    "        return '100% - Normal, no complaints, no evidence of disease'\n",
    "    elif value == '90% - Minor restrictions in physically strenuous activity':\n",
    "        return '90% - Able to carry on normal activity: minor symptoms of disease'\n",
    "    elif value == '80% - Active, but tires more quickly':\n",
    "        return '80% - Normal activity with effort: some symptoms of disease'\n",
    "    elif value == '70% - Both greater restriction of and less time spent in play activity':\n",
    "        return '70% - Cares for self: unable to carry on normal activity or active work'\n",
    "    elif value == '60% - Up and around, but minimal active play; keeps busy with quieter activities':\n",
    "        return '60% - Requires occasional assistance but is able to care for needs'\n",
    "    elif value == '50% - Can dress but lies around much of day; no active play; can take part in quiet play/activities':\n",
    "        return '50% - Requires considerable assistance and frequent medical care'\n",
    "    elif value == '40% - Mostly in bed; participates in quiet activities':\n",
    "        return '40% - Disabled: requires special care and assistance'\n",
    "    elif value == '30% - In bed; needs assistance even for quiet play':\n",
    "        return '30% - Severely disabled: hospitalization is indicated, death not imminent'\n",
    "    elif value == '20% - Often sleeping; play entirely limited to very passive activities':\n",
    "        return '20% - Very sick, hospitalization necessary: active treatment necessary'\n",
    "    elif value == '10% - No play; does not get out of bed':\n",
    "        return '10% - Moribund, fatal processes progressing rapidly'\n",
    "    else:\n",
    "        return value"
   ]
  },
  {
   "cell_type": "code",
   "execution_count": 313,
   "id": "ee5e8b3b-a3c8-48e5-a40c-78a97522545b",
   "metadata": {},
   "outputs": [
    {
     "name": "stdout",
     "output_type": "stream",
     "text": [
      "                                  count unique                                                                     top  freq\n",
      "FunctionalStatusRegistration_CAN  27494     21  20% - Very sick, hospitalization necessary: active treatment necessary  6364\n",
      "FunctionalStatusTransplant_CAN    27494     11  20% - Very sick, hospitalization necessary: active treatment necessary  7983\n",
      "\n",
      ":::: NaN Count:\n",
      "FunctionalStatusRegistration_CAN    0\n",
      "FunctionalStatusTransplant_CAN      0\n"
     ]
    }
   ],
   "source": [
    "features = uf.get_feature_list(df, 'FunctionalStatus.*_CAN')"
   ]
  },
  {
   "cell_type": "code",
   "execution_count": 314,
   "id": "660a92e9-7189-4e0a-aba1-25acefc2cb73",
   "metadata": {},
   "outputs": [
    {
     "name": "stdout",
     "output_type": "stream",
     "text": [
      "FunctionalStatusRegistration_CAN\n",
      "20% - Very sick, hospitalization necessary: active treatment necessary                                 6364\n",
      "40% - Disabled: requires special care and assistance                                                   3872\n",
      "70% - Cares for self: unable to carry on normal activity or active work                                3736\n",
      "60% - Requires occasional assistance but is able to care for needs                                     3306\n",
      "50% - Requires considerable assistance and frequent medical care                                       2928\n",
      "30% - Severely disabled: hospitalization is indicated, death not imminent                              2438\n",
      "80% - Normal activity with effort: some symptoms of disease                                            2291\n",
      "Unknown                                                                                                 975\n",
      "90% - Able to carry on normal activity: minor symptoms of disease                                       720\n",
      "10% - Moribund, fatal processes progressing rapidly                                                     642\n",
      "100% - Normal, no complaints, no evidence of disease                                                    109\n",
      "80% - Active, but tires more quickly                                                                     32\n",
      "70% - Both greater restriction of and less time spent in play activity                                   25\n",
      "60% - Up and around, but minimal active play; keeps busy with quieter activities                         19\n",
      "90% - Minor restrictions in physically strenuous activity                                                10\n",
      "50% - Can dress but lies around much of day; no active play; can take part in quiet play/activities       9\n",
      "100% - Fully active, normal                                                                               5\n",
      "40% - Mostly in bed; participates in quiet activities                                                     4\n",
      "20% - Often sleeping; play entirely limited to very passive activities                                    4\n",
      "10% - No play; does not get out of bed                                                                    3\n",
      "30% - In bed; needs assistance even for quiet play                                                        2\n",
      "\n",
      "\n",
      "FunctionalStatusTransplant_CAN\n",
      "20% - Very sick, hospitalization necessary: active treatment necessary       7983\n",
      "40% - Disabled: requires special care and assistance                         3504\n",
      "70% - Cares for self: unable to carry on normal activity or active work      2745\n",
      "30% - Severely disabled: hospitalization is indicated, death not imminent    2541\n",
      "50% - Requires considerable assistance and frequent medical care             2504\n",
      "60% - Requires occasional assistance but is able to care for needs           2416\n",
      "80% - Normal activity with effort: some symptoms of disease                  1788\n",
      "Unknown                                                                      1661\n",
      "10% - Moribund, fatal processes progressing rapidly                          1160\n",
      "90% - Able to carry on normal activity: minor symptoms of disease             842\n",
      "100% - Normal, no complaints, no evidence of disease                          350\n",
      "\n",
      "\n"
     ]
    }
   ],
   "source": [
    "valuCounts(df, features)"
   ]
  },
  {
   "cell_type": "code",
   "execution_count": 315,
   "id": "7d7e5227-db67-4a17-928e-07262535a1d1",
   "metadata": {},
   "outputs": [
    {
     "name": "stdout",
     "output_type": "stream",
     "text": [
      "FunctionalStatusRegistration_CAN\n",
      "20% - Very sick, hospitalization necessary: active treatment necessary       6368\n",
      "40% - Disabled: requires special care and assistance                         3876\n",
      "70% - Cares for self: unable to carry on normal activity or active work      3761\n",
      "60% - Requires occasional assistance but is able to care for needs           3325\n",
      "50% - Requires considerable assistance and frequent medical care             2937\n",
      "30% - Severely disabled: hospitalization is indicated, death not imminent    2440\n",
      "80% - Normal activity with effort: some symptoms of disease                  2323\n",
      "Unknown                                                                       975\n",
      "90% - Able to carry on normal activity: minor symptoms of disease             730\n",
      "10% - Moribund, fatal processes progressing rapidly                           645\n",
      "100% - Normal, no complaints, no evidence of disease                          114\n",
      "\n",
      "\n"
     ]
    }
   ],
   "source": [
    "# apply mapping\n",
    "df['FunctionalStatusRegistration_CAN'] = df['FunctionalStatusRegistration_CAN'].map(reMapCat).fillna(df['FunctionalStatusRegistration_CAN'])\n",
    "# display\n",
    "valuCounts(df, ['FunctionalStatusRegistration_CAN'])"
   ]
  },
  {
   "cell_type": "markdown",
   "id": "2c0d73d6-b3a0-4dfa-ab8d-1f050cafa4e3",
   "metadata": {},
   "source": [
    "##### MedicalConditionTransplant_CAN"
   ]
  },
  {
   "cell_type": "code",
   "execution_count": 316,
   "id": "c2e934b5-5ba7-43a4-8a37-dcd4fa003c28",
   "metadata": {},
   "outputs": [
    {
     "name": "stdout",
     "output_type": "stream",
     "text": [
      "                                count unique               top   freq\n",
      "MedicalConditionTransplant_CAN  27494      4  Not Hospitalized  12501\n",
      "\n",
      ":::: NaN Count:\n",
      "MedicalConditionTransplant_CAN    0\n"
     ]
    }
   ],
   "source": [
    "features = uf.get_feature_list(df, 'MedicalConditionTransplant_CAN')"
   ]
  },
  {
   "cell_type": "code",
   "execution_count": 317,
   "id": "532fcf15-acf6-4fc3-8c49-6cf4dfd5a33a",
   "metadata": {},
   "outputs": [
    {
     "name": "stdout",
     "output_type": "stream",
     "text": [
      "MedicalConditionTransplant_CAN\n",
      "Not Hospitalized           12501\n",
      "In Intensive Care Unit     10441\n",
      "Hospitalized Not in ICU     4152\n",
      "Missing                      400\n",
      "\n",
      "\n"
     ]
    }
   ],
   "source": [
    "valuCounts(df, features)"
   ]
  },
  {
   "cell_type": "code",
   "execution_count": 318,
   "id": "b3d34817-bff2-48a0-9340-0e2a2fb572b9",
   "metadata": {},
   "outputs": [
    {
     "name": "stdout",
     "output_type": "stream",
     "text": [
      "MedicalConditionTransplant_CAN\n",
      "Not Hospitalized           12501\n",
      "In Intensive Care Unit     10441\n",
      "Hospitalized Not in ICU     4152\n",
      "Unknown                      400\n",
      "\n",
      "\n"
     ]
    }
   ],
   "source": [
    "# remap\n",
    "df[features] = df[features].map(genericMapCat).fillna(df[features])\n",
    "valuCounts(df, features)"
   ]
  },
  {
   "cell_type": "markdown",
   "id": "e8df0f2a-9664-4ff7-a979-8bfa2d85346a",
   "metadata": {},
   "source": [
    "##### MismatchLevel"
   ]
  },
  {
   "cell_type": "code",
   "execution_count": 319,
   "id": "685c0810-e4e6-4e5b-89a8-cfc0c2c7ed9c",
   "metadata": {},
   "outputs": [
    {
     "name": "stdout",
     "output_type": "stream",
     "text": [
      "                     count  unique  top   freq\n",
      "MismatchLevel_AMIS   27494       4    2  13009\n",
      "MismatchLevel_BMIS   27494       4    2  18140\n",
      "MismatchLevel_DRMIS  27494       4    2  13827\n",
      "MismatchLevel_HLMIS  27494       8    5   9382\n",
      "\n",
      ":::: NaN Count:\n",
      "MismatchLevel_AMIS     0\n",
      "MismatchLevel_BMIS     0\n",
      "MismatchLevel_DRMIS    0\n",
      "MismatchLevel_HLMIS    0\n"
     ]
    }
   ],
   "source": [
    "features = uf.get_feature_list(df, 'MismatchLevel')"
   ]
  },
  {
   "cell_type": "code",
   "execution_count": 320,
   "id": "5dc01af1-fb39-4531-bbfa-8e60b76044df",
   "metadata": {},
   "outputs": [
    {
     "name": "stdout",
     "output_type": "stream",
     "text": [
      "MismatchLevel_AMIS\n",
      "2      13009\n",
      "1      10465\n",
      "999     2318\n",
      "0       1702\n",
      "\n",
      "\n",
      "MismatchLevel_BMIS\n",
      "2      18140\n",
      "1       6516\n",
      "999     2319\n",
      "0        519\n",
      "\n",
      "\n",
      "MismatchLevel_DRMIS\n",
      "2      13827\n",
      "1      10108\n",
      "999     2321\n",
      "0       1238\n",
      "\n",
      "\n",
      "MismatchLevel_HLMIS\n",
      "5      9382\n",
      "4      6433\n",
      "6      5759\n",
      "3      2783\n",
      "999    2324\n",
      "2       686\n",
      "1       101\n",
      "0        26\n",
      "\n",
      "\n"
     ]
    }
   ],
   "source": [
    "valuCounts(df, features)"
   ]
  },
  {
   "cell_type": "markdown",
   "id": "1f35e037-2cc6-4430-a180-876ce79809b5",
   "metadata": {},
   "source": [
    "##### PreviousTransplantNumber_CAN"
   ]
  },
  {
   "cell_type": "code",
   "execution_count": 321,
   "id": "446464a8-7634-4cf0-8177-e5ed729f3de3",
   "metadata": {},
   "outputs": [
    {
     "name": "stdout",
     "output_type": "stream",
     "text": [
      "                              count  unique  top   freq\n",
      "PreviousTransplantNumber_CAN  27494       4    0  26612\n",
      "\n",
      ":::: NaN Count:\n",
      "PreviousTransplantNumber_CAN    0\n"
     ]
    }
   ],
   "source": [
    "features = uf.get_feature_list(df, 'PreviousTransplantNumber_CAN')"
   ]
  },
  {
   "cell_type": "code",
   "execution_count": 322,
   "id": "cc6c4f3d-9897-4b28-a436-87eaa99322a8",
   "metadata": {},
   "outputs": [
    {
     "name": "stdout",
     "output_type": "stream",
     "text": [
      "PreviousTransplantNumber_CAN\n",
      "0    26612\n",
      "1      835\n",
      "2       44\n",
      "3        3\n",
      "\n",
      "\n"
     ]
    }
   ],
   "source": [
    "valuCounts(df, features)"
   ]
  },
  {
   "cell_type": "markdown",
   "id": "46babf25-547a-4c2e-ac25-ac3324997500",
   "metadata": {},
   "source": [
    "### Remove Features"
   ]
  },
  {
   "cell_type": "code",
   "execution_count": 323,
   "id": "38988e6d-09f8-4b0d-99df-7f3981cd6f6e",
   "metadata": {},
   "outputs": [
    {
     "name": "stdout",
     "output_type": "stream",
     "text": [
      "Data Dictionary Updated.\n",
      "Remove 0 row(s) from df_label DataFrame.\n",
      "Remove 2 row(s) from df_can DataFrame.\n",
      "Remove 0 row(s) from df_don DataFrame.\n",
      "Remove 0 row(s) from df_both DataFrame.\n",
      "Remove 0 row(s) from df_ordinal DataFrame.\n",
      "Remove 2 row(s) from df_nominal DataFrame.\n",
      "Remove 0 row(s) from df_numeric DataFrame.\n",
      "Remove 0 row(s) from df_drop DataFrame.\n",
      "Remove 0 row(s) from df_object DataFrame.\n",
      "Remove 0 row(s) from df_unknown DataFrame.\n",
      "Remove 0 row(s) from df_date DataFrame.\n",
      "\n",
      "Removed Features: ['Hispanic_CAN', 'TransplantType_CAN']\n",
      "\n",
      "Skipped non-existing columns: ['CPRA_Peak_CAN', 'CPRA_Recent_CAN', 'Class1PRA_TransplantPercentage_CAN', 'Class2PRA_TransplantPercentage_CAN', 'PriorCardiacSurgeryTypeText_CAN', 'TotalSerumAlbuminRegistration_CAN']\n",
      "\n",
      "Total Row(s) & Column(s) Before Removing Column(s): 27,494 & columns: 239\n",
      "Total Row(s) & Column(s) After Removing Column(s): 27,494 & columns: 237\n"
     ]
    }
   ],
   "source": [
    "# remove features \n",
    "df, df_dict, df_label, df_can, df_don, df_both, df_ordinal, df_nominal, df_numeric, df_drop, df_object, df_unknown, df_date = uf.house_keeping(df, removeCols, df_dict, df_label, df_can,\\\n",
    "                                                                df_don, df_both, df_ordinal, df_nominal, df_numeric, df_drop, df_object, df_unknown, df_date, txt=REMOVE, display=True)"
   ]
  },
  {
   "cell_type": "markdown",
   "id": "616d704d-cfd8-492f-8790-40f15a11ac9f",
   "metadata": {},
   "source": [
    "### Save"
   ]
  },
  {
   "cell_type": "code",
   "execution_count": 324,
   "id": "058ed665-64ed-4551-861e-ddda45a886d1",
   "metadata": {},
   "outputs": [
    {
     "name": "stdout",
     "output_type": "stream",
     "text": [
      "27,494 records written to ../Data/4CleanFull_Heart_Engineer.pkl\n",
      "15 records written to ../Data/4CleanFull_Label_Engineer.pkl\n",
      "119 records written to ../Data/4CleanFull_CAN_Engineer.pkl\n",
      "89 records written to ../Data/4CleanFull_DON_Engineer.pkl\n",
      "15 records written to ../Data/4CleanFull_BOTH_Engineer.pkl\n",
      "177 records written to ../Data/4CleanFull_Nominal_Engineer.pkl\n",
      "12 records written to ../Data/4CleanFull_Ordinal_Engineer.pkl\n",
      "49 records written to ../Data/4CleanFull_Numeric_Engineer.pkl\n",
      "26 records written to ../Data/4CleanFull_Drop_Engineer.pkl\n",
      "9 records written to ../Data/4CleanFull_New_Engineer.pkl\n",
      "0 records written to ../Data/4CleanFull_Object_Engineer.pkl\n",
      "0 records written to ../Data/4CleanFull_Unknown_Engineer.pkl\n",
      "0 records written to ../Data/4CleanFull_Date_Engineer.pkl\n",
      "302 records written to ../Data/4CleanFull_Dictionary_Engineer.pkl\n"
     ]
    }
   ],
   "source": [
    "# heart dataset\n",
    "uf.write_to_file(df, '4CleanFull_Heart_Engineer',path='../Data/', format='pkl')\n",
    "\n",
    "# heart label\n",
    "uf.write_to_file(df_label, '4CleanFull_Label_Engineer',path='../Data/', format='pkl')\n",
    "\n",
    "# heart candidate\n",
    "uf.write_to_file(df_can, '4CleanFull_CAN_Engineer', format='pkl')\n",
    "\n",
    "# heart donor\n",
    "uf.write_to_file(df_don, '4CleanFull_DON_Engineer', format='pkl')\n",
    "\n",
    "# heart both\n",
    "uf.write_to_file(df_both, '4CleanFull_BOTH_Engineer', format='pkl')\n",
    "\n",
    "# heart nominal\n",
    "uf.write_to_file(df_nominal, '4CleanFull_Nominal_Engineer', format='pkl')\n",
    "\n",
    "# heart ordinal\n",
    "uf.write_to_file(df_ordinal, '4CleanFull_Ordinal_Engineer', format='pkl')\n",
    "\n",
    "# heart numeric\n",
    "uf.write_to_file(df_numeric, '4CleanFull_Numeric_Engineer', format='pkl')\n",
    "\n",
    "# heart drop\n",
    "uf.write_to_file(df_drop, '4CleanFull_Drop_Engineer', format='pkl')\n",
    "\n",
    "# heart new\n",
    "uf.write_to_file(df_new, '4CleanFull_New_Engineer', format='pkl')\n",
    "\n",
    "# heart object\n",
    "uf.write_to_file(df_object, '4CleanFull_Object_Engineer', format='pkl')\n",
    "\n",
    "# heart unknown\n",
    "uf.write_to_file(df_unknown, '4CleanFull_Unknown_Engineer', format='pkl')\n",
    "\n",
    "# heart date\n",
    "uf.write_to_file(df_date, '4CleanFull_Date_Engineer', format='pkl')\n",
    "\n",
    "# heart data dictionary\n",
    "uf.write_to_file(df_dict, '4CleanFull_Dictionary_Engineer', format='pkl')"
   ]
  }
 ],
 "metadata": {
  "kernelspec": {
   "display_name": "RFSurvival",
   "language": "python",
   "name": "survival_env"
  },
  "language_info": {
   "codemirror_mode": {
    "name": "ipython",
    "version": 3
   },
   "file_extension": ".py",
   "mimetype": "text/x-python",
   "name": "python",
   "nbconvert_exporter": "python",
   "pygments_lexer": "ipython3",
   "version": "3.9.20"
  }
 },
 "nbformat": 4,
 "nbformat_minor": 5
}
